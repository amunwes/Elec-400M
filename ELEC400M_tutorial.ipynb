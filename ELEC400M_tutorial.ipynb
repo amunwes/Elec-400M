{
  "nbformat": 4,
  "nbformat_minor": 0,
  "metadata": {
    "colab": {
      "provenance": [],
      "include_colab_link": true
    },
    "kernelspec": {
      "name": "python3",
      "display_name": "Python 3"
    },
    "language_info": {
      "name": "python"
    },
    "accelerator": "GPU"
  },
  "cells": [
    {
      "cell_type": "markdown",
      "metadata": {
        "id": "view-in-github",
        "colab_type": "text"
      },
      "source": [
        "<a href=\"https://colab.research.google.com/github/amunwes/Elec-400M/blob/main/ELEC400M_tutorial.ipynb\" target=\"_parent\"><img src=\"https://colab.research.google.com/assets/colab-badge.svg\" alt=\"Open In Colab\"/></a>"
      ]
    },
    {
      "cell_type": "markdown",
      "source": [
        "# Part I Google Colab"
      ],
      "metadata": {
        "id": "_4MkGjY-zRAG"
      }
    },
    {
      "cell_type": "markdown",
      "source": [
        "**What is Colab?**\n",
        "Colab, or \"Colaboratory\", allows you to write and execute Python in your browser, with\n",
        "\n",
        "\n",
        "\n",
        "*   Zero configuration required\n",
        "*   Free access to GPUs\n",
        "*   Easy sharing\n",
        "\n",
        "\n",
        "\n",
        "[Google Colaboratory](https://colab.research.google.com/?utm_source=scs-index#)\n",
        "\n",
        "[Introduction to Colab](https://www.youtube.com/watch?v=inN8seMm7UI&ab_channel=TensorFlow)"
      ],
      "metadata": {
        "id": "rQEJ3WW642Us"
      }
    },
    {
      "cell_type": "markdown",
      "source": [
        "**The reasons** we suggest using Colab for the assignments/projects in this class is because:\n",
        "\n",
        "1.   We will use Python as our main programming language for the class, and Google Colab is like Google Drive of Jupyter Notebook that you can easily share with your teammates.\n",
        "2.   When it comes to Deep Learning, you may need GPUs to accelerate your trainings to catch up with the deadlines, and Google Colab provides free GPU computing resources.\n",
        "3.   You DON'T need to install Python library packages one by one to start your job.\n",
        "4.   (tips) Each Google account can launch 2 running tasks in Colab, so if you have more Google accounts, you can run multiple training at the same time.\n",
        "5.   (tips) Remember to save your output files before closing the website/tab.\n",
        "\n"
      ],
      "metadata": {
        "id": "ED9AXB2L5tGk"
      }
    },
    {
      "cell_type": "markdown",
      "source": [
        "**Example:**\n",
        "\n",
        "Calculate the inner product of a=[1, 1, 1, 1, 1, 1] and b=[1, 0, -1, 1, 0, -1]."
      ],
      "metadata": {
        "id": "lRGKZBU-98Bl"
      }
    },
    {
      "cell_type": "code",
      "source": [
        "import numpy as np\n",
        "a = np.array([1, 1, 1, 1, 1, 1] )\n",
        "b = np.array([1, 0, -1, 1, 0, -1])\n",
        "np.dot(a, b)"
      ],
      "metadata": {
        "colab": {
          "base_uri": "https://localhost:8080/"
        },
        "id": "YwE40mZP-XS7",
        "outputId": "72889064-625e-4a37-cff8-ded3fa400c20"
      },
      "execution_count": null,
      "outputs": [
        {
          "output_type": "execute_result",
          "data": {
            "text/plain": [
              "0"
            ]
          },
          "metadata": {},
          "execution_count": 1
        }
      ]
    },
    {
      "cell_type": "markdown",
      "source": [
        "# Part II Scikit-Learn"
      ],
      "metadata": {
        "id": "BMyPD0Iw_Kha"
      }
    },
    {
      "cell_type": "markdown",
      "source": [
        "**What is Scikit-Learn?**\n",
        "Scikit-Learn, or sklearn, is an useful Python package which is\n",
        "\n",
        "\n",
        "*   Simple and efficient tools for predictive data analysis\n",
        "*   Accessible to everybody, and reusable in various contexts\n",
        "*   Built on NumPy, SciPy, and matplotlib\n",
        "*   Open source, commercially usable - BSD license\n",
        "\n",
        "In general, Scikit-Learn is a convenient package to do Machine Learning tasks, and it can integrate with other useful packages.  \n",
        "\n",
        "[Scikit-Learn](https://scikit-learn.org/stable/)\n",
        "\n"
      ],
      "metadata": {
        "id": "lrbroEvxA5x9"
      }
    },
    {
      "cell_type": "markdown",
      "source": [
        "**Example:**\n",
        "\n",
        "Fit a 2-D Linear Regression line to predict the relationship between *Years of Working Experience(X)* and *Salary You Can Earn(y)*.\n",
        "\n",
        "$y = w_1*X + w_0$\n"
      ],
      "metadata": {
        "id": "286IFz2PGR5h"
      }
    },
    {
      "cell_type": "code",
      "execution_count": null,
      "metadata": {
        "id": "wv6Y6MsnVkfP"
      },
      "outputs": [],
      "source": [
        "# import packages\n",
        "\n",
        "# reading/dealing with csv files\n",
        "import pandas as pd\n",
        "# loading ML algorithms\n",
        "from sklearn.model_selection import train_test_split\n",
        "from sklearn.linear_model import LinearRegression\n",
        "from sklearn import metrics\n",
        "# plotting\n",
        "import matplotlib.pyplot as plt\n",
        "%matplotlib inline"
      ]
    },
    {
      "cell_type": "code",
      "source": [
        "# read in the data csv\n",
        "dataset = pd.read_csv('linear_regression_ex.csv')\n",
        "dataset.describe()\n"
      ],
      "metadata": {
        "colab": {
          "base_uri": "https://localhost:8080/",
          "height": 300
        },
        "id": "xllbu4fVZ3zs",
        "outputId": "bc825320-5ad3-432d-8d1b-90e9482a20dd"
      },
      "execution_count": null,
      "outputs": [
        {
          "output_type": "execute_result",
          "data": {
            "text/plain": [
              "       experience        salary\n",
              "count   20.000000     20.000000\n",
              "mean     8.025000  10450.000000\n",
              "std      6.131186   6607.153221\n",
              "min      0.000000   2250.000000\n",
              "25%      2.750000   5375.000000\n",
              "50%      7.500000   8600.000000\n",
              "75%     12.250000  15000.000000\n",
              "max     20.000000  23000.000000"
            ],
            "text/html": [
              "\n",
              "  <div id=\"df-580245ab-ab5e-46e3-a70e-d37c3e50b555\">\n",
              "    <div class=\"colab-df-container\">\n",
              "      <div>\n",
              "<style scoped>\n",
              "    .dataframe tbody tr th:only-of-type {\n",
              "        vertical-align: middle;\n",
              "    }\n",
              "\n",
              "    .dataframe tbody tr th {\n",
              "        vertical-align: top;\n",
              "    }\n",
              "\n",
              "    .dataframe thead th {\n",
              "        text-align: right;\n",
              "    }\n",
              "</style>\n",
              "<table border=\"1\" class=\"dataframe\">\n",
              "  <thead>\n",
              "    <tr style=\"text-align: right;\">\n",
              "      <th></th>\n",
              "      <th>experience</th>\n",
              "      <th>salary</th>\n",
              "    </tr>\n",
              "  </thead>\n",
              "  <tbody>\n",
              "    <tr>\n",
              "      <th>count</th>\n",
              "      <td>20.000000</td>\n",
              "      <td>20.000000</td>\n",
              "    </tr>\n",
              "    <tr>\n",
              "      <th>mean</th>\n",
              "      <td>8.025000</td>\n",
              "      <td>10450.000000</td>\n",
              "    </tr>\n",
              "    <tr>\n",
              "      <th>std</th>\n",
              "      <td>6.131186</td>\n",
              "      <td>6607.153221</td>\n",
              "    </tr>\n",
              "    <tr>\n",
              "      <th>min</th>\n",
              "      <td>0.000000</td>\n",
              "      <td>2250.000000</td>\n",
              "    </tr>\n",
              "    <tr>\n",
              "      <th>25%</th>\n",
              "      <td>2.750000</td>\n",
              "      <td>5375.000000</td>\n",
              "    </tr>\n",
              "    <tr>\n",
              "      <th>50%</th>\n",
              "      <td>7.500000</td>\n",
              "      <td>8600.000000</td>\n",
              "    </tr>\n",
              "    <tr>\n",
              "      <th>75%</th>\n",
              "      <td>12.250000</td>\n",
              "      <td>15000.000000</td>\n",
              "    </tr>\n",
              "    <tr>\n",
              "      <th>max</th>\n",
              "      <td>20.000000</td>\n",
              "      <td>23000.000000</td>\n",
              "    </tr>\n",
              "  </tbody>\n",
              "</table>\n",
              "</div>\n",
              "      <button class=\"colab-df-convert\" onclick=\"convertToInteractive('df-580245ab-ab5e-46e3-a70e-d37c3e50b555')\"\n",
              "              title=\"Convert this dataframe to an interactive table.\"\n",
              "              style=\"display:none;\">\n",
              "        \n",
              "  <svg xmlns=\"http://www.w3.org/2000/svg\" height=\"24px\"viewBox=\"0 0 24 24\"\n",
              "       width=\"24px\">\n",
              "    <path d=\"M0 0h24v24H0V0z\" fill=\"none\"/>\n",
              "    <path d=\"M18.56 5.44l.94 2.06.94-2.06 2.06-.94-2.06-.94-.94-2.06-.94 2.06-2.06.94zm-11 1L8.5 8.5l.94-2.06 2.06-.94-2.06-.94L8.5 2.5l-.94 2.06-2.06.94zm10 10l.94 2.06.94-2.06 2.06-.94-2.06-.94-.94-2.06-.94 2.06-2.06.94z\"/><path d=\"M17.41 7.96l-1.37-1.37c-.4-.4-.92-.59-1.43-.59-.52 0-1.04.2-1.43.59L10.3 9.45l-7.72 7.72c-.78.78-.78 2.05 0 2.83L4 21.41c.39.39.9.59 1.41.59.51 0 1.02-.2 1.41-.59l7.78-7.78 2.81-2.81c.8-.78.8-2.07 0-2.86zM5.41 20L4 18.59l7.72-7.72 1.47 1.35L5.41 20z\"/>\n",
              "  </svg>\n",
              "      </button>\n",
              "      \n",
              "  <style>\n",
              "    .colab-df-container {\n",
              "      display:flex;\n",
              "      flex-wrap:wrap;\n",
              "      gap: 12px;\n",
              "    }\n",
              "\n",
              "    .colab-df-convert {\n",
              "      background-color: #E8F0FE;\n",
              "      border: none;\n",
              "      border-radius: 50%;\n",
              "      cursor: pointer;\n",
              "      display: none;\n",
              "      fill: #1967D2;\n",
              "      height: 32px;\n",
              "      padding: 0 0 0 0;\n",
              "      width: 32px;\n",
              "    }\n",
              "\n",
              "    .colab-df-convert:hover {\n",
              "      background-color: #E2EBFA;\n",
              "      box-shadow: 0px 1px 2px rgba(60, 64, 67, 0.3), 0px 1px 3px 1px rgba(60, 64, 67, 0.15);\n",
              "      fill: #174EA6;\n",
              "    }\n",
              "\n",
              "    [theme=dark] .colab-df-convert {\n",
              "      background-color: #3B4455;\n",
              "      fill: #D2E3FC;\n",
              "    }\n",
              "\n",
              "    [theme=dark] .colab-df-convert:hover {\n",
              "      background-color: #434B5C;\n",
              "      box-shadow: 0px 1px 3px 1px rgba(0, 0, 0, 0.15);\n",
              "      filter: drop-shadow(0px 1px 2px rgba(0, 0, 0, 0.3));\n",
              "      fill: #FFFFFF;\n",
              "    }\n",
              "  </style>\n",
              "\n",
              "      <script>\n",
              "        const buttonEl =\n",
              "          document.querySelector('#df-580245ab-ab5e-46e3-a70e-d37c3e50b555 button.colab-df-convert');\n",
              "        buttonEl.style.display =\n",
              "          google.colab.kernel.accessAllowed ? 'block' : 'none';\n",
              "\n",
              "        async function convertToInteractive(key) {\n",
              "          const element = document.querySelector('#df-580245ab-ab5e-46e3-a70e-d37c3e50b555');\n",
              "          const dataTable =\n",
              "            await google.colab.kernel.invokeFunction('convertToInteractive',\n",
              "                                                     [key], {});\n",
              "          if (!dataTable) return;\n",
              "\n",
              "          const docLinkHtml = 'Like what you see? Visit the ' +\n",
              "            '<a target=\"_blank\" href=https://colab.research.google.com/notebooks/data_table.ipynb>data table notebook</a>'\n",
              "            + ' to learn more about interactive tables.';\n",
              "          element.innerHTML = '';\n",
              "          dataTable['output_type'] = 'display_data';\n",
              "          await google.colab.output.renderOutput(dataTable, element);\n",
              "          const docLink = document.createElement('div');\n",
              "          docLink.innerHTML = docLinkHtml;\n",
              "          element.appendChild(docLink);\n",
              "        }\n",
              "      </script>\n",
              "    </div>\n",
              "  </div>\n",
              "  "
            ]
          },
          "metadata": {},
          "execution_count": 3
        }
      ]
    },
    {
      "cell_type": "code",
      "source": [
        "# plot out the data distribution\n",
        "dataset.plot(x='experience', y='salary', style='o')\n",
        "plt.title('Years of Experience v.s. Salary per Month')\n",
        "plt.xlabel('Years of Experience(yrs)')\n",
        "plt.ylabel('Salary per Month(CAD)')\n",
        "plt.show()"
      ],
      "metadata": {
        "colab": {
          "base_uri": "https://localhost:8080/",
          "height": 295
        },
        "id": "vMM0V3y9d-Ll",
        "outputId": "eae23281-4ed2-4e7f-de2a-38a4c5fbc2d2"
      },
      "execution_count": null,
      "outputs": [
        {
          "output_type": "display_data",
          "data": {
            "text/plain": [
              "<Figure size 432x288 with 1 Axes>"
            ],
            "image/png": "[encoded data removed]"
          },
          "metadata": {
            "needs_background": "light"
          }
        }
      ]
    },
    {
      "cell_type": "code",
      "source": [
        "# pull out the data of interest\n",
        "X = dataset['experience'].values.reshape(-1, 1) # sklearn requires 2-D array as inputs\n",
        "y = dataset['salary'].values.reshape(-1, 1)\n",
        "\n",
        "# split into training and testing sets\n",
        "X_train, X_test, y_train, y_test = train_test_split(X, y, test_size=0.2)"
      ],
      "metadata": {
        "id": "NNqK5YO_i1CO"
      },
      "execution_count": null,
      "outputs": []
    },
    {
      "cell_type": "code",
      "source": [
        "# initialize linear regression class and fit the model with training data\n",
        "regressor = LinearRegression()\n",
        "regressor.fit(X_train, y_train)"
      ],
      "metadata": {
        "colab": {
          "base_uri": "https://localhost:8080/"
        },
        "id": "TsNbBHhslr6A",
        "outputId": "da8a8044-d81f-4818-d6bd-f8c168313ebd"
      },
      "execution_count": null,
      "outputs": [
        {
          "output_type": "execute_result",
          "data": {
            "text/plain": [
              "LinearRegression()"
            ]
          },
          "metadata": {},
          "execution_count": 6
        }
      ]
    },
    {
      "cell_type": "code",
      "source": [
        "# check the result w0 and w1\n",
        "w_0 = regressor.intercept_\n",
        "w_1 = regressor.coef_\n",
        "\n",
        "print('Interception : ', w_0)\n",
        "print('Coeficient : ', w_1)"
      ],
      "metadata": {
        "colab": {
          "base_uri": "https://localhost:8080/"
        },
        "id": "geVRYV5Dl4ZS",
        "outputId": "65cbf26e-64e4-42a1-a151-cf88a777623d"
      },
      "execution_count": null,
      "outputs": [
        {
          "output_type": "stream",
          "name": "stdout",
          "text": [
            "Interception :  [1965.45757293]\n",
            "Coeficient :  [[1069.05821234]]\n"
          ]
        }
      ]
    },
    {
      "cell_type": "code",
      "source": [
        "# predict y\n",
        "y_pred = regressor.predict(X_test)\n",
        "print('Predict : ', y_pred)"
      ],
      "metadata": {
        "colab": {
          "base_uri": "https://localhost:8080/"
        },
        "id": "MD9ybBnRmpfq",
        "outputId": "9f8592ef-84d2-49e6-82af-c33407bc9c5b"
      },
      "execution_count": null,
      "outputs": [
        {
          "output_type": "stream",
          "name": "stdout",
          "text": [
            "Predict :  [[12656.03969628]\n",
            " [ 1965.45757293]\n",
            " [11586.98148395]\n",
            " [ 3034.51578527]]\n"
          ]
        }
      ]
    },
    {
      "cell_type": "code",
      "source": [
        "# Visualize the results in a table\n",
        "df = pd.DataFrame({'Actual': y_test.flatten(), 'Predicted': y_pred.flatten()})\n",
        "df"
      ],
      "metadata": {
        "colab": {
          "base_uri": "https://localhost:8080/",
          "height": 175
        },
        "id": "pcoi9zDlmuTX",
        "outputId": "b9a10a83-6ed4-47ff-9d2a-766280c0a59b"
      },
      "execution_count": null,
      "outputs": [
        {
          "output_type": "execute_result",
          "data": {
            "text/plain": [
              "   Actual     Predicted\n",
              "0   13000  12656.039696\n",
              "1    2250   1965.457573\n",
              "2    8700  11586.981484\n",
              "3    3400   3034.515785"
            ],
            "text/html": [
              "\n",
              "  <div id=\"df-a7fe76f8-547a-4cfb-b965-541d75cb8796\">\n",
              "    <div class=\"colab-df-container\">\n",
              "      <div>\n",
              "<style scoped>\n",
              "    .dataframe tbody tr th:only-of-type {\n",
              "        vertical-align: middle;\n",
              "    }\n",
              "\n",
              "    .dataframe tbody tr th {\n",
              "        vertical-align: top;\n",
              "    }\n",
              "\n",
              "    .dataframe thead th {\n",
              "        text-align: right;\n",
              "    }\n",
              "</style>\n",
              "<table border=\"1\" class=\"dataframe\">\n",
              "  <thead>\n",
              "    <tr style=\"text-align: right;\">\n",
              "      <th></th>\n",
              "      <th>Actual</th>\n",
              "      <th>Predicted</th>\n",
              "    </tr>\n",
              "  </thead>\n",
              "  <tbody>\n",
              "    <tr>\n",
              "      <th>0</th>\n",
              "      <td>13000</td>\n",
              "      <td>12656.039696</td>\n",
              "    </tr>\n",
              "    <tr>\n",
              "      <th>1</th>\n",
              "      <td>2250</td>\n",
              "      <td>1965.457573</td>\n",
              "    </tr>\n",
              "    <tr>\n",
              "      <th>2</th>\n",
              "      <td>8700</td>\n",
              "      <td>11586.981484</td>\n",
              "    </tr>\n",
              "    <tr>\n",
              "      <th>3</th>\n",
              "      <td>3400</td>\n",
              "      <td>3034.515785</td>\n",
              "    </tr>\n",
              "  </tbody>\n",
              "</table>\n",
              "</div>\n",
              "      <button class=\"colab-df-convert\" onclick=\"convertToInteractive('df-a7fe76f8-547a-4cfb-b965-541d75cb8796')\"\n",
              "              title=\"Convert this dataframe to an interactive table.\"\n",
              "              style=\"display:none;\">\n",
              "        \n",
              "  <svg xmlns=\"http://www.w3.org/2000/svg\" height=\"24px\"viewBox=\"0 0 24 24\"\n",
              "       width=\"24px\">\n",
              "    <path d=\"M0 0h24v24H0V0z\" fill=\"none\"/>\n",
              "    <path d=\"M18.56 5.44l.94 2.06.94-2.06 2.06-.94-2.06-.94-.94-2.06-.94 2.06-2.06.94zm-11 1L8.5 8.5l.94-2.06 2.06-.94-2.06-.94L8.5 2.5l-.94 2.06-2.06.94zm10 10l.94 2.06.94-2.06 2.06-.94-2.06-.94-.94-2.06-.94 2.06-2.06.94z\"/><path d=\"M17.41 7.96l-1.37-1.37c-.4-.4-.92-.59-1.43-.59-.52 0-1.04.2-1.43.59L10.3 9.45l-7.72 7.72c-.78.78-.78 2.05 0 2.83L4 21.41c.39.39.9.59 1.41.59.51 0 1.02-.2 1.41-.59l7.78-7.78 2.81-2.81c.8-.78.8-2.07 0-2.86zM5.41 20L4 18.59l7.72-7.72 1.47 1.35L5.41 20z\"/>\n",
              "  </svg>\n",
              "      </button>\n",
              "      \n",
              "  <style>\n",
              "    .colab-df-container {\n",
              "      display:flex;\n",
              "      flex-wrap:wrap;\n",
              "      gap: 12px;\n",
              "    }\n",
              "\n",
              "    .colab-df-convert {\n",
              "      background-color: #E8F0FE;\n",
              "      border: none;\n",
              "      border-radius: 50%;\n",
              "      cursor: pointer;\n",
              "      display: none;\n",
              "      fill: #1967D2;\n",
              "      height: 32px;\n",
              "      padding: 0 0 0 0;\n",
              "      width: 32px;\n",
              "    }\n",
              "\n",
              "    .colab-df-convert:hover {\n",
              "      background-color: #E2EBFA;\n",
              "      box-shadow: 0px 1px 2px rgba(60, 64, 67, 0.3), 0px 1px 3px 1px rgba(60, 64, 67, 0.15);\n",
              "      fill: #174EA6;\n",
              "    }\n",
              "\n",
              "    [theme=dark] .colab-df-convert {\n",
              "      background-color: #3B4455;\n",
              "      fill: #D2E3FC;\n",
              "    }\n",
              "\n",
              "    [theme=dark] .colab-df-convert:hover {\n",
              "      background-color: #434B5C;\n",
              "      box-shadow: 0px 1px 3px 1px rgba(0, 0, 0, 0.15);\n",
              "      filter: drop-shadow(0px 1px 2px rgba(0, 0, 0, 0.3));\n",
              "      fill: #FFFFFF;\n",
              "    }\n",
              "  </style>\n",
              "\n",
              "      <script>\n",
              "        const buttonEl =\n",
              "          document.querySelector('#df-a7fe76f8-547a-4cfb-b965-541d75cb8796 button.colab-df-convert');\n",
              "        buttonEl.style.display =\n",
              "          google.colab.kernel.accessAllowed ? 'block' : 'none';\n",
              "\n",
              "        async function convertToInteractive(key) {\n",
              "          const element = document.querySelector('#df-a7fe76f8-547a-4cfb-b965-541d75cb8796');\n",
              "          const dataTable =\n",
              "            await google.colab.kernel.invokeFunction('convertToInteractive',\n",
              "                                                     [key], {});\n",
              "          if (!dataTable) return;\n",
              "\n",
              "          const docLinkHtml = 'Like what you see? Visit the ' +\n",
              "            '<a target=\"_blank\" href=https://colab.research.google.com/notebooks/data_table.ipynb>data table notebook</a>'\n",
              "            + ' to learn more about interactive tables.';\n",
              "          element.innerHTML = '';\n",
              "          dataTable['output_type'] = 'display_data';\n",
              "          await google.colab.output.renderOutput(dataTable, element);\n",
              "          const docLink = document.createElement('div');\n",
              "          docLink.innerHTML = docLinkHtml;\n",
              "          element.appendChild(docLink);\n",
              "        }\n",
              "      </script>\n",
              "    </div>\n",
              "  </div>\n",
              "  "
            ]
          },
          "metadata": {},
          "execution_count": 9
        }
      ]
    },
    {
      "cell_type": "code",
      "source": [
        "# Visualize the results in a graph\n",
        "plt.scatter(X_test, y_test,  color='gray', label='Actual')\n",
        "plt.plot(X_test, y_pred, color='red', linewidth=2, label='Predicted')\n",
        "plt.legend()\n",
        "plt.show()"
      ],
      "metadata": {
        "colab": {
          "base_uri": "https://localhost:8080/",
          "height": 265
        },
        "id": "tbP0GmL3mydx",
        "outputId": "05ef07c3-5e6a-4f9e-83f6-ba80ab30369c"
      },
      "execution_count": null,
      "outputs": [
        {
          "output_type": "display_data",
          "data": {
            "text/plain": [
              "<Figure size 432x288 with 1 Axes>"
            ],
            "image/png": "[encoded data removed]"
          },
          "metadata": {
            "needs_background": "light"
          }
        }
      ]
    },
    {
      "cell_type": "code",
      "source": [
        "# Find the Errors of your prediction\n",
        "import numpy as np\n",
        "print('Mean Absolute Error:', metrics.mean_absolute_error(y_test, y_pred))\n",
        "print('Mean Squared Error:', metrics.mean_squared_error(y_test, y_pred))\n",
        "print('Root Mean Squared Error:', np.sqrt(metrics.mean_squared_error(y_test, y_pred)))"
      ],
      "metadata": {
        "colab": {
          "base_uri": "https://localhost:8080/"
        },
        "id": "qDr-DvKzm_m6",
        "outputId": "ff0800c2-b155-4cd6-bf3b-198c7db92f5e"
      },
      "execution_count": null,
      "outputs": [
        {
          "output_type": "stream",
          "name": "stdout",
          "text": [
            "Mean Absolute Error: 970.2421073664582\n",
            "Mean Squared Error: 2166878.4708034773\n",
            "Root Mean Squared Error: 1472.0320889177237\n"
          ]
        }
      ]
    },
    {
      "cell_type": "code",
      "source": [
        "# A better evaluation of your prediction (R^2)\n",
        "score = regressor.score(X_test, y_test)\n",
        "print('Score: ', score)\n",
        "print('Accuracy: ' + str(score*100) + '%')"
      ],
      "metadata": {
        "colab": {
          "base_uri": "https://localhost:8080/"
        },
        "id": "gIZpcS1GnNIx",
        "outputId": "0f225104-26d7-49b1-8dcf-322d10810a65"
      },
      "execution_count": null,
      "outputs": [
        {
          "output_type": "stream",
          "name": "stdout",
          "text": [
            "Score:  0.8833551554521178\n",
            "Accuracy: 88.33551554521179%\n"
          ]
        }
      ]
    },
    {
      "cell_type": "markdown",
      "source": [
        "[Scikit-Learn score ref](https://scikit-learn.org/stable/modules/generated/sklearn.linear_model.LinearRegression.html#sklearn.linear_model.LinearRegression.score)"
      ],
      "metadata": {
        "id": "rK2zV2_-JSe2"
      }
    },
    {
      "cell_type": "code",
      "source": [],
      "metadata": {
        "id": "r1xltOtBJYat"
      },
      "execution_count": null,
      "outputs": []
    },
    {
      "cell_type": "markdown",
      "source": [
        "# PART III **PyTorch**"
      ],
      "metadata": {
        "id": "lRAAltsOoyoY"
      }
    },
    {
      "cell_type": "markdown",
      "source": [
        "PyTorch is one of the most popular open-source Deep Learning frameworks developed and maintained by **Meta (Facebook)**. It is very popular among researchers and developers as it provides fast and flexible implementations and seamless transaction to production deployments. Here are some basic concepts about PyTorch\n",
        "\n",
        "\n",
        "*   PyTorch defines a datatype - Tensor, which is very similar to NumPy Array. This allows us to easily operate on array/matrix-like inputs.\n",
        "*   PyTorch Tensors can automatically track the gradients which is useful in gradient decent/back propagation -- very useful when training a deep learning model.\n",
        "*   PyTorch has many built-in training algorithms and famous models such as Adam optimizer and ResNet series.\n",
        "*   For more details, please refer to this tutorial https://pytorch.org/tutorials/beginner/deep_learning_60min_blitz.html or their official website https://pytorch.org/.\n",
        "\n",
        "\n"
      ],
      "metadata": {
        "id": "vmDLXiDoqHFt"
      }
    },
    {
      "cell_type": "markdown",
      "source": [
        "We will introduce some basic usage of PyTorch Tensor in this part.\n",
        "\n"
      ],
      "metadata": {
        "id": "RGurR9dSpfZ2"
      }
    },
    {
      "cell_type": "markdown",
      "source": [
        "1. PyTorch Tensors (Tensor) and NumPy Arrays (Array) share similar initializations and are interchangable to each other."
      ],
      "metadata": {
        "id": "q6AwwYw0zmfp"
      }
    },
    {
      "cell_type": "code",
      "source": [
        "import numpy as np\n",
        "import torch\n",
        "\n",
        "print('---------- NumPy Array and PyTorch Tensor conversion ----------')\n",
        "# We can initialize Tensor and Array in similar ways\n",
        "print('Initialization:')\n",
        "a = np.array([[[1, 2, 3], [4, 5, 6]], [[1, 2, 3], [4, 5, 6]]])\n",
        "b = torch.tensor([[[1, 2, 3], [4, 5, 6]], [[1, 2, 3], [4, 5, 6]]])\n",
        "print(f'a(numpy)={a}')\n",
        "print(f'b(tensor)={b}')\n",
        "print()\n",
        "\n",
        "# We can directly convert between Array and Tensor\n",
        "print('Conversion:')\n",
        "a_tensor = torch.from_numpy(a)\n",
        "b_numpy = np.array(b)\n",
        "print(f'a(tensor)={a_tensor}')\n",
        "print(f'b(numpy)={b_numpy}')\n",
        "print()\n",
        "\n",
        "print('---------- NumPy Array and PyTorch Tensor initialization ----------')\n",
        "# The ways to initialize an all-0, all-1, random arrays are similar\n",
        "shape = (2, 2, 3)\n",
        "\n",
        "# Initialize NumPy Arrays\n",
        "print('Special initialization -- NumPy')\n",
        "a0_numpy = np.zeros(shape)\n",
        "a1_numpy = np.ones(shape)\n",
        "rand_numpy = np.random.randn(shape[0], shape[1], shape[2])\n",
        "print(f'0s(numpy)={a0_numpy}')\n",
        "print(f'1s(numpy)={a1_numpy}')\n",
        "print(f'random(numpy)={rand_numpy}')\n",
        "print()\n",
        "\n",
        "# Initialize PyTorch Tensors\n",
        "print('Special initialization -- PyTorch')\n",
        "a0_tensor = torch.zeros(shape)\n",
        "a1_tensor = torch.ones(shape)\n",
        "rand_tensor = torch.randn(shape)\n",
        "print(f'0s(tensor)={a0_tensor}')\n",
        "print(f'1s(tensor)={a1_tensor}')\n",
        "print(f'random(tensor)={rand_tensor}')\n",
        "print()"
      ],
      "metadata": {
        "id": "xpoYtXz4z4bV",
        "colab": {
          "base_uri": "https://localhost:8080/"
        },
        "outputId": "e90586b6-2a32-4cc6-8850-fb5c0b20ce5f"
      },
      "execution_count": null,
      "outputs": [
        {
          "output_type": "stream",
          "name": "stdout",
          "text": [
            "---------- NumPy Array and PyTorch Tensor conversion ----------\n",
            "Initialization:\n",
            "a(numpy)=[[[1 2 3]\n",
            "  [4 5 6]]\n",
            "\n",
            " [[1 2 3]\n",
            "  [4 5 6]]]\n",
            "b(tensor)=tensor([[[1, 2, 3],\n",
            "         [4, 5, 6]],\n",
            "\n",
            "        [[1, 2, 3],\n",
            "         [4, 5, 6]]])\n",
            "\n",
            "Conversion:\n",
            "a(tensor)=tensor([[[1, 2, 3],\n",
            "         [4, 5, 6]],\n",
            "\n",
            "        [[1, 2, 3],\n",
            "         [4, 5, 6]]])\n",
            "b(numpy)=[[[1 2 3]\n",
            "  [4 5 6]]\n",
            "\n",
            " [[1 2 3]\n",
            "  [4 5 6]]]\n",
            "\n",
            "---------- NumPy Array and PyTorch Tensor initialization ----------\n",
            "Special initialization -- NumPy\n",
            "0s(numpy)=[[[0. 0. 0.]\n",
            "  [0. 0. 0.]]\n",
            "\n",
            " [[0. 0. 0.]\n",
            "  [0. 0. 0.]]]\n",
            "1s(numpy)=[[[1. 1. 1.]\n",
            "  [1. 1. 1.]]\n",
            "\n",
            " [[1. 1. 1.]\n",
            "  [1. 1. 1.]]]\n",
            "random(numpy)=[[[-0.50163224 -0.06926081 -1.33115862]\n",
            "  [ 1.40406114  0.10918661  0.26670177]]\n",
            "\n",
            " [[ 0.316651   -0.82542648  0.5737989 ]\n",
            "  [ 0.51291782  0.00463353  0.0819398 ]]]\n",
            "\n",
            "Special initialization -- PyTorch\n",
            "0s(tensor)=tensor([[[0., 0., 0.],\n",
            "         [0., 0., 0.]],\n",
            "\n",
            "        [[0., 0., 0.],\n",
            "         [0., 0., 0.]]])\n",
            "1s(tensor)=tensor([[[1., 1., 1.],\n",
            "         [1., 1., 1.]],\n",
            "\n",
            "        [[1., 1., 1.],\n",
            "         [1., 1., 1.]]])\n",
            "random(tensor)=tensor([[[-0.0990,  0.6610, -0.9244],\n",
            "         [ 1.0337,  2.9532,  1.2278]],\n",
            "\n",
            "        [[ 0.0049,  0.5101, -1.8807],\n",
            "         [-1.8407,  0.0088, -0.3355]]])\n",
            "\n"
          ]
        }
      ]
    },
    {
      "cell_type": "markdown",
      "source": [
        "2. PyTorch Tensor matrix operations"
      ],
      "metadata": {
        "id": "Ex2NA5ue35xI"
      }
    },
    {
      "cell_type": "code",
      "source": [
        "# Matrix operations - add, subtract, multiply, divide, concatenate\n",
        "a = torch.ones((3, 3))\n",
        "b = 2*torch.ones((3, 3))\n",
        "print(f'a={a}')\n",
        "print(f'b={b}')\n",
        "print()\n",
        "\n",
        "print('---------- Add ----------')\n",
        "print(a+b)\n",
        "print()\n",
        "\n",
        "print('---------- Substract ----------')\n",
        "print(a-b)\n",
        "print()\n",
        "\n",
        "print('---------- Multiply ----------')\n",
        "print(a.mul(b)) # element-wise multiplication, same as a*b\n",
        "print(a.matmul(b)) # matrix multiplicaton\n",
        "print()\n",
        "\n",
        "print('---------- Divide ----------')\n",
        "print(a/b) # element-wise division\n",
        "print(torch.div(a, b)) # element-wise division\n",
        "print()\n",
        "\n",
        "print('---------- Concatenate ----------')\n",
        "print(torch.cat([a, b], dim=0)) # through dim 0\n",
        "print(torch.cat([a, b], dim=1)) # through dim 1\n",
        "print()"
      ],
      "metadata": {
        "id": "gzDW0tbL2RY8",
        "colab": {
          "base_uri": "https://localhost:8080/"
        },
        "outputId": "c86505ef-e5f3-4c5d-c8be-089cf99aafbb"
      },
      "execution_count": null,
      "outputs": [
        {
          "output_type": "stream",
          "name": "stdout",
          "text": [
            "a=tensor([[1., 1., 1.],\n",
            "        [1., 1., 1.],\n",
            "        [1., 1., 1.]])\n",
            "b=tensor([[2., 2., 2.],\n",
            "        [2., 2., 2.],\n",
            "        [2., 2., 2.]])\n",
            "\n",
            "---------- Add ----------\n",
            "tensor([[3., 3., 3.],\n",
            "        [3., 3., 3.],\n",
            "        [3., 3., 3.]])\n",
            "\n",
            "---------- Substract ----------\n",
            "tensor([[-1., -1., -1.],\n",
            "        [-1., -1., -1.],\n",
            "        [-1., -1., -1.]])\n",
            "\n",
            "---------- Multiply ----------\n",
            "tensor([[2., 2., 2.],\n",
            "        [2., 2., 2.],\n",
            "        [2., 2., 2.]])\n",
            "tensor([[6., 6., 6.],\n",
            "        [6., 6., 6.],\n",
            "        [6., 6., 6.]])\n",
            "\n",
            "---------- Divide ----------\n",
            "tensor([[0.5000, 0.5000, 0.5000],\n",
            "        [0.5000, 0.5000, 0.5000],\n",
            "        [0.5000, 0.5000, 0.5000]])\n",
            "tensor([[0.5000, 0.5000, 0.5000],\n",
            "        [0.5000, 0.5000, 0.5000],\n",
            "        [0.5000, 0.5000, 0.5000]])\n",
            "\n",
            "---------- Concatenate ----------\n",
            "tensor([[1., 1., 1.],\n",
            "        [1., 1., 1.],\n",
            "        [1., 1., 1.],\n",
            "        [2., 2., 2.],\n",
            "        [2., 2., 2.],\n",
            "        [2., 2., 2.]])\n",
            "tensor([[1., 1., 1., 2., 2., 2.],\n",
            "        [1., 1., 1., 2., 2., 2.],\n",
            "        [1., 1., 1., 2., 2., 2.]])\n",
            "\n"
          ]
        }
      ]
    },
    {
      "cell_type": "code",
      "source": [
        "from google.colab import drive\n",
        "drive.mount('/content/drive')"
      ],
      "metadata": {
        "id": "P3uPIYli7hS6",
        "colab": {
          "base_uri": "https://localhost:8080/",
          "height": 336
        },
        "outputId": "c1404257-f8ff-4dba-e8f6-eaa2135c66b7"
      },
      "execution_count": null,
      "outputs": [
        {
          "output_type": "error",
          "ename": "MessageError",
          "evalue": "ignored",
          "traceback": [
            "\u001b[0;31m---------------------------------------------------------------------------\u001b[0m",
            "\u001b[0;31mMessageError\u001b[0m                              Traceback (most recent call last)",
            "\u001b[0;32m<ipython-input-3-d5df0069828e>\u001b[0m in \u001b[0;36m<module>\u001b[0;34m\u001b[0m\n\u001b[1;32m      1\u001b[0m \u001b[0;32mfrom\u001b[0m \u001b[0mgoogle\u001b[0m\u001b[0;34m.\u001b[0m\u001b[0mcolab\u001b[0m \u001b[0;32mimport\u001b[0m \u001b[0mdrive\u001b[0m\u001b[0;34m\u001b[0m\u001b[0;34m\u001b[0m\u001b[0m\n\u001b[0;32m----> 2\u001b[0;31m \u001b[0mdrive\u001b[0m\u001b[0;34m.\u001b[0m\u001b[0mmount\u001b[0m\u001b[0;34m(\u001b[0m\u001b[0;34m'/content/drive'\u001b[0m\u001b[0;34m)\u001b[0m\u001b[0;34m\u001b[0m\u001b[0;34m\u001b[0m\u001b[0m\n\u001b[0m",
            "\u001b[0;32m/usr/local/lib/python3.7/dist-packages/google/colab/drive.py\u001b[0m in \u001b[0;36mmount\u001b[0;34m(mountpoint, force_remount, timeout_ms)\u001b[0m\n\u001b[1;32m    103\u001b[0m       \u001b[0mforce_remount\u001b[0m\u001b[0;34m=\u001b[0m\u001b[0mforce_remount\u001b[0m\u001b[0;34m,\u001b[0m\u001b[0;34m\u001b[0m\u001b[0;34m\u001b[0m\u001b[0m\n\u001b[1;32m    104\u001b[0m       \u001b[0mtimeout_ms\u001b[0m\u001b[0;34m=\u001b[0m\u001b[0mtimeout_ms\u001b[0m\u001b[0;34m,\u001b[0m\u001b[0;34m\u001b[0m\u001b[0;34m\u001b[0m\u001b[0m\n\u001b[0;32m--> 105\u001b[0;31m       ephemeral=True)\n\u001b[0m\u001b[1;32m    106\u001b[0m \u001b[0;34m\u001b[0m\u001b[0m\n\u001b[1;32m    107\u001b[0m \u001b[0;34m\u001b[0m\u001b[0m\n",
            "\u001b[0;32m/usr/local/lib/python3.7/dist-packages/google/colab/drive.py\u001b[0m in \u001b[0;36m_mount\u001b[0;34m(mountpoint, force_remount, timeout_ms, ephemeral)\u001b[0m\n\u001b[1;32m    118\u001b[0m   \u001b[0;32mif\u001b[0m \u001b[0mephemeral\u001b[0m\u001b[0;34m:\u001b[0m\u001b[0;34m\u001b[0m\u001b[0;34m\u001b[0m\u001b[0m\n\u001b[1;32m    119\u001b[0m     _message.blocking_request(\n\u001b[0;32m--> 120\u001b[0;31m         'request_auth', request={'authType': 'dfs_ephemeral'}, timeout_sec=None)\n\u001b[0m\u001b[1;32m    121\u001b[0m \u001b[0;34m\u001b[0m\u001b[0m\n\u001b[1;32m    122\u001b[0m   \u001b[0mmountpoint\u001b[0m \u001b[0;34m=\u001b[0m \u001b[0m_os\u001b[0m\u001b[0;34m.\u001b[0m\u001b[0mpath\u001b[0m\u001b[0;34m.\u001b[0m\u001b[0mexpanduser\u001b[0m\u001b[0;34m(\u001b[0m\u001b[0mmountpoint\u001b[0m\u001b[0;34m)\u001b[0m\u001b[0;34m\u001b[0m\u001b[0;34m\u001b[0m\u001b[0m\n",
            "\u001b[0;32m/usr/local/lib/python3.7/dist-packages/google/colab/_message.py\u001b[0m in \u001b[0;36mblocking_request\u001b[0;34m(request_type, request, timeout_sec, parent)\u001b[0m\n\u001b[1;32m    169\u001b[0m   request_id = send_request(\n\u001b[1;32m    170\u001b[0m       request_type, request, parent=parent, expect_reply=True)\n\u001b[0;32m--> 171\u001b[0;31m   \u001b[0;32mreturn\u001b[0m \u001b[0mread_reply_from_input\u001b[0m\u001b[0;34m(\u001b[0m\u001b[0mrequest_id\u001b[0m\u001b[0;34m,\u001b[0m \u001b[0mtimeout_sec\u001b[0m\u001b[0;34m)\u001b[0m\u001b[0;34m\u001b[0m\u001b[0;34m\u001b[0m\u001b[0m\n\u001b[0m",
            "\u001b[0;32m/usr/local/lib/python3.7/dist-packages/google/colab/_message.py\u001b[0m in \u001b[0;36mread_reply_from_input\u001b[0;34m(message_id, timeout_sec)\u001b[0m\n\u001b[1;32m    100\u001b[0m         reply.get('colab_msg_id') == message_id):\n\u001b[1;32m    101\u001b[0m       \u001b[0;32mif\u001b[0m \u001b[0;34m'error'\u001b[0m \u001b[0;32min\u001b[0m \u001b[0mreply\u001b[0m\u001b[0;34m:\u001b[0m\u001b[0;34m\u001b[0m\u001b[0;34m\u001b[0m\u001b[0m\n\u001b[0;32m--> 102\u001b[0;31m         \u001b[0;32mraise\u001b[0m \u001b[0mMessageError\u001b[0m\u001b[0;34m(\u001b[0m\u001b[0mreply\u001b[0m\u001b[0;34m[\u001b[0m\u001b[0;34m'error'\u001b[0m\u001b[0;34m]\u001b[0m\u001b[0;34m)\u001b[0m\u001b[0;34m\u001b[0m\u001b[0;34m\u001b[0m\u001b[0m\n\u001b[0m\u001b[1;32m    103\u001b[0m       \u001b[0;32mreturn\u001b[0m \u001b[0mreply\u001b[0m\u001b[0;34m.\u001b[0m\u001b[0mget\u001b[0m\u001b[0;34m(\u001b[0m\u001b[0;34m'data'\u001b[0m\u001b[0;34m,\u001b[0m \u001b[0;32mNone\u001b[0m\u001b[0;34m)\u001b[0m\u001b[0;34m\u001b[0m\u001b[0;34m\u001b[0m\u001b[0m\n\u001b[1;32m    104\u001b[0m \u001b[0;34m\u001b[0m\u001b[0m\n",
            "\u001b[0;31mMessageError\u001b[0m: Error: credential propagation was unsuccessful"
          ]
        }
      ]
    },
    {
      "cell_type": "markdown",
      "source": [
        "3. How to compute gradient in PyTorch? **torch.autograd!**\n",
        "\n",
        "torch.autograd is PyTorch’s automatic differentiation engine that powers neural network training.\n",
        "We only need to call target.backward() to find the corresponding gradients.\n",
        "\n",
        "We show a simple example here:\n",
        "\n",
        "Given an equation $Q = 3a^3 - b^2$.\n",
        "We want to find the gradient of $Q$ w.r.t. $a$ and $b$, $\\frac{\\partial Q}{\\partial a} = 9a^2$ and $\\frac{\\partial Q}{\\partial b} = -2b$.\n"
      ],
      "metadata": {
        "id": "dUQG074p8r4H"
      }
    },
    {
      "cell_type": "code",
      "source": [
        "# initialize tensors\n",
        "a = torch.tensor([2., 3.])\n",
        "b = torch.tensor([6., 4.])\n",
        "\n",
        "# Q = 3a^3 - b^2\n",
        "Q = 3*a**3 - b**2\n",
        "\n",
        "# Note that in back propagation, we need to know Q's gradient first to further calculate the gradients backwards.\n",
        "# Since here Q is our target and IT IS A VECTOR, so we simply need to assign [1, 1] to it (dQ/dQ = 1)\n",
        "Q_grad = torch.tensor([1., 1.])\n",
        "Q.backward(gradient=Q_grad)\n",
        "\n",
        "# Now we can check the gradients of a and be by calling a.grad and b.grad, respectively\n",
        "print(f'Q = {Q}')\n",
        "print(f'a = {a}')\n",
        "print(f'b = {b}')\n",
        "print(f'dQ/da = {a.grad}')\n",
        "print(f'9a^2 = {9*a**2}')\n",
        "print(f'dQ/db = {b.grad}!')\n",
        "print(f'-2b = {-2*b}')"
      ],
      "metadata": {
        "id": "9FKri7kW-p6i",
        "colab": {
          "base_uri": "https://localhost:8080/",
          "height": 389
        },
        "outputId": "be38f051-24a9-4a9d-b0e5-8e11fe756c6c"
      },
      "execution_count": null,
      "outputs": [
        {
          "output_type": "error",
          "ename": "RuntimeError",
          "evalue": "ignored",
          "traceback": [
            "\u001b[0;31m---------------------------------------------------------------------------\u001b[0m",
            "\u001b[0;31mRuntimeError\u001b[0m                              Traceback (most recent call last)",
            "\u001b[0;32m<ipython-input-4-128919f9d9cb>\u001b[0m in \u001b[0;36m<module>\u001b[0;34m\u001b[0m\n\u001b[1;32m      9\u001b[0m \u001b[0;31m# Since here Q is our target and IT IS A VECTOR, so we simply need to assign [1, 1] to it (dQ/dQ = 1)\u001b[0m\u001b[0;34m\u001b[0m\u001b[0;34m\u001b[0m\u001b[0;34m\u001b[0m\u001b[0m\n\u001b[1;32m     10\u001b[0m \u001b[0mQ_grad\u001b[0m \u001b[0;34m=\u001b[0m \u001b[0mtorch\u001b[0m\u001b[0;34m.\u001b[0m\u001b[0mtensor\u001b[0m\u001b[0;34m(\u001b[0m\u001b[0;34m[\u001b[0m\u001b[0;36m1.\u001b[0m\u001b[0;34m,\u001b[0m \u001b[0;36m1.\u001b[0m\u001b[0;34m]\u001b[0m\u001b[0;34m)\u001b[0m\u001b[0;34m\u001b[0m\u001b[0;34m\u001b[0m\u001b[0m\n\u001b[0;32m---> 11\u001b[0;31m \u001b[0mQ\u001b[0m\u001b[0;34m.\u001b[0m\u001b[0mbackward\u001b[0m\u001b[0;34m(\u001b[0m\u001b[0mgradient\u001b[0m\u001b[0;34m=\u001b[0m\u001b[0mQ_grad\u001b[0m\u001b[0;34m)\u001b[0m\u001b[0;34m\u001b[0m\u001b[0;34m\u001b[0m\u001b[0m\n\u001b[0m\u001b[1;32m     12\u001b[0m \u001b[0;34m\u001b[0m\u001b[0m\n\u001b[1;32m     13\u001b[0m \u001b[0;31m# Now we can check the gradients of a and be by calling a.grad and b.grad, respectively\u001b[0m\u001b[0;34m\u001b[0m\u001b[0;34m\u001b[0m\u001b[0;34m\u001b[0m\u001b[0m\n",
            "\u001b[0;32m/usr/local/lib/python3.7/dist-packages/torch/_tensor.py\u001b[0m in \u001b[0;36mbackward\u001b[0;34m(self, gradient, retain_graph, create_graph, inputs)\u001b[0m\n\u001b[1;32m    394\u001b[0m                 \u001b[0mcreate_graph\u001b[0m\u001b[0;34m=\u001b[0m\u001b[0mcreate_graph\u001b[0m\u001b[0;34m,\u001b[0m\u001b[0;34m\u001b[0m\u001b[0;34m\u001b[0m\u001b[0m\n\u001b[1;32m    395\u001b[0m                 inputs=inputs)\n\u001b[0;32m--> 396\u001b[0;31m         \u001b[0mtorch\u001b[0m\u001b[0;34m.\u001b[0m\u001b[0mautograd\u001b[0m\u001b[0;34m.\u001b[0m\u001b[0mbackward\u001b[0m\u001b[0;34m(\u001b[0m\u001b[0mself\u001b[0m\u001b[0;34m,\u001b[0m \u001b[0mgradient\u001b[0m\u001b[0;34m,\u001b[0m \u001b[0mretain_graph\u001b[0m\u001b[0;34m,\u001b[0m \u001b[0mcreate_graph\u001b[0m\u001b[0;34m,\u001b[0m \u001b[0minputs\u001b[0m\u001b[0;34m=\u001b[0m\u001b[0minputs\u001b[0m\u001b[0;34m)\u001b[0m\u001b[0;34m\u001b[0m\u001b[0;34m\u001b[0m\u001b[0m\n\u001b[0m\u001b[1;32m    397\u001b[0m \u001b[0;34m\u001b[0m\u001b[0m\n\u001b[1;32m    398\u001b[0m     \u001b[0;32mdef\u001b[0m \u001b[0mregister_hook\u001b[0m\u001b[0;34m(\u001b[0m\u001b[0mself\u001b[0m\u001b[0;34m,\u001b[0m \u001b[0mhook\u001b[0m\u001b[0;34m)\u001b[0m\u001b[0;34m:\u001b[0m\u001b[0;34m\u001b[0m\u001b[0;34m\u001b[0m\u001b[0m\n",
            "\u001b[0;32m/usr/local/lib/python3.7/dist-packages/torch/autograd/__init__.py\u001b[0m in \u001b[0;36mbackward\u001b[0;34m(tensors, grad_tensors, retain_graph, create_graph, grad_variables, inputs)\u001b[0m\n\u001b[1;32m    173\u001b[0m     Variable._execution_engine.run_backward(  # Calls into the C++ engine to run the backward pass\n\u001b[1;32m    174\u001b[0m         \u001b[0mtensors\u001b[0m\u001b[0;34m,\u001b[0m \u001b[0mgrad_tensors_\u001b[0m\u001b[0;34m,\u001b[0m \u001b[0mretain_graph\u001b[0m\u001b[0;34m,\u001b[0m \u001b[0mcreate_graph\u001b[0m\u001b[0;34m,\u001b[0m \u001b[0minputs\u001b[0m\u001b[0;34m,\u001b[0m\u001b[0;34m\u001b[0m\u001b[0;34m\u001b[0m\u001b[0m\n\u001b[0;32m--> 175\u001b[0;31m         allow_unreachable=True, accumulate_grad=True)  # Calls into the C++ engine to run the backward pass\n\u001b[0m\u001b[1;32m    176\u001b[0m \u001b[0;34m\u001b[0m\u001b[0m\n\u001b[1;32m    177\u001b[0m def grad(\n",
            "\u001b[0;31mRuntimeError\u001b[0m: element 0 of tensors does not require grad and does not have a grad_fn"
          ]
        }
      ]
    },
    {
      "cell_type": "markdown",
      "source": [
        "What's wrong?\n",
        "We need to initialize tensors with flag 'requires_grad' so that PyTorch knows the tensor needs tracking the gradients!\n",
        "After seeting up, PyTorch will automatically compute and store the gradients for us.\n"
      ],
      "metadata": {
        "id": "acH7s5Qa4NMY"
      }
    },
    {
      "cell_type": "code",
      "source": [
        "# initialize tensors with flag 'requires_grad=True'\n",
        "a = torch.tensor([2., 3.], requires_grad=True)\n",
        "b = torch.tensor([6., 4.], requires_grad=True)\n",
        "\n",
        "# Q = 3a^3 - b^2\n",
        "Q = 3*a**3 - b**2\n",
        "\n",
        "# Note that in back propagation, we need to know Q's gradient first to further calculate the gradients backwards.\n",
        "# Since here Q is our target and IT IS A VECTOR, so we simply need to assign [1, 1] to it (dQ/dQ = 1)\n",
        "Q_grad = torch.tensor([1., 1.])\n",
        "Q.backward(gradient=Q_grad)\n",
        "\n",
        "# Now we can check the gradients of a and be by calling a.grad and b.grad, respectively\n",
        "print(f'Q = {Q}')\n",
        "print(f'a = {a}')\n",
        "print(f'b = {b}')\n",
        "print(f'dQ/da = {a.grad}')\n",
        "print(f'9a^2 = {9*a**2}')\n",
        "print(f'dQ/db = {b.grad}!')\n",
        "print(f'-2b = {-2*b}')"
      ],
      "metadata": {
        "colab": {
          "base_uri": "https://localhost:8080/"
        },
        "id": "FUR0pR0z5Daw",
        "outputId": "8a570bf2-0c52-4fbc-d8cf-584cfed0d854"
      },
      "execution_count": null,
      "outputs": [
        {
          "output_type": "stream",
          "name": "stdout",
          "text": [
            "Q = tensor([-12.,  65.], grad_fn=<SubBackward0>)\n",
            "a = tensor([2., 3.], requires_grad=True)\n",
            "b = tensor([6., 4.], requires_grad=True)\n",
            "dQ/da = tensor([36., 81.])\n",
            "9a^2 = tensor([36., 81.], grad_fn=<MulBackward0>)\n",
            "dQ/db = tensor([-12.,  -8.])!\n",
            "-2b = tensor([-12.,  -8.], grad_fn=<MulBackward0>)\n"
          ]
        }
      ]
    },
    {
      "cell_type": "markdown",
      "source": [
        "One thing to notice is that, if the variable we're going to call \".backward()\" on is a scalar (say our loss), We don't need to provide any input. For example:"
      ],
      "metadata": {
        "id": "x0JS3ezzAy4Y"
      }
    },
    {
      "cell_type": "code",
      "source": [
        "# initialize tensors with flag 'requires_grad=True'\n",
        "a = torch.tensor([2., 3.], requires_grad=True)\n",
        "b = torch.tensor([6., 4.], requires_grad=True)\n",
        "\n",
        "# Q = a*b^T\n",
        "Q = a.matmul(b.T)\n",
        "\n",
        "# Now do Q.backward()\n",
        "Q.backward()\n",
        "\n",
        "# Now we can check the gradients of a and be by calling a.grad and b.grad, respectively\n",
        "print(f'dQ/da = {a.grad}')\n",
        "print(f'b.T = {b.T}')\n",
        "\n"
      ],
      "metadata": {
        "id": "3ujq4kxH9WM-",
        "colab": {
          "base_uri": "https://localhost:8080/"
        },
        "outputId": "2a3fea42-10e6-48ac-f84a-aec643a0ad31"
      },
      "execution_count": null,
      "outputs": [
        {
          "output_type": "stream",
          "name": "stdout",
          "text": [
            "dQ/da = tensor([6., 4.])\n",
            "b.T = tensor([6., 4.], grad_fn=<PermuteBackward0>)\n"
          ]
        },
        {
          "output_type": "stream",
          "name": "stderr",
          "text": [
            "/usr/local/lib/python3.7/dist-packages/ipykernel_launcher.py:6: UserWarning: The use of `x.T` on tensors of dimension other than 2 to reverse their shape is deprecated and it will throw an error in a future release. Consider `x.mT` to transpose batches of matricesor `x.permute(*torch.arange(x.ndim - 1, -1, -1))` to reverse the dimensions of a tensor. (Triggered internally at  ../aten/src/ATen/native/TensorShape.cpp:2981.)\n",
            "  \n"
          ]
        }
      ]
    },
    {
      "cell_type": "markdown",
      "source": [
        "## Training a deep learning framework with PyTorch"
      ],
      "metadata": {
        "id": "wM8sC4_3rF0z"
      }
    },
    {
      "cell_type": "markdown",
      "source": [
        "### Typically, training a deep learning framework with PyTorch contains\n",
        "\n",
        " 1.   Set up the way you want to load your data (TensorDataset, DataLoader)\n",
        " 2.   Define the DL network you want to use (nn.Module)\n",
        " 3.   Define training strategies (loss function, optimizer)\n",
        " 4.   Integrate your train steps, and report loss and accuracy for each step\n",
        " 5.   Summerize training results (loss, accuracy, time)\n"
      ],
      "metadata": {
        "id": "ANybcHUGqE2z"
      }
    },
    {
      "cell_type": "markdown",
      "source": [
        "### 1. Set up the way you want to load your data\n",
        "In your HW4, you will use TensorDataset and DataLoader to manage your input.\n",
        "\n",
        "**TensorDataset:**\n",
        "The class helps you **read your input data into PyTorch system**. It takes (data, label) as input, the 1st dimension of data and label should match.\n",
        "\n",
        "**DataLoader:**\n",
        "The class helps you **define the way to load the tensor inputs into training**. It defines some hyperparameters such as batch size and whether to shuffle data or not, and takes PyTorch Dataset class as input.\n"
      ],
      "metadata": {
        "id": "rBAGIfnUwLCA"
      }
    },
    {
      "cell_type": "code",
      "source": [
        "import numpy as np\n",
        "import torch\n",
        "\n",
        "# make sure you have gpu available\n",
        "device = torch.device('cuda' if torch.cuda.is_available() else 'cpu')\n",
        "print(f'Using device: {device}')\n",
        "# make the results are reproducable\n",
        "np.random.seed(0)\n",
        "torch.manual_seed(0)\n",
        "torch.cuda.manual_seed(0)\n",
        "\n",
        "# Let's first define random image inputs.\n",
        "def init_toy_data(dim):\n",
        "    np.random.seed(0)\n",
        "    X = 10 * np.random.randn(dim[0], dim[1], dim[2], dim[3])\n",
        "    y = np.random.randint(low=0, high=3, size=dim[0])\n",
        "    return X, y\n",
        "\n",
        "# Define our training and validation data\n",
        "# Notice that the dimensions of a batch image input follows (batch, channel, H, W)\n",
        "train_dim = (100, 3, 32, 32)\n",
        "train_X, train_y = init_toy_data(train_dim)\n",
        "val_dim = (100, 3, 32, 32)\n",
        "val_X, val_y = init_toy_data(val_dim)\n",
        "print(train_X.shape)\n",
        "print(train_y.shape)\n",
        "print(val_X.shape)\n",
        "print(val_y.shape)"
      ],
      "metadata": {
        "id": "pi92Ok_qm59o",
        "colab": {
          "base_uri": "https://localhost:8080/"
        },
        "outputId": "635251f6-e849-452f-b10a-b6eace80ede9"
      },
      "execution_count": null,
      "outputs": [
        {
          "output_type": "stream",
          "name": "stdout",
          "text": [
            "Using device: cuda\n",
            "(100, 3, 32, 32)\n",
            "(100,)\n",
            "(100, 3, 32, 32)\n",
            "(100,)\n"
          ]
        }
      ]
    },
    {
      "cell_type": "code",
      "source": [
        "from torch.utils.data import TensorDataset, DataLoader\n",
        "\n",
        "batch_size = 10\n",
        "\n",
        "# Load data into PyTorch dataset\n",
        "train_dataset = TensorDataset(torch.from_numpy(train_X).float(), torch.from_numpy(train_y).to(torch.long))\n",
        "val_dataset = TensorDataset(torch.from_numpy(val_X).float(), torch.from_numpy(val_y).to(torch.long))\n",
        "\n",
        "# Load PyTorch dataset into DataLoader\n",
        "train_loader = DataLoader(train_dataset, batch_size=batch_size, shuffle=True, num_workers=2) # shuffle trainset for better stochastic result\n",
        "val_loader = DataLoader(val_dataset, batch_size=batch_size, shuffle=False, num_workers=2)\n",
        "\n"
      ],
      "metadata": {
        "id": "0HfjYtq02jqV"
      },
      "execution_count": null,
      "outputs": []
    },
    {
      "cell_type": "markdown",
      "source": [
        "### 2. Define the DL network you want to use\n",
        "\n",
        "We use nn.Module as the parent(base) class to define our network in PyTorch.\n",
        "\n",
        "We will introduce Multi Layer Perceptron (MLP) and Convolutional Neural Network (CNN) in this tutorial.\n",
        "\n",
        "\n",
        "\n",
        "**MLP: torch.nn.Linear(in_features, out_features, bias=True, device=None, dtype=None);**\n",
        "The layer expects input of shape (batch_size, in_features) and will produce output of shape (batch_size, out_features).\n",
        "\n",
        "**CNN: torch.nn.Conv2d(in_channels, out_channels, kernel_size, stride=1, padding=0, dilation=1, groups=1, bias=True, padding_mode='zeros', device=None, dtype=None);**\n",
        "The layer expects input of shape (batch_size, in_channels, H_in, W_in) and will produce output of different shapes according to the hyperparameter design.\n",
        "\n",
        "For more details, please refer to https://pytorch.org/docs/stable/generated/torch.nn.Linear.html and https://pytorch.org/docs/stable/generated/torch.nn.Conv2d.html.\n"
      ],
      "metadata": {
        "id": "MH7yHPvJ43FJ"
      }
    },
    {
      "cell_type": "code",
      "source": [
        "import torch.nn as nn\n",
        "\n",
        "# define a simple MLP model.\n",
        "class toy_linear_model(nn.Module):\n",
        "    def __init__(self, input_d, hidden_d, output_d):\n",
        "        super().__init__()\n",
        "\n",
        "        # define 2 linear layers\n",
        "        self.linear0 = nn.Linear(input_d, hidden_d)\n",
        "        self.linear1 = nn.Linear(hidden_d, output_d)\n",
        "\n",
        "    def forward(self, x):\n",
        "\n",
        "        # Flatten the input\n",
        "        # 3,32*,32 -> 1,3*32*32\n",
        "        output = torch.flatten(x, 1)\n",
        "\n",
        "        output = self.linear0(output)\n",
        "        output = self.linear1(output)\n",
        "\n",
        "        return output\n",
        "\n",
        "\n",
        "# define a simple CNN model. Note we assume our input has shape (batch, 3, 32, 32) as CIFAR10 images.\n",
        "class toy_cnn_model(nn.Module):\n",
        "    def __init__(self, channels, num_classes):\n",
        "        super().__init__()\n",
        "\n",
        "        # define 2 convolutional layers\n",
        "        self.conv0 = nn.Conv2d(channels[0], channels[1], kernel_size=3)\n",
        "        self.conv1 = nn.Conv2d(channels[1], channels[2], kernel_size=3)\n",
        "\n",
        "        # define linear layers to project\n",
        "        self.linear0 = nn.Linear(28*28*channels[2], 1024)\n",
        "        self.linear1 = nn.Linear(1024, num_classes)\n",
        "\n",
        "    def forward(self, x):\n",
        "\n",
        "        output = self.conv0(x)\n",
        "        output = self.conv1(output)\n",
        "\n",
        "        # flatten the feature map except the batch dim\n",
        "        output = torch.flatten(output, 1)\n",
        "\n",
        "        output = self.linear0(output)\n",
        "        output = self.linear1(output)\n",
        "\n",
        "        return output\n"
      ],
      "metadata": {
        "id": "v2BgGiZ44WTm"
      },
      "execution_count": null,
      "outputs": []
    },
    {
      "cell_type": "code",
      "source": [
        "# define MLP model and CNN model, and put them into GPU\n",
        "MLP_model = toy_linear_model(3*32*32, 1024, 3).to(device)\n",
        "CNN_model = toy_cnn_model([3, 16, 32], 3).to(device)\n",
        "print(MLP_model)\n",
        "print(CNN_model)"
      ],
      "metadata": {
        "id": "IRim3fu2BgR_",
        "colab": {
          "base_uri": "https://localhost:8080/"
        },
        "outputId": "dfe49c59-dff2-48fd-893d-261692d0cb7a"
      },
      "execution_count": null,
      "outputs": [
        {
          "output_type": "stream",
          "name": "stdout",
          "text": [
            "toy_linear_model(\n",
            "  (linear0): Linear(in_features=3072, out_features=1024, bias=True)\n",
            "  (linear1): Linear(in_features=1024, out_features=3, bias=True)\n",
            ")\n",
            "toy_cnn_model(\n",
            "  (conv0): Conv2d(3, 16, kernel_size=(3, 3), stride=(1, 1))\n",
            "  (conv1): Conv2d(16, 32, kernel_size=(3, 3), stride=(1, 1))\n",
            "  (linear0): Linear(in_features=25088, out_features=1024, bias=True)\n",
            "  (linear1): Linear(in_features=1024, out_features=3, bias=True)\n",
            ")\n"
          ]
        }
      ]
    },
    {
      "cell_type": "markdown",
      "source": [
        "### 3. Define training strategies\n",
        "\n",
        "We will define the strategies we want to apply to our DL training.\n",
        "\n",
        "**Loss function:**\n",
        "PyTorch provides several loss functions. We will use Cross Entropy Loss for our classification model. Please refer to https://pytorch.org/docs/stable/nn.html#loss-functions for more options.\n",
        "\n",
        "**Optimizer:**\n",
        "PyTorch provides several optimizer algorithms. Here we use Adam as our optimizer. Please refer to https://pytorch.org/docs/stable/optim.html for more options.\n",
        "\n"
      ],
      "metadata": {
        "id": "0rSQNBxd_9Z4"
      }
    },
    {
      "cell_type": "code",
      "source": [
        "# Define cross entropy loss function as criterion\n",
        "criterion = nn.CrossEntropyLoss()\n",
        "\n",
        "# Define 2 Adam optimizers for our MLP and CNN models\n",
        "optimizer_MLP = torch.optim.Adam(MLP_model.parameters())\n",
        "optimizer_CNN = torch.optim.Adam(CNN_model.parameters())"
      ],
      "metadata": {
        "id": "WYwDnp-F_3Yu"
      },
      "execution_count": null,
      "outputs": []
    },
    {
      "cell_type": "markdown",
      "source": [
        "### 4. Integrate your train steps, and report loss and accuracy for each step\n",
        "\n",
        "Here we will define two functions, train_model and val_model. The train_model function is expected to execute forward pass, backward propagation, optimizing learning rate, and reporting training loss and accuracy. The val_model function is expected to do forward pass and reports validation loss and accuracy."
      ],
      "metadata": {
        "id": "ZhiDYBnJDSHX"
      }
    },
    {
      "cell_type": "code",
      "source": [
        "def train_model(train_loader, model, optimizer, criterion):\n",
        "    train_loss, train_acc = 0.0, 0.0\n",
        "    # set model to training mode so that it computes things that are needed to update the loss\n",
        "    model.train()\n",
        "    for i, (images, labels) in enumerate(train_loader):\n",
        "\n",
        "        # put our inputs into GPU\n",
        "        images = images.to(device)\n",
        "        labels = labels.to(device)\n",
        "\n",
        "        # clear gradients in optimizer before back propagation\n",
        "        optimizer.zero_grad()\n",
        "\n",
        "        # feed images into model and fine the predicted output\n",
        "        outputs = model(images)\n",
        "\n",
        "        # compute loss and back propagation\n",
        "        loss = criterion(outputs, labels)\n",
        "        loss.backward()\n",
        "        optimizer.step()\n",
        "\n",
        "        # Track train loss by multiplying average loss by number of examples in batch\n",
        "        train_loss += loss.item() * images.size(0)\n",
        "\n",
        "        # Calculate accuracy by finding max log probability\n",
        "        _, pred = torch.max(outputs, dim=1)\n",
        "        correct_tensor = pred.eq(labels.data.view_as(pred))\n",
        "\n",
        "        # Need to convert correct tensor from int to float to average\n",
        "        accuracy = torch.mean(correct_tensor.type(torch.FloatTensor))\n",
        "\n",
        "        # Multiply average accuracy times the number of examples in batch\n",
        "        train_acc += accuracy.item() * images.size(0)\n",
        "\n",
        "    # average loss and accuracy\n",
        "    train_loss = train_loss / len(train_loader.dataset)\n",
        "    train_acc = train_acc / len(train_loader.dataset)\n",
        "\n",
        "    return train_loss, train_acc\n",
        "\n",
        "\n",
        "def val_model(val_loader, model, criterion):\n",
        "    val_loss, val_acc = 0.0, 0.0\n",
        "\n",
        "    # set model to validation mode so that it DOESN'T computes things that are needed to update the loss\n",
        "    with torch.no_grad():\n",
        "\n",
        "        model.eval()\n",
        "\n",
        "        for i, (images, labels) in enumerate(val_loader):\n",
        "\n",
        "            # put our inputs into GPU\n",
        "            images = images.to(device)\n",
        "            labels = labels.to(device)\n",
        "\n",
        "            # feed images into model and fine the predicted output\n",
        "            outputs = model(images)\n",
        "\n",
        "            # compute loss\n",
        "            loss = criterion(outputs, labels)\n",
        "\n",
        "            # Track validation loss by multiplying average loss by number of examples in batch\n",
        "            val_loss += loss.item() * images.size(0)\n",
        "\n",
        "            # Calculate accuracy by finding max log probability\n",
        "            _, pred = torch.max(outputs, dim=1)\n",
        "            correct_tensor = pred.eq(labels.data.view_as(pred))\n",
        "\n",
        "            # Need to convert correct tensor from int to float to average\n",
        "            accuracy = torch.mean(correct_tensor.type(torch.FloatTensor))\n",
        "\n",
        "            # Multiply average accuracy times the number of examples in batch\n",
        "            val_acc += accuracy.item() * images.size(0)\n",
        "\n",
        "        # average loss and accuracy\n",
        "        val_loss = val_loss / len(val_loader.dataset)\n",
        "        val_acc = val_acc / len(val_loader.dataset)\n",
        "\n",
        "    return val_loss, val_acc"
      ],
      "metadata": {
        "id": "mLdOm8rODQAo"
      },
      "execution_count": null,
      "outputs": []
    },
    {
      "cell_type": "markdown",
      "source": [
        "### 5. Summerize training results\n",
        "\n",
        "Here we begin training our MLP model. We will summarize the loss, accuracy and time."
      ],
      "metadata": {
        "id": "BMuQ8n7AKCrh"
      }
    },
    {
      "cell_type": "code",
      "source": [
        "import time\n",
        "\n",
        "epochs = 20\n",
        "\n",
        "# train MLP\n",
        "start_time = time.time()\n",
        "print('-----------------------Train MLP-------------------------')\n",
        "for epoch in range(1, epochs+1):\n",
        "    train_loss, train_acc = train_model(train_loader, MLP_model, optimizer_MLP, criterion)\n",
        "    val_loss, val_acc = val_model(val_loader, MLP_model, criterion)\n",
        "    print(f'Epoch: {epoch}')\n",
        "    print(f'  Training Loss: {train_loss}, Training Accuracy: {train_acc}')\n",
        "    print(f'  Validation Loss: {val_loss}, Validation Accuracy: {val_acc}')\n",
        "\n",
        "print(f'Elapsed time for MLP model: {(time.time()-start_time)/60} mins')\n",
        "\n",
        "# train CNN\n",
        "start_time = time.time()\n",
        "print('-----------------------Train CNN-------------------------')\n",
        "for epoch in range(1, epochs+1):\n",
        "    train_loss, train_acc = train_model(train_loader, CNN_model, optimizer_CNN, criterion)\n",
        "    val_loss, val_acc = val_model(val_loader, CNN_model, criterion)\n",
        "    print(f'Epoch: {epoch}')\n",
        "    print(f'  Training Loss: {train_loss}, Training Accuracy: {train_acc}')\n",
        "    print(f'  Validation Loss: {val_loss}, Validation Accuracy: {val_acc}')\n",
        "\n",
        "print(f'Elapsed time for CNN model: {(time.time()-start_time)/60} mins')\n"
      ],
      "metadata": {
        "id": "0HKth9UXKY2q",
        "colab": {
          "base_uri": "https://localhost:8080/"
        },
        "outputId": "385e6c6f-d429-4702-e17b-3b15a984dcdc"
      },
      "execution_count": null,
      "outputs": [
        {
          "output_type": "stream",
          "name": "stdout",
          "text": [
            "-----------------------Train MLP-------------------------\n",
            "Epoch: 1\n",
            "  Training Loss: 12.48176155090332, Training Accuracy: 0.3200000040233135\n",
            "  Validation Loss: 0.7361721106906771, Validation Accuracy: 0.9399999916553498\n",
            "Epoch: 2\n",
            "  Training Loss: 0.7845265764952635, Training Accuracy: 0.9600000023841858\n",
            "  Validation Loss: 0.03694667995220868, Validation Accuracy: 0.9899999976158143\n",
            "Epoch: 3\n",
            "  Training Loss: 0.07953918590443046, Training Accuracy: 0.9899999976158143\n",
            "  Validation Loss: 8.92944893276848e-05, Validation Accuracy: 1.0\n",
            "Epoch: 4\n",
            "  Training Loss: 0.0003920087864969446, Training Accuracy: 1.0\n",
            "  Validation Loss: 0.0008239072933655222, Validation Accuracy: 1.0\n",
            "Epoch: 5\n",
            "  Training Loss: 0.0011662624672641897, Training Accuracy: 1.0\n",
            "  Validation Loss: 9.775144391710455e-08, Validation Accuracy: 1.0\n",
            "Epoch: 6\n",
            "  Training Loss: 1.0728812434024349e-07, Training Accuracy: 1.0\n",
            "  Validation Loss: 1.311298076345224e-07, Validation Accuracy: 1.0\n",
            "Epoch: 7\n",
            "  Training Loss: 1.442427308262495e-07, Training Accuracy: 1.0\n",
            "  Validation Loss: 1.549714827575599e-07, Validation Accuracy: 1.0\n",
            "Epoch: 8\n",
            "  Training Loss: 1.5973980893591033e-07, Training Accuracy: 1.0\n",
            "  Validation Loss: 1.6331605117159144e-07, Validation Accuracy: 1.0\n",
            "Epoch: 9\n",
            "  Training Loss: 1.657002357546844e-07, Training Accuracy: 1.0\n",
            "  Validation Loss: 1.6689231507882596e-07, Validation Accuracy: 1.0\n",
            "Epoch: 10\n",
            "  Training Loss: 1.6689230939448407e-07, Training Accuracy: 1.0\n",
            "  Validation Loss: 1.6689231507882596e-07, Validation Accuracy: 1.0\n",
            "Epoch: 11\n",
            "  Training Loss: 1.6689231507882596e-07, Training Accuracy: 1.0\n",
            "  Validation Loss: 1.6689231507882596e-07, Validation Accuracy: 1.0\n",
            "Epoch: 12\n",
            "  Training Loss: 1.668923104602982e-07, Training Accuracy: 1.0\n",
            "  Validation Loss: 1.6570022900452842e-07, Validation Accuracy: 1.0\n",
            "Epoch: 13\n",
            "  Training Loss: 1.6570022900452842e-07, Training Accuracy: 1.0\n",
            "  Validation Loss: 1.6570022900452842e-07, Validation Accuracy: 1.0\n",
            "Epoch: 14\n",
            "  Training Loss: 1.6450814186441675e-07, Training Accuracy: 1.0\n",
            "  Validation Loss: 1.6331605117159144e-07, Validation Accuracy: 1.0\n",
            "Epoch: 15\n",
            "  Training Loss: 1.6331605792174742e-07, Training Accuracy: 1.0\n",
            "  Validation Loss: 1.6212397646597765e-07, Validation Accuracy: 1.0\n",
            "Epoch: 16\n",
            "  Training Loss: 1.6212398783466143e-07, Training Accuracy: 1.0\n",
            "  Validation Loss: 1.6212397646597765e-07, Validation Accuracy: 1.0\n",
            "Epoch: 17\n",
            "  Training Loss: 1.609318971418361e-07, Training Accuracy: 1.0\n",
            "  Validation Loss: 1.6093190176036386e-07, Validation Accuracy: 1.0\n",
            "Epoch: 18\n",
            "  Training Loss: 1.5973981568606632e-07, Training Accuracy: 1.0\n",
            "  Validation Loss: 1.5854773529611066e-07, Validation Accuracy: 1.0\n",
            "Epoch: 19\n",
            "  Training Loss: 1.5854773636192476e-07, Training Accuracy: 1.0\n",
            "  Validation Loss: 1.5735564922181312e-07, Validation Accuracy: 1.0\n",
            "Epoch: 20\n",
            "  Training Loss: 1.5735565028762721e-07, Training Accuracy: 1.0\n",
            "  Validation Loss: 1.5735564922181312e-07, Validation Accuracy: 1.0\n",
            "Elapsed time for MLP model: 0.13343617518742878 mins\n",
            "-----------------------Train CNN-------------------------\n",
            "Epoch: 1\n",
            "  Training Loss: 28.66060287952423, Training Accuracy: 0.3600000083446503\n",
            "  Validation Loss: 1.5706932807329395, Validation Accuracy: 0.9199999928474426\n",
            "Epoch: 2\n",
            "  Training Loss: 0.5159091290400621, Training Accuracy: 0.9799999952316284\n",
            "  Validation Loss: 0.22450443521465502, Validation Accuracy: 0.9599999904632568\n",
            "Epoch: 3\n",
            "  Training Loss: 0.4437538101097857, Training Accuracy: 0.9299999892711639\n",
            "  Validation Loss: 0.7837154187227583, Validation Accuracy: 0.9599999904632568\n",
            "Epoch: 4\n",
            "  Training Loss: 1.000357786625281, Training Accuracy: 0.9399999916553498\n",
            "  Validation Loss: 0.2835017702312307, Validation Accuracy: 0.9699999928474426\n",
            "Epoch: 5\n",
            "  Training Loss: 0.15168255711244, Training Accuracy: 0.9899999976158143\n",
            "  Validation Loss: 9.358219685964286e-05, Validation Accuracy: 1.0\n",
            "Epoch: 6\n",
            "  Training Loss: 0.0022483891126466203, Training Accuracy: 1.0\n",
            "  Validation Loss: 1.6569956180489952e-07, Validation Accuracy: 1.0\n",
            "Epoch: 7\n",
            "  Training Loss: 1.3113014674104306e-08, Training Accuracy: 1.0\n",
            "  Validation Loss: 1.0728831156825436e-08, Validation Accuracy: 1.0\n",
            "Epoch: 8\n",
            "  Training Loss: 1.0728831156825436e-08, Training Accuracy: 1.0\n",
            "  Validation Loss: 4.768370942542788e-09, Validation Accuracy: 1.0\n",
            "Epoch: 9\n",
            "  Training Loss: 4.768370942542788e-09, Training Accuracy: 1.0\n",
            "  Validation Loss: 4.768370942542788e-09, Validation Accuracy: 1.0\n",
            "Epoch: 10\n",
            "  Training Loss: 4.768370942542788e-09, Training Accuracy: 1.0\n",
            "  Validation Loss: 4.768370942542788e-09, Validation Accuracy: 1.0\n",
            "Epoch: 11\n",
            "  Training Loss: 4.768370942542788e-09, Training Accuracy: 1.0\n",
            "  Validation Loss: 4.768370942542788e-09, Validation Accuracy: 1.0\n",
            "Epoch: 12\n",
            "  Training Loss: 4.768370942542788e-09, Training Accuracy: 1.0\n",
            "  Validation Loss: 3.5762782957249327e-09, Validation Accuracy: 1.0\n",
            "Epoch: 13\n",
            "  Training Loss: 3.5762782957249327e-09, Training Accuracy: 1.0\n",
            "  Validation Loss: 3.5762782957249327e-09, Validation Accuracy: 1.0\n",
            "Epoch: 14\n",
            "  Training Loss: 3.5762782957249327e-09, Training Accuracy: 1.0\n",
            "  Validation Loss: 3.5762782957249327e-09, Validation Accuracy: 1.0\n",
            "Epoch: 15\n",
            "  Training Loss: 3.5762782957249327e-09, Training Accuracy: 1.0\n",
            "  Validation Loss: 3.5762782957249327e-09, Validation Accuracy: 1.0\n",
            "Epoch: 16\n",
            "  Training Loss: 3.5762782957249327e-09, Training Accuracy: 1.0\n",
            "  Validation Loss: 3.5762782957249327e-09, Validation Accuracy: 1.0\n",
            "Epoch: 17\n",
            "  Training Loss: 3.5762782957249327e-09, Training Accuracy: 1.0\n",
            "  Validation Loss: 3.5762782957249327e-09, Validation Accuracy: 1.0\n",
            "Epoch: 18\n",
            "  Training Loss: 3.5762782957249327e-09, Training Accuracy: 1.0\n",
            "  Validation Loss: 3.5762782957249327e-09, Validation Accuracy: 1.0\n",
            "Epoch: 19\n",
            "  Training Loss: 3.5762782957249327e-09, Training Accuracy: 1.0\n",
            "  Validation Loss: 3.5762782957249327e-09, Validation Accuracy: 1.0\n",
            "Epoch: 20\n",
            "  Training Loss: 3.5762782957249327e-09, Training Accuracy: 1.0\n",
            "  Validation Loss: 3.5762782957249327e-09, Validation Accuracy: 1.0\n",
            "Elapsed time for CNN model: 0.21456197500228882 mins\n"
          ]
        }
      ]
    },
    {
      "cell_type": "code",
      "source": [],
      "metadata": {
        "id": "oGWEmoMEMeF8"
      },
      "execution_count": null,
      "outputs": []
    }
  ]
}