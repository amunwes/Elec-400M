{
  "nbformat": 4,
  "nbformat_minor": 0,
  "metadata": {
    "colab": {
      "provenance": [],
      "mount_file_id": "1gLpyaAta5gW9kDsAC3F4IzzRmLZOIdCP",
      "authorship_tag": "ABX9TyOqHK2dROlUeaOuaw+KjeSm",
      "include_colab_link": true
    },
    "kernelspec": {
      "name": "python3",
      "display_name": "Python 3"
    },
    "language_info": {
      "name": "python"
    }
  },
  "cells": [
    {
      "cell_type": "markdown",
      "metadata": {
        "id": "view-in-github",
        "colab_type": "text"
      },
      "source": [
        "<a href=\"https://colab.research.google.com/github/amunwes/Elec-400M/blob/main/Final_Project.ipynb\" target=\"_parent\"><img src=\"https://colab.research.google.com/assets/colab-badge.svg\" alt=\"Open In Colab\"/></a>"
      ]
    },
    {
      "cell_type": "code",
      "execution_count": null,
      "metadata": {
        "id": "KRmwDYSDiYPo",
        "colab": {
          "base_uri": "https://localhost:8080/"
        },
        "outputId": "14201246-e17c-4a88-a31d-c634da4d1f25"
      },
      "outputs": [
        {
          "output_type": "stream",
          "name": "stdout",
          "text": [
            "Mounted at /content/gdrive\n"
          ]
        }
      ],
      "source": [
        "from google.colab import drive\n",
        "drive.mount(\"/content/gdrive\", force_remount=True)"
      ]
    },
    {
      "cell_type": "code",
      "source": [
        "import pandas as pd\n",
        "import numpy as np\n",
        "import json\n",
        "import nltk\n",
        "import seaborn as sns\n",
        "import matplotlib.pyplot as plt\n",
        "import re\n",
        "from sklearn.preprocessing import MultiLabelBinarizer, StandardScaler\n",
        "from sklearn.feature_extraction.text import TfidfVectorizer, CountVectorizer\n",
        "from sklearn.model_selection import train_test_split\n",
        "\n",
        "from sklearn.linear_model import LogisticRegression\n",
        "from sklearn.naive_bayes import MultinomialNB\n",
        "from sklearn.multiclass import OneVsRestClassifier, OneVsOneClassifier\n",
        "from sklearn.ensemble import RandomForestClassifier\n",
        "from sklearn.svm import LinearSVC, SVC\n",
        "\n",
        "from sklearn.model_selection import GridSearchCV, KFold\n",
        "from sklearn import svm\n",
        "from sklearn import metrics\n",
        "from sklearn.metrics import f1_score\n",
        "\n",
        "from timeit import default_timer as timer\n",
        "\n"
      ],
      "metadata": {
        "id": "YULsCe7vMAaz"
      },
      "execution_count": null,
      "outputs": []
    },
    {
      "cell_type": "markdown",
      "source": [
        "import and clean the data"
      ],
      "metadata": {
        "id": "hCGoPIzhoive"
      }
    },
    {
      "cell_type": "code",
      "source": [
        "#@title LUT\n",
        "# genre lookup table sets\n",
        "\n",
        "main_genre_LUT = {\n",
        "    'action':{'doomsday', 'disaster', 'superhero', 'revenge'},\n",
        "    'adult' : {'softcore porn', 'softcore pornography', 'hardcore pornography', 'erotica', 'erotic', 'sexploitation', 'pornography', 'pornographic','homoeroticism', 'sex', 'pinku eiga', 'porn'},\n",
        "    'adventure':{'jungle', 'epic', 'swashbucklers', 'travel', 'road'},\n",
        "    'animation':{'anime', 'silhouette animation', 'supermarionation','clay', 'cartoon', 'stop motion', 'computer animation', 'animated'},\n",
        "    'b-movie':{},\n",
        "    'black-and-white':{'goat gland', 'silent'},\n",
        "    'comedy':{'stand-up', 'beach party', 'beach', 'comedy of manners', 'comedy of errors', 'satire', 'buddy', 'humour', 'comedies', 'stoner', 'slapstick', 'screwball', 'parody'},\n",
        "    'crime':{'addiction', 'juvenile delinquency', 'criminals', 'law & crime', 'women in prisons', 'biker', 'legal', 'detective', 'cop', 'prison', 'outlaw', 'heist', 'courtroom', 'gangster', 'caper', 'escape'},\n",
        "    'documentary':{'documentaries', 'documetary', 'hagiography', 'nature', 'mockumentary', 'mondo', 'biography', 'biographical', 'biopic [feature]', 'film à clef', 'film & television history'},\n",
        "    'drama':{'slice of life', 'slice of life story', 'interpersonal relationships', 'melodrama', 'tragedy', 'coming-of-age','coming of age', 'medical'},\n",
        "    'educational':{'archaeology', 'essay', 'language & literature', 'media studies', 'news', 'environmental science', 'archives and records', 'libraries and librarians', 'graphic & applied arts', 'computers', 'inventions & innovations', 'finance & investing', 'business', 'anthropology', 'linguistics', 'education'},\n",
        "    'family':{'children\\'s issues', 'childhood', 'family & personal relationships', 'children\\'s', 'teen', 'holiday', 'school story', 'family-oriented'},\n",
        "    'fantasy':{'fantasies', 'sword and sorcery', 'sword and sorcerys', 'fairy tale', 'revisionist fairy tale'},\n",
        "    'fiction':{'dystopia', 'fictional'},\n",
        "    'historical':{'mythological', 'period piece','history','period', 'sword and sandal' },\n",
        "    'holiday':{'christmas'},\n",
        "    'horror':{ 'road-horror', 'psycho-biddy', 'demonic child', 'alien invasion', 'scary', 'slasher', 'monster','zombie', 'alien', 'creature', 'demonic', 'z', 'horrors'},\n",
        "    'indie':{'avant-garde', 'dogme 95', 'expressionism', 'mumblecore', 'absurdism', 'experimental', 'surrealism', 'existentialism', 'gross out', 'gross-out', 'art', 'fan'},\n",
        "    'lgbt':{'gender issues', 'gay', 'gay interest', 'gay themed', 'new queer'},\n",
        "    'musical':{'singing', 'dance', 'punk rock', 'concert', 'opera', 'instrumental music', 'operetta', 'music', 'breakdance', 'hip hops', 'hip hop', 'film-opera', 'singing '},\n",
        "    'mystery':{'whodunit', 'conspiracy'},\n",
        "    'political':{'black', 'social problem', 'americana', 'blaxploitation', 'media', 'albino bias', 'exploitation', 'early black', 'race', 'patriotic', 'feminist', 'social issues', 'neorealism', 'journalism', 'anti-war', 'culture & society', 'propaganda'},\n",
        "    'religious':{'heavenly', 'christian'},\n",
        "    'romance':{'chick flick', 'romantic'},\n",
        "    'sci-fi':{'time travel', 'steampunk', 'sci fis originals', 'sci fi pictures originals', 'science', 'space', 'cyberpunk'},\n",
        "    'short':{'movie serial', 'anthology', 'television'},\n",
        "    'sports':{'racing', 'auto racing', 'horse racing', 'parkour in popular culture', 'bruceploitation', 'health & fitness', 'baseball', 'boxing', 'martial arts'},\n",
        "    'spy':{'glamorized spy'},\n",
        "    'supernatural':{'werewolf','haunted house', 'vampires'},\n",
        "    'suspense':{'kafkaesque'},\n",
        "    'thriller':{'thrillers','plague', 'psychological'},\n",
        "    'war':{'combats', 'cavalry', 'foreign legion', 'warfare', 'private military company', 'the netherlands in world war ii'},\n",
        "    'western':{'spaghetti western', 'cowboy', 'hybrid western', 'revisionist western'},\n",
        "    'world':{'domestic', 'new hollywood', 'tamil', 'tollywood', 'british empire', 'indian', 'british new wave', 'malayalam', 'bengali', 'northern', 'czechoslovak new wave', 'latino', 'tokusatsu', 'bollywood', 'wuxia','japanese','japaneses', 'chinese', 'chineses','filipino', 'filipinos', 'ninja', 'samurai', 'foreign'},\n",
        "     }\n",
        "# main_genre_LUT\n",
        "  # genres = genres.apply(lambda y: list(map(lambda x: x.replace(\"crime drama\", \"drama\"), y)) )"
      ],
      "metadata": {
        "id": "pMah1_--iDmt",
        "cellView": "code"
      },
      "execution_count": null,
      "outputs": []
    },
    {
      "cell_type": "code",
      "source": [
        "# function to search through a series of strings containing movie genres and convert unique genres to their more common counter parts\n",
        "def split_genre(l, sep=' '):\n",
        "\n",
        "  l2 = (item.split(sep) if sep in item else [item] for item in l)\n",
        "  l3 = [x for val in l2 for x in val]\n",
        "  l4 = set(l3)\n",
        "  return l4\n",
        "\n",
        "def filter_sub_genre(l, main_genre, sub_genre):\n",
        "\n",
        "  l2 = ([main_genre] if item in sub_genre else [item] for item in l)\n",
        "  l3 = [x for val in l2 for x in val]\n",
        "  l4 = set(l3)\n",
        "  return l4\n",
        "\n",
        "def remove_genre(l, target):\n",
        "\n",
        "  l2 = ([None] if item == target else [item] for item in l)\n",
        "  l3 = [x for val in l2 for x in val]\n",
        "  l4 = [i for i in l3 if i is not None]\n",
        "  l5 = set(l4)\n",
        "  return l5\n",
        "\n",
        "def clean_genres(series):\n",
        "  # spelling corrections and special genres splits\n",
        "  genres = series.apply(lambda y: list(map(lambda x: x.replace(\"comdedy\", \"comedy\"), y)) )\n",
        "\n",
        "  genres = genres.apply(lambda y: list(map(lambda x: x.replace(\"japaneses\", \"japanese\"), y)) )\n",
        "  genres = genres.apply(lambda y: list(map(lambda x: x.replace(\"docudrama\", \"drama documentary\"), y)) )\n",
        "  genres = genres.apply(lambda y: list(map(lambda x: x.replace(\"film noir\", \"crime drama\"), y)) )\n",
        "  genres = genres.apply(lambda y: list(map(lambda x: x.replace(\"chase\", \"action adventure\"), y)) )\n",
        "  genres = genres.apply(lambda y: list(map(lambda x: x.replace(\"gladiators\", \"action historical\"), y)) )\n",
        "  genres = genres.apply(lambda y: list(map(lambda x: x.replace(\"illnesses & disabilities\", \"educational documentary\"), y)) )\n",
        "  genres = genres.apply(lambda y: list(map(lambda x: x.replace(\"b-western\", \"b-movie western\"), y)) )\n",
        "  genres = genres.apply(lambda y: list(map(lambda x: x.replace(\"giallo\", \"crime mystery\"), y)) )\n",
        "  genres = genres.apply(lambda y: list(map(lambda x: x.replace(\"splatter\", \"horror crime\"), y)) )\n",
        "  genres = genres.apply(lambda y: list(map(lambda x: x.replace(\"apocalyptic and post-apocalyptic\", \"sci-fi\"), y)) )\n",
        "  genres = genres.apply(lambda y: list(map(lambda x: x.replace(\"rockumentary\", \"musical documentary\"), y)) )\n",
        "  genres = genres.apply(lambda y: list(map(lambda x: x.replace(\"tragicomedy\", \"tragedy comedy\"), y)) )\n",
        "  genres = genres.apply(lambda y: list(map(lambda x: x.replace(\"future noir\", \"science crime drama\"), y)) )\n",
        "  genres = genres.apply(lambda y: list(map(lambda x: x.replace(\"neo-noir\", \"crime drama\"), y)) )\n",
        "  genres = genres.apply(lambda y: list(map(lambda x: x.replace(\"comedy-drama\", \"comedy drama\"), y)) )\n",
        "  # prefix and suffix removals\n",
        "  genres = genres.apply(lambda y: list(map(lambda x: x.replace(\" movie\", \"\"), y)) )\n",
        "  genres = genres.apply(lambda y: list(map(lambda x: x.replace(\" film\", \"\"), y)) )\n",
        "  genres = genres.apply(lambda y: list(map(lambda x: x.replace(\" cinema\", \"\"), y)) )\n",
        "  genres = genres.apply(lambda y: list(map(lambda x: x.replace(\" effort\", \"\"), y)) )\n",
        "  genres = genres.apply(lambda y: list(map(lambda x: x.replace(\" picture\", \"\"), y)) )\n",
        "  genres = genres.apply(lambda y: list(map(lambda x: x.replace(\"nuclear \", \"\"), y)) )\n",
        "  genres = genres.apply(lambda y: list(map(lambda x: x.replace(\"gulf \", \"\"), y)) )\n",
        "  genres = genres.apply(lambda y: list(map(lambda x: x.replace(\"therimin \", \"\"), y)) )\n",
        "  genres = genres.apply(lambda y: list(map(lambda x: x.replace(\"movies about \", \"\"), y)) )\n",
        "  genres = genres.apply(lambda y: list(map(lambda x: x.replace(\"acid \", \"\"), y)) )\n",
        "  genres = genres.apply(lambda y: list(map(lambda x: x.replace(\"cold \", \"\"), y)) )\n",
        "  genres = genres.apply(lambda y: list(map(lambda x: x.replace(\" entertainment\", \"\"), y)) )\n",
        "  genres = genres.apply(lambda y: list(map(lambda x: x.replace(\"film & television \", \"\"), y)) )\n",
        "  genres = genres.apply(lambda y: list(map(lambda x: x.replace(\"ealing \", \"\"), y)) )\n",
        "  genres = genres.apply(lambda y: list(map(lambda x: x.replace(\"heaven-can-wait \", \"\"), y)) )\n",
        "  genres = genres.apply(lambda y: list(map(lambda x: x.replace(\"natural \", \"\"), y)) )\n",
        "  genres = genres.apply(lambda y: list(map(lambda x: x.replace(\"backstage \", \"\"), y)) )\n",
        "  genres = genres.apply(lambda y: list(map(lambda x: x.replace(\"master \", \"\"), y)) )\n",
        "  genres = genres.apply(lambda y: list(map(lambda x: x.replace(\"inspirational \", \"\"), y)) )\n",
        "  genres = genres.apply(lambda y: list(map(lambda x: x.replace(\"costume \", \"\"), y)) )\n",
        "  genres = genres.apply(lambda y: list(map(lambda x: x.replace(\" story\", \"\"), y)) )\n",
        "  genres = genres.apply(lambda y: list(map(lambda x: x.replace(\"workplace \", \"\"), y)) )\n",
        "  genres = genres.apply(lambda y: list(map(lambda x: x.replace(\"marriage \", \"\"), y)) )\n",
        "  genres = genres.apply(lambda y: list(map(lambda x: x.replace(\"jukebox \", \"\"), y)) )\n",
        "\n",
        "\n",
        "  # unique removals\n",
        "  genres = genres.apply(remove_genre, args=(\"star vehicle\",))\n",
        "  genres = genres.apply(remove_genre, args=(\"c-movie\",))\n",
        "  genres = genres.apply(remove_genre, args=(\"statutory rape\",))\n",
        "  genres = genres.apply(remove_genre, args=(\"live action\",))\n",
        "  genres = genres.apply(remove_genre, args=(\"film adaptation\",))\n",
        "  genres = genres.apply(remove_genre, args=(\"point of view shot\",))\n",
        "  genres = genres.apply(remove_genre, args=(\"camp\",))\n",
        "  genres = genres.apply(remove_genre, args=(\"bloopers & candid camera\",))\n",
        "  genres = genres.apply(remove_genre, args=(\"sponsored\",))\n",
        "  genres = genres.apply(remove_genre, args=(\"roadshow/carny\",))\n",
        "  genres = genres.apply(remove_genre, args=(\"reboot\",))\n",
        "  genres = genres.apply(remove_genre, args=(\"feature\",))\n",
        "  genres = genres.apply(remove_genre, args=(\"kitchen sink realism\",))\n",
        "  genres = genres.apply(remove_genre, args=(\"roadshow theatrical release\",))\n",
        "  genres = genres.apply(remove_genre, args=(\"airplanes and airports\",))\n",
        "  genres = genres.apply(remove_genre, args=(\"gothic\",))\n",
        "  genres = genres.apply(remove_genre, args=(\"remake\",))\n",
        "  genres = genres.apply(remove_genre, args=(\"pre-code\",))\n",
        "  genres = genres.apply(remove_genre, args=(\"animal\",))\n",
        "  genres = genres.apply(remove_genre, args=(\"ensemble\",))\n",
        "  genres = genres.apply(remove_genre, args=(\"filmed play\",))\n",
        "\n",
        "  for key in main_genre_LUT:\n",
        "    genres = genres.apply(filter_sub_genre, args=(key, main_genre_LUT[key]))\n",
        "\n",
        "  genres = genres.apply(split_genre, sep=' ')\n",
        "  genres = genres.apply(split_genre, sep='/')\n",
        "  for key in main_genre_LUT:\n",
        "    genres = genres.apply(filter_sub_genre, args=(key, main_genre_LUT[key] ))\n",
        "\n",
        "  # further cleanup of straggler genres that shouldnt exist\n",
        "  genres = genres.apply(remove_genre, args=(\"film\",))\n",
        "  genres = genres.apply(remove_genre, args=(\"animals\",))\n",
        "  genres = genres.apply(remove_genre, args=(\"extreme\",))\n",
        "  genres = genres.apply(remove_genre, args=(\"female\",))\n",
        "  genres = genres.apply(remove_genre, args=(\"school\",))\n",
        "  genres = genres.apply(remove_genre, args=(\"world\",))\n",
        "  genres = genres.apply(remove_genre, args=(\"b-movie\",))\n",
        "  genres = genres.apply(remove_genre, args=(\"animation\",))\n",
        "  genres = genres.apply(remove_genre, args=(\"black-and-white\",))\n",
        "\n",
        "\n",
        "  return genres\n"
      ],
      "metadata": {
        "id": "6eYlmMLmG-Tt"
      },
      "execution_count": null,
      "outputs": []
    },
    {
      "cell_type": "code",
      "source": [
        "# grab datasets off gdrive\n",
        "metadata_df = pd.read_table('/content/gdrive/MyDrive/data/imdb_movies_dataset/movie.metadata.tsv', header=None)\n",
        "\n",
        "# rename the columns of our bigger datasets metadata to make it more legible\n",
        "metadata_df.columns = ['movie_id','freebase_movie_id','movie_name','year','revenue','runtime(mins)','language','countries','genre']\n",
        "\n",
        "id = []\n",
        "synopsis = []\n",
        "\n",
        "# read the summaries text and split it into 2 lists for movie id and synopsis\n",
        "with open(\"/content/gdrive/MyDrive/data/imdb_movies_dataset/plot_summaries.txt\", 'r') as f:\n",
        "  lines = f.readlines()\n",
        "\n",
        "for line in lines:\n",
        "  id.append(line.split('\\t')[0])\n",
        "  synopsis.append(line.split('\\t')[1])\n",
        "\n",
        "# add the id and synopsis to our large dataset\n",
        "dataset_42306 = pd.DataFrame({'movie_id': id, 'synopsis': synopsis})\n",
        "# convert the id from int to string\n",
        "metadata_df['movie_id'] = metadata_df['movie_id'].astype(str)\n",
        "# merge the 2 dataframes based on movie_id\n",
        "dataset_42306 = pd.merge(dataset_42306, metadata_df[['movie_id', 'movie_name', 'genre']], on = 'movie_id')\n",
        "dataset_42306['genre'] = dataset_42306['genre'].str.lower()\n",
        "# convert the values of our genre column from str to dict to list of values\n",
        "dataset_42306['genre'] = dataset_42306['genre'].apply(lambda x: list(json.loads(x).values()))\n",
        "# look at previous cells for custom made genre-cleaning algorithm\n",
        "dataset_42306['genre'] = clean_genres(dataset_42306['genre'])\n",
        "# remove entries that have no genre\n",
        "dataset_41796 = dataset_42306[~(dataset_42306['genre'].str.len() == 0)]\n",
        "\n",
        "# potentially reduce number of features here based on usage 363 genres is a bit steep\n",
        "# all_genres = sum(dataset_41796['genre'],[])\n",
        "# set(all_genres)\n",
        "# dataset_41796['genre'].value_counts()\n"
      ],
      "metadata": {
        "id": "HvLO23cTME95"
      },
      "execution_count": null,
      "outputs": []
    },
    {
      "cell_type": "code",
      "source": [
        "# https://towardsdatascience.com/dealing-with-list-values-in-pandas-dataframes-a177e534f173\n",
        "# credit to Max Hilsdorf for this function\n",
        "def to_1D(series):\n",
        " return pd.Series([x for _list in series for x in _list])\n",
        "\n",
        "genres = to_1D(dataset_41796['genre'])\n",
        "\n",
        "genre_count = genres.value_counts()\n",
        "\n",
        "fig, ax = plt.subplots(figsize = (15,10))\n",
        "plt.margins(y=0)\n",
        "ax.barh(genre_count[:].index, genre_count[:].values)\n",
        "ax.set_ylabel(\"Genre\")\n",
        "ax.set_title(\"Occurences\")"
      ],
      "metadata": {
        "colab": {
          "base_uri": "https://localhost:8080/",
          "height": 624
        },
        "id": "8u6b1YaBY8Ze",
        "outputId": "92e1be20-80d4-427f-af8f-65ef29d58b43"
      },
      "execution_count": null,
      "outputs": [
        {
          "output_type": "execute_result",
          "data": {
            "text/plain": [
              "Text(0.5, 1.0, 'Occurences')"
            ]
          },
          "metadata": {},
          "execution_count": 6
        },
        {
          "output_type": "display_data",
          "data": {
            "text/plain": [
              "<Figure size 1080x720 with 1 Axes>"
            ],
            "image/png": "[encoded data removed]"
          },
          "metadata": {
            "needs_background": "light"
          }
        }
      ]
    },
    {
      "cell_type": "code",
      "source": [
        "# print(genre_count)\n",
        "# for item in genre_count.index:\n",
        "#   if 'comdedy' in item:\n",
        "#     print(item)\n",
        "# genre_count[220:271]\n",
        "print(genre_count.to_string(max_rows=None))\n",
        "# genre_count"
      ],
      "metadata": {
        "colab": {
          "base_uri": "https://localhost:8080/"
        },
        "id": "rVoSvC4AcGl9",
        "outputId": "0decb833-b3ea-437a-d9f4-fd4522dd71ab"
      },
      "execution_count": null,
      "outputs": [
        {
          "output_type": "stream",
          "name": "stdout",
          "text": [
            "drama           20136\n",
            "comedy          13061\n",
            "romance          7254\n",
            "fiction          7002\n",
            "action           6986\n",
            "thriller         6908\n",
            "adventure        6484\n",
            "crime            5775\n",
            "family           4875\n",
            "indie            4276\n",
            "horror           4270\n",
            "short            3868\n",
            "musical          2830\n",
            "documentary      2458\n",
            "sci-fi           2402\n",
            "political        2276\n",
            "fantasy          2194\n",
            "mystery          2139\n",
            "historical       1960\n",
            "war              1582\n",
            "sports           1384\n",
            "western          1050\n",
            "lgbt              874\n",
            "adult             869\n",
            "cult              681\n",
            "suspense          657\n",
            "supernatural      622\n",
            "spy               352\n",
            "religious         194\n",
            "educational       106\n"
          ]
        }
      ]
    },
    {
      "cell_type": "code",
      "source": [
        "# method used for checking index for specific genres\n",
        "# index = 0\n",
        "# rows = []\n",
        "# for i in dataset_41796['genre']:\n",
        "#   if 'airplanes and airports' in i:\n",
        "#     rows.append(index)\n",
        "#   index += 1\n",
        "# dataset_41796.iloc[rows]"
      ],
      "metadata": {
        "id": "UknsYToKLVxU"
      },
      "execution_count": null,
      "outputs": []
    },
    {
      "cell_type": "code",
      "source": [
        "def clean_text(text):\n",
        "    # remove backslash-apostrophe\n",
        "    # text = text.replace(\"\\'\", \"\")\n",
        "    # remove everything except alphanumerics\n",
        "    text = re.sub(r'\\W+', ' ', text)\n",
        "    # convert text to lowercase\n",
        "    text = text.lower()\n",
        "    return text\n",
        "\n",
        "movies = dataset_41796.copy()\n",
        "movies['synopsis'] = dataset_41796['synopsis'].apply(lambda x: clean_text(x))\n",
        "movies.head()"
      ],
      "metadata": {
        "colab": {
          "base_uri": "https://localhost:8080/",
          "height": 206
        },
        "id": "sT4NO3Setek4",
        "outputId": "c50e2cb1-db28-431a-ab0b-7e46b054c048"
      },
      "execution_count": null,
      "outputs": [
        {
          "output_type": "execute_result",
          "data": {
            "text/plain": [
              "   movie_id                                           synopsis  \\\n",
              "0  23890098  shlykov a hard working taxi driver and lyosha ...   \n",
              "1  31186339  the nation of panem consists of a wealthy capi...   \n",
              "2  20663735  poovalli induchoodan is sentenced for six year...   \n",
              "3   2231378  the lemon drop kid a new york city swindler is...   \n",
              "4    595909  seventh day adventist church pastor michael ch...   \n",
              "\n",
              "           movie_name                                        genre  \n",
              "0          Taxi Blues                                      {drama}  \n",
              "1    The Hunger Games  {adventure, drama, sci-fi, action, fiction}  \n",
              "2          Narasimham                     {musical, action, drama}  \n",
              "3  The Lemon Drop Kid                                     {comedy}  \n",
              "4   A Cry in the Dark         {crime, fiction, documentary, drama}  "
            ],
            "text/html": [
              "\n",
              "  <div id=\"df-dde3930d-9af6-47de-bf8d-66e7f3ee2c3a\">\n",
              "    <div class=\"colab-df-container\">\n",
              "      <div>\n",
              "<style scoped>\n",
              "    .dataframe tbody tr th:only-of-type {\n",
              "        vertical-align: middle;\n",
              "    }\n",
              "\n",
              "    .dataframe tbody tr th {\n",
              "        vertical-align: top;\n",
              "    }\n",
              "\n",
              "    .dataframe thead th {\n",
              "        text-align: right;\n",
              "    }\n",
              "</style>\n",
              "<table border=\"1\" class=\"dataframe\">\n",
              "  <thead>\n",
              "    <tr style=\"text-align: right;\">\n",
              "      <th></th>\n",
              "      <th>movie_id</th>\n",
              "      <th>synopsis</th>\n",
              "      <th>movie_name</th>\n",
              "      <th>genre</th>\n",
              "    </tr>\n",
              "  </thead>\n",
              "  <tbody>\n",
              "    <tr>\n",
              "      <th>0</th>\n",
              "      <td>23890098</td>\n",
              "      <td>shlykov a hard working taxi driver and lyosha ...</td>\n",
              "      <td>Taxi Blues</td>\n",
              "      <td>{drama}</td>\n",
              "    </tr>\n",
              "    <tr>\n",
              "      <th>1</th>\n",
              "      <td>31186339</td>\n",
              "      <td>the nation of panem consists of a wealthy capi...</td>\n",
              "      <td>The Hunger Games</td>\n",
              "      <td>{adventure, drama, sci-fi, action, fiction}</td>\n",
              "    </tr>\n",
              "    <tr>\n",
              "      <th>2</th>\n",
              "      <td>20663735</td>\n",
              "      <td>poovalli induchoodan is sentenced for six year...</td>\n",
              "      <td>Narasimham</td>\n",
              "      <td>{musical, action, drama}</td>\n",
              "    </tr>\n",
              "    <tr>\n",
              "      <th>3</th>\n",
              "      <td>2231378</td>\n",
              "      <td>the lemon drop kid a new york city swindler is...</td>\n",
              "      <td>The Lemon Drop Kid</td>\n",
              "      <td>{comedy}</td>\n",
              "    </tr>\n",
              "    <tr>\n",
              "      <th>4</th>\n",
              "      <td>595909</td>\n",
              "      <td>seventh day adventist church pastor michael ch...</td>\n",
              "      <td>A Cry in the Dark</td>\n",
              "      <td>{crime, fiction, documentary, drama}</td>\n",
              "    </tr>\n",
              "  </tbody>\n",
              "</table>\n",
              "</div>\n",
              "      <button class=\"colab-df-convert\" onclick=\"convertToInteractive('df-dde3930d-9af6-47de-bf8d-66e7f3ee2c3a')\"\n",
              "              title=\"Convert this dataframe to an interactive table.\"\n",
              "              style=\"display:none;\">\n",
              "        \n",
              "  <svg xmlns=\"http://www.w3.org/2000/svg\" height=\"24px\"viewBox=\"0 0 24 24\"\n",
              "       width=\"24px\">\n",
              "    <path d=\"M0 0h24v24H0V0z\" fill=\"none\"/>\n",
              "    <path d=\"M18.56 5.44l.94 2.06.94-2.06 2.06-.94-2.06-.94-.94-2.06-.94 2.06-2.06.94zm-11 1L8.5 8.5l.94-2.06 2.06-.94-2.06-.94L8.5 2.5l-.94 2.06-2.06.94zm10 10l.94 2.06.94-2.06 2.06-.94-2.06-.94-.94-2.06-.94 2.06-2.06.94z\"/><path d=\"M17.41 7.96l-1.37-1.37c-.4-.4-.92-.59-1.43-.59-.52 0-1.04.2-1.43.59L10.3 9.45l-7.72 7.72c-.78.78-.78 2.05 0 2.83L4 21.41c.39.39.9.59 1.41.59.51 0 1.02-.2 1.41-.59l7.78-7.78 2.81-2.81c.8-.78.8-2.07 0-2.86zM5.41 20L4 18.59l7.72-7.72 1.47 1.35L5.41 20z\"/>\n",
              "  </svg>\n",
              "      </button>\n",
              "      \n",
              "  <style>\n",
              "    .colab-df-container {\n",
              "      display:flex;\n",
              "      flex-wrap:wrap;\n",
              "      gap: 12px;\n",
              "    }\n",
              "\n",
              "    .colab-df-convert {\n",
              "      background-color: #E8F0FE;\n",
              "      border: none;\n",
              "      border-radius: 50%;\n",
              "      cursor: pointer;\n",
              "      display: none;\n",
              "      fill: #1967D2;\n",
              "      height: 32px;\n",
              "      padding: 0 0 0 0;\n",
              "      width: 32px;\n",
              "    }\n",
              "\n",
              "    .colab-df-convert:hover {\n",
              "      background-color: #E2EBFA;\n",
              "      box-shadow: 0px 1px 2px rgba(60, 64, 67, 0.3), 0px 1px 3px 1px rgba(60, 64, 67, 0.15);\n",
              "      fill: #174EA6;\n",
              "    }\n",
              "\n",
              "    [theme=dark] .colab-df-convert {\n",
              "      background-color: #3B4455;\n",
              "      fill: #D2E3FC;\n",
              "    }\n",
              "\n",
              "    [theme=dark] .colab-df-convert:hover {\n",
              "      background-color: #434B5C;\n",
              "      box-shadow: 0px 1px 3px 1px rgba(0, 0, 0, 0.15);\n",
              "      filter: drop-shadow(0px 1px 2px rgba(0, 0, 0, 0.3));\n",
              "      fill: #FFFFFF;\n",
              "    }\n",
              "  </style>\n",
              "\n",
              "      <script>\n",
              "        const buttonEl =\n",
              "          document.querySelector('#df-dde3930d-9af6-47de-bf8d-66e7f3ee2c3a button.colab-df-convert');\n",
              "        buttonEl.style.display =\n",
              "          google.colab.kernel.accessAllowed ? 'block' : 'none';\n",
              "\n",
              "        async function convertToInteractive(key) {\n",
              "          const element = document.querySelector('#df-dde3930d-9af6-47de-bf8d-66e7f3ee2c3a');\n",
              "          const dataTable =\n",
              "            await google.colab.kernel.invokeFunction('convertToInteractive',\n",
              "                                                     [key], {});\n",
              "          if (!dataTable) return;\n",
              "\n",
              "          const docLinkHtml = 'Like what you see? Visit the ' +\n",
              "            '<a target=\"_blank\" href=https://colab.research.google.com/notebooks/data_table.ipynb>data table notebook</a>'\n",
              "            + ' to learn more about interactive tables.';\n",
              "          element.innerHTML = '';\n",
              "          dataTable['output_type'] = 'display_data';\n",
              "          await google.colab.output.renderOutput(dataTable, element);\n",
              "          const docLink = document.createElement('div');\n",
              "          docLink.innerHTML = docLinkHtml;\n",
              "          element.appendChild(docLink);\n",
              "        }\n",
              "      </script>\n",
              "    </div>\n",
              "  </div>\n",
              "  "
            ]
          },
          "metadata": {},
          "execution_count": 9
        }
      ]
    },
    {
      "cell_type": "code",
      "source": [
        "def wordcount_visualizer(series, n = 30):\n",
        "  all_words = ' '.join([text for text in series])\n",
        "  all_words = pd.Series(all_words.split())\n",
        "  word_count = all_words.value_counts()\n",
        "\n",
        "  # visualize how many times our words occur\n",
        "  fig, ax = plt.subplots(figsize = (15,n/4))\n",
        "  plt.margins(y=0)\n",
        "  ax.barh(word_count[0:n].index, word_count[0:n].values)\n",
        "  ax.set_ylabel(\"Word\")\n",
        "  ax.set_title(\"Occurences\")\n",
        "\n",
        "# print 100 most frequent words\n",
        "wordcount_visualizer(movies['synopsis'], 25)"
      ],
      "metadata": {
        "colab": {
          "base_uri": "https://localhost:8080/",
          "height": 404
        },
        "id": "WqIL8pZWziPH",
        "outputId": "903d0817-c130-4625-e986-49e4c3f687cd"
      },
      "execution_count": null,
      "outputs": [
        {
          "output_type": "display_data",
          "data": {
            "text/plain": [
              "<Figure size 1080x450 with 1 Axes>"
            ],
            "image/png": "[encoded data removed]"
          },
          "metadata": {
            "needs_background": "light"
          }
        }
      ]
    },
    {
      "cell_type": "code",
      "source": [
        "# need to remove stopwords from our analysis because they contribute nothing to the genre classification and dominate our word count (features)\n",
        "\n",
        "nltk.download('stopwords')\n",
        "from nltk.corpus import stopwords\n",
        "\n",
        "stop_words = set(stopwords.words('english'))\n",
        "\n",
        "# function to remove stopwords\n",
        "def remove_stopwords(text):\n",
        "    no_stopword_text = [w for w in text.split() if not w in stop_words]\n",
        "    return ' '.join(no_stopword_text)\n",
        "\n",
        "movies['synopsis'] = movies['synopsis'].apply(lambda x: remove_stopwords(x))\n",
        "\n",
        "wordcount_visualizer(movies['synopsis'], 25)"
      ],
      "metadata": {
        "colab": {
          "base_uri": "https://localhost:8080/",
          "height": 439
        },
        "id": "hR8sKdSx1WiN",
        "outputId": "b67a63b3-079b-4a5b-9fc8-6938bebb3bb8"
      },
      "execution_count": null,
      "outputs": [
        {
          "output_type": "stream",
          "name": "stderr",
          "text": [
            "[nltk_data] Downloading package stopwords to /root/nltk_data...\n",
            "[nltk_data]   Package stopwords is already up-to-date!\n"
          ]
        },
        {
          "output_type": "display_data",
          "data": {
            "text/plain": [
              "<Figure size 1080x450 with 1 Axes>"
            ],
            "image/png": "[encoded data removed]"
          },
          "metadata": {
            "needs_background": "light"
          }
        }
      ]
    },
    {
      "cell_type": "markdown",
      "source": [
        "feature engineering / data splitting"
      ],
      "metadata": {
        "id": "pZPdYMOIlOod"
      }
    },
    {
      "cell_type": "code",
      "source": [
        "# multilabel binarizer transforms our labels into a binary 1 hot encoding representing if a label is present or not.\n",
        "multilabel_binarizer = MultiLabelBinarizer()\n",
        "multilabel_binarizer.fit(movies['genre'])\n",
        "\n",
        "# transform target variable\n",
        "y = multilabel_binarizer.transform(movies['genre'])\n",
        "# print(y)\n",
        "\n",
        "# tfidf vectorizer is a special type of vectorizer used for NLP applications,\n",
        "# it measures the term frequency against the frequency the term appears in all of the dataser to give weight to which words\n",
        "# have meaning in a particular document and less weight to words that appear frequently in the whole dataset such as: the, and, is etc.\n",
        "tfidf_vectorizer = TfidfVectorizer( max_features=10000)\n",
        "count_vec = CountVectorizer(max_features=10000)\n",
        "# split dataset into training and validation set\n",
        "X_train, X_test, y_train, y_test = train_test_split(movies['synopsis'], y, test_size=0.2, random_state=42)\n",
        "\n",
        "# create TF-IDF features\n",
        "X_train_tfidf = tfidf_vectorizer.fit_transform(X_train)\n",
        "X_test_tfidf = tfidf_vectorizer.transform(X_test)\n",
        "\n",
        "X_train_C = count_vec.fit_transform(X_train)\n",
        "X_test_C = count_vec.transform(X_test)\n",
        "\n",
        "\n",
        "# 0 mean unit std features for rf\n",
        "scaler = StandardScaler(with_mean=False)\n",
        "X_train_scaled = scaler.fit_transform(X_train_tfidf)\n",
        "X_test_scaled = scaler.transform(X_test_tfidf)"
      ],
      "metadata": {
        "id": "eEZ1QglHiU_0"
      },
      "execution_count": null,
      "outputs": []
    },
    {
      "cell_type": "markdown",
      "source": [
        "build the models and gridsearchCV"
      ],
      "metadata": {
        "id": "0NbzTss8lMT9"
      }
    },
    {
      "cell_type": "markdown",
      "source": [
        "Logistic Regression"
      ],
      "metadata": {
        "id": "4sBCvDCBiKmT"
      }
    },
    {
      "cell_type": "code",
      "source": [
        "n_folds = 5\n",
        "\n",
        "# configure the cross-validation procedure\n",
        "cv = KFold(n_splits=n_folds, shuffle=True, random_state=42)\n",
        "\n",
        "# svc_param_grid = {'estimator__C': 10.0**np.arange(-2, 3)}\n",
        "lr_param_grid = {'estimator__C': 10.0**np.arange(-2, 3)}\n",
        "# rf_param_grid = {'n_estimators': [10, 100, 500, 1000]}\n",
        "\n",
        "\n",
        "# clf_svc = OneVsRestClassifier(LinearSVC(random_state = 42))\n",
        "clf_lr = OneVsRestClassifier(LogisticRegression(solver='sag', random_state = 42))\n",
        "\n",
        "\n",
        "clf_rf = RandomForestClassifier(random_state = 42, criterion='entropy')\n",
        "clf_mnb=OneVsRestClassifier(MultinomialNB(fit_prior=True, class_prior=None))\n",
        "search_lr = GridSearchCV(clf_lr, lr_param_grid, scoring='f1_micro', n_jobs=-1, cv=cv)\n",
        "\n",
        "\n",
        "# search_svc = GridSearchCV(clf_svc, svc_param_grid, scoring='f1_micro', n_jobs=-1, cv=cv)\n",
        "# search_rf = GridSearchCV(clf_rf, rf_param_grid, scoring='f1_micro', n_jobs=-1, cv=cv)\n",
        "\n",
        "\n"
      ],
      "metadata": {
        "id": "5-n7dQzCicSJ"
      },
      "execution_count": null,
      "outputs": []
    },
    {
      "cell_type": "code",
      "source": [
        "\n",
        "# start = timer()\n",
        "\n",
        "# result_svc = search_svc.fit(X_train_scaled, y_train)\n",
        "\n",
        "# end = timer()\n",
        "# print(end - start) # Time in seconds"
      ],
      "metadata": {
        "id": "uNeWspNhSgiS"
      },
      "execution_count": null,
      "outputs": []
    },
    {
      "cell_type": "code",
      "source": [
        "\n",
        "start = timer()\n",
        "\n",
        "result_lr = search_lr.fit(X_train_tfidf, y_train)\n",
        "\n",
        "end = timer()\n",
        "print(end - start) # Time in seconds"
      ],
      "metadata": {
        "colab": {
          "base_uri": "https://localhost:8080/"
        },
        "id": "knGgmKmlSh9H",
        "outputId": "d4b2faf4-11b8-4c78-d14f-e62c3aa17ad9"
      },
      "execution_count": null,
      "outputs": [
        {
          "output_type": "stream",
          "name": "stdout",
          "text": [
            "807.6044397900041\n"
          ]
        }
      ]
    },
    {
      "cell_type": "code",
      "source": [
        "# result_rf = search_rf.fit(X_train_scaled, y_train)\n",
        "\n",
        "\n",
        "start = timer()\n",
        "# ...\n",
        "clf_rf = RandomForestClassifier(n_estimators=100, random_state = 42, criterion='entropy')\n",
        "clf_rf.fit(X_train_scaled, y_train)\n",
        "\n",
        "end = timer()\n",
        "print(end - start) # Time in seconds"
      ],
      "metadata": {
        "colab": {
          "base_uri": "https://localhost:8080/"
        },
        "id": "jkRxN9dDSkvy",
        "outputId": "b029b225-7ac7-467f-a000-e1490e8d49f5"
      },
      "execution_count": null,
      "outputs": [
        {
          "output_type": "stream",
          "name": "stdout",
          "text": [
            "383.37987589099794\n"
          ]
        }
      ]
    },
    {
      "cell_type": "code",
      "source": [
        "start = timer()\n",
        "\n",
        "clf_mnb.fit(X_train_C, y_train)\n",
        "\n",
        "end = timer()\n",
        "print(end - start) # Time in seconds"
      ],
      "metadata": {
        "colab": {
          "base_uri": "https://localhost:8080/"
        },
        "id": "GWykLKkhSpeD",
        "outputId": "7c81bfab-228e-49dd-91e5-4920a53dd169"
      },
      "execution_count": null,
      "outputs": [
        {
          "output_type": "stream",
          "name": "stdout",
          "text": [
            "0.5392183200019645\n"
          ]
        }
      ]
    },
    {
      "cell_type": "code",
      "source": [
        "\n",
        "# best_model_svc = result_svc.best_estimator_\n",
        "best_model_lr = result_lr.best_estimator_\n",
        "# best_model_rf = result_rf.best_estimator_\n",
        "\n",
        "\n",
        "print('\\nOptimal model: ')\n",
        "print(f'lr: {best_model_lr}')\n",
        "\n",
        "lr_y_pred = best_model_lr.predict(X_test_tfidf)\n",
        "rf_y_pred = clf_rf.predict(X_test_scaled)\n",
        "mnb_y_pred = clf_mnb.predict(X_test_tfidf)\n",
        "\n",
        "\n",
        "print('F1 scores based on micro average: ')\n",
        "print('logistic regression: ',f1_score(y_test, lr_y_pred, average='micro'))\n",
        "print('random forest:', f1_score(y_test, rf_y_pred, average='micro'))\n",
        "print('multnomial Naive Bayes: ',f1_score(y_test, mnb_y_pred, average='micro') )\n",
        "\n"
      ],
      "metadata": {
        "colab": {
          "base_uri": "https://localhost:8080/"
        },
        "id": "mQO2TXYCSefu",
        "outputId": "8edf0e1e-4400-4de4-ac46-8204fc2e0a36"
      },
      "execution_count": null,
      "outputs": [
        {
          "output_type": "stream",
          "name": "stdout",
          "text": [
            "\n",
            "Optimal model: \n",
            "lr: OneVsRestClassifier(estimator=LogisticRegression(C=10.0, random_state=42,\n",
            "                                                 solver='sag'))\n",
            "F1 scores based on micro average: \n",
            "logistic regression:  0.5183191570394821\n",
            "random forest: 0.23787167449139282\n",
            "multnomial Naive Bayes:  0.4433059109406564\n"
          ]
        }
      ]
    },
    {
      "cell_type": "code",
      "source": [
        "true_labels = pd.Series(multilabel_binarizer.inverse_transform(y_test))\n",
        "lr_labels = pd.Series(multilabel_binarizer.inverse_transform(lr_y_pred))\n",
        "rf_labels = pd.Series(multilabel_binarizer.inverse_transform(rf_y_pred))\n",
        "mnb_labels = pd.Series(multilabel_binarizer.inverse_transform(mnb_y_pred))\n",
        "\n",
        "frame = { 'Actual': true_labels, 'Logistic Regression': lr_labels, 'Random forest': rf_labels, 'Multinomial Naive Bayes' : mnb_labels }\n",
        "#Creating DataFrame by passing Dictionary\n",
        "df = pd.DataFrame(frame)\n",
        "#Printing elements of Dataframe\n",
        "df[8125:8150]"
      ],
      "metadata": {
        "colab": {
          "base_uri": "https://localhost:8080/",
          "height": 394
        },
        "id": "_UGyy4cpi3Y1",
        "outputId": "22f41333-c1d7-4123-aba3-a45bfb82b6c5"
      },
      "execution_count": null,
      "outputs": [
        {
          "output_type": "execute_result",
          "data": {
            "text/plain": [
              "                                    Actual         Logistic Regression  \\\n",
              "8125                             (action,)                          ()   \n",
              "8126   (crime, drama, fiction, historical)  (drama, fiction, thriller)   \n",
              "8127             (drama, musical, romance)                    (drama,)   \n",
              "8128                (comedy, drama, indie)                    (drama,)   \n",
              "8129                              (drama,)                    (drama,)   \n",
              "8130                              (drama,)             (action, drama)   \n",
              "8131                              (drama,)                    (drama,)   \n",
              "8132  (action, adventure, fiction, sci-fi)  (action, adventure, drama)   \n",
              "8133                              (short,)          (musical, romance)   \n",
              "8134       (cult, fiction, horror, sci-fi)   (fiction, horror, sci-fi)   \n",
              "8135                       (comedy, drama)                   (comedy,)   \n",
              "\n",
              "     Random forest               Multinomial Naive Bayes  \n",
              "8125            ()                              (drama,)  \n",
              "8126      (drama,)                      (drama, fiction)  \n",
              "8127      (drama,)                      (drama, romance)  \n",
              "8128      (drama,)                              (drama,)  \n",
              "8129      (drama,)                              (drama,)  \n",
              "8130      (drama,)                              (drama,)  \n",
              "8131            ()                                    ()  \n",
              "8132      (drama,)  (action, adventure, fiction, sci-fi)  \n",
              "8133      (drama,)                                    ()  \n",
              "8134            ()                     (fiction, sci-fi)  \n",
              "8135            ()                       (comedy, drama)  "
            ],
            "text/html": [
              "\n",
              "  <div id=\"df-1dd63d3f-fb0b-4a79-8c1f-66812445d951\">\n",
              "    <div class=\"colab-df-container\">\n",
              "      <div>\n",
              "<style scoped>\n",
              "    .dataframe tbody tr th:only-of-type {\n",
              "        vertical-align: middle;\n",
              "    }\n",
              "\n",
              "    .dataframe tbody tr th {\n",
              "        vertical-align: top;\n",
              "    }\n",
              "\n",
              "    .dataframe thead th {\n",
              "        text-align: right;\n",
              "    }\n",
              "</style>\n",
              "<table border=\"1\" class=\"dataframe\">\n",
              "  <thead>\n",
              "    <tr style=\"text-align: right;\">\n",
              "      <th></th>\n",
              "      <th>Actual</th>\n",
              "      <th>Logistic Regression</th>\n",
              "      <th>Random forest</th>\n",
              "      <th>Multinomial Naive Bayes</th>\n",
              "    </tr>\n",
              "  </thead>\n",
              "  <tbody>\n",
              "    <tr>\n",
              "      <th>8125</th>\n",
              "      <td>(action,)</td>\n",
              "      <td>()</td>\n",
              "      <td>()</td>\n",
              "      <td>(drama,)</td>\n",
              "    </tr>\n",
              "    <tr>\n",
              "      <th>8126</th>\n",
              "      <td>(crime, drama, fiction, historical)</td>\n",
              "      <td>(drama, fiction, thriller)</td>\n",
              "      <td>(drama,)</td>\n",
              "      <td>(drama, fiction)</td>\n",
              "    </tr>\n",
              "    <tr>\n",
              "      <th>8127</th>\n",
              "      <td>(drama, musical, romance)</td>\n",
              "      <td>(drama,)</td>\n",
              "      <td>(drama,)</td>\n",
              "      <td>(drama, romance)</td>\n",
              "    </tr>\n",
              "    <tr>\n",
              "      <th>8128</th>\n",
              "      <td>(comedy, drama, indie)</td>\n",
              "      <td>(drama,)</td>\n",
              "      <td>(drama,)</td>\n",
              "      <td>(drama,)</td>\n",
              "    </tr>\n",
              "    <tr>\n",
              "      <th>8129</th>\n",
              "      <td>(drama,)</td>\n",
              "      <td>(drama,)</td>\n",
              "      <td>(drama,)</td>\n",
              "      <td>(drama,)</td>\n",
              "    </tr>\n",
              "    <tr>\n",
              "      <th>8130</th>\n",
              "      <td>(drama,)</td>\n",
              "      <td>(action, drama)</td>\n",
              "      <td>(drama,)</td>\n",
              "      <td>(drama,)</td>\n",
              "    </tr>\n",
              "    <tr>\n",
              "      <th>8131</th>\n",
              "      <td>(drama,)</td>\n",
              "      <td>(drama,)</td>\n",
              "      <td>()</td>\n",
              "      <td>()</td>\n",
              "    </tr>\n",
              "    <tr>\n",
              "      <th>8132</th>\n",
              "      <td>(action, adventure, fiction, sci-fi)</td>\n",
              "      <td>(action, adventure, drama)</td>\n",
              "      <td>(drama,)</td>\n",
              "      <td>(action, adventure, fiction, sci-fi)</td>\n",
              "    </tr>\n",
              "    <tr>\n",
              "      <th>8133</th>\n",
              "      <td>(short,)</td>\n",
              "      <td>(musical, romance)</td>\n",
              "      <td>(drama,)</td>\n",
              "      <td>()</td>\n",
              "    </tr>\n",
              "    <tr>\n",
              "      <th>8134</th>\n",
              "      <td>(cult, fiction, horror, sci-fi)</td>\n",
              "      <td>(fiction, horror, sci-fi)</td>\n",
              "      <td>()</td>\n",
              "      <td>(fiction, sci-fi)</td>\n",
              "    </tr>\n",
              "    <tr>\n",
              "      <th>8135</th>\n",
              "      <td>(comedy, drama)</td>\n",
              "      <td>(comedy,)</td>\n",
              "      <td>()</td>\n",
              "      <td>(comedy, drama)</td>\n",
              "    </tr>\n",
              "  </tbody>\n",
              "</table>\n",
              "</div>\n",
              "      <button class=\"colab-df-convert\" onclick=\"convertToInteractive('df-1dd63d3f-fb0b-4a79-8c1f-66812445d951')\"\n",
              "              title=\"Convert this dataframe to an interactive table.\"\n",
              "              style=\"display:none;\">\n",
              "        \n",
              "  <svg xmlns=\"http://www.w3.org/2000/svg\" height=\"24px\"viewBox=\"0 0 24 24\"\n",
              "       width=\"24px\">\n",
              "    <path d=\"M0 0h24v24H0V0z\" fill=\"none\"/>\n",
              "    <path d=\"M18.56 5.44l.94 2.06.94-2.06 2.06-.94-2.06-.94-.94-2.06-.94 2.06-2.06.94zm-11 1L8.5 8.5l.94-2.06 2.06-.94-2.06-.94L8.5 2.5l-.94 2.06-2.06.94zm10 10l.94 2.06.94-2.06 2.06-.94-2.06-.94-.94-2.06-.94 2.06-2.06.94z\"/><path d=\"M17.41 7.96l-1.37-1.37c-.4-.4-.92-.59-1.43-.59-.52 0-1.04.2-1.43.59L10.3 9.45l-7.72 7.72c-.78.78-.78 2.05 0 2.83L4 21.41c.39.39.9.59 1.41.59.51 0 1.02-.2 1.41-.59l7.78-7.78 2.81-2.81c.8-.78.8-2.07 0-2.86zM5.41 20L4 18.59l7.72-7.72 1.47 1.35L5.41 20z\"/>\n",
              "  </svg>\n",
              "      </button>\n",
              "      \n",
              "  <style>\n",
              "    .colab-df-container {\n",
              "      display:flex;\n",
              "      flex-wrap:wrap;\n",
              "      gap: 12px;\n",
              "    }\n",
              "\n",
              "    .colab-df-convert {\n",
              "      background-color: #E8F0FE;\n",
              "      border: none;\n",
              "      border-radius: 50%;\n",
              "      cursor: pointer;\n",
              "      display: none;\n",
              "      fill: #1967D2;\n",
              "      height: 32px;\n",
              "      padding: 0 0 0 0;\n",
              "      width: 32px;\n",
              "    }\n",
              "\n",
              "    .colab-df-convert:hover {\n",
              "      background-color: #E2EBFA;\n",
              "      box-shadow: 0px 1px 2px rgba(60, 64, 67, 0.3), 0px 1px 3px 1px rgba(60, 64, 67, 0.15);\n",
              "      fill: #174EA6;\n",
              "    }\n",
              "\n",
              "    [theme=dark] .colab-df-convert {\n",
              "      background-color: #3B4455;\n",
              "      fill: #D2E3FC;\n",
              "    }\n",
              "\n",
              "    [theme=dark] .colab-df-convert:hover {\n",
              "      background-color: #434B5C;\n",
              "      box-shadow: 0px 1px 3px 1px rgba(0, 0, 0, 0.15);\n",
              "      filter: drop-shadow(0px 1px 2px rgba(0, 0, 0, 0.3));\n",
              "      fill: #FFFFFF;\n",
              "    }\n",
              "  </style>\n",
              "\n",
              "      <script>\n",
              "        const buttonEl =\n",
              "          document.querySelector('#df-1dd63d3f-fb0b-4a79-8c1f-66812445d951 button.colab-df-convert');\n",
              "        buttonEl.style.display =\n",
              "          google.colab.kernel.accessAllowed ? 'block' : 'none';\n",
              "\n",
              "        async function convertToInteractive(key) {\n",
              "          const element = document.querySelector('#df-1dd63d3f-fb0b-4a79-8c1f-66812445d951');\n",
              "          const dataTable =\n",
              "            await google.colab.kernel.invokeFunction('convertToInteractive',\n",
              "                                                     [key], {});\n",
              "          if (!dataTable) return;\n",
              "\n",
              "          const docLinkHtml = 'Like what you see? Visit the ' +\n",
              "            '<a target=\"_blank\" href=https://colab.research.google.com/notebooks/data_table.ipynb>data table notebook</a>'\n",
              "            + ' to learn more about interactive tables.';\n",
              "          element.innerHTML = '';\n",
              "          dataTable['output_type'] = 'display_data';\n",
              "          await google.colab.output.renderOutput(dataTable, element);\n",
              "          const docLink = document.createElement('div');\n",
              "          docLink.innerHTML = docLinkHtml;\n",
              "          element.appendChild(docLink);\n",
              "        }\n",
              "      </script>\n",
              "    </div>\n",
              "  </div>\n",
              "  "
            ]
          },
          "metadata": {},
          "execution_count": 19
        }
      ]
    },
    {
      "cell_type": "code",
      "source": [
        "# multilabel_binarizer.inverse_transform(y_train)"
      ],
      "metadata": {
        "id": "pNfchYkiDMhc"
      },
      "execution_count": null,
      "outputs": []
    },
    {
      "cell_type": "code",
      "source": [
        "# make predictions for validation set\n",
        "# y_pred = clf.predict(X_test_tfidf)\n",
        "\n",
        "# print(y_pred)\n",
        "# multilabel_binarizer.inverse_transform(y_pred)"
      ],
      "metadata": {
        "id": "16vxWxu9imeH"
      },
      "execution_count": null,
      "outputs": []
    },
    {
      "cell_type": "code",
      "source": [
        "# evaluate performance\n",
        "# f1_score(y_test, y_pred, average='micro')"
      ],
      "metadata": {
        "id": "Y3o6nNntirDf"
      },
      "execution_count": null,
      "outputs": []
    },
    {
      "cell_type": "code",
      "source": [
        "# predict probabilities\n",
        "# y_pred_prob = clf.predict_proba(X_test_tfidf)"
      ],
      "metadata": {
        "id": "0JEOSsjpis_q"
      },
      "execution_count": null,
      "outputs": []
    },
    {
      "cell_type": "code",
      "source": [
        "# t = 0.25 # threshold value\n",
        "# y_pred_new = (y_pred_prob >= t).astype(int)"
      ],
      "metadata": {
        "id": "7_SMIVJEivG8"
      },
      "execution_count": null,
      "outputs": []
    },
    {
      "cell_type": "code",
      "source": [
        "# evaluate performance\n",
        "# f1_score(y_test, y_pred_new, average=\"micro\")"
      ],
      "metadata": {
        "id": "ftqXDdGbiz2O"
      },
      "execution_count": null,
      "outputs": []
    }
  ]
}