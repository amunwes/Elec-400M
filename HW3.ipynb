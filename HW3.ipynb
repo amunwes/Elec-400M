{
  "cells": [
    {
      "cell_type": "markdown",
      "metadata": {
        "id": "view-in-github",
        "colab_type": "text"
      },
      "source": [
        "<a href=\"https://colab.research.google.com/github/amunwes/Elec-400M/blob/main/HW3.ipynb\" target=\"_parent\"><img src=\"https://colab.research.google.com/assets/colab-badge.svg\" alt=\"Open In Colab\"/></a>"
      ]
    },
    {
      "cell_type": "markdown",
      "source": [
        "# HW3\n",
        "Andrew Munro-West #18363572"
      ],
      "metadata": {
        "id": "RBgP6RE92LEn"
      }
    },
    {
      "cell_type": "markdown",
      "metadata": {
        "id": "yeIXFfAumNWV"
      },
      "source": [
        "# Neural Network In Pytorch\n",
        "This assignment aims to get familiarized with building the whole pipeline of deep learning in Pytorch to perform classification and test it out on the MINIST dataset. All the code will be implemented in this notebook."
      ]
    },
    {
      "cell_type": "code",
      "execution_count": null,
      "metadata": {
        "id": "_BD5dqNGm1b6",
        "colab": {
          "base_uri": "https://localhost:8080/"
        },
        "outputId": "7ad45ce5-4d5a-4c6f-9aec-0440ee0a4ad7"
      },
      "outputs": [
        {
          "output_type": "stream",
          "name": "stdout",
          "text": [
            "Drive already mounted at /content/gdrive; to attempt to forcibly remount, call drive.mount(\"/content/gdrive\", force_remount=True).\n"
          ]
        }
      ],
      "source": [
        "from google.colab import drive\n",
        "drive.mount('/content/gdrive')"
      ]
    },
    {
      "cell_type": "markdown",
      "metadata": {
        "id": "soWnE8qOuQwg"
      },
      "source": [
        "First, let's install modules not already installed by Google Colab."
      ]
    },
    {
      "cell_type": "markdown",
      "metadata": {
        "id": "Mzuptv--6uXv"
      },
      "source": [
        "## Task 1: Design the Neural Network and Data Preparation\n"
      ]
    },
    {
      "cell_type": "markdown",
      "metadata": {
        "id": "kTcfx8MFFxRz"
      },
      "source": [
        "In the beginning, please import all the packages you need. We provide some packages here, which might be helpful when you build your code."
      ]
    },
    {
      "cell_type": "code",
      "execution_count": null,
      "metadata": {
        "id": "v4wg5xqcxNEi",
        "colab": {
          "base_uri": "https://localhost:8080/"
        },
        "outputId": "1095713c-915f-4574-e0f0-50660e26c1e5"
      },
      "outputs": [
        {
          "output_type": "execute_result",
          "data": {
            "text/plain": [
              "<torch._C.Generator at 0x7fae0caff370>"
            ]
          },
          "metadata": {},
          "execution_count": 11
        }
      ],
      "source": [
        "from IPython.core.interactiveshell import InteractiveShell\n",
        "InteractiveShell.ast_node_interactivity = \"all\"\n",
        "\n",
        "# import modules\n",
        "import pandas as pd\n",
        "import numpy as np\n",
        "import matplotlib.pyplot as plt\n",
        "import torch\n",
        "from torch import cuda\n",
        "import torch.nn as nn\n",
        "from torch.utils.data import TensorDataset, DataLoader, sampler\n",
        "import torch.nn.functional as F\n",
        "import math\n",
        "import matplotlib.pyplot as plt\n",
        "from sklearn.metrics import mean_squared_error\n",
        "from numpy import inf\n",
        "\n",
        "\n",
        "from sklearn.model_selection import train_test_split\n",
        "import os\n",
        "from glob import glob\n",
        "from torchvision import datasets, transforms\n",
        "from torchvision import models\n",
        "from torch import optim, cuda, Tensor\n",
        "import tqdm\n",
        "\n",
        "# Data science tools\n",
        "import numpy as np\n",
        "import random\n",
        "\n",
        "import os\n",
        "\n",
        "# Image manipulations\n",
        "from PIL import Image\n",
        "from timeit import default_timer as timer\n",
        "\n",
        "# Visualizations\n",
        "import matplotlib.pyplot as plt\n",
        "#plt.rcParams['font.size'] = 14\n",
        "\n",
        "import warnings\n",
        "warnings.filterwarnings('ignore', category=FutureWarning)\n",
        "np.random.seed(0)\n",
        "torch.manual_seed(0)"
      ]
    },
    {
      "cell_type": "markdown",
      "metadata": {
        "id": "NPX2j9gCHFOW"
      },
      "source": [
        "###Network Design\n",
        "Then, we need to define a class for your network. The network should include two linear layer, one Relu layer, and one dropout layer."
      ]
    },
    {
      "cell_type": "code",
      "execution_count": null,
      "metadata": {
        "id": "xDl90_EICBFp"
      },
      "outputs": [],
      "source": [
        "# define model\n",
        "class bmodel(nn.Module):\n",
        "    def __init__(self, input_d, hidden_d, output_d):\n",
        "        super().__init__()\n",
        "        # Define all the layers that you need in your network\n",
        "        # You can use nn.Linear() to define the linear layer\n",
        "        # nn.Dropout() to define the dropout layer\n",
        "        # F.relu() to define your ReLu layer\n",
        "        ######################\n",
        "        ### YOUR CODE HERE ###\n",
        "        ######################\n",
        "        self.l0 =  nn.Linear(input_d, hidden_d)\n",
        "        self.l1 =  nn.Linear(hidden_d, output_d)\n",
        "        self.dropout = nn.Dropout(0.1)\n",
        "        #####################\n",
        "        ### YOUR CODE END ###\n",
        "        #####################\n",
        "\n",
        "    def forward(self, x):\n",
        "        output = torch.flatten(x,1)\n",
        "        output = self.l0(output)\n",
        "        output = self.dropout(output)\n",
        "        output = F.relu(output)\n",
        "        output = self.l1(output)\n",
        "\n",
        "        return output\n",
        "\n"
      ]
    },
    {
      "cell_type": "markdown",
      "metadata": {
        "id": "IZiqsgPSH24o"
      },
      "source": [
        "Now, we can design our toy model to test your network."
      ]
    },
    {
      "cell_type": "code",
      "execution_count": null,
      "metadata": {
        "id": "UqhzirmamNWj"
      },
      "outputs": [],
      "source": [
        "# Create a small net and some toy data to check your implementations.\n",
        "# Note that we set the random seed for repeatable experiments.\n",
        "\n",
        "input_size = 4\n",
        "hidden_size = 10\n",
        "num_classes = 3\n",
        "num_inputs = 5\n",
        "\n",
        "def init_toy_model():\n",
        "    np.random.seed(0)\n",
        "    return bmodel(input_size, hidden_size, num_classes)\n",
        "\n",
        "def init_toy_data():\n",
        "    np.random.seed(1)\n",
        "    X = 10 * np.random.randn(num_inputs, input_size)\n",
        "    y = np.array([0, 1, 2, 2, 1])\n",
        "    return X, y\n",
        "\n",
        "toy_model = init_toy_model()\n",
        "train_X, train_Y = init_toy_data()\n",
        "validation_X, validation_Y = init_toy_data()"
      ]
    },
    {
      "cell_type": "markdown",
      "metadata": {
        "id": "clIyJmUFJg0H"
      },
      "source": [
        "Cuda is Compute Unified Device Architecture, which can achieve parallel computing. It will improve our learning speed in the parameter update by using GPU rather than CPU."
      ]
    },
    {
      "cell_type": "code",
      "execution_count": null,
      "metadata": {
        "id": "qNhcttlxJSOk",
        "colab": {
          "base_uri": "https://localhost:8080/"
        },
        "outputId": "ce22b57b-df46-42bd-8e87-420087cfa2be"
      },
      "outputs": [
        {
          "output_type": "stream",
          "name": "stdout",
          "text": [
            "Train on gpu: True\n",
            "1 gpus detected.\n",
            "True False\n"
          ]
        }
      ],
      "source": [
        "# Check whether there is a gpu for cuda\n",
        "train_on_gpu = cuda.is_available()\n",
        "print(f'Train on gpu: {train_on_gpu}')\n",
        "\n",
        "# Number of gpus\n",
        "if train_on_gpu:\n",
        "    gpu_count = cuda.device_count()\n",
        "    print(f'{gpu_count} gpus detected.')\n",
        "    if gpu_count > 1:\n",
        "        multi_gpu = True\n",
        "    else:\n",
        "        multi_gpu = False\n",
        "else:\n",
        "    multi_gpu = False\n",
        "print(train_on_gpu,multi_gpu)"
      ]
    },
    {
      "cell_type": "markdown",
      "metadata": {
        "id": "jFXQ5rioKcOP"
      },
      "source": [
        "###Data Preparation\n",
        "Next, we need to organize the data before we load them into the network. In Pytorch, we use Tensor as the data structure for computing, and we use \"dataloaders\" to achieve mini-batch from the whole dataset."
      ]
    },
    {
      "cell_type": "code",
      "execution_count": null,
      "metadata": {
        "id": "kOcdfL03KVL6",
        "colab": {
          "base_uri": "https://localhost:8080/"
        },
        "outputId": "7f576c33-affb-44bf-c2a9-56266cde939b"
      },
      "outputs": [
        {
          "output_type": "stream",
          "name": "stderr",
          "text": [
            "/usr/local/lib/python3.7/dist-packages/torch/utils/data/dataloader.py:566: UserWarning: This DataLoader will create 10 worker processes in total. Our suggested max number of worker in current system is 2, which is smaller than what this DataLoader is going to create. Please be aware that excessive worker creation might get DataLoader running slow or even freeze, lower the worker number to avoid potential slowness/freeze if necessary.\n",
            "  cpuset_checked))\n"
          ]
        },
        {
          "output_type": "execute_result",
          "data": {
            "text/plain": [
              "(torch.Size([1, 4]), torch.Size([1]))"
            ]
          },
          "metadata": {},
          "execution_count": 15
        }
      ],
      "source": [
        "# Datasets organization\n",
        "batch_size = 1\n",
        "\n",
        "# Transfer the data from numpy to tensor\n",
        "data = {\n",
        "    'train':\n",
        "    TensorDataset(torch.from_numpy(train_X).float(), torch.from_numpy(train_Y).long()),\n",
        "\n",
        "    # please define your validation dataset\n",
        "    ######################\n",
        "    ### YOUR CODE HERE ###\n",
        "    ######################\n",
        "    'valid':\n",
        "    TensorDataset(torch.from_numpy(validation_X).float(), torch.from_numpy(validation_Y).long())\n",
        "\n",
        "    #####################\n",
        "    ### YOUR CODE END ###\n",
        "    #####################\n",
        "\n",
        "}\n",
        "\n",
        "\n",
        "# Dataloader iterators, make sure to shuffle\n",
        "dataloaders = {\n",
        "    'train': DataLoader(data['train'], batch_size=batch_size, shuffle=True,num_workers=10),\n",
        "    # please define your validation data loader\n",
        "    ######################\n",
        "    ### YOUR CODE HERE ###\n",
        "    ######################\n",
        "    'valid': DataLoader(data['valid'], batch_size=batch_size, shuffle=False,num_workers=10)\n",
        "\n",
        "    ######################\n",
        "    ### YOUR CODE END ####\n",
        "    ######################\n",
        "}\n",
        "\n",
        "\n",
        "\n",
        "# Iterate through the dataloader once\n",
        "trainiter = iter(dataloaders['train'])\n",
        "features, labels = next(trainiter)\n",
        "features.shape, labels.shape\n"
      ]
    },
    {
      "cell_type": "markdown",
      "metadata": {
        "id": "JPQQ7iRaNgIp"
      },
      "source": [
        "### Setting Learning Parameters\n",
        "In our training process, we need to set up the loss function and optimizer tool."
      ]
    },
    {
      "cell_type": "code",
      "execution_count": null,
      "metadata": {
        "id": "Y6PbdfxENdOJ",
        "colab": {
          "base_uri": "https://localhost:8080/"
        },
        "outputId": "b1e8f835-5508-4642-e308-0604e3f7e456"
      },
      "outputs": [
        {
          "output_type": "stream",
          "name": "stdout",
          "text": [
            "torch.Size([10, 4])\n",
            "torch.Size([10])\n",
            "torch.Size([3, 10])\n",
            "torch.Size([3])\n"
          ]
        }
      ],
      "source": [
        "# Set up your criterion and optimizer\n",
        "# Please use nn.CrossEntropyLoss() and optim.Adam()\n",
        "#####################\n",
        "### YOUR CODE HERE###\n",
        "#####################\n",
        "criterion = nn.CrossEntropyLoss()\n",
        "\n",
        "optimizer = optim.Adam(toy_model.parameters())\n",
        "\n",
        "####################\n",
        "### YOUR CODE END###\n",
        "####################\n",
        "\n",
        "for p in optimizer.param_groups[0]['params']:\n",
        "    if p.requires_grad:\n",
        "        print(p.shape)"
      ]
    },
    {
      "cell_type": "markdown",
      "metadata": {
        "id": "Ck08UYlKcGtk"
      },
      "source": [
        "## Task 2: Build the Training Pipeline"
      ]
    },
    {
      "cell_type": "markdown",
      "metadata": {
        "id": "f5ep_QqOOiNn"
      },
      "source": [
        "### Training Process\n",
        "We are now defining the train function. Please follow the instruction to finish each part."
      ]
    },
    {
      "cell_type": "markdown",
      "source": [
        "If you are going to use a GPU\n",
        "\n",
        "1. make sure you have GPU\n",
        "2. Convert model to GPU with model = model.cuda()\n",
        "3. convert training data to GPU with data = data.cuda(); target = target.cuda()"
      ],
      "metadata": {
        "id": "f1tKATEEpWD7"
      }
    },
    {
      "cell_type": "code",
      "execution_count": null,
      "metadata": {
        "id": "vw16i2tlOcbt"
      },
      "outputs": [],
      "source": [
        "def train(model,\n",
        "          criterion,\n",
        "          optimizer,\n",
        "          train_loader,\n",
        "          valid_loader,\n",
        "          save_file_name,\n",
        "          max_epochs_stop=3,\n",
        "          n_epochs=10,\n",
        "          print_every=1):\n",
        "    \"\"\"Train a PyTorch Model\n",
        "\n",
        "    Params\n",
        "    --------\n",
        "        model (PyTorch model): cnn to train\n",
        "        criterion (PyTorch loss): objective to minimize\n",
        "        optimizer (PyTorch optimizier): optimizer to compute gradients of model parameters\n",
        "        train_loader (PyTorch dataloader): training dataloader to iterate through\n",
        "        valid_loader (PyTorch dataloader): validation dataloader used for early stopping\n",
        "        save_file_name (str ending in '.pt'): file path to save the model state dict\n",
        "        max_epochs_stop (int): maximum number of epochs with no improvement in validation loss for early stopping\n",
        "        n_epochs (int): maximum number of training epochs\n",
        "        print_every (int): frequency of epochs to print training stats\n",
        "\n",
        "    Returns\n",
        "    --------\n",
        "        model (PyTorch model): trained cnn with best weights\n",
        "        history (DataFrame): history of train and validation loss and accuracy\n",
        "    \"\"\"\n",
        "    # model = model.cuda()\n",
        "\n",
        "    # Early stopping intialization\n",
        "    epochs_no_improve = 0\n",
        "    valid_loss_min = np.Inf\n",
        "\n",
        "    valid_max_acc = 0\n",
        "    history = []\n",
        "\n",
        "    # Number of epochs already trained (if using loaded in model weights)\n",
        "    try:\n",
        "        print(f'Model has been trained for: {model.epochs} epochs.\\n')\n",
        "    except:\n",
        "        model.epochs = 0\n",
        "        print(f'Starting Training from Scratch.\\n')\n",
        "\n",
        "    overall_start = timer()\n",
        "\n",
        "    # Main loop\n",
        "    for epoch in range(n_epochs):\n",
        "\n",
        "        # keep track of training and validation loss each epoch\n",
        "        train_loss = 0.0\n",
        "        valid_loss = 0.0\n",
        "\n",
        "        train_acc = 0\n",
        "        valid_acc = 0\n",
        "\n",
        "        # Set to training\n",
        "        model.train()\n",
        "\n",
        "        start = timer()\n",
        "\n",
        "        # Training loop\n",
        "        for ii, (data, target) in enumerate(train_loader):\n",
        "\n",
        "            # Tensors to gpu, both model parameters, data, and target need to be tensors.\n",
        "            # You can use .cuda() function\n",
        "            ######################\n",
        "            ### YOUR CODE HERE ###\n",
        "            ######################\n",
        "            data = data.cuda()\n",
        "            target = target.cuda()\n",
        "\n",
        "            #####################\n",
        "            ### YOUR CODE END ###\n",
        "            #####################\n",
        "\n",
        "            # Clear gradients\n",
        "            optimizer.zero_grad()\n",
        "\n",
        "            # Forward path\n",
        "            ######################\n",
        "            ### YOUR CODE HERE ###\n",
        "            ######################\n",
        "            # feed data into model, forward function automatically runs on\n",
        "            # the passed data because of how nn.Module base class is setup\n",
        "\n",
        "            output = model(data)\n",
        "            #####################\n",
        "            ### YOUR CODE END ###\n",
        "            #####################\n",
        "\n",
        "            # Loss function\n",
        "            ######################\n",
        "            ### YOUR CODE HERE ###\n",
        "            ######################\n",
        "            loss = criterion(output, target)\n",
        "\n",
        "\n",
        "            #####################\n",
        "            ### YOUR CODE END ###\n",
        "            #####################\n",
        "\n",
        "            # Backward path (backpropagation)\n",
        "            ######################\n",
        "            ### YOUR CODE HERE ###\n",
        "            ######################\n",
        "            loss.backward()\n",
        "\n",
        "            #####################\n",
        "            ### YOUR CODE END ###\n",
        "            #####################\n",
        "\n",
        "            # Update the parameters\n",
        "            optimizer.step()\n",
        "\n",
        "            # Track train loss by multiplying average loss by number of examples in batch\n",
        "            train_loss += loss.item() * data.size(0)\n",
        "\n",
        "            # Calculate accuracy by finding max log probability\n",
        "            _, pred = torch.max(output, dim=1)\n",
        "            correct_tensor = pred.eq(target.data.view_as(pred))\n",
        "\n",
        "            # Need to convert correct tensor from int to float to average\n",
        "            accuracy = torch.mean(correct_tensor.type(torch.FloatTensor))\n",
        "\n",
        "            # Multiply average accuracy times the number of examples in batch\n",
        "            train_acc += accuracy.item() * data.size(0)\n",
        "\n",
        "            # Track training progress\n",
        "            print(\n",
        "                f'Epoch: {epoch}\\t{100 * (ii + 1) / len(train_loader):.2f}% complete. {timer() - start:.2f} seconds elapsed in epoch.',\n",
        "                end='\\r')\n",
        "\n",
        "        # After training loops ends, start validation\n",
        "        else:\n",
        "            model.epochs += 1\n",
        "\n",
        "            # Don't need to keep track of gradients\n",
        "            with torch.no_grad():\n",
        "\n",
        "                # Set to evaluation mode\n",
        "                model.eval()\n",
        "\n",
        "                # Validation loop\n",
        "                for data, target in valid_loader:\n",
        "                    # Tensors to gpu\n",
        "                    ######################\n",
        "                    ### YOUR CODE HERE ###\n",
        "                    ######################\n",
        "                    data = data.cuda()\n",
        "                    target = target.cuda()\n",
        "                    #####################\n",
        "                    ### YOUR CODE END ###\n",
        "                    #####################\n",
        "\n",
        "                    # Forward path\n",
        "                    ######################\n",
        "                    ### YOUR CODE HERE ###\n",
        "                    ######################\n",
        "                    output = model(data)\n",
        "                    #####################\n",
        "                    ### YOUR CODE END ###\n",
        "                    #####################\n",
        "\n",
        "                    # Validation loss computation\n",
        "                    ######################\n",
        "                    ### YOUR CODE HERE ###\n",
        "                    ######################\n",
        "                    loss = criterion(output, target)\n",
        "\n",
        "                    #####################\n",
        "                    ### YOUR CODE END ###\n",
        "                    #####################\n",
        "\n",
        "                    # Multiply average loss times the number of examples in batch\n",
        "                    valid_loss += loss.item() * data.size(0)\n",
        "\n",
        "                    # Calculate validation accuracy\n",
        "                    _, pred = torch.max(output, dim=1)\n",
        "                    correct_tensor = pred.eq(target.data.view_as(pred))\n",
        "                    accuracy = torch.mean(\n",
        "                    correct_tensor.type(torch.FloatTensor))\n",
        "\n",
        "                    # Multiply average accuracy times the number of examples\n",
        "                    valid_acc += accuracy.item() * data.size(0)\n",
        "\n",
        "\n",
        "                # Calculate average losses and Calculate average accuracy\n",
        "                train_loss = train_loss / len(train_loader.dataset)\n",
        "                valid_loss = valid_loss / len(valid_loader.dataset)\n",
        "\n",
        "                train_acc = train_acc / len(train_loader.dataset)\n",
        "                valid_acc = valid_acc / len(valid_loader.dataset)\n",
        "\n",
        "                history.append([train_loss, valid_loss, train_acc, valid_acc])\n",
        "\n",
        "                # Print training and validation results\n",
        "                if (epoch + 1) % print_every == 0:\n",
        "                    print(\n",
        "                        f'\\nEpoch: {epoch} \\tTraining Loss: {train_loss:.4f} \\tValidation Loss: {valid_loss:.4f}'\n",
        "                    )\n",
        "                    print(\n",
        "                        f'\\t\\tTraining Accuracy: {100 * train_acc:.2f}%\\t Validation Accuracy: {100 * valid_acc:.2f}%'\n",
        "                    )\n",
        "\n",
        "                # Save the model if validation loss decreases\n",
        "                if valid_loss < valid_loss_min:\n",
        "                    # Save model\n",
        "                    # You can use torch.save()\n",
        "                    ######################\n",
        "                    ### YOUR CODE HERE ###\n",
        "                    ######################\n",
        "                    torch.save(model.state_dict(), save_file_name)\n",
        "                    #####################\n",
        "                    ### YOUR CODE END ###\n",
        "                    #####################\n",
        "\n",
        "                    # Track improvement\n",
        "                    epochs_no_improve = 0\n",
        "                    valid_loss_min = valid_loss\n",
        "                    valid_best_acc = valid_acc\n",
        "                    best_epoch = epoch\n",
        "\n",
        "\n",
        "    # Attach the optimizer\n",
        "    model.optimizer = optimizer\n",
        "    # Record overall time and print out stats\n",
        "    total_time = timer() - overall_start\n",
        "    print(\n",
        "        f'\\nBest epoch: {best_epoch} with loss: {valid_loss_min:.2f} and acc: {100 * valid_best_acc:.2f}%'\n",
        "    )\n",
        "    print(\n",
        "        f'{total_time:.2f} total seconds elapsed. {total_time / (epoch+1):.2f} seconds per epoch.'\n",
        "    )\n",
        "    # Format history\n",
        "    history = pd.DataFrame(\n",
        "        history,\n",
        "        columns=['train_loss', 'valid_loss', 'train_acc', 'valid_acc'])\n",
        "    return model, history"
      ]
    },
    {
      "cell_type": "markdown",
      "metadata": {
        "id": "p_dFSRgzmNWr"
      },
      "source": [
        "### Train a Network With Toy Data\n"
      ]
    },
    {
      "cell_type": "markdown",
      "metadata": {
        "id": "AdRJcmzXReJT"
      },
      "source": [
        "Well done! Once we finish our train process design, we can start to train our network with our toy dataset."
      ]
    },
    {
      "cell_type": "code",
      "execution_count": null,
      "metadata": {
        "id": "LFI9SHsuReqs",
        "colab": {
          "base_uri": "https://localhost:8080/"
        },
        "outputId": "3fb34a76-784f-466a-df48-3a707f03b06d"
      },
      "outputs": [
        {
          "output_type": "stream",
          "name": "stdout",
          "text": [
            "Starting Training from Scratch.\n",
            "\n",
            "\n",
            "Epoch: 0 \tTraining Loss: 0.9701 \tValidation Loss: 0.9473\n",
            "\t\tTraining Accuracy: 40.00%\t Validation Accuracy: 40.00%\n",
            "\n",
            "Epoch: 1 \tTraining Loss: 0.9387 \tValidation Loss: 0.9112\n",
            "\t\tTraining Accuracy: 40.00%\t Validation Accuracy: 40.00%\n",
            "\n",
            "Epoch: 2 \tTraining Loss: 0.8113 \tValidation Loss: 0.8791\n",
            "\t\tTraining Accuracy: 80.00%\t Validation Accuracy: 60.00%\n",
            "\n",
            "Epoch: 3 \tTraining Loss: 0.9813 \tValidation Loss: 0.8471\n",
            "\t\tTraining Accuracy: 40.00%\t Validation Accuracy: 60.00%\n",
            "\n",
            "Epoch: 4 \tTraining Loss: 0.9177 \tValidation Loss: 0.8170\n",
            "\t\tTraining Accuracy: 40.00%\t Validation Accuracy: 60.00%\n",
            "\n",
            "Epoch: 5 \tTraining Loss: 1.0262 \tValidation Loss: 0.7902\n",
            "\t\tTraining Accuracy: 20.00%\t Validation Accuracy: 60.00%\n",
            "\n",
            "Epoch: 6 \tTraining Loss: 0.8425 \tValidation Loss: 0.7658\n",
            "\t\tTraining Accuracy: 40.00%\t Validation Accuracy: 60.00%\n",
            "\n",
            "Epoch: 7 \tTraining Loss: 0.9530 \tValidation Loss: 0.7458\n",
            "\t\tTraining Accuracy: 40.00%\t Validation Accuracy: 60.00%\n",
            "\n",
            "Epoch: 8 \tTraining Loss: 0.7222 \tValidation Loss: 0.7230\n",
            "\t\tTraining Accuracy: 60.00%\t Validation Accuracy: 60.00%\n",
            "\n",
            "Epoch: 9 \tTraining Loss: 0.6954 \tValidation Loss: 0.7019\n",
            "\t\tTraining Accuracy: 80.00%\t Validation Accuracy: 80.00%\n",
            "\n",
            "Epoch: 10 \tTraining Loss: 0.7128 \tValidation Loss: 0.6805\n",
            "\t\tTraining Accuracy: 80.00%\t Validation Accuracy: 80.00%\n",
            "\n",
            "Epoch: 11 \tTraining Loss: 0.7292 \tValidation Loss: 0.6613\n",
            "\t\tTraining Accuracy: 60.00%\t Validation Accuracy: 80.00%\n",
            "\n",
            "Epoch: 12 \tTraining Loss: 0.6283 \tValidation Loss: 0.6429\n",
            "\t\tTraining Accuracy: 80.00%\t Validation Accuracy: 80.00%\n",
            "\n",
            "Epoch: 13 \tTraining Loss: 0.6106 \tValidation Loss: 0.6246\n",
            "\t\tTraining Accuracy: 80.00%\t Validation Accuracy: 80.00%\n",
            "\n",
            "Epoch: 14 \tTraining Loss: 0.7538 \tValidation Loss: 0.6069\n",
            "\t\tTraining Accuracy: 80.00%\t Validation Accuracy: 80.00%\n",
            "\n",
            "Epoch: 15 \tTraining Loss: 0.7153 \tValidation Loss: 0.5909\n",
            "\t\tTraining Accuracy: 80.00%\t Validation Accuracy: 80.00%\n",
            "\n",
            "Epoch: 16 \tTraining Loss: 0.5730 \tValidation Loss: 0.5745\n",
            "\t\tTraining Accuracy: 80.00%\t Validation Accuracy: 80.00%\n",
            "\n",
            "Epoch: 17 \tTraining Loss: 0.4568 \tValidation Loss: 0.5619\n",
            "\t\tTraining Accuracy: 100.00%\t Validation Accuracy: 80.00%\n",
            "\n",
            "Epoch: 18 \tTraining Loss: 0.4504 \tValidation Loss: 0.5494\n",
            "\t\tTraining Accuracy: 100.00%\t Validation Accuracy: 80.00%\n",
            "\n",
            "Epoch: 19 \tTraining Loss: 0.5658 \tValidation Loss: 0.5378\n",
            "\t\tTraining Accuracy: 80.00%\t Validation Accuracy: 80.00%\n",
            "\n",
            "Epoch: 20 \tTraining Loss: 0.5118 \tValidation Loss: 0.5262\n",
            "\t\tTraining Accuracy: 80.00%\t Validation Accuracy: 80.00%\n",
            "\n",
            "Epoch: 21 \tTraining Loss: 0.4996 \tValidation Loss: 0.5161\n",
            "\t\tTraining Accuracy: 80.00%\t Validation Accuracy: 80.00%\n",
            "\n",
            "Epoch: 22 \tTraining Loss: 0.6191 \tValidation Loss: 0.5069\n",
            "\t\tTraining Accuracy: 60.00%\t Validation Accuracy: 80.00%\n",
            "\n",
            "Epoch: 23 \tTraining Loss: 0.3731 \tValidation Loss: 0.4986\n",
            "\t\tTraining Accuracy: 100.00%\t Validation Accuracy: 80.00%\n",
            "\n",
            "Epoch: 24 \tTraining Loss: 0.3795 \tValidation Loss: 0.4916\n",
            "\t\tTraining Accuracy: 100.00%\t Validation Accuracy: 80.00%\n",
            "\n",
            "Epoch: 25 \tTraining Loss: 0.4522 \tValidation Loss: 0.4843\n",
            "\t\tTraining Accuracy: 80.00%\t Validation Accuracy: 80.00%\n",
            "\n",
            "Epoch: 26 \tTraining Loss: 0.5794 \tValidation Loss: 0.4773\n",
            "\t\tTraining Accuracy: 60.00%\t Validation Accuracy: 80.00%\n",
            "\n",
            "Epoch: 27 \tTraining Loss: 0.4953 \tValidation Loss: 0.4703\n",
            "\t\tTraining Accuracy: 80.00%\t Validation Accuracy: 80.00%\n",
            "\n",
            "Epoch: 28 \tTraining Loss: 0.4554 \tValidation Loss: 0.4637\n",
            "\t\tTraining Accuracy: 80.00%\t Validation Accuracy: 80.00%\n",
            "\n",
            "Epoch: 29 \tTraining Loss: 0.4317 \tValidation Loss: 0.4573\n",
            "\t\tTraining Accuracy: 80.00%\t Validation Accuracy: 80.00%\n",
            "\n",
            "Epoch: 30 \tTraining Loss: 0.4820 \tValidation Loss: 0.4512\n",
            "\t\tTraining Accuracy: 80.00%\t Validation Accuracy: 80.00%\n",
            "\n",
            "Epoch: 31 \tTraining Loss: 0.5588 \tValidation Loss: 0.4444\n",
            "\t\tTraining Accuracy: 60.00%\t Validation Accuracy: 80.00%\n",
            "\n",
            "Epoch: 32 \tTraining Loss: 0.5580 \tValidation Loss: 0.4367\n",
            "\t\tTraining Accuracy: 60.00%\t Validation Accuracy: 80.00%\n",
            "\n",
            "Epoch: 33 \tTraining Loss: 0.4335 \tValidation Loss: 0.4300\n",
            "\t\tTraining Accuracy: 80.00%\t Validation Accuracy: 80.00%\n",
            "\n",
            "Epoch: 34 \tTraining Loss: 0.3372 \tValidation Loss: 0.4238\n",
            "\t\tTraining Accuracy: 100.00%\t Validation Accuracy: 80.00%\n",
            "\n",
            "Epoch: 35 \tTraining Loss: 0.5222 \tValidation Loss: 0.4178\n",
            "\t\tTraining Accuracy: 80.00%\t Validation Accuracy: 80.00%\n",
            "\n",
            "Epoch: 36 \tTraining Loss: 0.4108 \tValidation Loss: 0.4117\n",
            "\t\tTraining Accuracy: 80.00%\t Validation Accuracy: 80.00%\n",
            "\n",
            "Epoch: 37 \tTraining Loss: 0.5297 \tValidation Loss: 0.4059\n",
            "\t\tTraining Accuracy: 60.00%\t Validation Accuracy: 80.00%\n",
            "\n",
            "Epoch: 38 \tTraining Loss: 0.3882 \tValidation Loss: 0.3998\n",
            "\t\tTraining Accuracy: 80.00%\t Validation Accuracy: 80.00%\n",
            "\n",
            "Epoch: 39 \tTraining Loss: 0.4167 \tValidation Loss: 0.3943\n",
            "\t\tTraining Accuracy: 80.00%\t Validation Accuracy: 80.00%\n",
            "\n",
            "Epoch: 40 \tTraining Loss: 0.3144 \tValidation Loss: 0.3891\n",
            "\t\tTraining Accuracy: 100.00%\t Validation Accuracy: 80.00%\n",
            "\n",
            "Epoch: 41 \tTraining Loss: 0.3730 \tValidation Loss: 0.3847\n",
            "\t\tTraining Accuracy: 80.00%\t Validation Accuracy: 80.00%\n",
            "\n",
            "Epoch: 42 \tTraining Loss: 0.5260 \tValidation Loss: 0.3801\n",
            "\t\tTraining Accuracy: 80.00%\t Validation Accuracy: 80.00%\n",
            "\n",
            "Epoch: 43 \tTraining Loss: 0.3640 \tValidation Loss: 0.3756\n",
            "\t\tTraining Accuracy: 80.00%\t Validation Accuracy: 80.00%\n",
            "\n",
            "Epoch: 44 \tTraining Loss: 0.3217 \tValidation Loss: 0.3715\n",
            "\t\tTraining Accuracy: 100.00%\t Validation Accuracy: 80.00%\n",
            "\n",
            "Epoch: 45 \tTraining Loss: 0.4532 \tValidation Loss: 0.3674\n",
            "\t\tTraining Accuracy: 80.00%\t Validation Accuracy: 80.00%\n",
            "\n",
            "Epoch: 46 \tTraining Loss: 0.3521 \tValidation Loss: 0.3637\n",
            "\t\tTraining Accuracy: 80.00%\t Validation Accuracy: 80.00%\n",
            "\n",
            "Epoch: 47 \tTraining Loss: 0.4384 \tValidation Loss: 0.3599\n",
            "\t\tTraining Accuracy: 80.00%\t Validation Accuracy: 80.00%\n",
            "\n",
            "Epoch: 48 \tTraining Loss: 0.5222 \tValidation Loss: 0.3560\n",
            "\t\tTraining Accuracy: 60.00%\t Validation Accuracy: 80.00%\n",
            "\n",
            "Epoch: 49 \tTraining Loss: 0.3521 \tValidation Loss: 0.3524\n",
            "\t\tTraining Accuracy: 80.00%\t Validation Accuracy: 80.00%\n",
            "\n",
            "Epoch: 50 \tTraining Loss: 0.3591 \tValidation Loss: 0.3489\n",
            "\t\tTraining Accuracy: 80.00%\t Validation Accuracy: 80.00%\n",
            "\n",
            "Epoch: 51 \tTraining Loss: 0.4457 \tValidation Loss: 0.3449\n",
            "\t\tTraining Accuracy: 80.00%\t Validation Accuracy: 80.00%\n",
            "\n",
            "Epoch: 52 \tTraining Loss: 0.3308 \tValidation Loss: 0.3410\n",
            "\t\tTraining Accuracy: 80.00%\t Validation Accuracy: 80.00%\n",
            "\n",
            "Epoch: 53 \tTraining Loss: 0.3490 \tValidation Loss: 0.3365\n",
            "\t\tTraining Accuracy: 80.00%\t Validation Accuracy: 80.00%\n",
            "\n",
            "Epoch: 54 \tTraining Loss: 0.3485 \tValidation Loss: 0.3325\n",
            "\t\tTraining Accuracy: 80.00%\t Validation Accuracy: 80.00%\n",
            "\n",
            "Epoch: 55 \tTraining Loss: 0.3364 \tValidation Loss: 0.3279\n",
            "\t\tTraining Accuracy: 80.00%\t Validation Accuracy: 80.00%\n",
            "\n",
            "Epoch: 56 \tTraining Loss: 0.3318 \tValidation Loss: 0.3233\n",
            "\t\tTraining Accuracy: 80.00%\t Validation Accuracy: 80.00%\n",
            "\n",
            "Epoch: 57 \tTraining Loss: 0.4139 \tValidation Loss: 0.3187\n",
            "\t\tTraining Accuracy: 80.00%\t Validation Accuracy: 80.00%\n",
            "\n",
            "Epoch: 58 \tTraining Loss: 0.3045 \tValidation Loss: 0.3147\n",
            "\t\tTraining Accuracy: 80.00%\t Validation Accuracy: 80.00%\n",
            "\n",
            "Epoch: 59 \tTraining Loss: 0.3027 \tValidation Loss: 0.3105\n",
            "\t\tTraining Accuracy: 80.00%\t Validation Accuracy: 80.00%\n",
            "\n",
            "Epoch: 60 \tTraining Loss: 0.2971 \tValidation Loss: 0.3064\n",
            "\t\tTraining Accuracy: 80.00%\t Validation Accuracy: 80.00%\n",
            "\n",
            "Epoch: 61 \tTraining Loss: 0.3096 \tValidation Loss: 0.3026\n",
            "\t\tTraining Accuracy: 80.00%\t Validation Accuracy: 80.00%\n",
            "\n",
            "Epoch: 62 \tTraining Loss: 0.2896 \tValidation Loss: 0.2988\n",
            "\t\tTraining Accuracy: 80.00%\t Validation Accuracy: 80.00%\n",
            "\n",
            "Epoch: 63 \tTraining Loss: 0.3003 \tValidation Loss: 0.2952\n",
            "\t\tTraining Accuracy: 80.00%\t Validation Accuracy: 80.00%\n",
            "\n",
            "Epoch: 64 \tTraining Loss: 0.3487 \tValidation Loss: 0.2915\n",
            "\t\tTraining Accuracy: 80.00%\t Validation Accuracy: 80.00%\n",
            "\n",
            "Epoch: 65 \tTraining Loss: 0.2788 \tValidation Loss: 0.2878\n",
            "\t\tTraining Accuracy: 80.00%\t Validation Accuracy: 80.00%\n",
            "\n",
            "Epoch: 66 \tTraining Loss: 0.2779 \tValidation Loss: 0.2841\n",
            "\t\tTraining Accuracy: 80.00%\t Validation Accuracy: 80.00%\n",
            "\n",
            "Epoch: 67 \tTraining Loss: 0.2713 \tValidation Loss: 0.2808\n",
            "\t\tTraining Accuracy: 80.00%\t Validation Accuracy: 80.00%\n",
            "\n",
            "Epoch: 68 \tTraining Loss: 0.2686 \tValidation Loss: 0.2774\n",
            "\t\tTraining Accuracy: 80.00%\t Validation Accuracy: 80.00%\n",
            "\n",
            "Epoch: 69 \tTraining Loss: 0.3306 \tValidation Loss: 0.2735\n",
            "\t\tTraining Accuracy: 80.00%\t Validation Accuracy: 80.00%\n",
            "\n",
            "Epoch: 70 \tTraining Loss: 0.2828 \tValidation Loss: 0.2701\n",
            "\t\tTraining Accuracy: 80.00%\t Validation Accuracy: 80.00%\n",
            "\n",
            "Epoch: 71 \tTraining Loss: 0.2600 \tValidation Loss: 0.2666\n",
            "\t\tTraining Accuracy: 80.00%\t Validation Accuracy: 80.00%\n",
            "\n",
            "Epoch: 72 \tTraining Loss: 0.2765 \tValidation Loss: 0.2636\n",
            "\t\tTraining Accuracy: 80.00%\t Validation Accuracy: 80.00%\n",
            "\n",
            "Epoch: 73 \tTraining Loss: 0.2514 \tValidation Loss: 0.2608\n",
            "\t\tTraining Accuracy: 80.00%\t Validation Accuracy: 80.00%\n",
            "\n",
            "Epoch: 74 \tTraining Loss: 0.2486 \tValidation Loss: 0.2579\n",
            "\t\tTraining Accuracy: 80.00%\t Validation Accuracy: 80.00%\n",
            "\n",
            "Epoch: 75 \tTraining Loss: 0.2462 \tValidation Loss: 0.2550\n",
            "\t\tTraining Accuracy: 80.00%\t Validation Accuracy: 80.00%\n",
            "\n",
            "Epoch: 76 \tTraining Loss: 0.2979 \tValidation Loss: 0.2518\n",
            "\t\tTraining Accuracy: 80.00%\t Validation Accuracy: 80.00%\n",
            "\n",
            "Epoch: 77 \tTraining Loss: 0.2397 \tValidation Loss: 0.2489\n",
            "\t\tTraining Accuracy: 80.00%\t Validation Accuracy: 80.00%\n",
            "\n",
            "Epoch: 78 \tTraining Loss: 0.2618 \tValidation Loss: 0.2463\n",
            "\t\tTraining Accuracy: 80.00%\t Validation Accuracy: 80.00%\n",
            "\n",
            "Epoch: 79 \tTraining Loss: 0.3048 \tValidation Loss: 0.2435\n",
            "\t\tTraining Accuracy: 80.00%\t Validation Accuracy: 80.00%\n",
            "\n",
            "Epoch: 80 \tTraining Loss: 0.2809 \tValidation Loss: 0.2409\n",
            "\t\tTraining Accuracy: 80.00%\t Validation Accuracy: 80.00%\n",
            "\n",
            "Epoch: 81 \tTraining Loss: 0.2710 \tValidation Loss: 0.2382\n",
            "\t\tTraining Accuracy: 80.00%\t Validation Accuracy: 80.00%\n",
            "\n",
            "Epoch: 82 \tTraining Loss: 0.3074 \tValidation Loss: 0.2366\n",
            "\t\tTraining Accuracy: 80.00%\t Validation Accuracy: 80.00%\n",
            "\n",
            "Epoch: 83 \tTraining Loss: 0.2301 \tValidation Loss: 0.2348\n",
            "\t\tTraining Accuracy: 80.00%\t Validation Accuracy: 80.00%\n",
            "\n",
            "Epoch: 84 \tTraining Loss: 0.2333 \tValidation Loss: 0.2327\n",
            "\t\tTraining Accuracy: 80.00%\t Validation Accuracy: 80.00%\n",
            "\n",
            "Epoch: 85 \tTraining Loss: 0.2929 \tValidation Loss: 0.2313\n",
            "\t\tTraining Accuracy: 100.00%\t Validation Accuracy: 80.00%\n",
            "\n",
            "Epoch: 86 \tTraining Loss: 0.2452 \tValidation Loss: 0.2297\n",
            "\t\tTraining Accuracy: 80.00%\t Validation Accuracy: 80.00%\n",
            "\n",
            "Epoch: 87 \tTraining Loss: 0.2749 \tValidation Loss: 0.2277\n",
            "\t\tTraining Accuracy: 80.00%\t Validation Accuracy: 80.00%\n",
            "\n",
            "Epoch: 88 \tTraining Loss: 0.2261 \tValidation Loss: 0.2256\n",
            "\t\tTraining Accuracy: 80.00%\t Validation Accuracy: 80.00%\n",
            "\n",
            "Epoch: 89 \tTraining Loss: 0.2149 \tValidation Loss: 0.2239\n",
            "\t\tTraining Accuracy: 80.00%\t Validation Accuracy: 80.00%\n",
            "\n",
            "Epoch: 90 \tTraining Loss: 0.2218 \tValidation Loss: 0.2222\n",
            "\t\tTraining Accuracy: 100.00%\t Validation Accuracy: 80.00%\n",
            "\n",
            "Epoch: 91 \tTraining Loss: 0.3105 \tValidation Loss: 0.2205\n",
            "\t\tTraining Accuracy: 80.00%\t Validation Accuracy: 80.00%\n",
            "\n",
            "Epoch: 92 \tTraining Loss: 0.1997 \tValidation Loss: 0.2189\n",
            "\t\tTraining Accuracy: 100.00%\t Validation Accuracy: 80.00%\n",
            "\n",
            "Epoch: 93 \tTraining Loss: 0.2102 \tValidation Loss: 0.2174\n",
            "\t\tTraining Accuracy: 80.00%\t Validation Accuracy: 80.00%\n",
            "\n",
            "Epoch: 94 \tTraining Loss: 0.2118 \tValidation Loss: 0.2182\n",
            "\t\tTraining Accuracy: 80.00%\t Validation Accuracy: 80.00%\n",
            "\n",
            "Epoch: 95 \tTraining Loss: 0.2377 \tValidation Loss: 0.2148\n",
            "\t\tTraining Accuracy: 80.00%\t Validation Accuracy: 80.00%\n",
            "\n",
            "Epoch: 96 \tTraining Loss: 0.2081 \tValidation Loss: 0.2142\n",
            "\t\tTraining Accuracy: 80.00%\t Validation Accuracy: 80.00%\n",
            "\n",
            "Epoch: 97 \tTraining Loss: 0.2064 \tValidation Loss: 0.2133\n",
            "\t\tTraining Accuracy: 80.00%\t Validation Accuracy: 80.00%\n",
            "\n",
            "Epoch: 98 \tTraining Loss: 0.2044 \tValidation Loss: 0.2122\n",
            "\t\tTraining Accuracy: 80.00%\t Validation Accuracy: 80.00%\n",
            "\n",
            "Epoch: 99 \tTraining Loss: 0.2039 \tValidation Loss: 0.2107\n",
            "\t\tTraining Accuracy: 80.00%\t Validation Accuracy: 80.00%\n",
            "\n",
            "Epoch: 100 \tTraining Loss: 0.3346 \tValidation Loss: 0.2096\n",
            "\t\tTraining Accuracy: 80.00%\t Validation Accuracy: 80.00%\n",
            "\n",
            "Epoch: 101 \tTraining Loss: 0.2009 \tValidation Loss: 0.2082\n",
            "\t\tTraining Accuracy: 80.00%\t Validation Accuracy: 80.00%\n",
            "\n",
            "Epoch: 102 \tTraining Loss: 0.2237 \tValidation Loss: 0.2067\n",
            "\t\tTraining Accuracy: 80.00%\t Validation Accuracy: 80.00%\n",
            "\n",
            "Epoch: 103 \tTraining Loss: 0.2104 \tValidation Loss: 0.2054\n",
            "\t\tTraining Accuracy: 80.00%\t Validation Accuracy: 80.00%\n",
            "\n",
            "Epoch: 104 \tTraining Loss: 0.2551 \tValidation Loss: 0.2042\n",
            "\t\tTraining Accuracy: 100.00%\t Validation Accuracy: 80.00%\n",
            "\n",
            "Epoch: 105 \tTraining Loss: 0.2956 \tValidation Loss: 0.2029\n",
            "\t\tTraining Accuracy: 80.00%\t Validation Accuracy: 80.00%\n",
            "\n",
            "Epoch: 106 \tTraining Loss: 0.2971 \tValidation Loss: 0.2016\n",
            "\t\tTraining Accuracy: 80.00%\t Validation Accuracy: 80.00%\n",
            "\n",
            "Epoch: 107 \tTraining Loss: 0.2828 \tValidation Loss: 0.1993\n",
            "\t\tTraining Accuracy: 80.00%\t Validation Accuracy: 80.00%\n",
            "\n",
            "Epoch: 108 \tTraining Loss: 0.1944 \tValidation Loss: 0.1980\n",
            "\t\tTraining Accuracy: 80.00%\t Validation Accuracy: 80.00%\n",
            "\n",
            "Epoch: 109 \tTraining Loss: 0.2008 \tValidation Loss: 0.1967\n",
            "\t\tTraining Accuracy: 80.00%\t Validation Accuracy: 80.00%\n",
            "\n",
            "Epoch: 110 \tTraining Loss: 0.2155 \tValidation Loss: 0.1965\n",
            "\t\tTraining Accuracy: 80.00%\t Validation Accuracy: 80.00%\n",
            "\n",
            "Epoch: 111 \tTraining Loss: 0.2356 \tValidation Loss: 0.1946\n",
            "\t\tTraining Accuracy: 80.00%\t Validation Accuracy: 80.00%\n",
            "\n",
            "Epoch: 112 \tTraining Loss: 0.1872 \tValidation Loss: 0.1940\n",
            "\t\tTraining Accuracy: 80.00%\t Validation Accuracy: 80.00%\n",
            "\n",
            "Epoch: 113 \tTraining Loss: 0.2303 \tValidation Loss: 0.1931\n",
            "\t\tTraining Accuracy: 80.00%\t Validation Accuracy: 80.00%\n",
            "\n",
            "Epoch: 114 \tTraining Loss: 0.2039 \tValidation Loss: 0.1920\n",
            "\t\tTraining Accuracy: 80.00%\t Validation Accuracy: 80.00%\n",
            "\n",
            "Epoch: 115 \tTraining Loss: 0.2026 \tValidation Loss: 0.1909\n",
            "\t\tTraining Accuracy: 100.00%\t Validation Accuracy: 80.00%\n",
            "\n",
            "Epoch: 116 \tTraining Loss: 0.2472 \tValidation Loss: 0.1897\n",
            "\t\tTraining Accuracy: 80.00%\t Validation Accuracy: 80.00%\n",
            "\n",
            "Epoch: 117 \tTraining Loss: 0.1873 \tValidation Loss: 0.1886\n",
            "\t\tTraining Accuracy: 80.00%\t Validation Accuracy: 80.00%\n",
            "\n",
            "Epoch: 118 \tTraining Loss: 0.1824 \tValidation Loss: 0.1876\n",
            "\t\tTraining Accuracy: 100.00%\t Validation Accuracy: 100.00%\n",
            "\n",
            "Epoch: 119 \tTraining Loss: 0.2054 \tValidation Loss: 0.1865\n",
            "\t\tTraining Accuracy: 80.00%\t Validation Accuracy: 100.00%\n",
            "\n",
            "Epoch: 120 \tTraining Loss: 0.2293 \tValidation Loss: 0.1857\n",
            "\t\tTraining Accuracy: 80.00%\t Validation Accuracy: 100.00%\n",
            "\n",
            "Epoch: 121 \tTraining Loss: 0.1801 \tValidation Loss: 0.1852\n",
            "\t\tTraining Accuracy: 100.00%\t Validation Accuracy: 80.00%\n",
            "\n",
            "Epoch: 122 \tTraining Loss: 0.1789 \tValidation Loss: 0.1838\n",
            "\t\tTraining Accuracy: 80.00%\t Validation Accuracy: 100.00%\n",
            "\n",
            "Epoch: 123 \tTraining Loss: 0.1776 \tValidation Loss: 0.1828\n",
            "\t\tTraining Accuracy: 80.00%\t Validation Accuracy: 100.00%\n",
            "\n",
            "Epoch: 124 \tTraining Loss: 0.1958 \tValidation Loss: 0.1787\n",
            "\t\tTraining Accuracy: 80.00%\t Validation Accuracy: 100.00%\n",
            "\n",
            "Epoch: 125 \tTraining Loss: 0.3273 \tValidation Loss: 0.1751\n",
            "\t\tTraining Accuracy: 80.00%\t Validation Accuracy: 100.00%\n",
            "\n",
            "Epoch: 126 \tTraining Loss: 0.1673 \tValidation Loss: 0.1703\n",
            "\t\tTraining Accuracy: 100.00%\t Validation Accuracy: 100.00%\n",
            "\n",
            "Epoch: 127 \tTraining Loss: 0.2370 \tValidation Loss: 0.1648\n",
            "\t\tTraining Accuracy: 100.00%\t Validation Accuracy: 100.00%\n",
            "\n",
            "Epoch: 128 \tTraining Loss: 0.2062 \tValidation Loss: 0.1577\n",
            "\t\tTraining Accuracy: 100.00%\t Validation Accuracy: 100.00%\n",
            "\n",
            "Epoch: 129 \tTraining Loss: 0.1482 \tValidation Loss: 0.1504\n",
            "\t\tTraining Accuracy: 100.00%\t Validation Accuracy: 100.00%\n",
            "\n",
            "Epoch: 130 \tTraining Loss: 0.2120 \tValidation Loss: 0.1414\n",
            "\t\tTraining Accuracy: 100.00%\t Validation Accuracy: 100.00%\n",
            "\n",
            "Epoch: 131 \tTraining Loss: 0.1769 \tValidation Loss: 0.1333\n",
            "\t\tTraining Accuracy: 100.00%\t Validation Accuracy: 100.00%\n",
            "\n",
            "Epoch: 132 \tTraining Loss: 0.2735 \tValidation Loss: 0.1252\n",
            "\t\tTraining Accuracy: 100.00%\t Validation Accuracy: 100.00%\n",
            "\n",
            "Epoch: 133 \tTraining Loss: 0.1187 \tValidation Loss: 0.1173\n",
            "\t\tTraining Accuracy: 100.00%\t Validation Accuracy: 100.00%\n",
            "\n",
            "Epoch: 134 \tTraining Loss: 0.1058 \tValidation Loss: 0.1074\n",
            "\t\tTraining Accuracy: 100.00%\t Validation Accuracy: 100.00%\n",
            "\n",
            "Epoch: 135 \tTraining Loss: 0.1177 \tValidation Loss: 0.0991\n",
            "\t\tTraining Accuracy: 100.00%\t Validation Accuracy: 100.00%\n",
            "\n",
            "Epoch: 136 \tTraining Loss: 0.0884 \tValidation Loss: 0.0900\n",
            "\t\tTraining Accuracy: 100.00%\t Validation Accuracy: 100.00%\n",
            "\n",
            "Epoch: 137 \tTraining Loss: 0.0697 \tValidation Loss: 0.0837\n",
            "\t\tTraining Accuracy: 100.00%\t Validation Accuracy: 100.00%\n",
            "\n",
            "Epoch: 138 \tTraining Loss: 0.0914 \tValidation Loss: 0.0778\n",
            "\t\tTraining Accuracy: 100.00%\t Validation Accuracy: 100.00%\n",
            "\n",
            "Epoch: 139 \tTraining Loss: 0.0638 \tValidation Loss: 0.0710\n",
            "\t\tTraining Accuracy: 100.00%\t Validation Accuracy: 100.00%\n",
            "\n",
            "Epoch: 140 \tTraining Loss: 0.0672 \tValidation Loss: 0.0657\n",
            "\t\tTraining Accuracy: 100.00%\t Validation Accuracy: 100.00%\n",
            "\n",
            "Epoch: 141 \tTraining Loss: 0.0673 \tValidation Loss: 0.0607\n",
            "\t\tTraining Accuracy: 100.00%\t Validation Accuracy: 100.00%\n",
            "\n",
            "Epoch: 142 \tTraining Loss: 0.0419 \tValidation Loss: 0.0568\n",
            "\t\tTraining Accuracy: 100.00%\t Validation Accuracy: 100.00%\n",
            "\n",
            "Epoch: 143 \tTraining Loss: 0.2696 \tValidation Loss: 0.0535\n",
            "\t\tTraining Accuracy: 100.00%\t Validation Accuracy: 100.00%\n",
            "\n",
            "Epoch: 144 \tTraining Loss: 0.1036 \tValidation Loss: 0.0505\n",
            "\t\tTraining Accuracy: 100.00%\t Validation Accuracy: 100.00%\n",
            "\n",
            "Epoch: 145 \tTraining Loss: 0.0431 \tValidation Loss: 0.0481\n",
            "\t\tTraining Accuracy: 100.00%\t Validation Accuracy: 100.00%\n",
            "\n",
            "Epoch: 146 \tTraining Loss: 0.0369 \tValidation Loss: 0.0459\n",
            "\t\tTraining Accuracy: 100.00%\t Validation Accuracy: 100.00%\n",
            "\n",
            "Epoch: 147 \tTraining Loss: 0.0347 \tValidation Loss: 0.0435\n",
            "\t\tTraining Accuracy: 100.00%\t Validation Accuracy: 100.00%\n",
            "\n",
            "Epoch: 148 \tTraining Loss: 0.0518 \tValidation Loss: 0.0412\n",
            "\t\tTraining Accuracy: 100.00%\t Validation Accuracy: 100.00%\n",
            "\n",
            "Epoch: 149 \tTraining Loss: 0.0503 \tValidation Loss: 0.0391\n",
            "\t\tTraining Accuracy: 100.00%\t Validation Accuracy: 100.00%\n",
            "\n",
            "Epoch: 150 \tTraining Loss: 0.0931 \tValidation Loss: 0.0372\n",
            "\t\tTraining Accuracy: 100.00%\t Validation Accuracy: 100.00%\n",
            "\n",
            "Epoch: 151 \tTraining Loss: 0.0275 \tValidation Loss: 0.0356\n",
            "\t\tTraining Accuracy: 100.00%\t Validation Accuracy: 100.00%\n",
            "\n",
            "Epoch: 152 \tTraining Loss: 0.0258 \tValidation Loss: 0.0344\n",
            "\t\tTraining Accuracy: 100.00%\t Validation Accuracy: 100.00%\n",
            "\n",
            "Epoch: 153 \tTraining Loss: 0.0249 \tValidation Loss: 0.0331\n",
            "\t\tTraining Accuracy: 100.00%\t Validation Accuracy: 100.00%\n",
            "\n",
            "Epoch: 154 \tTraining Loss: 0.0812 \tValidation Loss: 0.0318\n",
            "\t\tTraining Accuracy: 100.00%\t Validation Accuracy: 100.00%\n",
            "\n",
            "Epoch: 155 \tTraining Loss: 0.0493 \tValidation Loss: 0.0308\n",
            "\t\tTraining Accuracy: 100.00%\t Validation Accuracy: 100.00%\n",
            "\n",
            "Epoch: 156 \tTraining Loss: 0.0256 \tValidation Loss: 0.0300\n",
            "\t\tTraining Accuracy: 100.00%\t Validation Accuracy: 100.00%\n",
            "\n",
            "Epoch: 157 \tTraining Loss: 0.1753 \tValidation Loss: 0.0291\n",
            "\t\tTraining Accuracy: 80.00%\t Validation Accuracy: 100.00%\n",
            "\n",
            "Epoch: 158 \tTraining Loss: 0.0733 \tValidation Loss: 0.0291\n",
            "\t\tTraining Accuracy: 100.00%\t Validation Accuracy: 100.00%\n",
            "\n",
            "Epoch: 159 \tTraining Loss: 0.0208 \tValidation Loss: 0.0288\n",
            "\t\tTraining Accuracy: 100.00%\t Validation Accuracy: 100.00%\n",
            "\n",
            "Epoch: 160 \tTraining Loss: 0.0513 \tValidation Loss: 0.0282\n",
            "\t\tTraining Accuracy: 100.00%\t Validation Accuracy: 100.00%\n",
            "\n",
            "Epoch: 161 \tTraining Loss: 0.1926 \tValidation Loss: 0.0276\n",
            "\t\tTraining Accuracy: 80.00%\t Validation Accuracy: 100.00%\n",
            "\n",
            "Epoch: 162 \tTraining Loss: 0.0201 \tValidation Loss: 0.0273\n",
            "\t\tTraining Accuracy: 100.00%\t Validation Accuracy: 100.00%\n",
            "\n",
            "Epoch: 163 \tTraining Loss: 0.0436 \tValidation Loss: 0.0268\n",
            "\t\tTraining Accuracy: 100.00%\t Validation Accuracy: 100.00%\n",
            "\n",
            "Epoch: 164 \tTraining Loss: 0.0353 \tValidation Loss: 0.0259\n",
            "\t\tTraining Accuracy: 100.00%\t Validation Accuracy: 100.00%\n",
            "\n",
            "Epoch: 165 \tTraining Loss: 0.0679 \tValidation Loss: 0.0252\n",
            "\t\tTraining Accuracy: 100.00%\t Validation Accuracy: 100.00%\n",
            "\n",
            "Epoch: 166 \tTraining Loss: 0.2547 \tValidation Loss: 0.0246\n",
            "\t\tTraining Accuracy: 100.00%\t Validation Accuracy: 100.00%\n",
            "\n",
            "Epoch: 167 \tTraining Loss: 0.1864 \tValidation Loss: 0.0239\n",
            "\t\tTraining Accuracy: 100.00%\t Validation Accuracy: 100.00%\n",
            "\n",
            "Epoch: 168 \tTraining Loss: 0.0150 \tValidation Loss: 0.0233\n",
            "\t\tTraining Accuracy: 100.00%\t Validation Accuracy: 100.00%\n",
            "\n",
            "Epoch: 169 \tTraining Loss: 0.0475 \tValidation Loss: 0.0228\n",
            "\t\tTraining Accuracy: 100.00%\t Validation Accuracy: 100.00%\n",
            "\n",
            "Epoch: 170 \tTraining Loss: 0.0134 \tValidation Loss: 0.0222\n",
            "\t\tTraining Accuracy: 100.00%\t Validation Accuracy: 100.00%\n",
            "\n",
            "Epoch: 171 \tTraining Loss: 0.0343 \tValidation Loss: 0.0214\n",
            "\t\tTraining Accuracy: 100.00%\t Validation Accuracy: 100.00%\n",
            "\n",
            "Epoch: 172 \tTraining Loss: 0.0569 \tValidation Loss: 0.0206\n",
            "\t\tTraining Accuracy: 100.00%\t Validation Accuracy: 100.00%\n",
            "\n",
            "Epoch: 173 \tTraining Loss: 0.0143 \tValidation Loss: 0.0200\n",
            "\t\tTraining Accuracy: 100.00%\t Validation Accuracy: 100.00%\n",
            "\n",
            "Epoch: 174 \tTraining Loss: 0.0138 \tValidation Loss: 0.0195\n",
            "\t\tTraining Accuracy: 100.00%\t Validation Accuracy: 100.00%\n",
            "\n",
            "Epoch: 175 \tTraining Loss: 0.0134 \tValidation Loss: 0.0191\n",
            "\t\tTraining Accuracy: 100.00%\t Validation Accuracy: 100.00%\n",
            "\n",
            "Epoch: 176 \tTraining Loss: 0.0370 \tValidation Loss: 0.0185\n",
            "\t\tTraining Accuracy: 100.00%\t Validation Accuracy: 100.00%\n",
            "\n",
            "Epoch: 177 \tTraining Loss: 0.0126 \tValidation Loss: 0.0180\n",
            "\t\tTraining Accuracy: 100.00%\t Validation Accuracy: 100.00%\n",
            "\n",
            "Epoch: 178 \tTraining Loss: 0.0134 \tValidation Loss: 0.0175\n",
            "\t\tTraining Accuracy: 100.00%\t Validation Accuracy: 100.00%\n",
            "\n",
            "Epoch: 179 \tTraining Loss: 0.0316 \tValidation Loss: 0.0170\n",
            "\t\tTraining Accuracy: 100.00%\t Validation Accuracy: 100.00%\n",
            "\n",
            "Epoch: 180 \tTraining Loss: 0.0199 \tValidation Loss: 0.0166\n",
            "\t\tTraining Accuracy: 100.00%\t Validation Accuracy: 100.00%\n",
            "\n",
            "Epoch: 181 \tTraining Loss: 0.0140 \tValidation Loss: 0.0162\n",
            "\t\tTraining Accuracy: 100.00%\t Validation Accuracy: 100.00%\n",
            "\n",
            "Epoch: 182 \tTraining Loss: 0.1672 \tValidation Loss: 0.0160\n",
            "\t\tTraining Accuracy: 80.00%\t Validation Accuracy: 100.00%\n",
            "\n",
            "Epoch: 183 \tTraining Loss: 0.0276 \tValidation Loss: 0.0158\n",
            "\t\tTraining Accuracy: 100.00%\t Validation Accuracy: 100.00%\n",
            "\n",
            "Epoch: 184 \tTraining Loss: 0.0108 \tValidation Loss: 0.0156\n",
            "\t\tTraining Accuracy: 100.00%\t Validation Accuracy: 100.00%\n",
            "\n",
            "Epoch: 185 \tTraining Loss: 0.0181 \tValidation Loss: 0.0153\n",
            "\t\tTraining Accuracy: 100.00%\t Validation Accuracy: 100.00%\n",
            "\n",
            "Epoch: 186 \tTraining Loss: 0.1768 \tValidation Loss: 0.0151\n",
            "\t\tTraining Accuracy: 80.00%\t Validation Accuracy: 100.00%\n",
            "\n",
            "Epoch: 187 \tTraining Loss: 0.0301 \tValidation Loss: 0.0149\n",
            "\t\tTraining Accuracy: 100.00%\t Validation Accuracy: 100.00%\n",
            "\n",
            "Epoch: 188 \tTraining Loss: 0.0538 \tValidation Loss: 0.0146\n",
            "\t\tTraining Accuracy: 100.00%\t Validation Accuracy: 100.00%\n",
            "\n",
            "Epoch: 189 \tTraining Loss: 0.1752 \tValidation Loss: 0.0145\n",
            "\t\tTraining Accuracy: 80.00%\t Validation Accuracy: 100.00%\n",
            "\n",
            "Epoch: 190 \tTraining Loss: 0.0109 \tValidation Loss: 0.0143\n",
            "\t\tTraining Accuracy: 100.00%\t Validation Accuracy: 100.00%\n",
            "\n",
            "Epoch: 191 \tTraining Loss: 0.0341 \tValidation Loss: 0.0140\n",
            "\t\tTraining Accuracy: 100.00%\t Validation Accuracy: 100.00%\n",
            "\n",
            "Epoch: 192 \tTraining Loss: 0.0438 \tValidation Loss: 0.0136\n",
            "\t\tTraining Accuracy: 100.00%\t Validation Accuracy: 100.00%\n",
            "\n",
            "Epoch: 193 \tTraining Loss: 0.1569 \tValidation Loss: 0.0132\n",
            "\t\tTraining Accuracy: 100.00%\t Validation Accuracy: 100.00%\n",
            "\n",
            "Epoch: 194 \tTraining Loss: 0.0089 \tValidation Loss: 0.0131\n",
            "\t\tTraining Accuracy: 100.00%\t Validation Accuracy: 100.00%\n",
            "\n",
            "Epoch: 195 \tTraining Loss: 0.0401 \tValidation Loss: 0.0130\n",
            "\t\tTraining Accuracy: 100.00%\t Validation Accuracy: 100.00%\n",
            "\n",
            "Epoch: 196 \tTraining Loss: 0.0156 \tValidation Loss: 0.0127\n",
            "\t\tTraining Accuracy: 100.00%\t Validation Accuracy: 100.00%\n",
            "\n",
            "Epoch: 197 \tTraining Loss: 0.0084 \tValidation Loss: 0.0125\n",
            "\t\tTraining Accuracy: 100.00%\t Validation Accuracy: 100.00%\n",
            "\n",
            "Epoch: 198 \tTraining Loss: 0.1711 \tValidation Loss: 0.0123\n",
            "\t\tTraining Accuracy: 80.00%\t Validation Accuracy: 100.00%\n",
            "\n",
            "Epoch: 199 \tTraining Loss: 0.1668 \tValidation Loss: 0.0122\n",
            "\t\tTraining Accuracy: 100.00%\t Validation Accuracy: 100.00%\n",
            "\n",
            "Epoch: 200 \tTraining Loss: 0.0187 \tValidation Loss: 0.0120\n",
            "\t\tTraining Accuracy: 100.00%\t Validation Accuracy: 100.00%\n",
            "\n",
            "Epoch: 201 \tTraining Loss: 0.0167 \tValidation Loss: 0.0117\n",
            "\t\tTraining Accuracy: 100.00%\t Validation Accuracy: 100.00%\n",
            "\n",
            "Epoch: 202 \tTraining Loss: 0.0272 \tValidation Loss: 0.0115\n",
            "\t\tTraining Accuracy: 100.00%\t Validation Accuracy: 100.00%\n",
            "\n",
            "Epoch: 203 \tTraining Loss: 0.0064 \tValidation Loss: 0.0112\n",
            "\t\tTraining Accuracy: 100.00%\t Validation Accuracy: 100.00%\n",
            "\n",
            "Epoch: 204 \tTraining Loss: 0.0158 \tValidation Loss: 0.0110\n",
            "\t\tTraining Accuracy: 100.00%\t Validation Accuracy: 100.00%\n",
            "\n",
            "Epoch: 205 \tTraining Loss: 0.0338 \tValidation Loss: 0.0108\n",
            "\t\tTraining Accuracy: 100.00%\t Validation Accuracy: 100.00%\n",
            "\n",
            "Epoch: 206 \tTraining Loss: 0.0098 \tValidation Loss: 0.0105\n",
            "\t\tTraining Accuracy: 100.00%\t Validation Accuracy: 100.00%\n",
            "\n",
            "Epoch: 207 \tTraining Loss: 0.1245 \tValidation Loss: 0.0104\n",
            "\t\tTraining Accuracy: 100.00%\t Validation Accuracy: 100.00%\n",
            "\n",
            "Epoch: 208 \tTraining Loss: 0.0080 \tValidation Loss: 0.0104\n",
            "\t\tTraining Accuracy: 100.00%\t Validation Accuracy: 100.00%\n",
            "\n",
            "Epoch: 209 \tTraining Loss: 0.0232 \tValidation Loss: 0.0103\n",
            "\t\tTraining Accuracy: 100.00%\t Validation Accuracy: 100.00%\n",
            "\n",
            "Epoch: 210 \tTraining Loss: 0.0086 \tValidation Loss: 0.0101\n",
            "\t\tTraining Accuracy: 100.00%\t Validation Accuracy: 100.00%\n",
            "\n",
            "Epoch: 211 \tTraining Loss: 0.0066 \tValidation Loss: 0.0100\n",
            "\t\tTraining Accuracy: 100.00%\t Validation Accuracy: 100.00%\n",
            "\n",
            "Epoch: 212 \tTraining Loss: 0.0125 \tValidation Loss: 0.0098\n",
            "\t\tTraining Accuracy: 100.00%\t Validation Accuracy: 100.00%\n",
            "\n",
            "Epoch: 213 \tTraining Loss: 0.0082 \tValidation Loss: 0.0096\n",
            "\t\tTraining Accuracy: 100.00%\t Validation Accuracy: 100.00%\n",
            "\n",
            "Epoch: 214 \tTraining Loss: 0.0061 \tValidation Loss: 0.0094\n",
            "\t\tTraining Accuracy: 100.00%\t Validation Accuracy: 100.00%\n",
            "\n",
            "Epoch: 215 \tTraining Loss: 0.0809 \tValidation Loss: 0.0092\n",
            "\t\tTraining Accuracy: 100.00%\t Validation Accuracy: 100.00%\n",
            "\n",
            "Epoch: 216 \tTraining Loss: 0.0187 \tValidation Loss: 0.0090\n",
            "\t\tTraining Accuracy: 100.00%\t Validation Accuracy: 100.00%\n",
            "\n",
            "Epoch: 217 \tTraining Loss: 0.0057 \tValidation Loss: 0.0088\n",
            "\t\tTraining Accuracy: 100.00%\t Validation Accuracy: 100.00%\n",
            "\n",
            "Epoch: 218 \tTraining Loss: 0.0157 \tValidation Loss: 0.0087\n",
            "\t\tTraining Accuracy: 100.00%\t Validation Accuracy: 100.00%\n",
            "\n",
            "Epoch: 219 \tTraining Loss: 0.0055 \tValidation Loss: 0.0085\n",
            "\t\tTraining Accuracy: 100.00%\t Validation Accuracy: 100.00%\n",
            "\n",
            "Epoch: 220 \tTraining Loss: 0.0116 \tValidation Loss: 0.0083\n",
            "\t\tTraining Accuracy: 100.00%\t Validation Accuracy: 100.00%\n",
            "\n",
            "Epoch: 221 \tTraining Loss: 0.0205 \tValidation Loss: 0.0082\n",
            "\t\tTraining Accuracy: 100.00%\t Validation Accuracy: 100.00%\n",
            "\n",
            "Epoch: 222 \tTraining Loss: 0.0122 \tValidation Loss: 0.0080\n",
            "\t\tTraining Accuracy: 100.00%\t Validation Accuracy: 100.00%\n",
            "\n",
            "Epoch: 223 \tTraining Loss: 0.0108 \tValidation Loss: 0.0079\n",
            "\t\tTraining Accuracy: 100.00%\t Validation Accuracy: 100.00%\n",
            "\n",
            "Epoch: 224 \tTraining Loss: 0.0049 \tValidation Loss: 0.0077\n",
            "\t\tTraining Accuracy: 100.00%\t Validation Accuracy: 100.00%\n",
            "\n",
            "Epoch: 225 \tTraining Loss: 0.0048 \tValidation Loss: 0.0076\n",
            "\t\tTraining Accuracy: 100.00%\t Validation Accuracy: 100.00%\n",
            "\n",
            "Epoch: 226 \tTraining Loss: 0.0119 \tValidation Loss: 0.0075\n",
            "\t\tTraining Accuracy: 100.00%\t Validation Accuracy: 100.00%\n",
            "\n",
            "Epoch: 227 \tTraining Loss: 0.0046 \tValidation Loss: 0.0073\n",
            "\t\tTraining Accuracy: 100.00%\t Validation Accuracy: 100.00%\n",
            "\n",
            "Epoch: 228 \tTraining Loss: 0.0045 \tValidation Loss: 0.0072\n",
            "\t\tTraining Accuracy: 100.00%\t Validation Accuracy: 100.00%\n",
            "\n",
            "Epoch: 229 \tTraining Loss: 0.2382 \tValidation Loss: 0.0072\n",
            "\t\tTraining Accuracy: 80.00%\t Validation Accuracy: 100.00%\n",
            "\n",
            "Epoch: 230 \tTraining Loss: 0.0098 \tValidation Loss: 0.0073\n",
            "\t\tTraining Accuracy: 100.00%\t Validation Accuracy: 100.00%\n",
            "\n",
            "Epoch: 231 \tTraining Loss: 0.0116 \tValidation Loss: 0.0073\n",
            "\t\tTraining Accuracy: 100.00%\t Validation Accuracy: 100.00%\n",
            "\n",
            "Epoch: 232 \tTraining Loss: 0.0045 \tValidation Loss: 0.0073\n",
            "\t\tTraining Accuracy: 100.00%\t Validation Accuracy: 100.00%\n",
            "\n",
            "Epoch: 233 \tTraining Loss: 0.0045 \tValidation Loss: 0.0072\n",
            "\t\tTraining Accuracy: 100.00%\t Validation Accuracy: 100.00%\n",
            "\n",
            "Epoch: 234 \tTraining Loss: 0.0083 \tValidation Loss: 0.0071\n",
            "\t\tTraining Accuracy: 100.00%\t Validation Accuracy: 100.00%\n",
            "\n",
            "Epoch: 235 \tTraining Loss: 0.0044 \tValidation Loss: 0.0070\n",
            "\t\tTraining Accuracy: 100.00%\t Validation Accuracy: 100.00%\n",
            "\n",
            "Epoch: 236 \tTraining Loss: 0.0346 \tValidation Loss: 0.0069\n",
            "\t\tTraining Accuracy: 100.00%\t Validation Accuracy: 100.00%\n",
            "\n",
            "Epoch: 237 \tTraining Loss: 0.0181 \tValidation Loss: 0.0068\n",
            "\t\tTraining Accuracy: 100.00%\t Validation Accuracy: 100.00%\n",
            "\n",
            "Epoch: 238 \tTraining Loss: 0.1702 \tValidation Loss: 0.0069\n",
            "\t\tTraining Accuracy: 80.00%\t Validation Accuracy: 100.00%\n",
            "\n",
            "Epoch: 239 \tTraining Loss: 0.1697 \tValidation Loss: 0.0070\n",
            "\t\tTraining Accuracy: 80.00%\t Validation Accuracy: 100.00%\n",
            "\n",
            "Epoch: 240 \tTraining Loss: 0.1102 \tValidation Loss: 0.0071\n",
            "\t\tTraining Accuracy: 100.00%\t Validation Accuracy: 100.00%\n",
            "\n",
            "Epoch: 241 \tTraining Loss: 0.0219 \tValidation Loss: 0.0072\n",
            "\t\tTraining Accuracy: 100.00%\t Validation Accuracy: 100.00%\n",
            "\n",
            "Epoch: 242 \tTraining Loss: 0.0039 \tValidation Loss: 0.0072\n",
            "\t\tTraining Accuracy: 100.00%\t Validation Accuracy: 100.00%\n",
            "\n",
            "Epoch: 243 \tTraining Loss: 0.0045 \tValidation Loss: 0.0072\n",
            "\t\tTraining Accuracy: 100.00%\t Validation Accuracy: 100.00%\n",
            "\n",
            "Epoch: 244 \tTraining Loss: 0.0172 \tValidation Loss: 0.0072\n",
            "\t\tTraining Accuracy: 100.00%\t Validation Accuracy: 100.00%\n",
            "\n",
            "Epoch: 245 \tTraining Loss: 0.0044 \tValidation Loss: 0.0071\n",
            "\t\tTraining Accuracy: 100.00%\t Validation Accuracy: 100.00%\n",
            "\n",
            "Epoch: 246 \tTraining Loss: 0.0114 \tValidation Loss: 0.0070\n",
            "\t\tTraining Accuracy: 100.00%\t Validation Accuracy: 100.00%\n",
            "\n",
            "Epoch: 247 \tTraining Loss: 0.1008 \tValidation Loss: 0.0070\n",
            "\t\tTraining Accuracy: 100.00%\t Validation Accuracy: 100.00%\n",
            "\n",
            "Epoch: 248 \tTraining Loss: 0.0076 \tValidation Loss: 0.0070\n",
            "\t\tTraining Accuracy: 100.00%\t Validation Accuracy: 100.00%\n",
            "\n",
            "Epoch: 249 \tTraining Loss: 0.2240 \tValidation Loss: 0.0070\n",
            "\t\tTraining Accuracy: 80.00%\t Validation Accuracy: 100.00%\n",
            "\n",
            "Epoch: 250 \tTraining Loss: 0.0074 \tValidation Loss: 0.0069\n",
            "\t\tTraining Accuracy: 100.00%\t Validation Accuracy: 100.00%\n",
            "\n",
            "Epoch: 251 \tTraining Loss: 0.0151 \tValidation Loss: 0.0068\n",
            "\t\tTraining Accuracy: 100.00%\t Validation Accuracy: 100.00%\n",
            "\n",
            "Epoch: 252 \tTraining Loss: 0.0049 \tValidation Loss: 0.0067\n",
            "\t\tTraining Accuracy: 100.00%\t Validation Accuracy: 100.00%\n",
            "\n",
            "Epoch: 253 \tTraining Loss: 0.0041 \tValidation Loss: 0.0065\n",
            "\t\tTraining Accuracy: 100.00%\t Validation Accuracy: 100.00%\n",
            "\n",
            "Epoch: 254 \tTraining Loss: 0.0040 \tValidation Loss: 0.0064\n",
            "\t\tTraining Accuracy: 100.00%\t Validation Accuracy: 100.00%\n",
            "\n",
            "Epoch: 255 \tTraining Loss: 0.0062 \tValidation Loss: 0.0063\n",
            "\t\tTraining Accuracy: 100.00%\t Validation Accuracy: 100.00%\n",
            "\n",
            "Epoch: 256 \tTraining Loss: 0.0155 \tValidation Loss: 0.0062\n",
            "\t\tTraining Accuracy: 100.00%\t Validation Accuracy: 100.00%\n",
            "\n",
            "Epoch: 257 \tTraining Loss: 0.0038 \tValidation Loss: 0.0061\n",
            "\t\tTraining Accuracy: 100.00%\t Validation Accuracy: 100.00%\n",
            "\n",
            "Epoch: 258 \tTraining Loss: 0.1771 \tValidation Loss: 0.0060\n",
            "\t\tTraining Accuracy: 80.00%\t Validation Accuracy: 100.00%\n",
            "\n",
            "Epoch: 259 \tTraining Loss: 0.0033 \tValidation Loss: 0.0059\n",
            "\t\tTraining Accuracy: 100.00%\t Validation Accuracy: 100.00%\n",
            "\n",
            "Epoch: 260 \tTraining Loss: 0.0797 \tValidation Loss: 0.0058\n",
            "\t\tTraining Accuracy: 100.00%\t Validation Accuracy: 100.00%\n",
            "\n",
            "Epoch: 261 \tTraining Loss: 0.0104 \tValidation Loss: 0.0057\n",
            "\t\tTraining Accuracy: 100.00%\t Validation Accuracy: 100.00%\n",
            "\n",
            "Epoch: 262 \tTraining Loss: 0.0125 \tValidation Loss: 0.0056\n",
            "\t\tTraining Accuracy: 100.00%\t Validation Accuracy: 100.00%\n",
            "\n",
            "Epoch: 263 \tTraining Loss: 0.0049 \tValidation Loss: 0.0055\n",
            "\t\tTraining Accuracy: 100.00%\t Validation Accuracy: 100.00%\n",
            "\n",
            "Epoch: 264 \tTraining Loss: 0.1691 \tValidation Loss: 0.0055\n",
            "\t\tTraining Accuracy: 100.00%\t Validation Accuracy: 100.00%\n",
            "\n",
            "Epoch: 265 \tTraining Loss: 0.0118 \tValidation Loss: 0.0054\n",
            "\t\tTraining Accuracy: 100.00%\t Validation Accuracy: 100.00%\n",
            "\n",
            "Epoch: 266 \tTraining Loss: 0.0040 \tValidation Loss: 0.0053\n",
            "\t\tTraining Accuracy: 100.00%\t Validation Accuracy: 100.00%\n",
            "\n",
            "Epoch: 267 \tTraining Loss: 0.0125 \tValidation Loss: 0.0053\n",
            "\t\tTraining Accuracy: 100.00%\t Validation Accuracy: 100.00%\n",
            "\n",
            "Epoch: 268 \tTraining Loss: 0.0119 \tValidation Loss: 0.0052\n",
            "\t\tTraining Accuracy: 100.00%\t Validation Accuracy: 100.00%\n",
            "\n",
            "Epoch: 269 \tTraining Loss: 0.0166 \tValidation Loss: 0.0051\n",
            "\t\tTraining Accuracy: 100.00%\t Validation Accuracy: 100.00%\n",
            "\n",
            "Epoch: 270 \tTraining Loss: 0.0032 \tValidation Loss: 0.0050\n",
            "\t\tTraining Accuracy: 100.00%\t Validation Accuracy: 100.00%\n",
            "\n",
            "Epoch: 271 \tTraining Loss: 0.0108 \tValidation Loss: 0.0050\n",
            "\t\tTraining Accuracy: 100.00%\t Validation Accuracy: 100.00%\n",
            "\n",
            "Epoch: 272 \tTraining Loss: 0.0110 \tValidation Loss: 0.0049\n",
            "\t\tTraining Accuracy: 100.00%\t Validation Accuracy: 100.00%\n",
            "\n",
            "Epoch: 273 \tTraining Loss: 0.0037 \tValidation Loss: 0.0048\n",
            "\t\tTraining Accuracy: 100.00%\t Validation Accuracy: 100.00%\n",
            "\n",
            "Epoch: 274 \tTraining Loss: 0.1674 \tValidation Loss: 0.0048\n",
            "\t\tTraining Accuracy: 100.00%\t Validation Accuracy: 100.00%\n",
            "\n",
            "Epoch: 275 \tTraining Loss: 0.0062 \tValidation Loss: 0.0047\n",
            "\t\tTraining Accuracy: 100.00%\t Validation Accuracy: 100.00%\n",
            "\n",
            "Epoch: 276 \tTraining Loss: 0.0113 \tValidation Loss: 0.0047\n",
            "\t\tTraining Accuracy: 100.00%\t Validation Accuracy: 100.00%\n",
            "\n",
            "Epoch: 277 \tTraining Loss: 0.1692 \tValidation Loss: 0.0046\n",
            "\t\tTraining Accuracy: 100.00%\t Validation Accuracy: 100.00%\n",
            "\n",
            "Epoch: 278 \tTraining Loss: 0.0024 \tValidation Loss: 0.0046\n",
            "\t\tTraining Accuracy: 100.00%\t Validation Accuracy: 100.00%\n",
            "\n",
            "Epoch: 279 \tTraining Loss: 0.0460 \tValidation Loss: 0.0045\n",
            "\t\tTraining Accuracy: 100.00%\t Validation Accuracy: 100.00%\n",
            "\n",
            "Epoch: 280 \tTraining Loss: 0.0085 \tValidation Loss: 0.0044\n",
            "\t\tTraining Accuracy: 100.00%\t Validation Accuracy: 100.00%\n",
            "\n",
            "Epoch: 281 \tTraining Loss: 0.0084 \tValidation Loss: 0.0044\n",
            "\t\tTraining Accuracy: 100.00%\t Validation Accuracy: 100.00%\n",
            "\n",
            "Epoch: 282 \tTraining Loss: 0.0025 \tValidation Loss: 0.0043\n",
            "\t\tTraining Accuracy: 100.00%\t Validation Accuracy: 100.00%\n",
            "\n",
            "Epoch: 283 \tTraining Loss: 0.0134 \tValidation Loss: 0.0043\n",
            "\t\tTraining Accuracy: 100.00%\t Validation Accuracy: 100.00%\n",
            "\n",
            "Epoch: 284 \tTraining Loss: 0.0061 \tValidation Loss: 0.0042\n",
            "\t\tTraining Accuracy: 100.00%\t Validation Accuracy: 100.00%\n",
            "\n",
            "Epoch: 285 \tTraining Loss: 0.0024 \tValidation Loss: 0.0042\n",
            "\t\tTraining Accuracy: 100.00%\t Validation Accuracy: 100.00%\n",
            "\n",
            "Epoch: 286 \tTraining Loss: 0.0177 \tValidation Loss: 0.0041\n",
            "\t\tTraining Accuracy: 100.00%\t Validation Accuracy: 100.00%\n",
            "\n",
            "Epoch: 287 \tTraining Loss: 0.0024 \tValidation Loss: 0.0041\n",
            "\t\tTraining Accuracy: 100.00%\t Validation Accuracy: 100.00%\n",
            "\n",
            "Epoch: 288 \tTraining Loss: 0.0024 \tValidation Loss: 0.0040\n",
            "\t\tTraining Accuracy: 100.00%\t Validation Accuracy: 100.00%\n",
            "\n",
            "Epoch: 289 \tTraining Loss: 0.0029 \tValidation Loss: 0.0040\n",
            "\t\tTraining Accuracy: 100.00%\t Validation Accuracy: 100.00%\n",
            "\n",
            "Epoch: 290 \tTraining Loss: 0.1649 \tValidation Loss: 0.0040\n",
            "\t\tTraining Accuracy: 100.00%\t Validation Accuracy: 100.00%\n",
            "\n",
            "Epoch: 291 \tTraining Loss: 0.0023 \tValidation Loss: 0.0040\n",
            "\t\tTraining Accuracy: 100.00%\t Validation Accuracy: 100.00%\n",
            "\n",
            "Epoch: 292 \tTraining Loss: 0.0023 \tValidation Loss: 0.0040\n",
            "\t\tTraining Accuracy: 100.00%\t Validation Accuracy: 100.00%\n",
            "\n",
            "Epoch: 293 \tTraining Loss: 0.0040 \tValidation Loss: 0.0039\n",
            "\t\tTraining Accuracy: 100.00%\t Validation Accuracy: 100.00%\n",
            "\n",
            "Epoch: 294 \tTraining Loss: 0.0140 \tValidation Loss: 0.0039\n",
            "\t\tTraining Accuracy: 100.00%\t Validation Accuracy: 100.00%\n",
            "\n",
            "Epoch: 295 \tTraining Loss: 0.1695 \tValidation Loss: 0.0039\n",
            "\t\tTraining Accuracy: 100.00%\t Validation Accuracy: 100.00%\n",
            "\n",
            "Epoch: 296 \tTraining Loss: 0.0094 \tValidation Loss: 0.0038\n",
            "\t\tTraining Accuracy: 100.00%\t Validation Accuracy: 100.00%\n",
            "\n",
            "Epoch: 297 \tTraining Loss: 0.0036 \tValidation Loss: 0.0038\n",
            "\t\tTraining Accuracy: 100.00%\t Validation Accuracy: 100.00%\n",
            "\n",
            "Epoch: 298 \tTraining Loss: 0.0105 \tValidation Loss: 0.0038\n",
            "\t\tTraining Accuracy: 100.00%\t Validation Accuracy: 100.00%\n",
            "\n",
            "Epoch: 299 \tTraining Loss: 0.0344 \tValidation Loss: 0.0037\n",
            "\t\tTraining Accuracy: 100.00%\t Validation Accuracy: 100.00%\n",
            "\n",
            "Best epoch: 299 with loss: 0.00 and acc: 100.00%\n",
            "377.95 total seconds elapsed. 1.26 seconds per epoch.\n"
          ]
        }
      ],
      "source": [
        "from timeit import default_timer as timer\n",
        "save_file_name = f'toy_model_best_model.pt'\n",
        "train_on_gpu = cuda.is_available()\n",
        "\n",
        "toy_model = toy_model.cuda()\n",
        "# print(f\"model: {next(toy_model.parameters()).is_cuda}\")\n",
        "\n",
        "# criterion = criterion.cuda()\n",
        "\n",
        "model, history = train(toy_model,\n",
        "    criterion,\n",
        "    optimizer,\n",
        "    dataloaders['train'],\n",
        "    dataloaders['valid'],\n",
        "    save_file_name=save_file_name,\n",
        "    n_epochs=300,\n",
        "    print_every=1.0)"
      ]
    },
    {
      "cell_type": "markdown",
      "metadata": {
        "id": "n5oRuk5hSEYx"
      },
      "source": [
        "Now, we can check the losses and accuracy during the training."
      ]
    },
    {
      "cell_type": "code",
      "execution_count": null,
      "metadata": {
        "id": "-yJuZ4W2SD1W",
        "colab": {
          "base_uri": "https://localhost:8080/",
          "height": 439
        },
        "outputId": "9d32222d-f6f9-4272-b81a-cd0ec11cd86d"
      },
      "outputs": [
        {
          "output_type": "execute_result",
          "data": {
            "text/plain": [
              "<Figure size 576x432 with 0 Axes>"
            ]
          },
          "metadata": {},
          "execution_count": 19
        },
        {
          "output_type": "execute_result",
          "data": {
            "text/plain": [
              "[<matplotlib.lines.Line2D at 0x7fadf6c01d90>]"
            ]
          },
          "metadata": {},
          "execution_count": 19
        },
        {
          "output_type": "execute_result",
          "data": {
            "text/plain": [
              "[<matplotlib.lines.Line2D at 0x7fadf677c7d0>]"
            ]
          },
          "metadata": {},
          "execution_count": 19
        },
        {
          "output_type": "execute_result",
          "data": {
            "text/plain": [
              "<matplotlib.legend.Legend at 0x7fadf677cb90>"
            ]
          },
          "metadata": {},
          "execution_count": 19
        },
        {
          "output_type": "execute_result",
          "data": {
            "text/plain": [
              "Text(0.5, 0, 'Epoch')"
            ]
          },
          "metadata": {},
          "execution_count": 19
        },
        {
          "output_type": "execute_result",
          "data": {
            "text/plain": [
              "Text(0, 0.5, 'Average Negative Log Likelihood')"
            ]
          },
          "metadata": {},
          "execution_count": 19
        },
        {
          "output_type": "execute_result",
          "data": {
            "text/plain": [
              "Text(0.5, 1.0, 'Training and Validation Losses')"
            ]
          },
          "metadata": {},
          "execution_count": 19
        },
        {
          "output_type": "display_data",
          "data": {
            "text/plain": [
              "<Figure size 576x432 with 1 Axes>"
            ],
            "image/png": "[encoded data removed]"
          },
          "metadata": {
            "needs_background": "light"
          }
        }
      ],
      "source": [
        "plt.figure(figsize=(8, 6))\n",
        "for c in ['train_loss', 'valid_loss']:\n",
        "    plt.plot(\n",
        "        history[c], label=c)\n",
        "plt.legend()\n",
        "plt.xlabel('Epoch')\n",
        "plt.ylabel('Average Negative Log Likelihood')\n",
        "plt.title('Training and Validation Losses')\n",
        "plt.show()"
      ]
    },
    {
      "cell_type": "code",
      "execution_count": null,
      "metadata": {
        "id": "nT_VflxLSPca",
        "colab": {
          "base_uri": "https://localhost:8080/",
          "height": 439
        },
        "outputId": "ad793b25-7868-4864-bac5-8ac502f4efb1"
      },
      "outputs": [
        {
          "output_type": "execute_result",
          "data": {
            "text/plain": [
              "<Figure size 576x432 with 0 Axes>"
            ]
          },
          "metadata": {},
          "execution_count": 20
        },
        {
          "output_type": "execute_result",
          "data": {
            "text/plain": [
              "[<matplotlib.lines.Line2D at 0x7fadf64a8990>]"
            ]
          },
          "metadata": {},
          "execution_count": 20
        },
        {
          "output_type": "execute_result",
          "data": {
            "text/plain": [
              "[<matplotlib.lines.Line2D at 0x7fadf64b51d0>]"
            ]
          },
          "metadata": {},
          "execution_count": 20
        },
        {
          "output_type": "execute_result",
          "data": {
            "text/plain": [
              "<matplotlib.legend.Legend at 0x7fadf67f0cd0>"
            ]
          },
          "metadata": {},
          "execution_count": 20
        },
        {
          "output_type": "execute_result",
          "data": {
            "text/plain": [
              "Text(0.5, 0, 'Epoch')"
            ]
          },
          "metadata": {},
          "execution_count": 20
        },
        {
          "output_type": "execute_result",
          "data": {
            "text/plain": [
              "Text(0, 0.5, 'Average Accuracy')"
            ]
          },
          "metadata": {},
          "execution_count": 20
        },
        {
          "output_type": "execute_result",
          "data": {
            "text/plain": [
              "Text(0.5, 1.0, 'Training and Validation Accuracy')"
            ]
          },
          "metadata": {},
          "execution_count": 20
        },
        {
          "output_type": "display_data",
          "data": {
            "text/plain": [
              "<Figure size 576x432 with 1 Axes>"
            ],
            "image/png": "[encoded data removed]"
          },
          "metadata": {
            "needs_background": "light"
          }
        }
      ],
      "source": [
        "plt.figure(figsize=(8, 6))\n",
        "for c in ['train_acc', 'valid_acc']:\n",
        "    plt.plot(\n",
        "        100 * history[c], label=c)\n",
        "plt.legend()\n",
        "plt.xlabel('Epoch')\n",
        "plt.ylabel('Average Accuracy')\n",
        "plt.title('Training and Validation Accuracy')\n",
        "plt.show()"
      ]
    },
    {
      "cell_type": "markdown",
      "metadata": {
        "id": "FQyFOOa_SUZB"
      },
      "source": [
        "## Task 3: Train and Improve The Performance a Network With MINIST Data\n",
        "Now we may use the MINIST dataset to train our model. First, we will load the MINIST dataset."
      ]
    },
    {
      "cell_type": "code",
      "execution_count": null,
      "metadata": {
        "id": "fID7AMV0TZUO",
        "colab": {
          "base_uri": "https://localhost:8080/",
          "height": 423,
          "referenced_widgets": [
            "1e1cbb95f5b6476daa17a93afa728c22",
            "b17ad510e6324d36bb7e96ff64abae85",
            "ce6a3f9a516c4bc3b9aebbc8ea9e562f",
            "6582fe726f4c4301803fd92867328736",
            "7b140634df6641cca17fe1bd5d03cca1",
            "e9e18e0dfbdd443ba998ba0841db528e",
            "b15caa85ca884bf4b5dd7364c4151a0a",
            "beb1bd4d4f4a412da47146cc212a4cf1",
            "f0ce785a0d0943e595c5f42e68b58876",
            "7d6da3d4b33b4411bdb4fe0e76d9b0db",
            "40597e639b7c47398cae8ff6a3b9270b",
            "ae56703fbd2743a984adc9f7668c5b41",
            "5405d70d10504b4db238721367a4135b",
            "30db2397a413459c91f4e2102c5dd14d",
            "dea5eb3327bb4686801f63da16d245f6",
            "ccec7375d9314b06ade0daede46195b7",
            "abbad2e2655a4ca68ba1fadc37ab3b0b",
            "f3e2fbdb452c4db1b1c83f74b84fde0a",
            "958fa8cdfc394f17950334a2a8516e6e",
            "eac801844dc94c6c8c9d31e75fa6fe3a",
            "50d41c11bcea40d893901dddc68c3f76",
            "6fe06a28286b470891f5b8d03f131c3d",
            "11b21e5f4a954cd1b504536272084caa",
            "bcd150f46d23427394f48005766d6c89",
            "9fc5e1b622bd4fc69e05c772d9df7518",
            "3e9b54b08aca457eb43f6a00f719a822",
            "735a68704de841d7bbccb28c26cfd5e0",
            "c8b7b3bf738b4a11b444ac44a8b80f56",
            "432cfda0eb4841358f93b00d78b9e6e4",
            "899c0e4382ad4528a9801ffe9a6a476f",
            "b0f679d8c2fb42af9d03a51cfab5ac1b",
            "f22b63fb9cb94404b9e82231be9b517e",
            "ec851fdf02654e8cb2119feb469fd767",
            "5edc10850e2340f9973b257b52e2a1d2",
            "3e1d147f27de42ac9fa68591495494b4",
            "6c0e680990dd4d1b81c2bbb43a755619",
            "10eefa541c3c4592bde0a25ca260b7b4",
            "85579870338b4357b3322e7bc609b59f",
            "c2e7020ca61746be8b441819ed35ac46",
            "6752d23f375348dca42c2c716b9b0eb6",
            "916c189b45974662ac5d27c8b718860c",
            "11ea9c313b2d48f9a9c229af3e3bb5f6",
            "c95c562869ea4fb29e5ba64bd2c3afe5",
            "b9466425ad72400a8cebbfaffd2a979f"
          ]
        },
        "outputId": "873737e3-faad-42de-fa80-b780a8c28fc2"
      },
      "outputs": [
        {
          "output_type": "stream",
          "name": "stdout",
          "text": [
            "Downloading http://yann.lecun.com/exdb/mnist/train-images-idx3-ubyte.gz\n",
            "Downloading http://yann.lecun.com/exdb/mnist/train-images-idx3-ubyte.gz to ../data/MNIST/raw/train-images-idx3-ubyte.gz\n"
          ]
        },
        {
          "output_type": "display_data",
          "data": {
            "text/plain": [
              "  0%|          | 0/9912422 [00:00<?, ?it/s]"
            ],
            "application/vnd.jupyter.widget-view+json": {
              "version_major": 2,
              "version_minor": 0,
              "model_id": "1e1cbb95f5b6476daa17a93afa728c22"
            }
          },
          "metadata": {}
        },
        {
          "output_type": "stream",
          "name": "stdout",
          "text": [
            "Extracting ../data/MNIST/raw/train-images-idx3-ubyte.gz to ../data/MNIST/raw\n",
            "\n",
            "Downloading http://yann.lecun.com/exdb/mnist/train-labels-idx1-ubyte.gz\n",
            "Downloading http://yann.lecun.com/exdb/mnist/train-labels-idx1-ubyte.gz to ../data/MNIST/raw/train-labels-idx1-ubyte.gz\n"
          ]
        },
        {
          "output_type": "display_data",
          "data": {
            "text/plain": [
              "  0%|          | 0/28881 [00:00<?, ?it/s]"
            ],
            "application/vnd.jupyter.widget-view+json": {
              "version_major": 2,
              "version_minor": 0,
              "model_id": "ae56703fbd2743a984adc9f7668c5b41"
            }
          },
          "metadata": {}
        },
        {
          "output_type": "stream",
          "name": "stdout",
          "text": [
            "Extracting ../data/MNIST/raw/train-labels-idx1-ubyte.gz to ../data/MNIST/raw\n",
            "\n",
            "Downloading http://yann.lecun.com/exdb/mnist/t10k-images-idx3-ubyte.gz\n",
            "Downloading http://yann.lecun.com/exdb/mnist/t10k-images-idx3-ubyte.gz to ../data/MNIST/raw/t10k-images-idx3-ubyte.gz\n"
          ]
        },
        {
          "output_type": "display_data",
          "data": {
            "text/plain": [
              "  0%|          | 0/1648877 [00:00<?, ?it/s]"
            ],
            "application/vnd.jupyter.widget-view+json": {
              "version_major": 2,
              "version_minor": 0,
              "model_id": "11b21e5f4a954cd1b504536272084caa"
            }
          },
          "metadata": {}
        },
        {
          "output_type": "stream",
          "name": "stdout",
          "text": [
            "Extracting ../data/MNIST/raw/t10k-images-idx3-ubyte.gz to ../data/MNIST/raw\n",
            "\n",
            "Downloading http://yann.lecun.com/exdb/mnist/t10k-labels-idx1-ubyte.gz\n",
            "Downloading http://yann.lecun.com/exdb/mnist/t10k-labels-idx1-ubyte.gz to ../data/MNIST/raw/t10k-labels-idx1-ubyte.gz\n"
          ]
        },
        {
          "output_type": "display_data",
          "data": {
            "text/plain": [
              "  0%|          | 0/4542 [00:00<?, ?it/s]"
            ],
            "application/vnd.jupyter.widget-view+json": {
              "version_major": 2,
              "version_minor": 0,
              "model_id": "5edc10850e2340f9973b257b52e2a1d2"
            }
          },
          "metadata": {}
        },
        {
          "output_type": "stream",
          "name": "stdout",
          "text": [
            "Extracting ../data/MNIST/raw/t10k-labels-idx1-ubyte.gz to ../data/MNIST/raw\n",
            "\n"
          ]
        }
      ],
      "source": [
        "## download and transform the data\n",
        "transform=transforms.Compose([\n",
        "    transforms.ToTensor(),\n",
        "    transforms.Normalize((0.1307,), (0.3081,))\n",
        "    ])\n",
        "dataset1 = datasets.MNIST('../data', train=True, download=True,\n",
        "                   transform=transform)\n",
        "dataset1 = torch.utils.data.Subset(dataset1, random.sample(range(len(dataset1)), 3000))\n",
        "## train and valiation split\n",
        "train_size = int(0.8 * len(dataset1))\n",
        "val_size = len(dataset1) - train_size\n",
        "train_dataset, val_dataset = torch.utils.data.random_split(dataset1, [train_size, val_size])\n",
        "\n",
        "test_dataset = datasets.MNIST('../data', train=False,\n",
        "                   transform=transform)"
      ]
    },
    {
      "cell_type": "code",
      "execution_count": null,
      "metadata": {
        "id": "Pg5l0m0hpPbm"
      },
      "outputs": [],
      "source": [
        "train_loader = torch.utils.data.DataLoader(train_dataset,batch_size = 64,shuffle=True)\n",
        "val_loader = torch.utils.data.DataLoader(val_dataset,batch_size = 64)\n",
        "test_loader = torch.utils.data.DataLoader(test_dataset,batch_size = 64)\n"
      ]
    },
    {
      "cell_type": "markdown",
      "metadata": {
        "id": "9mJ6CTNDTbXq"
      },
      "source": [
        "Since MINIST has a larger size of data, which is harder to train, we need to increase our network parameters to solve this task.\n"
      ]
    },
    {
      "cell_type": "code",
      "execution_count": null,
      "metadata": {
        "id": "qTmBf_03TD2J",
        "colab": {
          "base_uri": "https://localhost:8080/"
        },
        "outputId": "babd6c89-57bf-404d-8575-6e92416efc52"
      },
      "outputs": [
        {
          "output_type": "execute_result",
          "data": {
            "text/plain": [
              "(torch.Size([64, 1, 28, 28]), torch.Size([64]))"
            ]
          },
          "metadata": {},
          "execution_count": 23
        }
      ],
      "source": [
        "input_size = 28 * 28 * 1\n",
        "num_classes = 10\n",
        "# Iterate through the dataloader once\n",
        "trainiter = iter(train_loader)\n",
        "features, labels = next(trainiter)\n",
        "features.shape, labels.shape"
      ]
    },
    {
      "cell_type": "markdown",
      "metadata": {
        "id": "s7N8tVKBpPbo"
      },
      "source": [
        "\n",
        "Here, we need to modify given network with different set of sequential number and hidden layer dimension pairs [1,128], [2,512] and [6,5000] to see to see how the validation accuracy changes.\n",
        "For this question, we won't expect to achieve a perfect performance, just to see some results.\n",
        "\n",
        "---\n",
        "\n",
        "\n",
        "\n",
        "---\n",
        "\n"
      ]
    },
    {
      "cell_type": "code",
      "execution_count": null,
      "metadata": {
        "id": "-IZfKr1OpPbp"
      },
      "outputs": [],
      "source": [
        "class Net(nn.Module):\n",
        "    def __init__(self,num_classes = 10, hidden = 128, N = 1):\n",
        "        super(Net, self).__init__()\n",
        "        self.conv1 = nn.Conv2d(1, 32, 3, 1)\n",
        "        self.fc1 = nn.Linear(5408, hidden)\n",
        "        ######################\n",
        "        ### YOUR CODE HERE ###\n",
        "        ######################\n",
        "        layers = [nn.Linear(hidden, hidden),nn.ReLU()]*N     ### fill the number here\n",
        "        ######################\n",
        "        ### YOUR CODE HERE ###\n",
        "        ######################\n",
        "        self.fcL = nn.Sequential(*layers)\n",
        "        self.fc2 = nn.Linear(hidden, num_classes)\n",
        "\n",
        "    def forward(self, x):\n",
        "        x = self.conv1(x)\n",
        "        x = F.relu(x)\n",
        "        x = F.max_pool2d(x, 2)\n",
        "        x = torch.flatten(x, 1)\n",
        "        x = self.fc1(x)\n",
        "        x = F.relu(x)\n",
        "        x = self.fcL(x)\n",
        "        x = self.fc2(x)\n",
        "        output = F.log_softmax(x, dim=1)\n",
        "        return output"
      ]
    },
    {
      "cell_type": "code",
      "execution_count": null,
      "metadata": {
        "id": "EHyHp2bqpPbp"
      },
      "outputs": [],
      "source": [
        " ######################\n",
        "### YOUR CODE HERE ###\n",
        "######################\n",
        "model = Net(num_classes,hidden=128,N=1)"
      ]
    },
    {
      "cell_type": "markdown",
      "metadata": {
        "id": "LVBJq6SCYAV5"
      },
      "source": [
        "Set up our criterion and optimizer for the new model."
      ]
    },
    {
      "cell_type": "code",
      "execution_count": null,
      "metadata": {
        "id": "pTpFzjGxX8cP"
      },
      "outputs": [],
      "source": [
        "# Set up your criterion and optimizer\n",
        "# Please use nn.CrossEntropyLoss() and optim.Adam()\n",
        "######################\n",
        "### YOUR CODE HERE ###\n",
        "######################\n",
        "criterion = nn.CrossEntropyLoss()\n",
        "\n",
        "optimizer = optim.Adam(model.parameters())\n",
        "\n",
        "#####################\n",
        "### YOUR CODE END ###\n",
        "#####################"
      ]
    },
    {
      "cell_type": "markdown",
      "metadata": {
        "id": "QfOM_4BkUiio"
      },
      "source": [
        "Train your new network and get the results. At this time, the training process may need more time."
      ]
    },
    {
      "cell_type": "code",
      "execution_count": null,
      "metadata": {
        "id": "feL2jumrUhRJ",
        "colab": {
          "base_uri": "https://localhost:8080/"
        },
        "outputId": "a69ddfa8-f9c0-4e36-d8a1-c9cb90b7a885"
      },
      "outputs": [
        {
          "output_type": "stream",
          "name": "stdout",
          "text": [
            "Starting Training from Scratch.\n",
            "\n",
            "Epoch: 0\t100.00% complete. 5.03 seconds elapsed in epoch.\n",
            "Epoch: 0 \tTraining Loss: 1.0262 \tValidation Loss: 0.5556\n",
            "\t\tTraining Accuracy: 68.38%\t Validation Accuracy: 82.00%\n",
            "Epoch: 1\t100.00% complete. 0.52 seconds elapsed in epoch.\n",
            "Epoch: 1 \tTraining Loss: 0.3530 \tValidation Loss: 0.3577\n",
            "\t\tTraining Accuracy: 88.96%\t Validation Accuracy: 89.33%\n",
            "Epoch: 2\t100.00% complete. 0.51 seconds elapsed in epoch.\n",
            "Epoch: 2 \tTraining Loss: 0.2265 \tValidation Loss: 0.2576\n",
            "\t\tTraining Accuracy: 93.38%\t Validation Accuracy: 91.67%\n",
            "\n",
            "Epoch: 3 \tTraining Loss: 0.1424 \tValidation Loss: 0.2450\n",
            "\t\tTraining Accuracy: 95.88%\t Validation Accuracy: 93.00%\n",
            "\n",
            "Epoch: 4 \tTraining Loss: 0.1107 \tValidation Loss: 0.1942\n",
            "\t\tTraining Accuracy: 96.92%\t Validation Accuracy: 94.83%\n",
            "\n",
            "Epoch: 5 \tTraining Loss: 0.0853 \tValidation Loss: 0.2135\n",
            "\t\tTraining Accuracy: 97.96%\t Validation Accuracy: 93.67%\n",
            "\n",
            "Epoch: 6 \tTraining Loss: 0.0591 \tValidation Loss: 0.2093\n",
            "\t\tTraining Accuracy: 98.71%\t Validation Accuracy: 94.33%\n",
            "\n",
            "Epoch: 7 \tTraining Loss: 0.0321 \tValidation Loss: 0.1916\n",
            "\t\tTraining Accuracy: 99.25%\t Validation Accuracy: 95.17%\n",
            "\n",
            "Epoch: 8 \tTraining Loss: 0.0194 \tValidation Loss: 0.2087\n",
            "\t\tTraining Accuracy: 99.42%\t Validation Accuracy: 94.50%\n",
            "\n",
            "Epoch: 9 \tTraining Loss: 0.0115 \tValidation Loss: 0.1882\n",
            "\t\tTraining Accuracy: 99.88%\t Validation Accuracy: 95.33%\n",
            "\n",
            "Epoch: 10 \tTraining Loss: 0.0082 \tValidation Loss: 0.2109\n",
            "\t\tTraining Accuracy: 99.96%\t Validation Accuracy: 95.17%\n",
            "\n",
            "Epoch: 11 \tTraining Loss: 0.0073 \tValidation Loss: 0.2079\n",
            "\t\tTraining Accuracy: 99.92%\t Validation Accuracy: 94.67%\n",
            "Epoch: 12\t100.00% complete. 0.51 seconds elapsed in epoch.\n",
            "Epoch: 12 \tTraining Loss: 0.0033 \tValidation Loss: 0.2041\n",
            "\t\tTraining Accuracy: 100.00%\t Validation Accuracy: 95.83%\n",
            "Epoch: 13\t100.00% complete. 0.52 seconds elapsed in epoch.\n",
            "Epoch: 13 \tTraining Loss: 0.0025 \tValidation Loss: 0.2023\n",
            "\t\tTraining Accuracy: 100.00%\t Validation Accuracy: 95.67%\n",
            "Epoch: 14\t100.00% complete. 0.50 seconds elapsed in epoch.\n",
            "Epoch: 14 \tTraining Loss: 0.0021 \tValidation Loss: 0.1988\n",
            "\t\tTraining Accuracy: 100.00%\t Validation Accuracy: 96.33%\n",
            "Epoch: 15\t100.00% complete. 0.52 seconds elapsed in epoch.\n",
            "Epoch: 15 \tTraining Loss: 0.0017 \tValidation Loss: 0.2064\n",
            "\t\tTraining Accuracy: 100.00%\t Validation Accuracy: 95.83%\n",
            "Epoch: 16\t100.00% complete. 0.54 seconds elapsed in epoch.\n",
            "Epoch: 16 \tTraining Loss: 0.0016 \tValidation Loss: 0.2034\n",
            "\t\tTraining Accuracy: 100.00%\t Validation Accuracy: 96.17%\n",
            "Epoch: 17\t100.00% complete. 0.53 seconds elapsed in epoch.\n",
            "Epoch: 17 \tTraining Loss: 0.0013 \tValidation Loss: 0.2070\n",
            "\t\tTraining Accuracy: 100.00%\t Validation Accuracy: 96.17%\n",
            "Epoch: 18\t100.00% complete. 0.53 seconds elapsed in epoch.\n",
            "Epoch: 18 \tTraining Loss: 0.0011 \tValidation Loss: 0.2199\n",
            "\t\tTraining Accuracy: 100.00%\t Validation Accuracy: 95.50%\n",
            "\n",
            "Epoch: 19 \tTraining Loss: 0.0011 \tValidation Loss: 0.2158\n",
            "\t\tTraining Accuracy: 100.00%\t Validation Accuracy: 96.00%\n",
            "\n",
            "Epoch: 20 \tTraining Loss: 0.0010 \tValidation Loss: 0.2135\n",
            "\t\tTraining Accuracy: 100.00%\t Validation Accuracy: 96.17%\n",
            "\n",
            "Epoch: 21 \tTraining Loss: 0.0008 \tValidation Loss: 0.2152\n",
            "\t\tTraining Accuracy: 100.00%\t Validation Accuracy: 96.00%\n",
            "\n",
            "Epoch: 22 \tTraining Loss: 0.0008 \tValidation Loss: 0.2213\n",
            "\t\tTraining Accuracy: 100.00%\t Validation Accuracy: 96.00%\n",
            "Epoch: 23\t100.00% complete. 0.65 seconds elapsed in epoch.\n",
            "Epoch: 23 \tTraining Loss: 0.0007 \tValidation Loss: 0.2192\n",
            "\t\tTraining Accuracy: 100.00%\t Validation Accuracy: 96.00%\n",
            "Epoch: 24\t100.00% complete. 0.53 seconds elapsed in epoch.\n",
            "Epoch: 24 \tTraining Loss: 0.0006 \tValidation Loss: 0.2168\n",
            "\t\tTraining Accuracy: 100.00%\t Validation Accuracy: 96.17%\n",
            "\n",
            "Epoch: 25 \tTraining Loss: 0.0006 \tValidation Loss: 0.2164\n",
            "\t\tTraining Accuracy: 100.00%\t Validation Accuracy: 96.00%\n",
            "Epoch: 26\t100.00% complete. 0.53 seconds elapsed in epoch.\n",
            "Epoch: 26 \tTraining Loss: 0.0005 \tValidation Loss: 0.2174\n",
            "\t\tTraining Accuracy: 100.00%\t Validation Accuracy: 96.33%\n",
            "Epoch: 27\t100.00% complete. 0.51 seconds elapsed in epoch.\n",
            "Epoch: 27 \tTraining Loss: 0.0005 \tValidation Loss: 0.2179\n",
            "\t\tTraining Accuracy: 100.00%\t Validation Accuracy: 96.17%\n",
            "Epoch: 28\t100.00% complete. 0.53 seconds elapsed in epoch.\n",
            "Epoch: 28 \tTraining Loss: 0.0004 \tValidation Loss: 0.2229\n",
            "\t\tTraining Accuracy: 100.00%\t Validation Accuracy: 96.17%\n",
            "Epoch: 29\t100.00% complete. 0.53 seconds elapsed in epoch.\n",
            "Epoch: 29 \tTraining Loss: 0.0004 \tValidation Loss: 0.2258\n",
            "\t\tTraining Accuracy: 100.00%\t Validation Accuracy: 96.17%\n",
            "\n",
            "Best epoch: 9 with loss: 0.19 and acc: 95.33%\n",
            "24.68 total seconds elapsed. 0.82 seconds per epoch.\n"
          ]
        }
      ],
      "source": [
        "from timeit import default_timer as timer\n",
        "save_file_name = f'MINIST_model_best_model.pt' # the best model path\n",
        "train_on_gpu = cuda.is_available()\n",
        "\n",
        "model = model.cuda()\n",
        "\n",
        "## you can adjust the parameters in the training function\n",
        "model, history = train(model,\n",
        "    criterion,\n",
        "    optimizer,\n",
        "    train_loader,\n",
        "    val_loader,\n",
        "    save_file_name=save_file_name,\n",
        "    n_epochs=30,\n",
        "    print_every=1)\n",
        "\n",
        "model_128 = model"
      ]
    },
    {
      "cell_type": "markdown",
      "metadata": {
        "id": "jeZ2CzV6YN-2"
      },
      "source": [
        "It seems that the process will end very early since there is no progress during the training. Let's print the results."
      ]
    },
    {
      "cell_type": "code",
      "execution_count": null,
      "metadata": {
        "id": "xlzAjeIDUohp",
        "colab": {
          "base_uri": "https://localhost:8080/",
          "height": 439
        },
        "outputId": "13375ca9-a137-4818-fa58-e3a7f1032953"
      },
      "outputs": [
        {
          "output_type": "execute_result",
          "data": {
            "text/plain": [
              "<Figure size 576x432 with 0 Axes>"
            ]
          },
          "metadata": {},
          "execution_count": 28
        },
        {
          "output_type": "execute_result",
          "data": {
            "text/plain": [
              "[<matplotlib.lines.Line2D at 0x7fadf52122d0>]"
            ]
          },
          "metadata": {},
          "execution_count": 28
        },
        {
          "output_type": "execute_result",
          "data": {
            "text/plain": [
              "[<matplotlib.lines.Line2D at 0x7fadf5212a90>]"
            ]
          },
          "metadata": {},
          "execution_count": 28
        },
        {
          "output_type": "execute_result",
          "data": {
            "text/plain": [
              "<matplotlib.legend.Legend at 0x7fadf6495050>"
            ]
          },
          "metadata": {},
          "execution_count": 28
        },
        {
          "output_type": "execute_result",
          "data": {
            "text/plain": [
              "Text(0.5, 0, 'Epoch')"
            ]
          },
          "metadata": {},
          "execution_count": 28
        },
        {
          "output_type": "execute_result",
          "data": {
            "text/plain": [
              "Text(0, 0.5, 'Average Negative Log Likelihood')"
            ]
          },
          "metadata": {},
          "execution_count": 28
        },
        {
          "output_type": "execute_result",
          "data": {
            "text/plain": [
              "Text(0.5, 1.0, 'Training and Validation Losses')"
            ]
          },
          "metadata": {},
          "execution_count": 28
        },
        {
          "output_type": "display_data",
          "data": {
            "text/plain": [
              "<Figure size 576x432 with 1 Axes>"
            ],
            "image/png": "[encoded data removed]"
          },
          "metadata": {
            "needs_background": "light"
          }
        }
      ],
      "source": [
        "plt.figure(figsize=(8, 6))\n",
        "for c in ['train_loss', 'valid_loss']:\n",
        "    plt.plot(\n",
        "        history[c], label=c)\n",
        "plt.legend()\n",
        "plt.xlabel('Epoch')\n",
        "plt.ylabel('Average Negative Log Likelihood')\n",
        "plt.title('Training and Validation Losses')\n",
        "plt.show()"
      ]
    },
    {
      "cell_type": "code",
      "execution_count": null,
      "metadata": {
        "id": "nwjRiBhWUsdy",
        "colab": {
          "base_uri": "https://localhost:8080/",
          "height": 439
        },
        "outputId": "bae65978-6474-4464-a44a-5c42de9e3862"
      },
      "outputs": [
        {
          "output_type": "execute_result",
          "data": {
            "text/plain": [
              "<Figure size 576x432 with 0 Axes>"
            ]
          },
          "metadata": {},
          "execution_count": 29
        },
        {
          "output_type": "execute_result",
          "data": {
            "text/plain": [
              "[<matplotlib.lines.Line2D at 0x7fadf5192650>]"
            ]
          },
          "metadata": {},
          "execution_count": 29
        },
        {
          "output_type": "execute_result",
          "data": {
            "text/plain": [
              "[<matplotlib.lines.Line2D at 0x7fadf5192e10>]"
            ]
          },
          "metadata": {},
          "execution_count": 29
        },
        {
          "output_type": "execute_result",
          "data": {
            "text/plain": [
              "<matplotlib.legend.Legend at 0x7fadf51d2c50>"
            ]
          },
          "metadata": {},
          "execution_count": 29
        },
        {
          "output_type": "execute_result",
          "data": {
            "text/plain": [
              "Text(0.5, 0, 'Epoch')"
            ]
          },
          "metadata": {},
          "execution_count": 29
        },
        {
          "output_type": "execute_result",
          "data": {
            "text/plain": [
              "Text(0, 0.5, 'Average Accuracy')"
            ]
          },
          "metadata": {},
          "execution_count": 29
        },
        {
          "output_type": "execute_result",
          "data": {
            "text/plain": [
              "Text(0.5, 1.0, 'Training and Validation Accuracy')"
            ]
          },
          "metadata": {},
          "execution_count": 29
        },
        {
          "output_type": "display_data",
          "data": {
            "text/plain": [
              "<Figure size 576x432 with 1 Axes>"
            ],
            "image/png": "[encoded data removed]"
          },
          "metadata": {
            "needs_background": "light"
          }
        }
      ],
      "source": [
        "plt.figure(figsize=(8, 6))\n",
        "for c in ['train_acc', 'valid_acc']:\n",
        "    plt.plot(\n",
        "        100 * history[c], label=c)\n",
        "plt.legend()\n",
        "plt.xlabel('Epoch')\n",
        "plt.ylabel('Average Accuracy')\n",
        "plt.title('Training and Validation Accuracy')\n",
        "plt.show()"
      ]
    },
    {
      "cell_type": "code",
      "execution_count": null,
      "metadata": {
        "id": "4pSnQNWI9xO5"
      },
      "outputs": [],
      "source": [
        "\n",
        "model = Net(num_classes,hidden=512,N=2)\n",
        "criterion = nn.CrossEntropyLoss()\n",
        "optimizer = optim.Adam(model.parameters())"
      ]
    },
    {
      "cell_type": "code",
      "execution_count": null,
      "metadata": {
        "colab": {
          "base_uri": "https://localhost:8080/"
        },
        "outputId": "0ae84e3b-09a8-46ed-f905-ea8f0d58fddb",
        "id": "w51PdH-O9xO5"
      },
      "outputs": [
        {
          "output_type": "stream",
          "name": "stdout",
          "text": [
            "Starting Training from Scratch.\n",
            "\n",
            "\n",
            "Epoch: 0 \tTraining Loss: 0.9703 \tValidation Loss: 0.5344\n",
            "\t\tTraining Accuracy: 67.21%\t Validation Accuracy: 83.67%\n",
            "\n",
            "Epoch: 1 \tTraining Loss: 0.3442 \tValidation Loss: 0.3015\n",
            "\t\tTraining Accuracy: 89.25%\t Validation Accuracy: 92.00%\n",
            "\n",
            "Epoch: 2 \tTraining Loss: 0.1886 \tValidation Loss: 0.2976\n",
            "\t\tTraining Accuracy: 93.58%\t Validation Accuracy: 89.67%\n",
            "\n",
            "Epoch: 3 \tTraining Loss: 0.1254 \tValidation Loss: 0.2294\n",
            "\t\tTraining Accuracy: 95.96%\t Validation Accuracy: 94.00%\n",
            "\n",
            "Epoch: 4 \tTraining Loss: 0.0722 \tValidation Loss: 0.2876\n",
            "\t\tTraining Accuracy: 97.46%\t Validation Accuracy: 92.33%\n",
            "\n",
            "Epoch: 5 \tTraining Loss: 0.0571 \tValidation Loss: 0.2252\n",
            "\t\tTraining Accuracy: 98.04%\t Validation Accuracy: 95.33%\n",
            "\n",
            "Epoch: 6 \tTraining Loss: 0.0321 \tValidation Loss: 0.2228\n",
            "\t\tTraining Accuracy: 98.96%\t Validation Accuracy: 94.50%\n",
            "Epoch: 7\t100.00% complete. 0.57 seconds elapsed in epoch.\n",
            "Epoch: 7 \tTraining Loss: 0.0156 \tValidation Loss: 0.4033\n",
            "\t\tTraining Accuracy: 99.50%\t Validation Accuracy: 93.00%\n",
            "Epoch: 8\t100.00% complete. 0.56 seconds elapsed in epoch.\n",
            "Epoch: 8 \tTraining Loss: 0.0477 \tValidation Loss: 0.2192\n",
            "\t\tTraining Accuracy: 98.29%\t Validation Accuracy: 94.67%\n",
            "\n",
            "Epoch: 9 \tTraining Loss: 0.0171 \tValidation Loss: 0.2947\n",
            "\t\tTraining Accuracy: 99.33%\t Validation Accuracy: 92.33%\n",
            "\n",
            "Epoch: 10 \tTraining Loss: 0.0252 \tValidation Loss: 0.4379\n",
            "\t\tTraining Accuracy: 99.04%\t Validation Accuracy: 91.00%\n",
            "\n",
            "Epoch: 11 \tTraining Loss: 0.0611 \tValidation Loss: 0.2359\n",
            "\t\tTraining Accuracy: 97.96%\t Validation Accuracy: 94.33%\n",
            "\n",
            "Epoch: 12 \tTraining Loss: 0.0489 \tValidation Loss: 0.2075\n",
            "\t\tTraining Accuracy: 98.46%\t Validation Accuracy: 96.00%\n",
            "\n",
            "Epoch: 13 \tTraining Loss: 0.0050 \tValidation Loss: 0.2168\n",
            "\t\tTraining Accuracy: 99.88%\t Validation Accuracy: 95.67%\n",
            "\n",
            "Epoch: 14 \tTraining Loss: 0.0005 \tValidation Loss: 0.2217\n",
            "\t\tTraining Accuracy: 100.00%\t Validation Accuracy: 95.83%\n",
            "\n",
            "Epoch: 15 \tTraining Loss: 0.0003 \tValidation Loss: 0.2293\n",
            "\t\tTraining Accuracy: 100.00%\t Validation Accuracy: 95.83%\n",
            "\n",
            "Epoch: 16 \tTraining Loss: 0.0002 \tValidation Loss: 0.2322\n",
            "\t\tTraining Accuracy: 100.00%\t Validation Accuracy: 95.83%\n",
            "\n",
            "Epoch: 17 \tTraining Loss: 0.0002 \tValidation Loss: 0.2351\n",
            "\t\tTraining Accuracy: 100.00%\t Validation Accuracy: 95.83%\n",
            "\n",
            "Epoch: 18 \tTraining Loss: 0.0001 \tValidation Loss: 0.2384\n",
            "\t\tTraining Accuracy: 100.00%\t Validation Accuracy: 95.83%\n",
            "\n",
            "Epoch: 19 \tTraining Loss: 0.0001 \tValidation Loss: 0.2419\n",
            "\t\tTraining Accuracy: 100.00%\t Validation Accuracy: 95.83%\n",
            "\n",
            "Epoch: 20 \tTraining Loss: 0.0001 \tValidation Loss: 0.2429\n",
            "\t\tTraining Accuracy: 100.00%\t Validation Accuracy: 95.83%\n",
            "\n",
            "Epoch: 21 \tTraining Loss: 0.0001 \tValidation Loss: 0.2453\n",
            "\t\tTraining Accuracy: 100.00%\t Validation Accuracy: 96.00%\n",
            "\n",
            "Epoch: 22 \tTraining Loss: 0.0001 \tValidation Loss: 0.2503\n",
            "\t\tTraining Accuracy: 100.00%\t Validation Accuracy: 96.00%\n",
            "\n",
            "Epoch: 23 \tTraining Loss: 0.0000 \tValidation Loss: 0.2549\n",
            "\t\tTraining Accuracy: 100.00%\t Validation Accuracy: 96.00%\n",
            "\n",
            "Epoch: 24 \tTraining Loss: 0.0000 \tValidation Loss: 0.2571\n",
            "\t\tTraining Accuracy: 100.00%\t Validation Accuracy: 96.00%\n",
            "\n",
            "Epoch: 25 \tTraining Loss: 0.0000 \tValidation Loss: 0.2668\n",
            "\t\tTraining Accuracy: 100.00%\t Validation Accuracy: 95.83%\n",
            "\n",
            "Epoch: 26 \tTraining Loss: 0.0000 \tValidation Loss: 0.2644\n",
            "\t\tTraining Accuracy: 100.00%\t Validation Accuracy: 95.67%\n",
            "\n",
            "Epoch: 27 \tTraining Loss: 0.0000 \tValidation Loss: 0.2697\n",
            "\t\tTraining Accuracy: 100.00%\t Validation Accuracy: 95.83%\n",
            "\n",
            "Epoch: 28 \tTraining Loss: 0.0000 \tValidation Loss: 0.2721\n",
            "\t\tTraining Accuracy: 100.00%\t Validation Accuracy: 95.67%\n",
            "\n",
            "Epoch: 29 \tTraining Loss: 0.0000 \tValidation Loss: 0.2757\n",
            "\t\tTraining Accuracy: 100.00%\t Validation Accuracy: 95.83%\n",
            "\n",
            "Best epoch: 12 with loss: 0.21 and acc: 96.00%\n",
            "20.50 total seconds elapsed. 0.68 seconds per epoch.\n"
          ]
        }
      ],
      "source": [
        "from timeit import default_timer as timer\n",
        "save_file_name = f'MINIST_model_best_model.pt' # the best model path\n",
        "train_on_gpu = cuda.is_available()\n",
        "\n",
        "model = model.cuda()\n",
        "\n",
        "## you can adjust the parameters in the training function\n",
        "model, history = train(model,\n",
        "    criterion,\n",
        "    optimizer,\n",
        "    train_loader,\n",
        "    val_loader,\n",
        "    save_file_name=save_file_name,\n",
        "    n_epochs=30,\n",
        "    print_every=1)"
      ]
    },
    {
      "cell_type": "code",
      "execution_count": null,
      "metadata": {
        "colab": {
          "base_uri": "https://localhost:8080/",
          "height": 439
        },
        "outputId": "7a9b3423-b896-4a9b-ce5e-cf925e56d3f3",
        "id": "FkT6w2Ef9xO5"
      },
      "outputs": [
        {
          "output_type": "execute_result",
          "data": {
            "text/plain": [
              "<Figure size 576x432 with 0 Axes>"
            ]
          },
          "metadata": {},
          "execution_count": 32
        },
        {
          "output_type": "execute_result",
          "data": {
            "text/plain": [
              "[<matplotlib.lines.Line2D at 0x7fadf5126650>]"
            ]
          },
          "metadata": {},
          "execution_count": 32
        },
        {
          "output_type": "execute_result",
          "data": {
            "text/plain": [
              "[<matplotlib.lines.Line2D at 0x7fadf5126e50>]"
            ]
          },
          "metadata": {},
          "execution_count": 32
        },
        {
          "output_type": "execute_result",
          "data": {
            "text/plain": [
              "<matplotlib.legend.Legend at 0x7fadf64873d0>"
            ]
          },
          "metadata": {},
          "execution_count": 32
        },
        {
          "output_type": "execute_result",
          "data": {
            "text/plain": [
              "Text(0.5, 0, 'Epoch')"
            ]
          },
          "metadata": {},
          "execution_count": 32
        },
        {
          "output_type": "execute_result",
          "data": {
            "text/plain": [
              "Text(0, 0.5, 'Average Negative Log Likelihood')"
            ]
          },
          "metadata": {},
          "execution_count": 32
        },
        {
          "output_type": "execute_result",
          "data": {
            "text/plain": [
              "Text(0.5, 1.0, 'Training and Validation Losses')"
            ]
          },
          "metadata": {},
          "execution_count": 32
        },
        {
          "output_type": "display_data",
          "data": {
            "text/plain": [
              "<Figure size 576x432 with 1 Axes>"
            ],
            "image/png": "[encoded data removed]"
          },
          "metadata": {
            "needs_background": "light"
          }
        }
      ],
      "source": [
        "plt.figure(figsize=(8, 6))\n",
        "for c in ['train_loss', 'valid_loss']:\n",
        "    plt.plot(\n",
        "        history[c], label=c)\n",
        "plt.legend()\n",
        "plt.xlabel('Epoch')\n",
        "plt.ylabel('Average Negative Log Likelihood')\n",
        "plt.title('Training and Validation Losses')\n",
        "plt.show()"
      ]
    },
    {
      "cell_type": "code",
      "execution_count": null,
      "metadata": {
        "colab": {
          "base_uri": "https://localhost:8080/",
          "height": 439
        },
        "outputId": "31509e1f-4f0c-48bd-8782-148675c0fd96",
        "id": "ryxhuZeD9xO6"
      },
      "outputs": [
        {
          "output_type": "execute_result",
          "data": {
            "text/plain": [
              "<Figure size 576x432 with 0 Axes>"
            ]
          },
          "metadata": {},
          "execution_count": 33
        },
        {
          "output_type": "execute_result",
          "data": {
            "text/plain": [
              "[<matplotlib.lines.Line2D at 0x7fadf65009d0>]"
            ]
          },
          "metadata": {},
          "execution_count": 33
        },
        {
          "output_type": "execute_result",
          "data": {
            "text/plain": [
              "[<matplotlib.lines.Line2D at 0x7fadf6473a10>]"
            ]
          },
          "metadata": {},
          "execution_count": 33
        },
        {
          "output_type": "execute_result",
          "data": {
            "text/plain": [
              "<matplotlib.legend.Legend at 0x7fadf50b3190>"
            ]
          },
          "metadata": {},
          "execution_count": 33
        },
        {
          "output_type": "execute_result",
          "data": {
            "text/plain": [
              "Text(0.5, 0, 'Epoch')"
            ]
          },
          "metadata": {},
          "execution_count": 33
        },
        {
          "output_type": "execute_result",
          "data": {
            "text/plain": [
              "Text(0, 0.5, 'Average Accuracy')"
            ]
          },
          "metadata": {},
          "execution_count": 33
        },
        {
          "output_type": "execute_result",
          "data": {
            "text/plain": [
              "Text(0.5, 1.0, 'Training and Validation Accuracy')"
            ]
          },
          "metadata": {},
          "execution_count": 33
        },
        {
          "output_type": "display_data",
          "data": {
            "text/plain": [
              "<Figure size 576x432 with 1 Axes>"
            ],
            "image/png": "[encoded data removed]"
          },
          "metadata": {
            "needs_background": "light"
          }
        }
      ],
      "source": [
        "plt.figure(figsize=(8, 6))\n",
        "for c in ['train_acc', 'valid_acc']:\n",
        "    plt.plot(\n",
        "        100 * history[c], label=c)\n",
        "plt.legend()\n",
        "plt.xlabel('Epoch')\n",
        "plt.ylabel('Average Accuracy')\n",
        "plt.title('Training and Validation Accuracy')\n",
        "plt.show()"
      ]
    },
    {
      "cell_type": "code",
      "execution_count": null,
      "metadata": {
        "id": "-R5JNx61-HRj"
      },
      "outputs": [],
      "source": [
        "\n",
        "model = Net(num_classes,hidden=5000,N=6)\n",
        "criterion = nn.CrossEntropyLoss()\n",
        "optimizer = optim.Adam(model.parameters())"
      ]
    },
    {
      "cell_type": "code",
      "execution_count": null,
      "metadata": {
        "colab": {
          "base_uri": "https://localhost:8080/"
        },
        "outputId": "776b5306-287d-4ea5-c930-e463647bed13",
        "id": "qSO1O87B-HRk"
      },
      "outputs": [
        {
          "output_type": "stream",
          "name": "stdout",
          "text": [
            "Starting Training from Scratch.\n",
            "\n",
            "\n",
            "Epoch: 0 \tTraining Loss: 2.7686 \tValidation Loss: 2.0619\n",
            "\t\tTraining Accuracy: 11.50%\t Validation Accuracy: 18.00%\n",
            "\n",
            "Epoch: 1 \tTraining Loss: 1.8901 \tValidation Loss: 1.6922\n",
            "\t\tTraining Accuracy: 19.88%\t Validation Accuracy: 18.00%\n",
            "\n",
            "Epoch: 2 \tTraining Loss: 1.5079 \tValidation Loss: 1.5123\n",
            "\t\tTraining Accuracy: 28.00%\t Validation Accuracy: 27.50%\n",
            "\n",
            "Epoch: 3 \tTraining Loss: 1.3551 \tValidation Loss: 1.4230\n",
            "\t\tTraining Accuracy: 36.75%\t Validation Accuracy: 36.33%\n",
            "\n",
            "Epoch: 4 \tTraining Loss: 1.1995 \tValidation Loss: 1.2656\n",
            "\t\tTraining Accuracy: 46.54%\t Validation Accuracy: 48.83%\n",
            "\n",
            "Epoch: 5 \tTraining Loss: 1.0302 \tValidation Loss: 1.0868\n",
            "\t\tTraining Accuracy: 55.38%\t Validation Accuracy: 47.17%\n",
            "\n",
            "Epoch: 6 \tTraining Loss: 0.7575 \tValidation Loss: 0.7544\n",
            "\t\tTraining Accuracy: 64.29%\t Validation Accuracy: 62.17%\n",
            "\n",
            "Epoch: 7 \tTraining Loss: 0.6527 \tValidation Loss: 0.6350\n",
            "\t\tTraining Accuracy: 73.92%\t Validation Accuracy: 76.50%\n",
            "\n",
            "Epoch: 8 \tTraining Loss: 0.4836 \tValidation Loss: 0.7364\n",
            "\t\tTraining Accuracy: 81.17%\t Validation Accuracy: 75.67%\n",
            "\n",
            "Epoch: 9 \tTraining Loss: 0.3683 \tValidation Loss: 0.4122\n",
            "\t\tTraining Accuracy: 85.38%\t Validation Accuracy: 84.00%\n",
            "\n",
            "Epoch: 10 \tTraining Loss: 0.2792 \tValidation Loss: 0.3788\n",
            "\t\tTraining Accuracy: 88.58%\t Validation Accuracy: 89.50%\n",
            "\n",
            "Epoch: 11 \tTraining Loss: 0.2093 \tValidation Loss: 0.3969\n",
            "\t\tTraining Accuracy: 93.04%\t Validation Accuracy: 92.00%\n",
            "\n",
            "Epoch: 12 \tTraining Loss: 0.1565 \tValidation Loss: 0.5005\n",
            "\t\tTraining Accuracy: 95.79%\t Validation Accuracy: 92.50%\n",
            "\n",
            "Epoch: 13 \tTraining Loss: 0.1506 \tValidation Loss: 0.4013\n",
            "\t\tTraining Accuracy: 95.79%\t Validation Accuracy: 91.50%\n",
            "\n",
            "Epoch: 14 \tTraining Loss: 0.1159 \tValidation Loss: 0.3475\n",
            "\t\tTraining Accuracy: 96.67%\t Validation Accuracy: 93.67%\n",
            "\n",
            "Epoch: 15 \tTraining Loss: 0.0654 \tValidation Loss: 0.5502\n",
            "\t\tTraining Accuracy: 98.12%\t Validation Accuracy: 93.17%\n",
            "\n",
            "Epoch: 16 \tTraining Loss: 0.0725 \tValidation Loss: 0.4206\n",
            "\t\tTraining Accuracy: 98.12%\t Validation Accuracy: 93.83%\n",
            "\n",
            "Epoch: 17 \tTraining Loss: 0.0828 \tValidation Loss: 0.2817\n",
            "\t\tTraining Accuracy: 97.96%\t Validation Accuracy: 94.83%\n",
            "\n",
            "Epoch: 18 \tTraining Loss: 0.0543 \tValidation Loss: 0.2654\n",
            "\t\tTraining Accuracy: 98.42%\t Validation Accuracy: 95.67%\n",
            "\n",
            "Epoch: 19 \tTraining Loss: 0.1057 \tValidation Loss: 0.5322\n",
            "\t\tTraining Accuracy: 98.29%\t Validation Accuracy: 93.67%\n",
            "\n",
            "Epoch: 20 \tTraining Loss: 0.0641 \tValidation Loss: 0.5203\n",
            "\t\tTraining Accuracy: 98.46%\t Validation Accuracy: 92.33%\n",
            "\n",
            "Epoch: 21 \tTraining Loss: 0.0605 \tValidation Loss: 0.5263\n",
            "\t\tTraining Accuracy: 98.50%\t Validation Accuracy: 93.00%\n",
            "\n",
            "Epoch: 22 \tTraining Loss: 0.0412 \tValidation Loss: 0.6277\n",
            "\t\tTraining Accuracy: 98.96%\t Validation Accuracy: 94.67%\n",
            "\n",
            "Epoch: 23 \tTraining Loss: 0.0517 \tValidation Loss: 1.0151\n",
            "\t\tTraining Accuracy: 98.71%\t Validation Accuracy: 93.00%\n",
            "\n",
            "Epoch: 24 \tTraining Loss: 0.1228 \tValidation Loss: 0.5062\n",
            "\t\tTraining Accuracy: 98.21%\t Validation Accuracy: 93.33%\n",
            "\n",
            "Epoch: 25 \tTraining Loss: 0.0967 \tValidation Loss: 0.6159\n",
            "\t\tTraining Accuracy: 98.21%\t Validation Accuracy: 91.83%\n",
            "\n",
            "Epoch: 26 \tTraining Loss: 0.1274 \tValidation Loss: 0.7922\n",
            "\t\tTraining Accuracy: 97.17%\t Validation Accuracy: 94.00%\n",
            "\n",
            "Epoch: 27 \tTraining Loss: 0.0721 \tValidation Loss: 0.3556\n",
            "\t\tTraining Accuracy: 98.42%\t Validation Accuracy: 94.50%\n",
            "\n",
            "Epoch: 28 \tTraining Loss: 0.0242 \tValidation Loss: 0.4701\n",
            "\t\tTraining Accuracy: 99.38%\t Validation Accuracy: 94.33%\n",
            "\n",
            "Epoch: 29 \tTraining Loss: 0.0391 \tValidation Loss: 0.5607\n",
            "\t\tTraining Accuracy: 99.08%\t Validation Accuracy: 95.17%\n",
            "\n",
            "Best epoch: 18 with loss: 0.27 and acc: 95.67%\n",
            "75.64 total seconds elapsed. 2.52 seconds per epoch.\n"
          ]
        }
      ],
      "source": [
        "from timeit import default_timer as timer\n",
        "save_file_name = f'MINIST_model_best_model.pt' # the best model path\n",
        "train_on_gpu = cuda.is_available()\n",
        "\n",
        "model = model.cuda()\n",
        "\n",
        "## you can adjust the parameters in the training function\n",
        "model, history = train(model,\n",
        "    criterion,\n",
        "    optimizer,\n",
        "    train_loader,\n",
        "    val_loader,\n",
        "    save_file_name=save_file_name,\n",
        "    n_epochs=30,\n",
        "    print_every=1)"
      ]
    },
    {
      "cell_type": "code",
      "execution_count": null,
      "metadata": {
        "colab": {
          "base_uri": "https://localhost:8080/",
          "height": 439
        },
        "outputId": "5eba599b-4754-4d80-d7b0-dacf53ceef00",
        "id": "0XZohgom-HRk"
      },
      "outputs": [
        {
          "output_type": "execute_result",
          "data": {
            "text/plain": [
              "<Figure size 576x432 with 0 Axes>"
            ]
          },
          "metadata": {},
          "execution_count": 36
        },
        {
          "output_type": "execute_result",
          "data": {
            "text/plain": [
              "[<matplotlib.lines.Line2D at 0x7fadf5008490>]"
            ]
          },
          "metadata": {},
          "execution_count": 36
        },
        {
          "output_type": "execute_result",
          "data": {
            "text/plain": [
              "[<matplotlib.lines.Line2D at 0x7fadf5008c50>]"
            ]
          },
          "metadata": {},
          "execution_count": 36
        },
        {
          "output_type": "execute_result",
          "data": {
            "text/plain": [
              "<matplotlib.legend.Legend at 0x7fadf68db950>"
            ]
          },
          "metadata": {},
          "execution_count": 36
        },
        {
          "output_type": "execute_result",
          "data": {
            "text/plain": [
              "Text(0.5, 0, 'Epoch')"
            ]
          },
          "metadata": {},
          "execution_count": 36
        },
        {
          "output_type": "execute_result",
          "data": {
            "text/plain": [
              "Text(0, 0.5, 'Average Negative Log Likelihood')"
            ]
          },
          "metadata": {},
          "execution_count": 36
        },
        {
          "output_type": "execute_result",
          "data": {
            "text/plain": [
              "Text(0.5, 1.0, 'Training and Validation Losses')"
            ]
          },
          "metadata": {},
          "execution_count": 36
        },
        {
          "output_type": "display_data",
          "data": {
            "text/plain": [
              "<Figure size 576x432 with 1 Axes>"
            ],
            "image/png": "[encoded data removed]"
          },
          "metadata": {
            "needs_background": "light"
          }
        }
      ],
      "source": [
        "plt.figure(figsize=(8, 6))\n",
        "for c in ['train_loss', 'valid_loss']:\n",
        "    plt.plot(\n",
        "        history[c], label=c)\n",
        "plt.legend()\n",
        "plt.xlabel('Epoch')\n",
        "plt.ylabel('Average Negative Log Likelihood')\n",
        "plt.title('Training and Validation Losses')\n",
        "plt.show()"
      ]
    },
    {
      "cell_type": "code",
      "execution_count": null,
      "metadata": {
        "colab": {
          "base_uri": "https://localhost:8080/",
          "height": 439
        },
        "outputId": "ed8f451e-c210-4b1e-f552-f3bd15e0e3c3",
        "id": "aVHQaT3c-HRk"
      },
      "outputs": [
        {
          "output_type": "execute_result",
          "data": {
            "text/plain": [
              "<Figure size 576x432 with 0 Axes>"
            ]
          },
          "metadata": {},
          "execution_count": 37
        },
        {
          "output_type": "execute_result",
          "data": {
            "text/plain": [
              "[<matplotlib.lines.Line2D at 0x7fadf4f7c810>]"
            ]
          },
          "metadata": {},
          "execution_count": 37
        },
        {
          "output_type": "execute_result",
          "data": {
            "text/plain": [
              "[<matplotlib.lines.Line2D at 0x7fadf4f8a050>]"
            ]
          },
          "metadata": {},
          "execution_count": 37
        },
        {
          "output_type": "execute_result",
          "data": {
            "text/plain": [
              "<matplotlib.legend.Legend at 0x7fadf50d4f10>"
            ]
          },
          "metadata": {},
          "execution_count": 37
        },
        {
          "output_type": "execute_result",
          "data": {
            "text/plain": [
              "Text(0.5, 0, 'Epoch')"
            ]
          },
          "metadata": {},
          "execution_count": 37
        },
        {
          "output_type": "execute_result",
          "data": {
            "text/plain": [
              "Text(0, 0.5, 'Average Accuracy')"
            ]
          },
          "metadata": {},
          "execution_count": 37
        },
        {
          "output_type": "execute_result",
          "data": {
            "text/plain": [
              "Text(0.5, 1.0, 'Training and Validation Accuracy')"
            ]
          },
          "metadata": {},
          "execution_count": 37
        },
        {
          "output_type": "display_data",
          "data": {
            "text/plain": [
              "<Figure size 576x432 with 1 Axes>"
            ],
            "image/png": "[encoded data removed]"
          },
          "metadata": {
            "needs_background": "light"
          }
        }
      ],
      "source": [
        "plt.figure(figsize=(8, 6))\n",
        "for c in ['train_acc', 'valid_acc']:\n",
        "    plt.plot(\n",
        "        100 * history[c], label=c)\n",
        "plt.legend()\n",
        "plt.xlabel('Epoch')\n",
        "plt.ylabel('Average Accuracy')\n",
        "plt.title('Training and Validation Accuracy')\n",
        "plt.show()"
      ]
    },
    {
      "cell_type": "markdown",
      "source": [
        "For [1,128]:\n",
        "\n",
        "Best epoch: 9 with loss: 0.19 and acc: 95.33%\n",
        "24.68 total seconds elapsed. 0.82 seconds per epoch.\n",
        "\n",
        "For [2,512]:\n",
        "\n",
        "Best epoch: 12 with loss: 0.21 and acc: 96.00%\n",
        "20.50 total seconds elapsed. 0.68 seconds per epoch.\n",
        "\n",
        "For [6,5000]:\n",
        "\n",
        "Best epoch: 18 with loss: 0.27 and acc: 95.67%\n",
        "75.64 total seconds elapsed. 2.52 seconds per epoch.\n",
        "\n",
        "\n",
        "from this data it seems the [2,512] training is the best choice out of the 3, with the lowest training time and highest accuracy, the loss and time until best epoch are comparable with [1,128]"
      ],
      "metadata": {
        "id": "70dHaus-8F8g"
      }
    },
    {
      "cell_type": "markdown",
      "metadata": {
        "id": "4wxgrd8kpPbs"
      },
      "source": [
        "Load your best model and Evaluate the model on the test dataset with accuracy metric. You could reuse the previous code."
      ]
    },
    {
      "cell_type": "code",
      "execution_count": null,
      "metadata": {
        "id": "nZltOahYpPbs",
        "colab": {
          "base_uri": "https://localhost:8080/"
        },
        "outputId": "aeaae839-1e0b-42ec-fc98-a91fe53a6d2b"
      },
      "outputs": [
        {
          "output_type": "execute_result",
          "data": {
            "text/plain": [
              "Net(\n",
              "  (conv1): Conv2d(1, 32, kernel_size=(3, 3), stride=(1, 1))\n",
              "  (fc1): Linear(in_features=5408, out_features=128, bias=True)\n",
              "  (fcL): Sequential(\n",
              "    (0): Linear(in_features=128, out_features=128, bias=True)\n",
              "    (1): ReLU()\n",
              "  )\n",
              "  (fc2): Linear(in_features=128, out_features=10, bias=True)\n",
              ")"
            ]
          },
          "metadata": {},
          "execution_count": 41
        },
        {
          "output_type": "stream",
          "name": "stdout",
          "text": [
            "\n",
            "Model [1,128] Accuracy: 0.9551\n"
          ]
        }
      ],
      "source": [
        "######################\n",
        "### YOUR CODE HERE ###\n",
        "######################\n",
        "\n",
        "model = model_128\n",
        "criterion = nn.CrossEntropyLoss()\n",
        "optimizer = optim.Adam(model.parameters())\n",
        "\n",
        "model.cuda()\n",
        "test_loss = 0.0\n",
        "test_acc = 0.0\n",
        "\n",
        "for data, target in test_loader:\n",
        "  data = data.cuda()\n",
        "  target = target.cuda()\n",
        "\n",
        "  output = model(data)\n",
        "  loss = criterion(output, target)\n",
        "  test_loss += loss.item() * data.size(0)\n",
        "\n",
        "  _, pred = torch.max(output, dim=1)\n",
        "  correct_tensor = pred.eq(target.data.view_as(pred))\n",
        "  accuracy = torch.mean(correct_tensor.type(torch.FloatTensor))\n",
        "\n",
        "  test_acc += accuracy.item() * data.size(0)\n",
        "\n",
        "test_acc = test_acc / len(test_loader.dataset)\n",
        "print(f'\\nModel [1,128] Accuracy: {test_acc}')\n",
        "#####################\n",
        "### YOUR CODE END ###\n",
        "#####################"
      ]
    },
    {
      "cell_type": "markdown",
      "source": [
        "# Collaboration policy:\n",
        "The purpose of student collaboration is to facilitate learning, not to circumvent it.\n",
        "Studying the material in groups is strongly encouraged. It is also allowed to seek help from other students\n",
        "in understanding the material needed to solve a particular homework problem, provided no written notes\n",
        "(including code) are shared, or are taken at that time, and provided learning is facilitated, not circumvented.\n",
        "The actual solution must be done by each student alone. The presence or absence of any form of help or\n",
        "collaboration, whether given or received, must be explicitly stated and disclosed in full by all involved.\n",
        "\n",
        "\n",
        "I talked to Deniz Tabakci, and Andrew Ehebald about the assignment, and wrote the majority of the code from the 400m tutorial on pytorch.  "
      ],
      "metadata": {
        "id": "lmP5BYzL5t5X"
      }
    }
  ],
  "metadata": {
    "accelerator": "GPU",
    "colab": {
      "provenance": [],
      "include_colab_link": true
    },
    "kernelspec": {
      "display_name": "Python 3 (ipykernel)",
      "language": "python",
      "name": "python3"
    },
    "language_info": {
      "codemirror_mode": {
        "name": "ipython",
        "version": 3
      },
      "file_extension": ".py",
      "mimetype": "text/x-python",
      "name": "python",
      "nbconvert_exporter": "python",
      "pygments_lexer": "ipython3",
      "version": "3.9.12"
    },
    "gpuClass": "standard",
    "widgets": {
      "application/vnd.jupyter.widget-state+json": {
        "1e1cbb95f5b6476daa17a93afa728c22": {
          "model_module": "@jupyter-widgets/controls",
          "model_name": "HBoxModel",
          "model_module_version": "1.5.0",
          "state": {
            "_dom_classes": [],
            "_model_module": "@jupyter-widgets/controls",
            "_model_module_version": "1.5.0",
            "_model_name": "HBoxModel",
            "_view_count": null,
            "_view_module": "@jupyter-widgets/controls",
            "_view_module_version": "1.5.0",
            "_view_name": "HBoxView",
            "box_style": "",
            "children": [
              "IPY_MODEL_b17ad510e6324d36bb7e96ff64abae85",
              "IPY_MODEL_ce6a3f9a516c4bc3b9aebbc8ea9e562f",
              "IPY_MODEL_6582fe726f4c4301803fd92867328736"
            ],
            "layout": "IPY_MODEL_7b140634df6641cca17fe1bd5d03cca1"
          }
        },
        "b17ad510e6324d36bb7e96ff64abae85": {
          "model_module": "@jupyter-widgets/controls",
          "model_name": "HTMLModel",
          "model_module_version": "1.5.0",
          "state": {
            "_dom_classes": [],
            "_model_module": "@jupyter-widgets/controls",
            "_model_module_version": "1.5.0",
            "_model_name": "HTMLModel",
            "_view_count": null,
            "_view_module": "@jupyter-widgets/controls",
            "_view_module_version": "1.5.0",
            "_view_name": "HTMLView",
            "description": "",
            "description_tooltip": null,
            "layout": "IPY_MODEL_e9e18e0dfbdd443ba998ba0841db528e",
            "placeholder": "​",
            "style": "IPY_MODEL_b15caa85ca884bf4b5dd7364c4151a0a",
            "value": "100%"
          }
        },
        "ce6a3f9a516c4bc3b9aebbc8ea9e562f": {
          "model_module": "@jupyter-widgets/controls",
          "model_name": "FloatProgressModel",
          "model_module_version": "1.5.0",
          "state": {
            "_dom_classes": [],
            "_model_module": "@jupyter-widgets/controls",
            "_model_module_version": "1.5.0",
            "_model_name": "FloatProgressModel",
            "_view_count": null,
            "_view_module": "@jupyter-widgets/controls",
            "_view_module_version": "1.5.0",
            "_view_name": "ProgressView",
            "bar_style": "success",
            "description": "",
            "description_tooltip": null,
            "layout": "IPY_MODEL_beb1bd4d4f4a412da47146cc212a4cf1",
            "max": 9912422,
            "min": 0,
            "orientation": "horizontal",
            "style": "IPY_MODEL_f0ce785a0d0943e595c5f42e68b58876",
            "value": 9912422
          }
        },
        "6582fe726f4c4301803fd92867328736": {
          "model_module": "@jupyter-widgets/controls",
          "model_name": "HTMLModel",
          "model_module_version": "1.5.0",
          "state": {
            "_dom_classes": [],
            "_model_module": "@jupyter-widgets/controls",
            "_model_module_version": "1.5.0",
            "_model_name": "HTMLModel",
            "_view_count": null,
            "_view_module": "@jupyter-widgets/controls",
            "_view_module_version": "1.5.0",
            "_view_name": "HTMLView",
            "description": "",
            "description_tooltip": null,
            "layout": "IPY_MODEL_7d6da3d4b33b4411bdb4fe0e76d9b0db",
            "placeholder": "​",
            "style": "IPY_MODEL_40597e639b7c47398cae8ff6a3b9270b",
            "value": " 9912422/9912422 [00:00&lt;00:00, 5221708.34it/s]"
          }
        },
        "7b140634df6641cca17fe1bd5d03cca1": {
          "model_module": "@jupyter-widgets/base",
          "model_name": "LayoutModel",
          "model_module_version": "1.2.0",
          "state": {
            "_model_module": "@jupyter-widgets/base",
            "_model_module_version": "1.2.0",
            "_model_name": "LayoutModel",
            "_view_count": null,
            "_view_module": "@jupyter-widgets/base",
            "_view_module_version": "1.2.0",
            "_view_name": "LayoutView",
            "align_content": null,
            "align_items": null,
            "align_self": null,
            "border": null,
            "bottom": null,
            "display": null,
            "flex": null,
            "flex_flow": null,
            "grid_area": null,
            "grid_auto_columns": null,
            "grid_auto_flow": null,
            "grid_auto_rows": null,
            "grid_column": null,
            "grid_gap": null,
            "grid_row": null,
            "grid_template_areas": null,
            "grid_template_columns": null,
            "grid_template_rows": null,
            "height": null,
            "justify_content": null,
            "justify_items": null,
            "left": null,
            "margin": null,
            "max_height": null,
            "max_width": null,
            "min_height": null,
            "min_width": null,
            "object_fit": null,
            "object_position": null,
            "order": null,
            "overflow": null,
            "overflow_x": null,
            "overflow_y": null,
            "padding": null,
            "right": null,
            "top": null,
            "visibility": null,
            "width": null
          }
        },
        "e9e18e0dfbdd443ba998ba0841db528e": {
          "model_module": "@jupyter-widgets/base",
          "model_name": "LayoutModel",
          "model_module_version": "1.2.0",
          "state": {
            "_model_module": "@jupyter-widgets/base",
            "_model_module_version": "1.2.0",
            "_model_name": "LayoutModel",
            "_view_count": null,
            "_view_module": "@jupyter-widgets/base",
            "_view_module_version": "1.2.0",
            "_view_name": "LayoutView",
            "align_content": null,
            "align_items": null,
            "align_self": null,
            "border": null,
            "bottom": null,
            "display": null,
            "flex": null,
            "flex_flow": null,
            "grid_area": null,
            "grid_auto_columns": null,
            "grid_auto_flow": null,
            "grid_auto_rows": null,
            "grid_column": null,
            "grid_gap": null,
            "grid_row": null,
            "grid_template_areas": null,
            "grid_template_columns": null,
            "grid_template_rows": null,
            "height": null,
            "justify_content": null,
            "justify_items": null,
            "left": null,
            "margin": null,
            "max_height": null,
            "max_width": null,
            "min_height": null,
            "min_width": null,
            "object_fit": null,
            "object_position": null,
            "order": null,
            "overflow": null,
            "overflow_x": null,
            "overflow_y": null,
            "padding": null,
            "right": null,
            "top": null,
            "visibility": null,
            "width": null
          }
        },
        "b15caa85ca884bf4b5dd7364c4151a0a": {
          "model_module": "@jupyter-widgets/controls",
          "model_name": "DescriptionStyleModel",
          "model_module_version": "1.5.0",
          "state": {
            "_model_module": "@jupyter-widgets/controls",
            "_model_module_version": "1.5.0",
            "_model_name": "DescriptionStyleModel",
            "_view_count": null,
            "_view_module": "@jupyter-widgets/base",
            "_view_module_version": "1.2.0",
            "_view_name": "StyleView",
            "description_width": ""
          }
        },
        "beb1bd4d4f4a412da47146cc212a4cf1": {
          "model_module": "@jupyter-widgets/base",
          "model_name": "LayoutModel",
          "model_module_version": "1.2.0",
          "state": {
            "_model_module": "@jupyter-widgets/base",
            "_model_module_version": "1.2.0",
            "_model_name": "LayoutModel",
            "_view_count": null,
            "_view_module": "@jupyter-widgets/base",
            "_view_module_version": "1.2.0",
            "_view_name": "LayoutView",
            "align_content": null,
            "align_items": null,
            "align_self": null,
            "border": null,
            "bottom": null,
            "display": null,
            "flex": null,
            "flex_flow": null,
            "grid_area": null,
            "grid_auto_columns": null,
            "grid_auto_flow": null,
            "grid_auto_rows": null,
            "grid_column": null,
            "grid_gap": null,
            "grid_row": null,
            "grid_template_areas": null,
            "grid_template_columns": null,
            "grid_template_rows": null,
            "height": null,
            "justify_content": null,
            "justify_items": null,
            "left": null,
            "margin": null,
            "max_height": null,
            "max_width": null,
            "min_height": null,
            "min_width": null,
            "object_fit": null,
            "object_position": null,
            "order": null,
            "overflow": null,
            "overflow_x": null,
            "overflow_y": null,
            "padding": null,
            "right": null,
            "top": null,
            "visibility": null,
            "width": null
          }
        },
        "f0ce785a0d0943e595c5f42e68b58876": {
          "model_module": "@jupyter-widgets/controls",
          "model_name": "ProgressStyleModel",
          "model_module_version": "1.5.0",
          "state": {
            "_model_module": "@jupyter-widgets/controls",
            "_model_module_version": "1.5.0",
            "_model_name": "ProgressStyleModel",
            "_view_count": null,
            "_view_module": "@jupyter-widgets/base",
            "_view_module_version": "1.2.0",
            "_view_name": "StyleView",
            "bar_color": null,
            "description_width": ""
          }
        },
        "7d6da3d4b33b4411bdb4fe0e76d9b0db": {
          "model_module": "@jupyter-widgets/base",
          "model_name": "LayoutModel",
          "model_module_version": "1.2.0",
          "state": {
            "_model_module": "@jupyter-widgets/base",
            "_model_module_version": "1.2.0",
            "_model_name": "LayoutModel",
            "_view_count": null,
            "_view_module": "@jupyter-widgets/base",
            "_view_module_version": "1.2.0",
            "_view_name": "LayoutView",
            "align_content": null,
            "align_items": null,
            "align_self": null,
            "border": null,
            "bottom": null,
            "display": null,
            "flex": null,
            "flex_flow": null,
            "grid_area": null,
            "grid_auto_columns": null,
            "grid_auto_flow": null,
            "grid_auto_rows": null,
            "grid_column": null,
            "grid_gap": null,
            "grid_row": null,
            "grid_template_areas": null,
            "grid_template_columns": null,
            "grid_template_rows": null,
            "height": null,
            "justify_content": null,
            "justify_items": null,
            "left": null,
            "margin": null,
            "max_height": null,
            "max_width": null,
            "min_height": null,
            "min_width": null,
            "object_fit": null,
            "object_position": null,
            "order": null,
            "overflow": null,
            "overflow_x": null,
            "overflow_y": null,
            "padding": null,
            "right": null,
            "top": null,
            "visibility": null,
            "width": null
          }
        },
        "40597e639b7c47398cae8ff6a3b9270b": {
          "model_module": "@jupyter-widgets/controls",
          "model_name": "DescriptionStyleModel",
          "model_module_version": "1.5.0",
          "state": {
            "_model_module": "@jupyter-widgets/controls",
            "_model_module_version": "1.5.0",
            "_model_name": "DescriptionStyleModel",
            "_view_count": null,
            "_view_module": "@jupyter-widgets/base",
            "_view_module_version": "1.2.0",
            "_view_name": "StyleView",
            "description_width": ""
          }
        },
        "ae56703fbd2743a984adc9f7668c5b41": {
          "model_module": "@jupyter-widgets/controls",
          "model_name": "HBoxModel",
          "model_module_version": "1.5.0",
          "state": {
            "_dom_classes": [],
            "_model_module": "@jupyter-widgets/controls",
            "_model_module_version": "1.5.0",
            "_model_name": "HBoxModel",
            "_view_count": null,
            "_view_module": "@jupyter-widgets/controls",
            "_view_module_version": "1.5.0",
            "_view_name": "HBoxView",
            "box_style": "",
            "children": [
              "IPY_MODEL_5405d70d10504b4db238721367a4135b",
              "IPY_MODEL_30db2397a413459c91f4e2102c5dd14d",
              "IPY_MODEL_dea5eb3327bb4686801f63da16d245f6"
            ],
            "layout": "IPY_MODEL_ccec7375d9314b06ade0daede46195b7"
          }
        },
        "5405d70d10504b4db238721367a4135b": {
          "model_module": "@jupyter-widgets/controls",
          "model_name": "HTMLModel",
          "model_module_version": "1.5.0",
          "state": {
            "_dom_classes": [],
            "_model_module": "@jupyter-widgets/controls",
            "_model_module_version": "1.5.0",
            "_model_name": "HTMLModel",
            "_view_count": null,
            "_view_module": "@jupyter-widgets/controls",
            "_view_module_version": "1.5.0",
            "_view_name": "HTMLView",
            "description": "",
            "description_tooltip": null,
            "layout": "IPY_MODEL_abbad2e2655a4ca68ba1fadc37ab3b0b",
            "placeholder": "​",
            "style": "IPY_MODEL_f3e2fbdb452c4db1b1c83f74b84fde0a",
            "value": "100%"
          }
        },
        "30db2397a413459c91f4e2102c5dd14d": {
          "model_module": "@jupyter-widgets/controls",
          "model_name": "FloatProgressModel",
          "model_module_version": "1.5.0",
          "state": {
            "_dom_classes": [],
            "_model_module": "@jupyter-widgets/controls",
            "_model_module_version": "1.5.0",
            "_model_name": "FloatProgressModel",
            "_view_count": null,
            "_view_module": "@jupyter-widgets/controls",
            "_view_module_version": "1.5.0",
            "_view_name": "ProgressView",
            "bar_style": "success",
            "description": "",
            "description_tooltip": null,
            "layout": "IPY_MODEL_958fa8cdfc394f17950334a2a8516e6e",
            "max": 28881,
            "min": 0,
            "orientation": "horizontal",
            "style": "IPY_MODEL_eac801844dc94c6c8c9d31e75fa6fe3a",
            "value": 28881
          }
        },
        "dea5eb3327bb4686801f63da16d245f6": {
          "model_module": "@jupyter-widgets/controls",
          "model_name": "HTMLModel",
          "model_module_version": "1.5.0",
          "state": {
            "_dom_classes": [],
            "_model_module": "@jupyter-widgets/controls",
            "_model_module_version": "1.5.0",
            "_model_name": "HTMLModel",
            "_view_count": null,
            "_view_module": "@jupyter-widgets/controls",
            "_view_module_version": "1.5.0",
            "_view_name": "HTMLView",
            "description": "",
            "description_tooltip": null,
            "layout": "IPY_MODEL_50d41c11bcea40d893901dddc68c3f76",
            "placeholder": "​",
            "style": "IPY_MODEL_6fe06a28286b470891f5b8d03f131c3d",
            "value": " 28881/28881 [00:00&lt;00:00, 850773.57it/s]"
          }
        },
        "ccec7375d9314b06ade0daede46195b7": {
          "model_module": "@jupyter-widgets/base",
          "model_name": "LayoutModel",
          "model_module_version": "1.2.0",
          "state": {
            "_model_module": "@jupyter-widgets/base",
            "_model_module_version": "1.2.0",
            "_model_name": "LayoutModel",
            "_view_count": null,
            "_view_module": "@jupyter-widgets/base",
            "_view_module_version": "1.2.0",
            "_view_name": "LayoutView",
            "align_content": null,
            "align_items": null,
            "align_self": null,
            "border": null,
            "bottom": null,
            "display": null,
            "flex": null,
            "flex_flow": null,
            "grid_area": null,
            "grid_auto_columns": null,
            "grid_auto_flow": null,
            "grid_auto_rows": null,
            "grid_column": null,
            "grid_gap": null,
            "grid_row": null,
            "grid_template_areas": null,
            "grid_template_columns": null,
            "grid_template_rows": null,
            "height": null,
            "justify_content": null,
            "justify_items": null,
            "left": null,
            "margin": null,
            "max_height": null,
            "max_width": null,
            "min_height": null,
            "min_width": null,
            "object_fit": null,
            "object_position": null,
            "order": null,
            "overflow": null,
            "overflow_x": null,
            "overflow_y": null,
            "padding": null,
            "right": null,
            "top": null,
            "visibility": null,
            "width": null
          }
        },
        "abbad2e2655a4ca68ba1fadc37ab3b0b": {
          "model_module": "@jupyter-widgets/base",
          "model_name": "LayoutModel",
          "model_module_version": "1.2.0",
          "state": {
            "_model_module": "@jupyter-widgets/base",
            "_model_module_version": "1.2.0",
            "_model_name": "LayoutModel",
            "_view_count": null,
            "_view_module": "@jupyter-widgets/base",
            "_view_module_version": "1.2.0",
            "_view_name": "LayoutView",
            "align_content": null,
            "align_items": null,
            "align_self": null,
            "border": null,
            "bottom": null,
            "display": null,
            "flex": null,
            "flex_flow": null,
            "grid_area": null,
            "grid_auto_columns": null,
            "grid_auto_flow": null,
            "grid_auto_rows": null,
            "grid_column": null,
            "grid_gap": null,
            "grid_row": null,
            "grid_template_areas": null,
            "grid_template_columns": null,
            "grid_template_rows": null,
            "height": null,
            "justify_content": null,
            "justify_items": null,
            "left": null,
            "margin": null,
            "max_height": null,
            "max_width": null,
            "min_height": null,
            "min_width": null,
            "object_fit": null,
            "object_position": null,
            "order": null,
            "overflow": null,
            "overflow_x": null,
            "overflow_y": null,
            "padding": null,
            "right": null,
            "top": null,
            "visibility": null,
            "width": null
          }
        },
        "f3e2fbdb452c4db1b1c83f74b84fde0a": {
          "model_module": "@jupyter-widgets/controls",
          "model_name": "DescriptionStyleModel",
          "model_module_version": "1.5.0",
          "state": {
            "_model_module": "@jupyter-widgets/controls",
            "_model_module_version": "1.5.0",
            "_model_name": "DescriptionStyleModel",
            "_view_count": null,
            "_view_module": "@jupyter-widgets/base",
            "_view_module_version": "1.2.0",
            "_view_name": "StyleView",
            "description_width": ""
          }
        },
        "958fa8cdfc394f17950334a2a8516e6e": {
          "model_module": "@jupyter-widgets/base",
          "model_name": "LayoutModel",
          "model_module_version": "1.2.0",
          "state": {
            "_model_module": "@jupyter-widgets/base",
            "_model_module_version": "1.2.0",
            "_model_name": "LayoutModel",
            "_view_count": null,
            "_view_module": "@jupyter-widgets/base",
            "_view_module_version": "1.2.0",
            "_view_name": "LayoutView",
            "align_content": null,
            "align_items": null,
            "align_self": null,
            "border": null,
            "bottom": null,
            "display": null,
            "flex": null,
            "flex_flow": null,
            "grid_area": null,
            "grid_auto_columns": null,
            "grid_auto_flow": null,
            "grid_auto_rows": null,
            "grid_column": null,
            "grid_gap": null,
            "grid_row": null,
            "grid_template_areas": null,
            "grid_template_columns": null,
            "grid_template_rows": null,
            "height": null,
            "justify_content": null,
            "justify_items": null,
            "left": null,
            "margin": null,
            "max_height": null,
            "max_width": null,
            "min_height": null,
            "min_width": null,
            "object_fit": null,
            "object_position": null,
            "order": null,
            "overflow": null,
            "overflow_x": null,
            "overflow_y": null,
            "padding": null,
            "right": null,
            "top": null,
            "visibility": null,
            "width": null
          }
        },
        "eac801844dc94c6c8c9d31e75fa6fe3a": {
          "model_module": "@jupyter-widgets/controls",
          "model_name": "ProgressStyleModel",
          "model_module_version": "1.5.0",
          "state": {
            "_model_module": "@jupyter-widgets/controls",
            "_model_module_version": "1.5.0",
            "_model_name": "ProgressStyleModel",
            "_view_count": null,
            "_view_module": "@jupyter-widgets/base",
            "_view_module_version": "1.2.0",
            "_view_name": "StyleView",
            "bar_color": null,
            "description_width": ""
          }
        },
        "50d41c11bcea40d893901dddc68c3f76": {
          "model_module": "@jupyter-widgets/base",
          "model_name": "LayoutModel",
          "model_module_version": "1.2.0",
          "state": {
            "_model_module": "@jupyter-widgets/base",
            "_model_module_version": "1.2.0",
            "_model_name": "LayoutModel",
            "_view_count": null,
            "_view_module": "@jupyter-widgets/base",
            "_view_module_version": "1.2.0",
            "_view_name": "LayoutView",
            "align_content": null,
            "align_items": null,
            "align_self": null,
            "border": null,
            "bottom": null,
            "display": null,
            "flex": null,
            "flex_flow": null,
            "grid_area": null,
            "grid_auto_columns": null,
            "grid_auto_flow": null,
            "grid_auto_rows": null,
            "grid_column": null,
            "grid_gap": null,
            "grid_row": null,
            "grid_template_areas": null,
            "grid_template_columns": null,
            "grid_template_rows": null,
            "height": null,
            "justify_content": null,
            "justify_items": null,
            "left": null,
            "margin": null,
            "max_height": null,
            "max_width": null,
            "min_height": null,
            "min_width": null,
            "object_fit": null,
            "object_position": null,
            "order": null,
            "overflow": null,
            "overflow_x": null,
            "overflow_y": null,
            "padding": null,
            "right": null,
            "top": null,
            "visibility": null,
            "width": null
          }
        },
        "6fe06a28286b470891f5b8d03f131c3d": {
          "model_module": "@jupyter-widgets/controls",
          "model_name": "DescriptionStyleModel",
          "model_module_version": "1.5.0",
          "state": {
            "_model_module": "@jupyter-widgets/controls",
            "_model_module_version": "1.5.0",
            "_model_name": "DescriptionStyleModel",
            "_view_count": null,
            "_view_module": "@jupyter-widgets/base",
            "_view_module_version": "1.2.0",
            "_view_name": "StyleView",
            "description_width": ""
          }
        },
        "11b21e5f4a954cd1b504536272084caa": {
          "model_module": "@jupyter-widgets/controls",
          "model_name": "HBoxModel",
          "model_module_version": "1.5.0",
          "state": {
            "_dom_classes": [],
            "_model_module": "@jupyter-widgets/controls",
            "_model_module_version": "1.5.0",
            "_model_name": "HBoxModel",
            "_view_count": null,
            "_view_module": "@jupyter-widgets/controls",
            "_view_module_version": "1.5.0",
            "_view_name": "HBoxView",
            "box_style": "",
            "children": [
              "IPY_MODEL_bcd150f46d23427394f48005766d6c89",
              "IPY_MODEL_9fc5e1b622bd4fc69e05c772d9df7518",
              "IPY_MODEL_3e9b54b08aca457eb43f6a00f719a822"
            ],
            "layout": "IPY_MODEL_735a68704de841d7bbccb28c26cfd5e0"
          }
        },
        "bcd150f46d23427394f48005766d6c89": {
          "model_module": "@jupyter-widgets/controls",
          "model_name": "HTMLModel",
          "model_module_version": "1.5.0",
          "state": {
            "_dom_classes": [],
            "_model_module": "@jupyter-widgets/controls",
            "_model_module_version": "1.5.0",
            "_model_name": "HTMLModel",
            "_view_count": null,
            "_view_module": "@jupyter-widgets/controls",
            "_view_module_version": "1.5.0",
            "_view_name": "HTMLView",
            "description": "",
            "description_tooltip": null,
            "layout": "IPY_MODEL_c8b7b3bf738b4a11b444ac44a8b80f56",
            "placeholder": "​",
            "style": "IPY_MODEL_432cfda0eb4841358f93b00d78b9e6e4",
            "value": "100%"
          }
        },
        "9fc5e1b622bd4fc69e05c772d9df7518": {
          "model_module": "@jupyter-widgets/controls",
          "model_name": "FloatProgressModel",
          "model_module_version": "1.5.0",
          "state": {
            "_dom_classes": [],
            "_model_module": "@jupyter-widgets/controls",
            "_model_module_version": "1.5.0",
            "_model_name": "FloatProgressModel",
            "_view_count": null,
            "_view_module": "@jupyter-widgets/controls",
            "_view_module_version": "1.5.0",
            "_view_name": "ProgressView",
            "bar_style": "success",
            "description": "",
            "description_tooltip": null,
            "layout": "IPY_MODEL_899c0e4382ad4528a9801ffe9a6a476f",
            "max": 1648877,
            "min": 0,
            "orientation": "horizontal",
            "style": "IPY_MODEL_b0f679d8c2fb42af9d03a51cfab5ac1b",
            "value": 1648877
          }
        },
        "3e9b54b08aca457eb43f6a00f719a822": {
          "model_module": "@jupyter-widgets/controls",
          "model_name": "HTMLModel",
          "model_module_version": "1.5.0",
          "state": {
            "_dom_classes": [],
            "_model_module": "@jupyter-widgets/controls",
            "_model_module_version": "1.5.0",
            "_model_name": "HTMLModel",
            "_view_count": null,
            "_view_module": "@jupyter-widgets/controls",
            "_view_module_version": "1.5.0",
            "_view_name": "HTMLView",
            "description": "",
            "description_tooltip": null,
            "layout": "IPY_MODEL_f22b63fb9cb94404b9e82231be9b517e",
            "placeholder": "​",
            "style": "IPY_MODEL_ec851fdf02654e8cb2119feb469fd767",
            "value": " 1648877/1648877 [00:00&lt;00:00, 6822500.79it/s]"
          }
        },
        "735a68704de841d7bbccb28c26cfd5e0": {
          "model_module": "@jupyter-widgets/base",
          "model_name": "LayoutModel",
          "model_module_version": "1.2.0",
          "state": {
            "_model_module": "@jupyter-widgets/base",
            "_model_module_version": "1.2.0",
            "_model_name": "LayoutModel",
            "_view_count": null,
            "_view_module": "@jupyter-widgets/base",
            "_view_module_version": "1.2.0",
            "_view_name": "LayoutView",
            "align_content": null,
            "align_items": null,
            "align_self": null,
            "border": null,
            "bottom": null,
            "display": null,
            "flex": null,
            "flex_flow": null,
            "grid_area": null,
            "grid_auto_columns": null,
            "grid_auto_flow": null,
            "grid_auto_rows": null,
            "grid_column": null,
            "grid_gap": null,
            "grid_row": null,
            "grid_template_areas": null,
            "grid_template_columns": null,
            "grid_template_rows": null,
            "height": null,
            "justify_content": null,
            "justify_items": null,
            "left": null,
            "margin": null,
            "max_height": null,
            "max_width": null,
            "min_height": null,
            "min_width": null,
            "object_fit": null,
            "object_position": null,
            "order": null,
            "overflow": null,
            "overflow_x": null,
            "overflow_y": null,
            "padding": null,
            "right": null,
            "top": null,
            "visibility": null,
            "width": null
          }
        },
        "c8b7b3bf738b4a11b444ac44a8b80f56": {
          "model_module": "@jupyter-widgets/base",
          "model_name": "LayoutModel",
          "model_module_version": "1.2.0",
          "state": {
            "_model_module": "@jupyter-widgets/base",
            "_model_module_version": "1.2.0",
            "_model_name": "LayoutModel",
            "_view_count": null,
            "_view_module": "@jupyter-widgets/base",
            "_view_module_version": "1.2.0",
            "_view_name": "LayoutView",
            "align_content": null,
            "align_items": null,
            "align_self": null,
            "border": null,
            "bottom": null,
            "display": null,
            "flex": null,
            "flex_flow": null,
            "grid_area": null,
            "grid_auto_columns": null,
            "grid_auto_flow": null,
            "grid_auto_rows": null,
            "grid_column": null,
            "grid_gap": null,
            "grid_row": null,
            "grid_template_areas": null,
            "grid_template_columns": null,
            "grid_template_rows": null,
            "height": null,
            "justify_content": null,
            "justify_items": null,
            "left": null,
            "margin": null,
            "max_height": null,
            "max_width": null,
            "min_height": null,
            "min_width": null,
            "object_fit": null,
            "object_position": null,
            "order": null,
            "overflow": null,
            "overflow_x": null,
            "overflow_y": null,
            "padding": null,
            "right": null,
            "top": null,
            "visibility": null,
            "width": null
          }
        },
        "432cfda0eb4841358f93b00d78b9e6e4": {
          "model_module": "@jupyter-widgets/controls",
          "model_name": "DescriptionStyleModel",
          "model_module_version": "1.5.0",
          "state": {
            "_model_module": "@jupyter-widgets/controls",
            "_model_module_version": "1.5.0",
            "_model_name": "DescriptionStyleModel",
            "_view_count": null,
            "_view_module": "@jupyter-widgets/base",
            "_view_module_version": "1.2.0",
            "_view_name": "StyleView",
            "description_width": ""
          }
        },
        "899c0e4382ad4528a9801ffe9a6a476f": {
          "model_module": "@jupyter-widgets/base",
          "model_name": "LayoutModel",
          "model_module_version": "1.2.0",
          "state": {
            "_model_module": "@jupyter-widgets/base",
            "_model_module_version": "1.2.0",
            "_model_name": "LayoutModel",
            "_view_count": null,
            "_view_module": "@jupyter-widgets/base",
            "_view_module_version": "1.2.0",
            "_view_name": "LayoutView",
            "align_content": null,
            "align_items": null,
            "align_self": null,
            "border": null,
            "bottom": null,
            "display": null,
            "flex": null,
            "flex_flow": null,
            "grid_area": null,
            "grid_auto_columns": null,
            "grid_auto_flow": null,
            "grid_auto_rows": null,
            "grid_column": null,
            "grid_gap": null,
            "grid_row": null,
            "grid_template_areas": null,
            "grid_template_columns": null,
            "grid_template_rows": null,
            "height": null,
            "justify_content": null,
            "justify_items": null,
            "left": null,
            "margin": null,
            "max_height": null,
            "max_width": null,
            "min_height": null,
            "min_width": null,
            "object_fit": null,
            "object_position": null,
            "order": null,
            "overflow": null,
            "overflow_x": null,
            "overflow_y": null,
            "padding": null,
            "right": null,
            "top": null,
            "visibility": null,
            "width": null
          }
        },
        "b0f679d8c2fb42af9d03a51cfab5ac1b": {
          "model_module": "@jupyter-widgets/controls",
          "model_name": "ProgressStyleModel",
          "model_module_version": "1.5.0",
          "state": {
            "_model_module": "@jupyter-widgets/controls",
            "_model_module_version": "1.5.0",
            "_model_name": "ProgressStyleModel",
            "_view_count": null,
            "_view_module": "@jupyter-widgets/base",
            "_view_module_version": "1.2.0",
            "_view_name": "StyleView",
            "bar_color": null,
            "description_width": ""
          }
        },
        "f22b63fb9cb94404b9e82231be9b517e": {
          "model_module": "@jupyter-widgets/base",
          "model_name": "LayoutModel",
          "model_module_version": "1.2.0",
          "state": {
            "_model_module": "@jupyter-widgets/base",
            "_model_module_version": "1.2.0",
            "_model_name": "LayoutModel",
            "_view_count": null,
            "_view_module": "@jupyter-widgets/base",
            "_view_module_version": "1.2.0",
            "_view_name": "LayoutView",
            "align_content": null,
            "align_items": null,
            "align_self": null,
            "border": null,
            "bottom": null,
            "display": null,
            "flex": null,
            "flex_flow": null,
            "grid_area": null,
            "grid_auto_columns": null,
            "grid_auto_flow": null,
            "grid_auto_rows": null,
            "grid_column": null,
            "grid_gap": null,
            "grid_row": null,
            "grid_template_areas": null,
            "grid_template_columns": null,
            "grid_template_rows": null,
            "height": null,
            "justify_content": null,
            "justify_items": null,
            "left": null,
            "margin": null,
            "max_height": null,
            "max_width": null,
            "min_height": null,
            "min_width": null,
            "object_fit": null,
            "object_position": null,
            "order": null,
            "overflow": null,
            "overflow_x": null,
            "overflow_y": null,
            "padding": null,
            "right": null,
            "top": null,
            "visibility": null,
            "width": null
          }
        },
        "ec851fdf02654e8cb2119feb469fd767": {
          "model_module": "@jupyter-widgets/controls",
          "model_name": "DescriptionStyleModel",
          "model_module_version": "1.5.0",
          "state": {
            "_model_module": "@jupyter-widgets/controls",
            "_model_module_version": "1.5.0",
            "_model_name": "DescriptionStyleModel",
            "_view_count": null,
            "_view_module": "@jupyter-widgets/base",
            "_view_module_version": "1.2.0",
            "_view_name": "StyleView",
            "description_width": ""
          }
        },
        "5edc10850e2340f9973b257b52e2a1d2": {
          "model_module": "@jupyter-widgets/controls",
          "model_name": "HBoxModel",
          "model_module_version": "1.5.0",
          "state": {
            "_dom_classes": [],
            "_model_module": "@jupyter-widgets/controls",
            "_model_module_version": "1.5.0",
            "_model_name": "HBoxModel",
            "_view_count": null,
            "_view_module": "@jupyter-widgets/controls",
            "_view_module_version": "1.5.0",
            "_view_name": "HBoxView",
            "box_style": "",
            "children": [
              "IPY_MODEL_3e1d147f27de42ac9fa68591495494b4",
              "IPY_MODEL_6c0e680990dd4d1b81c2bbb43a755619",
              "IPY_MODEL_10eefa541c3c4592bde0a25ca260b7b4"
            ],
            "layout": "IPY_MODEL_85579870338b4357b3322e7bc609b59f"
          }
        },
        "3e1d147f27de42ac9fa68591495494b4": {
          "model_module": "@jupyter-widgets/controls",
          "model_name": "HTMLModel",
          "model_module_version": "1.5.0",
          "state": {
            "_dom_classes": [],
            "_model_module": "@jupyter-widgets/controls",
            "_model_module_version": "1.5.0",
            "_model_name": "HTMLModel",
            "_view_count": null,
            "_view_module": "@jupyter-widgets/controls",
            "_view_module_version": "1.5.0",
            "_view_name": "HTMLView",
            "description": "",
            "description_tooltip": null,
            "layout": "IPY_MODEL_c2e7020ca61746be8b441819ed35ac46",
            "placeholder": "​",
            "style": "IPY_MODEL_6752d23f375348dca42c2c716b9b0eb6",
            "value": "100%"
          }
        },
        "6c0e680990dd4d1b81c2bbb43a755619": {
          "model_module": "@jupyter-widgets/controls",
          "model_name": "FloatProgressModel",
          "model_module_version": "1.5.0",
          "state": {
            "_dom_classes": [],
            "_model_module": "@jupyter-widgets/controls",
            "_model_module_version": "1.5.0",
            "_model_name": "FloatProgressModel",
            "_view_count": null,
            "_view_module": "@jupyter-widgets/controls",
            "_view_module_version": "1.5.0",
            "_view_name": "ProgressView",
            "bar_style": "success",
            "description": "",
            "description_tooltip": null,
            "layout": "IPY_MODEL_916c189b45974662ac5d27c8b718860c",
            "max": 4542,
            "min": 0,
            "orientation": "horizontal",
            "style": "IPY_MODEL_11ea9c313b2d48f9a9c229af3e3bb5f6",
            "value": 4542
          }
        },
        "10eefa541c3c4592bde0a25ca260b7b4": {
          "model_module": "@jupyter-widgets/controls",
          "model_name": "HTMLModel",
          "model_module_version": "1.5.0",
          "state": {
            "_dom_classes": [],
            "_model_module": "@jupyter-widgets/controls",
            "_model_module_version": "1.5.0",
            "_model_name": "HTMLModel",
            "_view_count": null,
            "_view_module": "@jupyter-widgets/controls",
            "_view_module_version": "1.5.0",
            "_view_name": "HTMLView",
            "description": "",
            "description_tooltip": null,
            "layout": "IPY_MODEL_c95c562869ea4fb29e5ba64bd2c3afe5",
            "placeholder": "​",
            "style": "IPY_MODEL_b9466425ad72400a8cebbfaffd2a979f",
            "value": " 4542/4542 [00:00&lt;00:00, 110219.33it/s]"
          }
        },
        "85579870338b4357b3322e7bc609b59f": {
          "model_module": "@jupyter-widgets/base",
          "model_name": "LayoutModel",
          "model_module_version": "1.2.0",
          "state": {
            "_model_module": "@jupyter-widgets/base",
            "_model_module_version": "1.2.0",
            "_model_name": "LayoutModel",
            "_view_count": null,
            "_view_module": "@jupyter-widgets/base",
            "_view_module_version": "1.2.0",
            "_view_name": "LayoutView",
            "align_content": null,
            "align_items": null,
            "align_self": null,
            "border": null,
            "bottom": null,
            "display": null,
            "flex": null,
            "flex_flow": null,
            "grid_area": null,
            "grid_auto_columns": null,
            "grid_auto_flow": null,
            "grid_auto_rows": null,
            "grid_column": null,
            "grid_gap": null,
            "grid_row": null,
            "grid_template_areas": null,
            "grid_template_columns": null,
            "grid_template_rows": null,
            "height": null,
            "justify_content": null,
            "justify_items": null,
            "left": null,
            "margin": null,
            "max_height": null,
            "max_width": null,
            "min_height": null,
            "min_width": null,
            "object_fit": null,
            "object_position": null,
            "order": null,
            "overflow": null,
            "overflow_x": null,
            "overflow_y": null,
            "padding": null,
            "right": null,
            "top": null,
            "visibility": null,
            "width": null
          }
        },
        "c2e7020ca61746be8b441819ed35ac46": {
          "model_module": "@jupyter-widgets/base",
          "model_name": "LayoutModel",
          "model_module_version": "1.2.0",
          "state": {
            "_model_module": "@jupyter-widgets/base",
            "_model_module_version": "1.2.0",
            "_model_name": "LayoutModel",
            "_view_count": null,
            "_view_module": "@jupyter-widgets/base",
            "_view_module_version": "1.2.0",
            "_view_name": "LayoutView",
            "align_content": null,
            "align_items": null,
            "align_self": null,
            "border": null,
            "bottom": null,
            "display": null,
            "flex": null,
            "flex_flow": null,
            "grid_area": null,
            "grid_auto_columns": null,
            "grid_auto_flow": null,
            "grid_auto_rows": null,
            "grid_column": null,
            "grid_gap": null,
            "grid_row": null,
            "grid_template_areas": null,
            "grid_template_columns": null,
            "grid_template_rows": null,
            "height": null,
            "justify_content": null,
            "justify_items": null,
            "left": null,
            "margin": null,
            "max_height": null,
            "max_width": null,
            "min_height": null,
            "min_width": null,
            "object_fit": null,
            "object_position": null,
            "order": null,
            "overflow": null,
            "overflow_x": null,
            "overflow_y": null,
            "padding": null,
            "right": null,
            "top": null,
            "visibility": null,
            "width": null
          }
        },
        "6752d23f375348dca42c2c716b9b0eb6": {
          "model_module": "@jupyter-widgets/controls",
          "model_name": "DescriptionStyleModel",
          "model_module_version": "1.5.0",
          "state": {
            "_model_module": "@jupyter-widgets/controls",
            "_model_module_version": "1.5.0",
            "_model_name": "DescriptionStyleModel",
            "_view_count": null,
            "_view_module": "@jupyter-widgets/base",
            "_view_module_version": "1.2.0",
            "_view_name": "StyleView",
            "description_width": ""
          }
        },
        "916c189b45974662ac5d27c8b718860c": {
          "model_module": "@jupyter-widgets/base",
          "model_name": "LayoutModel",
          "model_module_version": "1.2.0",
          "state": {
            "_model_module": "@jupyter-widgets/base",
            "_model_module_version": "1.2.0",
            "_model_name": "LayoutModel",
            "_view_count": null,
            "_view_module": "@jupyter-widgets/base",
            "_view_module_version": "1.2.0",
            "_view_name": "LayoutView",
            "align_content": null,
            "align_items": null,
            "align_self": null,
            "border": null,
            "bottom": null,
            "display": null,
            "flex": null,
            "flex_flow": null,
            "grid_area": null,
            "grid_auto_columns": null,
            "grid_auto_flow": null,
            "grid_auto_rows": null,
            "grid_column": null,
            "grid_gap": null,
            "grid_row": null,
            "grid_template_areas": null,
            "grid_template_columns": null,
            "grid_template_rows": null,
            "height": null,
            "justify_content": null,
            "justify_items": null,
            "left": null,
            "margin": null,
            "max_height": null,
            "max_width": null,
            "min_height": null,
            "min_width": null,
            "object_fit": null,
            "object_position": null,
            "order": null,
            "overflow": null,
            "overflow_x": null,
            "overflow_y": null,
            "padding": null,
            "right": null,
            "top": null,
            "visibility": null,
            "width": null
          }
        },
        "11ea9c313b2d48f9a9c229af3e3bb5f6": {
          "model_module": "@jupyter-widgets/controls",
          "model_name": "ProgressStyleModel",
          "model_module_version": "1.5.0",
          "state": {
            "_model_module": "@jupyter-widgets/controls",
            "_model_module_version": "1.5.0",
            "_model_name": "ProgressStyleModel",
            "_view_count": null,
            "_view_module": "@jupyter-widgets/base",
            "_view_module_version": "1.2.0",
            "_view_name": "StyleView",
            "bar_color": null,
            "description_width": ""
          }
        },
        "c95c562869ea4fb29e5ba64bd2c3afe5": {
          "model_module": "@jupyter-widgets/base",
          "model_name": "LayoutModel",
          "model_module_version": "1.2.0",
          "state": {
            "_model_module": "@jupyter-widgets/base",
            "_model_module_version": "1.2.0",
            "_model_name": "LayoutModel",
            "_view_count": null,
            "_view_module": "@jupyter-widgets/base",
            "_view_module_version": "1.2.0",
            "_view_name": "LayoutView",
            "align_content": null,
            "align_items": null,
            "align_self": null,
            "border": null,
            "bottom": null,
            "display": null,
            "flex": null,
            "flex_flow": null,
            "grid_area": null,
            "grid_auto_columns": null,
            "grid_auto_flow": null,
            "grid_auto_rows": null,
            "grid_column": null,
            "grid_gap": null,
            "grid_row": null,
            "grid_template_areas": null,
            "grid_template_columns": null,
            "grid_template_rows": null,
            "height": null,
            "justify_content": null,
            "justify_items": null,
            "left": null,
            "margin": null,
            "max_height": null,
            "max_width": null,
            "min_height": null,
            "min_width": null,
            "object_fit": null,
            "object_position": null,
            "order": null,
            "overflow": null,
            "overflow_x": null,
            "overflow_y": null,
            "padding": null,
            "right": null,
            "top": null,
            "visibility": null,
            "width": null
          }
        },
        "b9466425ad72400a8cebbfaffd2a979f": {
          "model_module": "@jupyter-widgets/controls",
          "model_name": "DescriptionStyleModel",
          "model_module_version": "1.5.0",
          "state": {
            "_model_module": "@jupyter-widgets/controls",
            "_model_module_version": "1.5.0",
            "_model_name": "DescriptionStyleModel",
            "_view_count": null,
            "_view_module": "@jupyter-widgets/base",
            "_view_module_version": "1.2.0",
            "_view_name": "StyleView",
            "description_width": ""
          }
        }
      }
    }
  },
  "nbformat": 4,
  "nbformat_minor": 0
}