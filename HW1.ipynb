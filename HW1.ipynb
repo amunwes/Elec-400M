{
  "nbformat": 4,
  "nbformat_minor": 0,
  "metadata": {
    "colab": {
      "provenance": [],
      "authorship_tag": "ABX9TyPwHbsRIqDJ+En+moA0P2MO",
      "include_colab_link": true
    },
    "kernelspec": {
      "name": "python3",
      "display_name": "Python 3"
    },
    "language_info": {
      "name": "python"
    }
  },
  "cells": [
    {
      "cell_type": "markdown",
      "metadata": {
        "id": "view-in-github",
        "colab_type": "text"
      },
      "source": [
        "<a href=\"https://colab.research.google.com/github/amunwes/Elec-400M/blob/main/HW1.ipynb\" target=\"_parent\"><img src=\"https://colab.research.google.com/assets/colab-badge.svg\" alt=\"Open In Colab\"/></a>"
      ]
    },
    {
      "cell_type": "code",
      "execution_count": null,
      "metadata": {
        "id": "HbGUm9gjxLdC"
      },
      "outputs": [],
      "source": [
        "import numpy as np\n",
        "import matplotlib\n",
        "X_train = [6.94, 0.19, 5.70, 6.74, 4.49, 2.02, 1.78, 6.84, 1.52, 0.80]\n",
        "Y_train = [2.0, -0.07, -0.32, 1.17, -1.16, -0.71, -2.74, 2.56, -1.37, -0.49]\n",
        "\n",
        "X_test =[4.88, 1.28, 3.36, 6.07, 3.98, 3.91, 5.56, 4.62, 5.85, 5.41]\n",
        "Y_test =[-1.17, -0.01, -2.39, 0.82, -2.18, -2.49, -0.38, -1.97, 1.19, -0.50] \n",
        "X_train = np.array([X_train]).transpose()\n",
        "Y_train = np.array([Y_train]).transpose()\n",
        "\n",
        "\n",
        "\n"
      ]
    },
    {
      "cell_type": "code",
      "source": [
        "\n",
        "print(X_train.T@X_train)\n",
        "print(np.dot(X_train.T,X_train))\n",
        "print(np.linalg.inv(np.dot(X_train.T,X_train)))\n",
        "print(X_train.size)\n",
        "a = np.array([[2,3],[3,4]])\n",
        "print(a)\n",
        "print(a.size)\n",
        "print(np.ones((3,1)))"
      ],
      "metadata": {
        "colab": {
          "base_uri": "https://localhost:8080/"
        },
        "id": "ZLcyItPq9I5C",
        "outputId": "bfd9c82e-4e25-4f33-99a5-d49fb00f5c55"
      },
      "execution_count": null,
      "outputs": [
        {
          "output_type": "stream",
          "name": "stdout",
          "text": [
            "[[203.2622]]\n",
            "[[203.2622]]\n",
            "[[0.00491975]]\n",
            "10\n",
            "[[2 3]\n",
            " [3 4]]\n",
            "4\n",
            "[[1.]\n",
            " [1.]\n",
            " [1.]]\n"
          ]
        }
      ]
    },
    {
      "cell_type": "markdown",
      "source": [
        "(a) Calculate the analytic solution of the linear model :\n",
        "\\begin{equation}\n",
        "fΘ(x) = θ_{0} + θ_{1}x. \n",
        "\\end{equation}\n",
        "\n",
        "\n",
        "Then, use scatter plot to plot the training data points and draw the fitted line on the same figure.\n"
      ],
      "metadata": {
        "id": "BORlT2Zm210T"
      }
    },
    {
      "cell_type": "code",
      "source": [
        "\n",
        "def AnalSolution(X,Y):\n",
        "  #analytic solution has 2 conditions 2X^TX >0  and 2X^T(Xtheta - Y) = 0\n",
        "  # theta = (X^TX)^-1X^TY\n",
        "  theta = np.linalg.inv(X.T@X)@X.T@Y\n",
        "  \n",
        "  return theta\n",
        "\n",
        "print(AnalSolution(X_train,Y_train))"
      ],
      "metadata": {
        "colab": {
          "base_uri": "https://localhost:8080/"
        },
        "id": "nnyhPV9g2w6t",
        "outputId": "67c9a837-fb16-4b06-d592-4f9d60962f97"
      },
      "execution_count": null,
      "outputs": [
        {
          "output_type": "stream",
          "name": "stdout",
          "text": [
            "[[0.11534215]]\n"
          ]
        }
      ]
    },
    {
      "cell_type": "markdown",
      "source": [
        "(b) Suppose we want to increase the model complexity, by considering y as a linear function of both x and x\n",
        "2\n",
        ".\n",
        "Namely fΘ(x) = θ0 +θ1x+θ2x\n",
        "2\n",
        ". In this case, calculate the analytic solution of model and plot the smooth curve\n",
        "of the model, together with the scatter plot of data points in training set.\n",
        "(hint: in this case, X =\n",
        "\n",
        "\n",
        "1 x\n",
        "(1) x\n",
        "(1)2\n",
        ".\n",
        ".\n",
        ".\n",
        ".\n",
        ".\n",
        ".\n",
        ".\n",
        ".\n",
        ".\n",
        "1 x\n",
        "(10) x\n",
        "(10)2\n",
        "\n",
        ")\n",
        "(c) Let us further increase the model complexity by assuming y is related to higher-order forms of x, i.e.,\n",
        "fΘ(x) = θ0 + θ1x + θ2x\n",
        "2 + θ3x\n",
        "3 + θ4x\n",
        "4\n",
        ". Again, calculate the analytic solution of the model and plot the\n",
        "curve of the function, together with the data points in training set.\n",
        "(d) Observe the above three functions, point out which could be faced with underfitting, which could be faced\n",
        "with overfitting, and which one is relatively a good fit? Then, calculate the values of prediction error on the test\n",
        "data to verify your thoughts.\n",
        "\n",
        "\n",
        "(e) For question (a-c), verify your optimal Θ∗ using the linear regression function in sklearn. The example code\n",
        "is provided in ELEC 400M HW1 Example Codes.ipynb.\n"
      ],
      "metadata": {
        "id": "94SgPAVW-3yo"
      }
    }
  ]
}