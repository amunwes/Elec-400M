{
  "cells": [
    {
      "cell_type": "markdown",
      "metadata": {
        "id": "view-in-github",
        "colab_type": "text"
      },
      "source": [
        "<a href=\"https://colab.research.google.com/github/amunwes/Elec-400M/blob/main/ELEC400M(regression).ipynb\" target=\"_parent\"><img src=\"https://colab.research.google.com/assets/colab-badge.svg\" alt=\"Open In Colab\"/></a>"
      ]
    },
    {
      "cell_type": "markdown",
      "metadata": {
        "id": "sosjYV-soKzA"
      },
      "source": [
        "## Linear Regression"
      ]
    },
    {
      "cell_type": "code",
      "execution_count": null,
      "metadata": {
        "colab": {
          "base_uri": "https://localhost:8080/"
        },
        "id": "EZNTi6H5SH4H",
        "outputId": "ae328965-7d46-4ec5-93b7-853446c1f885"
      },
      "outputs": [
        {
          "name": "stdout",
          "output_type": "stream",
          "text": [
            "--2022-09-11 06:49:21--  https://github.com/content-anu/dataset-simple-linear/blob/master/Salary_Data.csv\n",
            "Resolving github.com (github.com)... 140.82.113.3\n",
            "Connecting to github.com (github.com)|140.82.113.3|:443... connected.\n",
            "HTTP request sent, awaiting response... 200 OK\n",
            "Length: unspecified [text/html]\n",
            "Saving to: ‘Salary_Data.csv’\n",
            "\n",
            "Salary_Data.csv         [ <=>                ] 154.34K  --.-KB/s    in 0.07s   \n",
            "\n",
            "2022-09-11 06:49:21 (2.05 MB/s) - ‘Salary_Data.csv’ saved [158044]\n",
            "\n"
          ]
        }
      ],
      "source": [
        "# download dataset\n",
        "!wget https://github.com/content-anu/dataset-simple-linear/blob/master/Salary_Data.csv"
      ]
    },
    {
      "cell_type": "code",
      "execution_count": null,
      "metadata": {
        "colab": {
          "base_uri": "https://localhost:8080/",
          "height": 322
        },
        "id": "QT-LVzW0SpbY",
        "outputId": "5c745168-cf83-4971-e547-3d8c9f74e928"
      },
      "outputs": [
        {
          "data": {
            "text/html": [
              "\n",
              "  <div id=\"df-6cafca4e-ee10-4562-93ce-e42f78aea00b\">\n",
              "    <div class=\"colab-df-container\">\n",
              "      <div>\n",
              "<style scoped>\n",
              "    .dataframe tbody tr th:only-of-type {\n",
              "        vertical-align: middle;\n",
              "    }\n",
              "\n",
              "    .dataframe tbody tr th {\n",
              "        vertical-align: top;\n",
              "    }\n",
              "\n",
              "    .dataframe thead th {\n",
              "        text-align: right;\n",
              "    }\n",
              "</style>\n",
              "<table border=\"1\" class=\"dataframe\">\n",
              "  <thead>\n",
              "    <tr style=\"text-align: right;\">\n",
              "      <th></th>\n",
              "      <th>YearsExperience</th>\n",
              "      <th>Salary</th>\n",
              "    </tr>\n",
              "  </thead>\n",
              "  <tbody>\n",
              "    <tr>\n",
              "      <th>0</th>\n",
              "      <td>1.1</td>\n",
              "      <td>39343.0</td>\n",
              "    </tr>\n",
              "    <tr>\n",
              "      <th>1</th>\n",
              "      <td>1.3</td>\n",
              "      <td>46205.0</td>\n",
              "    </tr>\n",
              "    <tr>\n",
              "      <th>2</th>\n",
              "      <td>1.5</td>\n",
              "      <td>37731.0</td>\n",
              "    </tr>\n",
              "    <tr>\n",
              "      <th>3</th>\n",
              "      <td>2.0</td>\n",
              "      <td>43525.0</td>\n",
              "    </tr>\n",
              "    <tr>\n",
              "      <th>4</th>\n",
              "      <td>2.2</td>\n",
              "      <td>39891.0</td>\n",
              "    </tr>\n",
              "    <tr>\n",
              "      <th>5</th>\n",
              "      <td>2.9</td>\n",
              "      <td>56642.0</td>\n",
              "    </tr>\n",
              "    <tr>\n",
              "      <th>6</th>\n",
              "      <td>3.0</td>\n",
              "      <td>60150.0</td>\n",
              "    </tr>\n",
              "    <tr>\n",
              "      <th>7</th>\n",
              "      <td>3.2</td>\n",
              "      <td>54445.0</td>\n",
              "    </tr>\n",
              "    <tr>\n",
              "      <th>8</th>\n",
              "      <td>3.2</td>\n",
              "      <td>64445.0</td>\n",
              "    </tr>\n",
              "    <tr>\n",
              "      <th>9</th>\n",
              "      <td>3.7</td>\n",
              "      <td>57189.0</td>\n",
              "    </tr>\n",
              "  </tbody>\n",
              "</table>\n",
              "</div>\n",
              "      <button class=\"colab-df-convert\" onclick=\"convertToInteractive('df-6cafca4e-ee10-4562-93ce-e42f78aea00b')\"\n",
              "              title=\"Convert this dataframe to an interactive table.\"\n",
              "              style=\"display:none;\">\n",
              "        \n",
              "  <svg xmlns=\"http://www.w3.org/2000/svg\" height=\"24px\"viewBox=\"0 0 24 24\"\n",
              "       width=\"24px\">\n",
              "    <path d=\"M0 0h24v24H0V0z\" fill=\"none\"/>\n",
              "    <path d=\"M18.56 5.44l.94 2.06.94-2.06 2.06-.94-2.06-.94-.94-2.06-.94 2.06-2.06.94zm-11 1L8.5 8.5l.94-2.06 2.06-.94-2.06-.94L8.5 2.5l-.94 2.06-2.06.94zm10 10l.94 2.06.94-2.06 2.06-.94-2.06-.94-.94-2.06-.94 2.06-2.06.94z\"/><path d=\"M17.41 7.96l-1.37-1.37c-.4-.4-.92-.59-1.43-.59-.52 0-1.04.2-1.43.59L10.3 9.45l-7.72 7.72c-.78.78-.78 2.05 0 2.83L4 21.41c.39.39.9.59 1.41.59.51 0 1.02-.2 1.41-.59l7.78-7.78 2.81-2.81c.8-.78.8-2.07 0-2.86zM5.41 20L4 18.59l7.72-7.72 1.47 1.35L5.41 20z\"/>\n",
              "  </svg>\n",
              "      </button>\n",
              "      \n",
              "  <style>\n",
              "    .colab-df-container {\n",
              "      display:flex;\n",
              "      flex-wrap:wrap;\n",
              "      gap: 12px;\n",
              "    }\n",
              "\n",
              "    .colab-df-convert {\n",
              "      background-color: #E8F0FE;\n",
              "      border: none;\n",
              "      border-radius: 50%;\n",
              "      cursor: pointer;\n",
              "      display: none;\n",
              "      fill: #1967D2;\n",
              "      height: 32px;\n",
              "      padding: 0 0 0 0;\n",
              "      width: 32px;\n",
              "    }\n",
              "\n",
              "    .colab-df-convert:hover {\n",
              "      background-color: #E2EBFA;\n",
              "      box-shadow: 0px 1px 2px rgba(60, 64, 67, 0.3), 0px 1px 3px 1px rgba(60, 64, 67, 0.15);\n",
              "      fill: #174EA6;\n",
              "    }\n",
              "\n",
              "    [theme=dark] .colab-df-convert {\n",
              "      background-color: #3B4455;\n",
              "      fill: #D2E3FC;\n",
              "    }\n",
              "\n",
              "    [theme=dark] .colab-df-convert:hover {\n",
              "      background-color: #434B5C;\n",
              "      box-shadow: 0px 1px 3px 1px rgba(0, 0, 0, 0.15);\n",
              "      filter: drop-shadow(0px 1px 2px rgba(0, 0, 0, 0.3));\n",
              "      fill: #FFFFFF;\n",
              "    }\n",
              "  </style>\n",
              "\n",
              "      <script>\n",
              "        const buttonEl =\n",
              "          document.querySelector('#df-6cafca4e-ee10-4562-93ce-e42f78aea00b button.colab-df-convert');\n",
              "        buttonEl.style.display =\n",
              "          google.colab.kernel.accessAllowed ? 'block' : 'none';\n",
              "\n",
              "        async function convertToInteractive(key) {\n",
              "          const element = document.querySelector('#df-6cafca4e-ee10-4562-93ce-e42f78aea00b');\n",
              "          const dataTable =\n",
              "            await google.colab.kernel.invokeFunction('convertToInteractive',\n",
              "                                                     [key], {});\n",
              "          if (!dataTable) return;\n",
              "\n",
              "          const docLinkHtml = 'Like what you see? Visit the ' +\n",
              "            '<a target=\"_blank\" href=https://colab.research.google.com/notebooks/data_table.ipynb>data table notebook</a>'\n",
              "            + ' to learn more about interactive tables.';\n",
              "          element.innerHTML = '';\n",
              "          dataTable['output_type'] = 'display_data';\n",
              "          await google.colab.output.renderOutput(dataTable, element);\n",
              "          const docLink = document.createElement('div');\n",
              "          docLink.innerHTML = docLinkHtml;\n",
              "          element.appendChild(docLink);\n",
              "        }\n",
              "      </script>\n",
              "    </div>\n",
              "  </div>\n",
              "  "
            ],
            "text/plain": [
              "   YearsExperience   Salary\n",
              "0              1.1  39343.0\n",
              "1              1.3  46205.0\n",
              "2              1.5  37731.0\n",
              "3              2.0  43525.0\n",
              "4              2.2  39891.0\n",
              "5              2.9  56642.0\n",
              "6              3.0  60150.0\n",
              "7              3.2  54445.0\n",
              "8              3.2  64445.0\n",
              "9              3.7  57189.0"
            ]
          },
          "execution_count": 18,
          "metadata": {},
          "output_type": "execute_result"
        }
      ],
      "source": [
        "import numpy as np\n",
        "import pandas as pd\n",
        "import matplotlib.pyplot as plt\n",
        "\n",
        "dataset = pd.read_csv('Salary_Data.csv')\n",
        "dataset.head(10)"
      ]
    },
    {
      "cell_type": "markdown",
      "metadata": {
        "id": "aNM6KXfXVFhK"
      },
      "source": [
        "###data processing"
      ]
    },
    {
      "cell_type": "code",
      "execution_count": null,
      "metadata": {
        "id": "KwTfTa-FUyJU"
      },
      "outputs": [],
      "source": [
        "# denote YearsExperience as X and Saraly as y\n",
        "X = dataset.iloc[:,:-1].values  #independent variable array\n",
        "y = dataset.iloc[:,1].values  #dependent variable vector"
      ]
    },
    {
      "cell_type": "markdown",
      "metadata": {
        "id": "1KL-nQD2VM5B"
      },
      "source": [
        "###Splitting the dataset"
      ]
    },
    {
      "cell_type": "code",
      "execution_count": null,
      "metadata": {
        "id": "viftv7UnVR4S"
      },
      "outputs": [],
      "source": [
        "from sklearn.model_selection import train_test_split\n",
        "X_train, X_test, y_train, y_test = train_test_split(X,y,test_size=1/3,random_state=0)\n"
      ]
    },
    {
      "cell_type": "markdown",
      "metadata": {
        "id": "WnRM4vuZV7YL"
      },
      "source": [
        "### data visualization"
      ]
    },
    {
      "cell_type": "code",
      "execution_count": null,
      "metadata": {
        "colab": {
          "base_uri": "https://localhost:8080/",
          "height": 295
        },
        "id": "fbGtdy9lV-zo",
        "outputId": "a37864ef-7248-48d8-c6ae-2808fac109d6"
      },
      "outputs": [
        {
          "data": {
            "image/png": "[encoded data removed]",
            "text/plain": [
              "<Figure size 432x288 with 1 Axes>"
            ]
          },
          "metadata": {
            "needs_background": "light"
          },
          "output_type": "display_data"
        }
      ],
      "source": [
        "#plot for the TRAIN\n",
        "\n",
        "plt.scatter(X_train, y_train, color='red') # plotting the observation line\n",
        "\n",
        "plt.title(\"Salary vs Experience (Training set)\") # stating the title of the graph\n",
        "\n",
        "plt.xlabel(\"Years of experience\") # adding the name of x-axis\n",
        "plt.ylabel(\"Salaries\") # adding the name of y-axis\n",
        "plt.show() # specifies end of graph"
      ]
    },
    {
      "cell_type": "markdown",
      "metadata": {
        "id": "5Xwvjy7HWSOG"
      },
      "source": [
        "###Fitting linear regression model into the training set and predict testing data"
      ]
    },
    {
      "cell_type": "code",
      "execution_count": null,
      "metadata": {
        "id": "IR1qz6iCWXaH"
      },
      "outputs": [],
      "source": [
        "from sklearn.linear_model import LinearRegression\n",
        "regressor = LinearRegression()\n",
        "regressor.fit(X_train,y_train)\n",
        "y_pred = regressor.predict(X_test)"
      ]
    },
    {
      "cell_type": "markdown",
      "metadata": {
        "id": "HffoTY9WWtol"
      },
      "source": [
        "###Visualizing the fitting results"
      ]
    },
    {
      "cell_type": "code",
      "execution_count": null,
      "metadata": {
        "colab": {
          "base_uri": "https://localhost:8080/",
          "height": 295
        },
        "id": "tdYoFtRSW6go",
        "outputId": "3c2e9608-0f96-4806-e0ae-ec3c236c0c43"
      },
      "outputs": [
        {
          "data": {
            "image/png": "[encoded data removed]",
            "text/plain": [
              "<Figure size 432x288 with 1 Axes>"
            ]
          },
          "metadata": {
            "needs_background": "light"
          },
          "output_type": "display_data"
        }
      ],
      "source": [
        "#plot for the TRAIN\n",
        "\n",
        "plt.scatter(X_train, y_train, color='red') # plotting the observation line\n",
        "\n",
        "#plot for the testing\n",
        "plt.plot(X_train, regressor.predict(X_train), color='blue') # plotting the regression line\n",
        "\n",
        "plt.title(\"Salary vs Experience (Training set)\") # stating the title of the graph\n",
        "\n",
        "plt.xlabel(\"Years of experience\") # adding the name of x-axis\n",
        "plt.ylabel(\"Salaries\") # adding the name of y-axis\n",
        "plt.show() # specifies end of graph"
      ]
    },
    {
      "cell_type": "code",
      "execution_count": null,
      "metadata": {
        "colab": {
          "base_uri": "https://localhost:8080/",
          "height": 295
        },
        "id": "t0XrxjL_bU7V",
        "outputId": "25168b71-d236-44d6-aeac-021ba1e1e1b7"
      },
      "outputs": [
        {
          "data": {
            "image/png": "[encoded data removed]",
            "text/plain": [
              "<Figure size 432x288 with 1 Axes>"
            ]
          },
          "metadata": {
            "needs_background": "light"
          },
          "output_type": "display_data"
        }
      ],
      "source": [
        "#plot for the TEST\n",
        "\n",
        "plt.scatter(X_test, y_test, color='green')\n",
        "plt.plot(X_train, regressor.predict(X_train), color='blue') # plotting the regression line\n",
        "plt.title(\"Salary vs Experience (Testing set)\")\n",
        "\n",
        "plt.xlabel(\"Years of experience\")\n",
        "plt.ylabel(\"Salaries\")\n",
        "plt.show()"
      ]
    },
    {
      "cell_type": "markdown",
      "metadata": {
        "id": "jKzILKA_eSc0"
      },
      "source": [
        "###Linear regression coefficients"
      ]
    },
    {
      "cell_type": "code",
      "execution_count": null,
      "metadata": {
        "colab": {
          "base_uri": "https://localhost:8080/"
        },
        "id": "V8znV101eXbB",
        "outputId": "07fcd360-daa2-4c1b-eff9-cc1b0e8d12a6"
      },
      "outputs": [
        {
          "name": "stdout",
          "output_type": "stream",
          "text": [
            "Coefficients: \n",
            " [9345.94244312] 26816.192244031183\n"
          ]
        }
      ],
      "source": [
        "# The coefficients and intercept\n",
        "print(\"Coefficients: \\n\", regressor.coef_, regressor.intercept_)"
      ]
    },
    {
      "cell_type": "markdown",
      "metadata": {
        "id": "_YPTDnPCSCkp"
      },
      "source": [
        "## R-square"
      ]
    },
    {
      "cell_type": "code",
      "execution_count": null,
      "metadata": {
        "id": "vhi5ZYWvoHXG"
      },
      "outputs": [],
      "source": [
        "import numpy as np\n",
        "from sklearn.metrics import r2_score\n",
        "\n",
        "y = np.array([2,4,5,4,5])\n",
        "y_hat = np.array([2.8,3.4,4,4.6,5.2])\n",
        "r2_score(y, y_hat)"
      ]
    },
    {
      "cell_type": "markdown",
      "metadata": {
        "id": "DjRzjjGPLcQj"
      },
      "source": [
        "## Shrinkage"
      ]
    },
    {
      "cell_type": "code",
      "execution_count": null,
      "metadata": {
        "id": "-uRGmFpGLcQk"
      },
      "outputs": [],
      "source": [
        "import numpy as np\n",
        "import matplotlib.pyplot as plt\n",
        "import pandas as pd\n",
        "%matplotlib inline\n",
        "from matplotlib.pylab import rcParams\n",
        "rcParams['figure.figsize'] = 12, 10\n",
        "import warnings\n",
        "warnings.filterwarnings('ignore')\n",
        "np.random.seed(1)"
      ]
    },
    {
      "cell_type": "code",
      "execution_count": null,
      "metadata": {
        "colab": {
          "base_uri": "https://localhost:8080/",
          "height": 282
        },
        "id": "mCJs6lDQqoi5",
        "outputId": "b9076b9d-c876-4bfa-bdaa-8a839336a01f"
      },
      "outputs": [
        {
          "data": {
            "text/plain": [
              "[<matplotlib.lines.Line2D at 0x7f5d7a035110>]"
            ]
          },
          "execution_count": 2,
          "metadata": {},
          "output_type": "execute_result"
        },
        {
          "data": {
            "image/png": "[encoded data removed]",
            "text/plain": [
              "<Figure size 432x288 with 1 Axes>"
            ]
          },
          "metadata": {
            "needs_background": "light"
          },
          "output_type": "display_data"
        }
      ],
      "source": [
        "#Define input array with angles from 60deg to 300deg converted to radians\n",
        "x = np.array([i*np.pi/180 for i in range(60,300,4)])\n",
        "np.random.seed(10)  #Setting seed for reproducibility\n",
        "y = np.sin(x) + np.random.normal(0,0.15,len(x))\n",
        "data = pd.DataFrame(np.column_stack([x,y]),columns=['x','y'])\n",
        "plt.plot(data['x'],data['y'],'.')"
      ]
    },
    {
      "cell_type": "code",
      "execution_count": null,
      "metadata": {
        "colab": {
          "base_uri": "https://localhost:8080/"
        },
        "id": "107XmYxrrGgm",
        "outputId": "88e95db6-71f6-46d8-b087-d16bdb2154d1"
      },
      "outputs": [
        {
          "name": "stdout",
          "output_type": "stream",
          "text": [
            "          x         y       x_2  ...       x_13       x_14       x_15\n",
            "0  1.047198  1.065763  1.096623  ...   1.821260   1.907219   1.997235\n",
            "1  1.117011  1.006086  1.247713  ...   4.214494   4.707635   5.258479\n",
            "2  1.186824  0.695374  1.408551  ...   9.268760  11.000386  13.055521\n",
            "3  1.256637  0.949799  1.579137  ...  19.486248  24.487142  30.771450\n",
            "4  1.326450  1.063496  1.759470  ...  39.353420  52.200353  69.241170\n",
            "\n",
            "[5 rows x 16 columns]\n"
          ]
        }
      ],
      "source": [
        "for i in range(2,16):  #power of 1 is already there\n",
        "    colname = 'x_%d'%i      #new var will be x_power\n",
        "    data[colname] = data['x']**i\n",
        "print(data.head())"
      ]
    },
    {
      "cell_type": "markdown",
      "metadata": {
        "id": "q3aBIMOlr1kn"
      },
      "source": [
        "First, we’ll define a generic function which takes in the required maximum power of x as an input and returns a list containing – [ model RSS, intercept, coef_x, coef_x2, … upto entered power ]. Here RSS refers to ‘Residual Sum of Squares’ which is nothing but the sum of square of errors between the predicted and actual values in the training data set. The python code defining the function is:"
      ]
    },
    {
      "cell_type": "code",
      "execution_count": null,
      "metadata": {
        "id": "-WTYnJedrzoT"
      },
      "outputs": [],
      "source": [
        "#Import Linear Regression model from scikit-learn.\n",
        "from sklearn.linear_model import LinearRegression\n",
        "def linear_regression(data, power, models_to_plot):\n",
        "    #initialize predictors:\n",
        "    predictors=['x']\n",
        "    if power>=2:\n",
        "        predictors.extend(['x_%d'%i for i in range(2,power+1)])\n",
        "\n",
        "    #Fit the model\n",
        "    linreg = LinearRegression(normalize=True)\n",
        "    linreg.fit(data[predictors],data['y'])\n",
        "    y_pred = linreg.predict(data[predictors])\n",
        "\n",
        "    #Check if a plot is to be made for the entered power\n",
        "    if power in models_to_plot:\n",
        "        plt.subplot(models_to_plot[power])\n",
        "        plt.tight_layout()\n",
        "        plt.plot(data['x'],y_pred)\n",
        "        plt.plot(data['x'],data['y'],'.')\n",
        "        plt.title('Plot for power: %d'%power)\n",
        "\n",
        "    #Return the result in pre-defined format\n",
        "    rss = sum((y_pred-data['y'])**2)\n",
        "    ret = [rss]\n",
        "    ret.extend([linreg.intercept_])\n",
        "    ret.extend(linreg.coef_)\n",
        "    return ret"
      ]
    },
    {
      "cell_type": "markdown",
      "metadata": {
        "id": "VtF0hWbMs4IF"
      },
      "source": [
        "Now, we can make all 15 models and compare the results. For ease of analysis, we’ll store all the results in a Pandas dataframe and plot 6 models to get an idea of the trend."
      ]
    },
    {
      "cell_type": "code",
      "execution_count": null,
      "metadata": {
        "colab": {
          "base_uri": "https://localhost:8080/",
          "height": 297
        },
        "id": "WDwSwK-lsD9t",
        "outputId": "3a45fed8-b5f3-4c4c-862b-49d16f3e16d8"
      },
      "outputs": [
        {
          "data": {
            "image/png": "[encoded data removed]",
            "text/plain": [
              "<Figure size 432x288 with 6 Axes>"
            ]
          },
          "metadata": {
            "needs_background": "light"
          },
          "output_type": "display_data"
        }
      ],
      "source": [
        "#Initialize a dataframe to store the results:\n",
        "col = ['rss','intercept'] + ['coef_x_%d'%i for i in range(1,16)]\n",
        "ind = ['model_pow_%d'%i for i in range(1,16)]\n",
        "coef_matrix_simple = pd.DataFrame(index=ind, columns=col)\n",
        "\n",
        "#Define the powers for which a plot is required:\n",
        "models_to_plot = {1:231,3:232,6:233,9:234,12:235,15:236}\n",
        "\n",
        "#Iterate through all powers and assimilate results\n",
        "for i in range(1,16):\n",
        "    coef_matrix_simple.iloc[i-1,0:i+2] = linear_regression(data, power=i, models_to_plot=models_to_plot)"
      ]
    },
    {
      "cell_type": "code",
      "execution_count": null,
      "metadata": {
        "colab": {
          "base_uri": "https://localhost:8080/",
          "height": 583
        },
        "id": "cP0wUYBBsL3E",
        "outputId": "d7a398f0-fe1b-4420-f1e7-4259275f077d"
      },
      "outputs": [
        {
          "data": {
            "text/html": [
              "\n",
              "  <div id=\"df-914ae569-1272-4fb9-b771-b34797b3efa7\">\n",
              "    <div class=\"colab-df-container\">\n",
              "      <div>\n",
              "<style scoped>\n",
              "    .dataframe tbody tr th:only-of-type {\n",
              "        vertical-align: middle;\n",
              "    }\n",
              "\n",
              "    .dataframe tbody tr th {\n",
              "        vertical-align: top;\n",
              "    }\n",
              "\n",
              "    .dataframe thead th {\n",
              "        text-align: right;\n",
              "    }\n",
              "</style>\n",
              "<table border=\"1\" class=\"dataframe\">\n",
              "  <thead>\n",
              "    <tr style=\"text-align: right;\">\n",
              "      <th></th>\n",
              "      <th>rss</th>\n",
              "      <th>intercept</th>\n",
              "      <th>coef_x_1</th>\n",
              "      <th>coef_x_2</th>\n",
              "      <th>coef_x_3</th>\n",
              "      <th>coef_x_4</th>\n",
              "      <th>coef_x_5</th>\n",
              "      <th>coef_x_6</th>\n",
              "      <th>coef_x_7</th>\n",
              "      <th>coef_x_8</th>\n",
              "      <th>coef_x_9</th>\n",
              "      <th>coef_x_10</th>\n",
              "      <th>coef_x_11</th>\n",
              "      <th>coef_x_12</th>\n",
              "      <th>coef_x_13</th>\n",
              "      <th>coef_x_14</th>\n",
              "      <th>coef_x_15</th>\n",
              "    </tr>\n",
              "  </thead>\n",
              "  <tbody>\n",
              "    <tr>\n",
              "      <th>model_pow_1</th>\n",
              "      <td>3.3</td>\n",
              "      <td>2</td>\n",
              "      <td>-0.62</td>\n",
              "      <td>NaN</td>\n",
              "      <td>NaN</td>\n",
              "      <td>NaN</td>\n",
              "      <td>NaN</td>\n",
              "      <td>NaN</td>\n",
              "      <td>NaN</td>\n",
              "      <td>NaN</td>\n",
              "      <td>NaN</td>\n",
              "      <td>NaN</td>\n",
              "      <td>NaN</td>\n",
              "      <td>NaN</td>\n",
              "      <td>NaN</td>\n",
              "      <td>NaN</td>\n",
              "      <td>NaN</td>\n",
              "    </tr>\n",
              "    <tr>\n",
              "      <th>model_pow_2</th>\n",
              "      <td>3.3</td>\n",
              "      <td>1.9</td>\n",
              "      <td>-0.58</td>\n",
              "      <td>-0.006</td>\n",
              "      <td>NaN</td>\n",
              "      <td>NaN</td>\n",
              "      <td>NaN</td>\n",
              "      <td>NaN</td>\n",
              "      <td>NaN</td>\n",
              "      <td>NaN</td>\n",
              "      <td>NaN</td>\n",
              "      <td>NaN</td>\n",
              "      <td>NaN</td>\n",
              "      <td>NaN</td>\n",
              "      <td>NaN</td>\n",
              "      <td>NaN</td>\n",
              "      <td>NaN</td>\n",
              "    </tr>\n",
              "    <tr>\n",
              "      <th>model_pow_3</th>\n",
              "      <td>1.1</td>\n",
              "      <td>-1.1</td>\n",
              "      <td>3</td>\n",
              "      <td>-1.3</td>\n",
              "      <td>0.14</td>\n",
              "      <td>NaN</td>\n",
              "      <td>NaN</td>\n",
              "      <td>NaN</td>\n",
              "      <td>NaN</td>\n",
              "      <td>NaN</td>\n",
              "      <td>NaN</td>\n",
              "      <td>NaN</td>\n",
              "      <td>NaN</td>\n",
              "      <td>NaN</td>\n",
              "      <td>NaN</td>\n",
              "      <td>NaN</td>\n",
              "      <td>NaN</td>\n",
              "    </tr>\n",
              "    <tr>\n",
              "      <th>model_pow_4</th>\n",
              "      <td>1.1</td>\n",
              "      <td>-0.27</td>\n",
              "      <td>1.7</td>\n",
              "      <td>-0.53</td>\n",
              "      <td>-0.036</td>\n",
              "      <td>0.014</td>\n",
              "      <td>NaN</td>\n",
              "      <td>NaN</td>\n",
              "      <td>NaN</td>\n",
              "      <td>NaN</td>\n",
              "      <td>NaN</td>\n",
              "      <td>NaN</td>\n",
              "      <td>NaN</td>\n",
              "      <td>NaN</td>\n",
              "      <td>NaN</td>\n",
              "      <td>NaN</td>\n",
              "      <td>NaN</td>\n",
              "    </tr>\n",
              "    <tr>\n",
              "      <th>model_pow_5</th>\n",
              "      <td>1</td>\n",
              "      <td>3</td>\n",
              "      <td>-5.1</td>\n",
              "      <td>4.7</td>\n",
              "      <td>-1.9</td>\n",
              "      <td>0.33</td>\n",
              "      <td>-0.021</td>\n",
              "      <td>NaN</td>\n",
              "      <td>NaN</td>\n",
              "      <td>NaN</td>\n",
              "      <td>NaN</td>\n",
              "      <td>NaN</td>\n",
              "      <td>NaN</td>\n",
              "      <td>NaN</td>\n",
              "      <td>NaN</td>\n",
              "      <td>NaN</td>\n",
              "      <td>NaN</td>\n",
              "    </tr>\n",
              "    <tr>\n",
              "      <th>model_pow_6</th>\n",
              "      <td>0.99</td>\n",
              "      <td>-2.8</td>\n",
              "      <td>9.5</td>\n",
              "      <td>-9.7</td>\n",
              "      <td>5.2</td>\n",
              "      <td>-1.6</td>\n",
              "      <td>0.23</td>\n",
              "      <td>-0.014</td>\n",
              "      <td>NaN</td>\n",
              "      <td>NaN</td>\n",
              "      <td>NaN</td>\n",
              "      <td>NaN</td>\n",
              "      <td>NaN</td>\n",
              "      <td>NaN</td>\n",
              "      <td>NaN</td>\n",
              "      <td>NaN</td>\n",
              "      <td>NaN</td>\n",
              "    </tr>\n",
              "    <tr>\n",
              "      <th>model_pow_7</th>\n",
              "      <td>0.93</td>\n",
              "      <td>19</td>\n",
              "      <td>-56</td>\n",
              "      <td>69</td>\n",
              "      <td>-45</td>\n",
              "      <td>17</td>\n",
              "      <td>-3.5</td>\n",
              "      <td>0.4</td>\n",
              "      <td>-0.019</td>\n",
              "      <td>NaN</td>\n",
              "      <td>NaN</td>\n",
              "      <td>NaN</td>\n",
              "      <td>NaN</td>\n",
              "      <td>NaN</td>\n",
              "      <td>NaN</td>\n",
              "      <td>NaN</td>\n",
              "      <td>NaN</td>\n",
              "    </tr>\n",
              "    <tr>\n",
              "      <th>model_pow_8</th>\n",
              "      <td>0.92</td>\n",
              "      <td>43</td>\n",
              "      <td>-1.4e+02</td>\n",
              "      <td>1.8e+02</td>\n",
              "      <td>-1.3e+02</td>\n",
              "      <td>58</td>\n",
              "      <td>-15</td>\n",
              "      <td>2.4</td>\n",
              "      <td>-0.21</td>\n",
              "      <td>0.0077</td>\n",
              "      <td>NaN</td>\n",
              "      <td>NaN</td>\n",
              "      <td>NaN</td>\n",
              "      <td>NaN</td>\n",
              "      <td>NaN</td>\n",
              "      <td>NaN</td>\n",
              "      <td>NaN</td>\n",
              "    </tr>\n",
              "    <tr>\n",
              "      <th>model_pow_9</th>\n",
              "      <td>0.87</td>\n",
              "      <td>1.7e+02</td>\n",
              "      <td>-6.1e+02</td>\n",
              "      <td>9.6e+02</td>\n",
              "      <td>-8.5e+02</td>\n",
              "      <td>4.6e+02</td>\n",
              "      <td>-1.6e+02</td>\n",
              "      <td>37</td>\n",
              "      <td>-5.2</td>\n",
              "      <td>0.42</td>\n",
              "      <td>-0.015</td>\n",
              "      <td>NaN</td>\n",
              "      <td>NaN</td>\n",
              "      <td>NaN</td>\n",
              "      <td>NaN</td>\n",
              "      <td>NaN</td>\n",
              "      <td>NaN</td>\n",
              "    </tr>\n",
              "    <tr>\n",
              "      <th>model_pow_10</th>\n",
              "      <td>0.87</td>\n",
              "      <td>1.4e+02</td>\n",
              "      <td>-4.9e+02</td>\n",
              "      <td>7.3e+02</td>\n",
              "      <td>-6e+02</td>\n",
              "      <td>2.9e+02</td>\n",
              "      <td>-87</td>\n",
              "      <td>15</td>\n",
              "      <td>-0.81</td>\n",
              "      <td>-0.14</td>\n",
              "      <td>0.026</td>\n",
              "      <td>-0.0013</td>\n",
              "      <td>NaN</td>\n",
              "      <td>NaN</td>\n",
              "      <td>NaN</td>\n",
              "      <td>NaN</td>\n",
              "      <td>NaN</td>\n",
              "    </tr>\n",
              "    <tr>\n",
              "      <th>model_pow_11</th>\n",
              "      <td>0.87</td>\n",
              "      <td>-75</td>\n",
              "      <td>5.1e+02</td>\n",
              "      <td>-1.3e+03</td>\n",
              "      <td>1.9e+03</td>\n",
              "      <td>-1.6e+03</td>\n",
              "      <td>9.1e+02</td>\n",
              "      <td>-3.5e+02</td>\n",
              "      <td>91</td>\n",
              "      <td>-16</td>\n",
              "      <td>1.8</td>\n",
              "      <td>-0.12</td>\n",
              "      <td>0.0034</td>\n",
              "      <td>NaN</td>\n",
              "      <td>NaN</td>\n",
              "      <td>NaN</td>\n",
              "      <td>NaN</td>\n",
              "    </tr>\n",
              "    <tr>\n",
              "      <th>model_pow_12</th>\n",
              "      <td>0.87</td>\n",
              "      <td>-3.4e+02</td>\n",
              "      <td>1.9e+03</td>\n",
              "      <td>-4.4e+03</td>\n",
              "      <td>6e+03</td>\n",
              "      <td>-5.2e+03</td>\n",
              "      <td>3.1e+03</td>\n",
              "      <td>-1.3e+03</td>\n",
              "      <td>3.8e+02</td>\n",
              "      <td>-80</td>\n",
              "      <td>12</td>\n",
              "      <td>-1.1</td>\n",
              "      <td>0.062</td>\n",
              "      <td>-0.0016</td>\n",
              "      <td>NaN</td>\n",
              "      <td>NaN</td>\n",
              "      <td>NaN</td>\n",
              "    </tr>\n",
              "    <tr>\n",
              "      <th>model_pow_13</th>\n",
              "      <td>0.86</td>\n",
              "      <td>3.2e+03</td>\n",
              "      <td>-1.8e+04</td>\n",
              "      <td>4.5e+04</td>\n",
              "      <td>-6.7e+04</td>\n",
              "      <td>6.6e+04</td>\n",
              "      <td>-4.6e+04</td>\n",
              "      <td>2.3e+04</td>\n",
              "      <td>-8.5e+03</td>\n",
              "      <td>2.3e+03</td>\n",
              "      <td>-4.5e+02</td>\n",
              "      <td>62</td>\n",
              "      <td>-5.7</td>\n",
              "      <td>0.31</td>\n",
              "      <td>-0.0078</td>\n",
              "      <td>NaN</td>\n",
              "      <td>NaN</td>\n",
              "    </tr>\n",
              "    <tr>\n",
              "      <th>model_pow_14</th>\n",
              "      <td>0.79</td>\n",
              "      <td>2.4e+04</td>\n",
              "      <td>-1.4e+05</td>\n",
              "      <td>3.8e+05</td>\n",
              "      <td>-6.1e+05</td>\n",
              "      <td>6.6e+05</td>\n",
              "      <td>-5e+05</td>\n",
              "      <td>2.8e+05</td>\n",
              "      <td>-1.2e+05</td>\n",
              "      <td>3.7e+04</td>\n",
              "      <td>-8.5e+03</td>\n",
              "      <td>1.5e+03</td>\n",
              "      <td>-1.8e+02</td>\n",
              "      <td>15</td>\n",
              "      <td>-0.73</td>\n",
              "      <td>0.017</td>\n",
              "      <td>NaN</td>\n",
              "    </tr>\n",
              "    <tr>\n",
              "      <th>model_pow_15</th>\n",
              "      <td>0.7</td>\n",
              "      <td>-3.6e+04</td>\n",
              "      <td>2.4e+05</td>\n",
              "      <td>-7.5e+05</td>\n",
              "      <td>1.4e+06</td>\n",
              "      <td>-1.7e+06</td>\n",
              "      <td>1.5e+06</td>\n",
              "      <td>-1e+06</td>\n",
              "      <td>5e+05</td>\n",
              "      <td>-1.9e+05</td>\n",
              "      <td>5.4e+04</td>\n",
              "      <td>-1.2e+04</td>\n",
              "      <td>1.9e+03</td>\n",
              "      <td>-2.2e+02</td>\n",
              "      <td>17</td>\n",
              "      <td>-0.81</td>\n",
              "      <td>0.018</td>\n",
              "    </tr>\n",
              "  </tbody>\n",
              "</table>\n",
              "</div>\n",
              "      <button class=\"colab-df-convert\" onclick=\"convertToInteractive('df-914ae569-1272-4fb9-b771-b34797b3efa7')\"\n",
              "              title=\"Convert this dataframe to an interactive table.\"\n",
              "              style=\"display:none;\">\n",
              "        \n",
              "  <svg xmlns=\"http://www.w3.org/2000/svg\" height=\"24px\"viewBox=\"0 0 24 24\"\n",
              "       width=\"24px\">\n",
              "    <path d=\"M0 0h24v24H0V0z\" fill=\"none\"/>\n",
              "    <path d=\"M18.56 5.44l.94 2.06.94-2.06 2.06-.94-2.06-.94-.94-2.06-.94 2.06-2.06.94zm-11 1L8.5 8.5l.94-2.06 2.06-.94-2.06-.94L8.5 2.5l-.94 2.06-2.06.94zm10 10l.94 2.06.94-2.06 2.06-.94-2.06-.94-.94-2.06-.94 2.06-2.06.94z\"/><path d=\"M17.41 7.96l-1.37-1.37c-.4-.4-.92-.59-1.43-.59-.52 0-1.04.2-1.43.59L10.3 9.45l-7.72 7.72c-.78.78-.78 2.05 0 2.83L4 21.41c.39.39.9.59 1.41.59.51 0 1.02-.2 1.41-.59l7.78-7.78 2.81-2.81c.8-.78.8-2.07 0-2.86zM5.41 20L4 18.59l7.72-7.72 1.47 1.35L5.41 20z\"/>\n",
              "  </svg>\n",
              "      </button>\n",
              "      \n",
              "  <style>\n",
              "    .colab-df-container {\n",
              "      display:flex;\n",
              "      flex-wrap:wrap;\n",
              "      gap: 12px;\n",
              "    }\n",
              "\n",
              "    .colab-df-convert {\n",
              "      background-color: #E8F0FE;\n",
              "      border: none;\n",
              "      border-radius: 50%;\n",
              "      cursor: pointer;\n",
              "      display: none;\n",
              "      fill: #1967D2;\n",
              "      height: 32px;\n",
              "      padding: 0 0 0 0;\n",
              "      width: 32px;\n",
              "    }\n",
              "\n",
              "    .colab-df-convert:hover {\n",
              "      background-color: #E2EBFA;\n",
              "      box-shadow: 0px 1px 2px rgba(60, 64, 67, 0.3), 0px 1px 3px 1px rgba(60, 64, 67, 0.15);\n",
              "      fill: #174EA6;\n",
              "    }\n",
              "\n",
              "    [theme=dark] .colab-df-convert {\n",
              "      background-color: #3B4455;\n",
              "      fill: #D2E3FC;\n",
              "    }\n",
              "\n",
              "    [theme=dark] .colab-df-convert:hover {\n",
              "      background-color: #434B5C;\n",
              "      box-shadow: 0px 1px 3px 1px rgba(0, 0, 0, 0.15);\n",
              "      filter: drop-shadow(0px 1px 2px rgba(0, 0, 0, 0.3));\n",
              "      fill: #FFFFFF;\n",
              "    }\n",
              "  </style>\n",
              "\n",
              "      <script>\n",
              "        const buttonEl =\n",
              "          document.querySelector('#df-914ae569-1272-4fb9-b771-b34797b3efa7 button.colab-df-convert');\n",
              "        buttonEl.style.display =\n",
              "          google.colab.kernel.accessAllowed ? 'block' : 'none';\n",
              "\n",
              "        async function convertToInteractive(key) {\n",
              "          const element = document.querySelector('#df-914ae569-1272-4fb9-b771-b34797b3efa7');\n",
              "          const dataTable =\n",
              "            await google.colab.kernel.invokeFunction('convertToInteractive',\n",
              "                                                     [key], {});\n",
              "          if (!dataTable) return;\n",
              "\n",
              "          const docLinkHtml = 'Like what you see? Visit the ' +\n",
              "            '<a target=\"_blank\" href=https://colab.research.google.com/notebooks/data_table.ipynb>data table notebook</a>'\n",
              "            + ' to learn more about interactive tables.';\n",
              "          element.innerHTML = '';\n",
              "          dataTable['output_type'] = 'display_data';\n",
              "          await google.colab.output.renderOutput(dataTable, element);\n",
              "          const docLink = document.createElement('div');\n",
              "          docLink.innerHTML = docLinkHtml;\n",
              "          element.appendChild(docLink);\n",
              "        }\n",
              "      </script>\n",
              "    </div>\n",
              "  </div>\n",
              "  "
            ],
            "text/plain": [
              "              rss intercept coef_x_1  ... coef_x_13 coef_x_14 coef_x_15\n",
              "model_pow_1   3.3         2    -0.62  ...       NaN       NaN       NaN\n",
              "model_pow_2   3.3       1.9    -0.58  ...       NaN       NaN       NaN\n",
              "model_pow_3   1.1      -1.1        3  ...       NaN       NaN       NaN\n",
              "model_pow_4   1.1     -0.27      1.7  ...       NaN       NaN       NaN\n",
              "model_pow_5     1         3     -5.1  ...       NaN       NaN       NaN\n",
              "model_pow_6  0.99      -2.8      9.5  ...       NaN       NaN       NaN\n",
              "model_pow_7  0.93        19      -56  ...       NaN       NaN       NaN\n",
              "model_pow_8  0.92        43 -1.4e+02  ...       NaN       NaN       NaN\n",
              "model_pow_9  0.87   1.7e+02 -6.1e+02  ...       NaN       NaN       NaN\n",
              "model_pow_10 0.87   1.4e+02 -4.9e+02  ...       NaN       NaN       NaN\n",
              "model_pow_11 0.87       -75  5.1e+02  ...       NaN       NaN       NaN\n",
              "model_pow_12 0.87  -3.4e+02  1.9e+03  ...       NaN       NaN       NaN\n",
              "model_pow_13 0.86   3.2e+03 -1.8e+04  ...   -0.0078       NaN       NaN\n",
              "model_pow_14 0.79   2.4e+04 -1.4e+05  ...     -0.73     0.017       NaN\n",
              "model_pow_15  0.7  -3.6e+04  2.4e+05  ...        17     -0.81     0.018\n",
              "\n",
              "[15 rows x 17 columns]"
            ]
          },
          "execution_count": 6,
          "metadata": {},
          "output_type": "execute_result"
        }
      ],
      "source": [
        "#Set the display format to be scientific for ease of analysis\n",
        "pd.options.display.float_format = '{:,.2g}'.format\n",
        "coef_matrix_simple"
      ]
    },
    {
      "cell_type": "markdown",
      "metadata": {
        "id": "os-62Bs-sopR"
      },
      "source": [
        "It is clearly evident that the size of coefficients increase exponentially with increase in model complexity. I hope this gives some intuition into why putting a constraint on the magnitude of coefficients can be a good idea to reduce model complexity."
      ]
    },
    {
      "cell_type": "markdown",
      "metadata": {
        "id": "GInuE8nYLcQl"
      },
      "source": [
        "## Ridge Penalty"
      ]
    },
    {
      "cell_type": "markdown",
      "metadata": {
        "id": "ydS4KhurLcQv"
      },
      "source": [
        "\n",
        "Note that, Ridge penalty can be expressed like this,\n",
        "\n",
        "$$ \\beta(\\alpha) = \\arg\\min_{\\Theta} \\frac{1}{2} \\Vert Y - X \\Theta \\Vert^2 + \\alpha \\Vert \\Theta \\Vert^2 $$"
      ]
    },
    {
      "cell_type": "markdown",
      "metadata": {
        "id": "XM6qGxH4tiMr"
      },
      "source": [
        "First, lets define a generic function for ridge regression similar to the one defined for simple linear regression"
      ]
    },
    {
      "cell_type": "code",
      "execution_count": null,
      "metadata": {
        "id": "FV7_u-wmLcQm"
      },
      "outputs": [],
      "source": [
        "from sklearn.linear_model import Ridge\n",
        "def ridge_regression(data, predictors, alpha, models_to_plot={}):\n",
        "    #Fit the model\n",
        "    ridgereg = Ridge(alpha=alpha,normalize=True)\n",
        "    ridgereg.fit(data[predictors],data['y'])\n",
        "    y_pred = ridgereg.predict(data[predictors])\n",
        "\n",
        "    #Check if a plot is to be made for the entered alpha\n",
        "    if alpha in models_to_plot:\n",
        "        plt.subplot(models_to_plot[alpha])\n",
        "        plt.tight_layout()\n",
        "        plt.plot(data['x'],y_pred)\n",
        "        plt.plot(data['x'],data['y'],'.')\n",
        "        plt.title('Plot for alpha: %.3g'%alpha)\n",
        "\n",
        "    #Return the result in pre-defined format\n",
        "    rss = sum((y_pred-data['y'])**2)\n",
        "    ret = [rss]\n",
        "    ret.extend([ridgereg.intercept_])\n",
        "    ret.extend(ridgereg.coef_)\n",
        "    return ret"
      ]
    },
    {
      "cell_type": "markdown",
      "metadata": {
        "id": "M2VxIabZLcQn"
      },
      "source": [
        "So we need to make predictor. In this example, we assume that the sample data is from binomial distribution."
      ]
    },
    {
      "cell_type": "code",
      "execution_count": null,
      "metadata": {
        "colab": {
          "base_uri": "https://localhost:8080/",
          "height": 297
        },
        "id": "gLoT-p5VLcQo",
        "outputId": "a56a4bdd-9b64-457d-cd3a-b87e785d0379"
      },
      "outputs": [
        {
          "data": {
            "image/png": "[encoded data removed]",
            "text/plain": [
              "<Figure size 432x288 with 6 Axes>"
            ]
          },
          "metadata": {
            "needs_background": "light"
          },
          "output_type": "display_data"
        }
      ],
      "source": [
        "#Initialize predictors to be set of 15 powers of x\n",
        "predictors=['x']\n",
        "predictors.extend(['x_%d'%i for i in range(2,16)])\n",
        "\n",
        "#Set the different values of alpha to be tested\n",
        "alpha_ridge = [1e-15, 1e-10, 1e-8, 1e-4, 1e-3,1e-2, 1, 5, 10, 20]\n",
        "\n",
        "#Initialize the dataframe for storing coefficients.\n",
        "col = ['rss','intercept'] + ['coef_x_%d'%i for i in range(1,16)]\n",
        "ind = ['alpha_%.2g'%alpha_ridge[i] for i in range(0,10)]\n",
        "coef_matrix_ridge = pd.DataFrame(index=ind, columns=col)\n",
        "\n",
        "models_to_plot = {1e-15:231, 1e-10:232, 1e-4:233, 1e-3:234, 1e-2:235, 5:236}\n",
        "for i in range(10):\n",
        "    coef_matrix_ridge.iloc[i,] = ridge_regression(data, predictors, alpha_ridge[i], models_to_plot)"
      ]
    },
    {
      "cell_type": "markdown",
      "metadata": {
        "id": "GBY-DmH2udcY"
      },
      "source": [
        "Here we can clearly observe that as the value of alpha increases, the model complexity reduces. Thus the hyper-parameter alpha should be chosen wisely.\n",
        "Lets have a look at the value of coefficients in the above models:"
      ]
    },
    {
      "cell_type": "code",
      "execution_count": null,
      "metadata": {
        "colab": {
          "base_uri": "https://localhost:8080/",
          "height": 427
        },
        "id": "1QJ7M5bTLcQp",
        "outputId": "f79241f8-6dc3-43ed-bb98-fdf34304fb7f"
      },
      "outputs": [
        {
          "data": {
            "text/html": [
              "\n",
              "  <div id=\"df-a0d79b6d-50c4-4684-96c9-2725de90b276\">\n",
              "    <div class=\"colab-df-container\">\n",
              "      <div>\n",
              "<style scoped>\n",
              "    .dataframe tbody tr th:only-of-type {\n",
              "        vertical-align: middle;\n",
              "    }\n",
              "\n",
              "    .dataframe tbody tr th {\n",
              "        vertical-align: top;\n",
              "    }\n",
              "\n",
              "    .dataframe thead th {\n",
              "        text-align: right;\n",
              "    }\n",
              "</style>\n",
              "<table border=\"1\" class=\"dataframe\">\n",
              "  <thead>\n",
              "    <tr style=\"text-align: right;\">\n",
              "      <th></th>\n",
              "      <th>rss</th>\n",
              "      <th>intercept</th>\n",
              "      <th>coef_x_1</th>\n",
              "      <th>coef_x_2</th>\n",
              "      <th>coef_x_3</th>\n",
              "      <th>coef_x_4</th>\n",
              "      <th>coef_x_5</th>\n",
              "      <th>coef_x_6</th>\n",
              "      <th>coef_x_7</th>\n",
              "      <th>coef_x_8</th>\n",
              "      <th>coef_x_9</th>\n",
              "      <th>coef_x_10</th>\n",
              "      <th>coef_x_11</th>\n",
              "      <th>coef_x_12</th>\n",
              "      <th>coef_x_13</th>\n",
              "      <th>coef_x_14</th>\n",
              "      <th>coef_x_15</th>\n",
              "    </tr>\n",
              "  </thead>\n",
              "  <tbody>\n",
              "    <tr>\n",
              "      <th>alpha_1e-15</th>\n",
              "      <td>0.87</td>\n",
              "      <td>95</td>\n",
              "      <td>-3e+02</td>\n",
              "      <td>3.8e+02</td>\n",
              "      <td>-2.3e+02</td>\n",
              "      <td>63</td>\n",
              "      <td>2.1</td>\n",
              "      <td>-5</td>\n",
              "      <td>0.6</td>\n",
              "      <td>0.17</td>\n",
              "      <td>-0.031</td>\n",
              "      <td>-0.0051</td>\n",
              "      <td>0.00085</td>\n",
              "      <td>0.00024</td>\n",
              "      <td>-6.1e-05</td>\n",
              "      <td>4.5e-06</td>\n",
              "      <td>-9.3e-08</td>\n",
              "    </tr>\n",
              "    <tr>\n",
              "      <th>alpha_1e-10</th>\n",
              "      <td>0.92</td>\n",
              "      <td>11</td>\n",
              "      <td>-29</td>\n",
              "      <td>31</td>\n",
              "      <td>-15</td>\n",
              "      <td>2.9</td>\n",
              "      <td>0.17</td>\n",
              "      <td>-0.091</td>\n",
              "      <td>-0.011</td>\n",
              "      <td>0.002</td>\n",
              "      <td>0.00064</td>\n",
              "      <td>2.4e-05</td>\n",
              "      <td>-2e-05</td>\n",
              "      <td>-4.2e-06</td>\n",
              "      <td>2.2e-07</td>\n",
              "      <td>2.3e-07</td>\n",
              "      <td>-2.3e-08</td>\n",
              "    </tr>\n",
              "    <tr>\n",
              "      <th>alpha_1e-08</th>\n",
              "      <td>0.95</td>\n",
              "      <td>1.3</td>\n",
              "      <td>-1.5</td>\n",
              "      <td>1.7</td>\n",
              "      <td>-0.68</td>\n",
              "      <td>0.039</td>\n",
              "      <td>0.016</td>\n",
              "      <td>0.00016</td>\n",
              "      <td>-0.00036</td>\n",
              "      <td>-5.4e-05</td>\n",
              "      <td>-2.9e-07</td>\n",
              "      <td>1.1e-06</td>\n",
              "      <td>1.9e-07</td>\n",
              "      <td>2e-08</td>\n",
              "      <td>3.9e-09</td>\n",
              "      <td>8.2e-10</td>\n",
              "      <td>-4.6e-10</td>\n",
              "    </tr>\n",
              "    <tr>\n",
              "      <th>alpha_0.0001</th>\n",
              "      <td>0.96</td>\n",
              "      <td>0.56</td>\n",
              "      <td>0.55</td>\n",
              "      <td>-0.13</td>\n",
              "      <td>-0.026</td>\n",
              "      <td>-0.0028</td>\n",
              "      <td>-0.00011</td>\n",
              "      <td>4.1e-05</td>\n",
              "      <td>1.5e-05</td>\n",
              "      <td>3.7e-06</td>\n",
              "      <td>7.4e-07</td>\n",
              "      <td>1.3e-07</td>\n",
              "      <td>1.9e-08</td>\n",
              "      <td>1.9e-09</td>\n",
              "      <td>-1.3e-10</td>\n",
              "      <td>-1.5e-10</td>\n",
              "      <td>-6.2e-11</td>\n",
              "    </tr>\n",
              "    <tr>\n",
              "      <th>alpha_0.001</th>\n",
              "      <td>1</td>\n",
              "      <td>0.82</td>\n",
              "      <td>0.31</td>\n",
              "      <td>-0.087</td>\n",
              "      <td>-0.02</td>\n",
              "      <td>-0.0028</td>\n",
              "      <td>-0.00022</td>\n",
              "      <td>1.8e-05</td>\n",
              "      <td>1.2e-05</td>\n",
              "      <td>3.4e-06</td>\n",
              "      <td>7.3e-07</td>\n",
              "      <td>1.3e-07</td>\n",
              "      <td>1.9e-08</td>\n",
              "      <td>1.7e-09</td>\n",
              "      <td>-1.5e-10</td>\n",
              "      <td>-1.4e-10</td>\n",
              "      <td>-5.2e-11</td>\n",
              "    </tr>\n",
              "    <tr>\n",
              "      <th>alpha_0.01</th>\n",
              "      <td>1.4</td>\n",
              "      <td>1.3</td>\n",
              "      <td>-0.088</td>\n",
              "      <td>-0.052</td>\n",
              "      <td>-0.01</td>\n",
              "      <td>-0.0014</td>\n",
              "      <td>-0.00013</td>\n",
              "      <td>7.2e-07</td>\n",
              "      <td>4.1e-06</td>\n",
              "      <td>1.3e-06</td>\n",
              "      <td>3e-07</td>\n",
              "      <td>5.6e-08</td>\n",
              "      <td>9e-09</td>\n",
              "      <td>1.1e-09</td>\n",
              "      <td>4.3e-11</td>\n",
              "      <td>-3.1e-11</td>\n",
              "      <td>-1.5e-11</td>\n",
              "    </tr>\n",
              "    <tr>\n",
              "      <th>alpha_1</th>\n",
              "      <td>5.6</td>\n",
              "      <td>0.97</td>\n",
              "      <td>-0.14</td>\n",
              "      <td>-0.019</td>\n",
              "      <td>-0.003</td>\n",
              "      <td>-0.00047</td>\n",
              "      <td>-7e-05</td>\n",
              "      <td>-9.9e-06</td>\n",
              "      <td>-1.3e-06</td>\n",
              "      <td>-1.4e-07</td>\n",
              "      <td>-9.3e-09</td>\n",
              "      <td>1.3e-09</td>\n",
              "      <td>7.8e-10</td>\n",
              "      <td>2.4e-10</td>\n",
              "      <td>6.2e-11</td>\n",
              "      <td>1.4e-11</td>\n",
              "      <td>3.2e-12</td>\n",
              "    </tr>\n",
              "    <tr>\n",
              "      <th>alpha_5</th>\n",
              "      <td>14</td>\n",
              "      <td>0.55</td>\n",
              "      <td>-0.059</td>\n",
              "      <td>-0.0085</td>\n",
              "      <td>-0.0014</td>\n",
              "      <td>-0.00024</td>\n",
              "      <td>-4.1e-05</td>\n",
              "      <td>-6.9e-06</td>\n",
              "      <td>-1.1e-06</td>\n",
              "      <td>-1.9e-07</td>\n",
              "      <td>-3.1e-08</td>\n",
              "      <td>-5.1e-09</td>\n",
              "      <td>-8.2e-10</td>\n",
              "      <td>-1.3e-10</td>\n",
              "      <td>-2e-11</td>\n",
              "      <td>-3e-12</td>\n",
              "      <td>-4.2e-13</td>\n",
              "    </tr>\n",
              "    <tr>\n",
              "      <th>alpha_10</th>\n",
              "      <td>18</td>\n",
              "      <td>0.4</td>\n",
              "      <td>-0.037</td>\n",
              "      <td>-0.0055</td>\n",
              "      <td>-0.00095</td>\n",
              "      <td>-0.00017</td>\n",
              "      <td>-3e-05</td>\n",
              "      <td>-5.2e-06</td>\n",
              "      <td>-9.2e-07</td>\n",
              "      <td>-1.6e-07</td>\n",
              "      <td>-2.9e-08</td>\n",
              "      <td>-5.1e-09</td>\n",
              "      <td>-9.1e-10</td>\n",
              "      <td>-1.6e-10</td>\n",
              "      <td>-2.9e-11</td>\n",
              "      <td>-5.1e-12</td>\n",
              "      <td>-9.1e-13</td>\n",
              "    </tr>\n",
              "    <tr>\n",
              "      <th>alpha_20</th>\n",
              "      <td>23</td>\n",
              "      <td>0.28</td>\n",
              "      <td>-0.022</td>\n",
              "      <td>-0.0034</td>\n",
              "      <td>-0.0006</td>\n",
              "      <td>-0.00011</td>\n",
              "      <td>-2e-05</td>\n",
              "      <td>-3.6e-06</td>\n",
              "      <td>-6.6e-07</td>\n",
              "      <td>-1.2e-07</td>\n",
              "      <td>-2.2e-08</td>\n",
              "      <td>-4e-09</td>\n",
              "      <td>-7.5e-10</td>\n",
              "      <td>-1.4e-10</td>\n",
              "      <td>-2.5e-11</td>\n",
              "      <td>-4.7e-12</td>\n",
              "      <td>-8.7e-13</td>\n",
              "    </tr>\n",
              "  </tbody>\n",
              "</table>\n",
              "</div>\n",
              "      <button class=\"colab-df-convert\" onclick=\"convertToInteractive('df-a0d79b6d-50c4-4684-96c9-2725de90b276')\"\n",
              "              title=\"Convert this dataframe to an interactive table.\"\n",
              "              style=\"display:none;\">\n",
              "        \n",
              "  <svg xmlns=\"http://www.w3.org/2000/svg\" height=\"24px\"viewBox=\"0 0 24 24\"\n",
              "       width=\"24px\">\n",
              "    <path d=\"M0 0h24v24H0V0z\" fill=\"none\"/>\n",
              "    <path d=\"M18.56 5.44l.94 2.06.94-2.06 2.06-.94-2.06-.94-.94-2.06-.94 2.06-2.06.94zm-11 1L8.5 8.5l.94-2.06 2.06-.94-2.06-.94L8.5 2.5l-.94 2.06-2.06.94zm10 10l.94 2.06.94-2.06 2.06-.94-2.06-.94-.94-2.06-.94 2.06-2.06.94z\"/><path d=\"M17.41 7.96l-1.37-1.37c-.4-.4-.92-.59-1.43-.59-.52 0-1.04.2-1.43.59L10.3 9.45l-7.72 7.72c-.78.78-.78 2.05 0 2.83L4 21.41c.39.39.9.59 1.41.59.51 0 1.02-.2 1.41-.59l7.78-7.78 2.81-2.81c.8-.78.8-2.07 0-2.86zM5.41 20L4 18.59l7.72-7.72 1.47 1.35L5.41 20z\"/>\n",
              "  </svg>\n",
              "      </button>\n",
              "      \n",
              "  <style>\n",
              "    .colab-df-container {\n",
              "      display:flex;\n",
              "      flex-wrap:wrap;\n",
              "      gap: 12px;\n",
              "    }\n",
              "\n",
              "    .colab-df-convert {\n",
              "      background-color: #E8F0FE;\n",
              "      border: none;\n",
              "      border-radius: 50%;\n",
              "      cursor: pointer;\n",
              "      display: none;\n",
              "      fill: #1967D2;\n",
              "      height: 32px;\n",
              "      padding: 0 0 0 0;\n",
              "      width: 32px;\n",
              "    }\n",
              "\n",
              "    .colab-df-convert:hover {\n",
              "      background-color: #E2EBFA;\n",
              "      box-shadow: 0px 1px 2px rgba(60, 64, 67, 0.3), 0px 1px 3px 1px rgba(60, 64, 67, 0.15);\n",
              "      fill: #174EA6;\n",
              "    }\n",
              "\n",
              "    [theme=dark] .colab-df-convert {\n",
              "      background-color: #3B4455;\n",
              "      fill: #D2E3FC;\n",
              "    }\n",
              "\n",
              "    [theme=dark] .colab-df-convert:hover {\n",
              "      background-color: #434B5C;\n",
              "      box-shadow: 0px 1px 3px 1px rgba(0, 0, 0, 0.15);\n",
              "      filter: drop-shadow(0px 1px 2px rgba(0, 0, 0, 0.3));\n",
              "      fill: #FFFFFF;\n",
              "    }\n",
              "  </style>\n",
              "\n",
              "      <script>\n",
              "        const buttonEl =\n",
              "          document.querySelector('#df-a0d79b6d-50c4-4684-96c9-2725de90b276 button.colab-df-convert');\n",
              "        buttonEl.style.display =\n",
              "          google.colab.kernel.accessAllowed ? 'block' : 'none';\n",
              "\n",
              "        async function convertToInteractive(key) {\n",
              "          const element = document.querySelector('#df-a0d79b6d-50c4-4684-96c9-2725de90b276');\n",
              "          const dataTable =\n",
              "            await google.colab.kernel.invokeFunction('convertToInteractive',\n",
              "                                                     [key], {});\n",
              "          if (!dataTable) return;\n",
              "\n",
              "          const docLinkHtml = 'Like what you see? Visit the ' +\n",
              "            '<a target=\"_blank\" href=https://colab.research.google.com/notebooks/data_table.ipynb>data table notebook</a>'\n",
              "            + ' to learn more about interactive tables.';\n",
              "          element.innerHTML = '';\n",
              "          dataTable['output_type'] = 'display_data';\n",
              "          await google.colab.output.renderOutput(dataTable, element);\n",
              "          const docLink = document.createElement('div');\n",
              "          docLink.innerHTML = docLinkHtml;\n",
              "          element.appendChild(docLink);\n",
              "        }\n",
              "      </script>\n",
              "    </div>\n",
              "  </div>\n",
              "  "
            ],
            "text/plain": [
              "              rss intercept coef_x_1  ... coef_x_13 coef_x_14 coef_x_15\n",
              "alpha_1e-15  0.87        95   -3e+02  ...  -6.1e-05   4.5e-06  -9.3e-08\n",
              "alpha_1e-10  0.92        11      -29  ...   2.2e-07   2.3e-07  -2.3e-08\n",
              "alpha_1e-08  0.95       1.3     -1.5  ...   3.9e-09   8.2e-10  -4.6e-10\n",
              "alpha_0.0001 0.96      0.56     0.55  ...  -1.3e-10  -1.5e-10  -6.2e-11\n",
              "alpha_0.001     1      0.82     0.31  ...  -1.5e-10  -1.4e-10  -5.2e-11\n",
              "alpha_0.01    1.4       1.3   -0.088  ...   4.3e-11  -3.1e-11  -1.5e-11\n",
              "alpha_1       5.6      0.97    -0.14  ...   6.2e-11   1.4e-11   3.2e-12\n",
              "alpha_5        14      0.55   -0.059  ...    -2e-11    -3e-12  -4.2e-13\n",
              "alpha_10       18       0.4   -0.037  ...  -2.9e-11  -5.1e-12  -9.1e-13\n",
              "alpha_20       23      0.28   -0.022  ...  -2.5e-11  -4.7e-12  -8.7e-13\n",
              "\n",
              "[10 rows x 17 columns]"
            ]
          },
          "execution_count": 9,
          "metadata": {},
          "output_type": "execute_result"
        }
      ],
      "source": [
        "#Set the display format to be scientific for ease of analysis\n",
        "pd.options.display.float_format = '{:,.2g}'.format\n",
        "coef_matrix_ridge"
      ]
    },
    {
      "cell_type": "markdown",
      "metadata": {
        "id": "vbTd62LNu4N4"
      },
      "source": [
        "This straight away gives us the following inferences:\n",
        "\n",
        "\n",
        "\n",
        "*   The RSS increases with increase in alpha, this model complexity reduces\n",
        "*   A alpha as small as 1e-15 gives us significant reduction in magnitude of coefficients. How? Compare the coefficients in the first row of this table to the last row of simple linear regression table.\n",
        "*   High alpha values can hurt the fitting. Note the rapid increase in RSS for values of alpha greater than 1\n",
        "*   Though the coefficients are very very small, they are NOT zero.\n"
      ]
    },
    {
      "cell_type": "markdown",
      "metadata": {
        "id": "FcjkhMFrLcQq"
      },
      "source": [
        "## Lasso Regression"
      ]
    },
    {
      "cell_type": "markdown",
      "metadata": {
        "id": "XAYPM1QiLcQw"
      },
      "source": [
        "Unlike Ridge, Lasso uses absolute beta for the penalty.\n",
        "\n",
        "$$ \\beta(\\alpha) = \\arg\\min_{\\Theta} \\frac{1}{2} \\Vert Y - X \\Theta \\Vert^2 + \\alpha \\vert \\Theta \\vert $$\n",
        "\n",
        "We hope to see that, when the $\\alpha$ is increased, $\\Theta$ is closed to 0, which means the **'shrinkage'** of the $\\Theta$."
      ]
    },
    {
      "cell_type": "markdown",
      "metadata": {
        "id": "8qYFuThexNpt"
      },
      "source": [
        "First we’ll define a generic function:"
      ]
    },
    {
      "cell_type": "code",
      "execution_count": null,
      "metadata": {
        "id": "fkffCVaGxJHO"
      },
      "outputs": [],
      "source": [
        "from sklearn.linear_model import Lasso\n",
        "def lasso_regression(data, predictors, alpha, models_to_plot={}):\n",
        "    #Fit the model\n",
        "    lassoreg = Lasso(alpha=alpha,normalize=True, max_iter=1e5)\n",
        "    lassoreg.fit(data[predictors],data['y'])\n",
        "    y_pred = lassoreg.predict(data[predictors])\n",
        "\n",
        "    #Check if a plot is to be made for the entered alpha\n",
        "    if alpha in models_to_plot:\n",
        "        plt.subplot(models_to_plot[alpha])\n",
        "        plt.tight_layout()\n",
        "        plt.plot(data['x'],y_pred)\n",
        "        plt.plot(data['x'],data['y'],'.')\n",
        "        plt.title('Plot for alpha: %.3g'%alpha)\n",
        "\n",
        "    #Return the result in pre-defined format\n",
        "    rss = sum((y_pred-data['y'])**2)\n",
        "    ret = [rss]\n",
        "    ret.extend([lassoreg.intercept_])\n",
        "    ret.extend(lassoreg.coef_)\n",
        "    return ret"
      ]
    },
    {
      "cell_type": "markdown",
      "metadata": {
        "id": "b4151qFTxSWv"
      },
      "source": [
        "Notice the additional parameters defined in Lasso function – ‘max_iter‘. This is the maximum number of iterations for which we want the model to run if it doesn’t converge before. This exists for Ridge as as well but setting this to a higher than default value was required in this case. Why? I’ll come to this in next section, just keep it in the back of the envelope. Lets check the output for 10 different values of $\\alpha$ using the following code:"
      ]
    },
    {
      "cell_type": "code",
      "execution_count": null,
      "metadata": {
        "colab": {
          "base_uri": "https://localhost:8080/",
          "height": 297
        },
        "id": "y7eDDafYxY-6",
        "outputId": "e4634e74-2ec6-41f8-f8f2-ddd3a7e141fe"
      },
      "outputs": [
        {
          "data": {
            "image/png": "[encoded data removed]",
            "text/plain": [
              "<Figure size 432x288 with 6 Axes>"
            ]
          },
          "metadata": {
            "needs_background": "light"
          },
          "output_type": "display_data"
        }
      ],
      "source": [
        "#Initialize predictors to all 15 powers of x\n",
        "predictors=['x']\n",
        "predictors.extend(['x_%d'%i for i in range(2,16)])\n",
        "\n",
        "#Define the alpha values to test\n",
        "alpha_lasso = [1e-15, 1e-10, 1e-8, 1e-5,1e-4, 1e-3,1e-2, 1, 5, 10]\n",
        "\n",
        "#Initialize the dataframe to store coefficients\n",
        "col = ['rss','intercept'] + ['coef_x_%d'%i for i in range(1,16)]\n",
        "ind = ['alpha_%.2g'%alpha_lasso[i] for i in range(0,10)]\n",
        "coef_matrix_lasso = pd.DataFrame(index=ind, columns=col)\n",
        "\n",
        "#Define the models to plot\n",
        "models_to_plot = {1e-10:231, 1e-5:232,1e-4:233, 1e-3:234, 1e-2:235, 1:236}\n",
        "\n",
        "#Iterate over the 10 alpha values:\n",
        "for i in range(10):\n",
        "    coef_matrix_lasso.iloc[i,] = lasso_regression(data, predictors, alpha_lasso[i], models_to_plot)"
      ]
    },
    {
      "cell_type": "markdown",
      "metadata": {
        "id": "CS87EJc5xzFr"
      },
      "source": [
        "This again tells us that the model complexity decreases with increase in the values of $\\lambda$."
      ]
    },
    {
      "cell_type": "code",
      "execution_count": null,
      "metadata": {
        "colab": {
          "base_uri": "https://localhost:8080/",
          "height": 427
        },
        "id": "veHsUeFCx5wh",
        "outputId": "d3362059-c4ce-4e61-b1f6-8c3cfc281339"
      },
      "outputs": [
        {
          "data": {
            "text/html": [
              "\n",
              "  <div id=\"df-4bfa5bfb-381f-41cd-be99-34ab1a0a5372\">\n",
              "    <div class=\"colab-df-container\">\n",
              "      <div>\n",
              "<style scoped>\n",
              "    .dataframe tbody tr th:only-of-type {\n",
              "        vertical-align: middle;\n",
              "    }\n",
              "\n",
              "    .dataframe tbody tr th {\n",
              "        vertical-align: top;\n",
              "    }\n",
              "\n",
              "    .dataframe thead th {\n",
              "        text-align: right;\n",
              "    }\n",
              "</style>\n",
              "<table border=\"1\" class=\"dataframe\">\n",
              "  <thead>\n",
              "    <tr style=\"text-align: right;\">\n",
              "      <th></th>\n",
              "      <th>rss</th>\n",
              "      <th>intercept</th>\n",
              "      <th>coef_x_1</th>\n",
              "      <th>coef_x_2</th>\n",
              "      <th>coef_x_3</th>\n",
              "      <th>coef_x_4</th>\n",
              "      <th>coef_x_5</th>\n",
              "      <th>coef_x_6</th>\n",
              "      <th>coef_x_7</th>\n",
              "      <th>coef_x_8</th>\n",
              "      <th>coef_x_9</th>\n",
              "      <th>coef_x_10</th>\n",
              "      <th>coef_x_11</th>\n",
              "      <th>coef_x_12</th>\n",
              "      <th>coef_x_13</th>\n",
              "      <th>coef_x_14</th>\n",
              "      <th>coef_x_15</th>\n",
              "    </tr>\n",
              "  </thead>\n",
              "  <tbody>\n",
              "    <tr>\n",
              "      <th>alpha_1e-15</th>\n",
              "      <td>0.96</td>\n",
              "      <td>0.22</td>\n",
              "      <td>1.1</td>\n",
              "      <td>-0.37</td>\n",
              "      <td>0.00089</td>\n",
              "      <td>0.0016</td>\n",
              "      <td>-0.00012</td>\n",
              "      <td>-6.4e-05</td>\n",
              "      <td>-6.3e-06</td>\n",
              "      <td>1.4e-06</td>\n",
              "      <td>7.8e-07</td>\n",
              "      <td>2.1e-07</td>\n",
              "      <td>4e-08</td>\n",
              "      <td>5.4e-09</td>\n",
              "      <td>1.8e-10</td>\n",
              "      <td>-2e-10</td>\n",
              "      <td>-9.2e-11</td>\n",
              "    </tr>\n",
              "    <tr>\n",
              "      <th>alpha_1e-10</th>\n",
              "      <td>0.96</td>\n",
              "      <td>0.22</td>\n",
              "      <td>1.1</td>\n",
              "      <td>-0.37</td>\n",
              "      <td>0.00088</td>\n",
              "      <td>0.0016</td>\n",
              "      <td>-0.00012</td>\n",
              "      <td>-6.4e-05</td>\n",
              "      <td>-6.3e-06</td>\n",
              "      <td>1.4e-06</td>\n",
              "      <td>7.8e-07</td>\n",
              "      <td>2.1e-07</td>\n",
              "      <td>4e-08</td>\n",
              "      <td>5.4e-09</td>\n",
              "      <td>1.8e-10</td>\n",
              "      <td>-2e-10</td>\n",
              "      <td>-9.2e-11</td>\n",
              "    </tr>\n",
              "    <tr>\n",
              "      <th>alpha_1e-08</th>\n",
              "      <td>0.96</td>\n",
              "      <td>0.22</td>\n",
              "      <td>1.1</td>\n",
              "      <td>-0.37</td>\n",
              "      <td>0.00077</td>\n",
              "      <td>0.0016</td>\n",
              "      <td>-0.00011</td>\n",
              "      <td>-6.4e-05</td>\n",
              "      <td>-6.3e-06</td>\n",
              "      <td>1.4e-06</td>\n",
              "      <td>7.8e-07</td>\n",
              "      <td>2.1e-07</td>\n",
              "      <td>4e-08</td>\n",
              "      <td>5.3e-09</td>\n",
              "      <td>2e-10</td>\n",
              "      <td>-1.9e-10</td>\n",
              "      <td>-9.3e-11</td>\n",
              "    </tr>\n",
              "    <tr>\n",
              "      <th>alpha_1e-05</th>\n",
              "      <td>0.96</td>\n",
              "      <td>0.5</td>\n",
              "      <td>0.6</td>\n",
              "      <td>-0.13</td>\n",
              "      <td>-0.038</td>\n",
              "      <td>-0</td>\n",
              "      <td>0</td>\n",
              "      <td>0</td>\n",
              "      <td>0</td>\n",
              "      <td>7.7e-06</td>\n",
              "      <td>1e-06</td>\n",
              "      <td>7.7e-08</td>\n",
              "      <td>0</td>\n",
              "      <td>0</td>\n",
              "      <td>0</td>\n",
              "      <td>-0</td>\n",
              "      <td>-7e-11</td>\n",
              "    </tr>\n",
              "    <tr>\n",
              "      <th>alpha_0.0001</th>\n",
              "      <td>1</td>\n",
              "      <td>0.9</td>\n",
              "      <td>0.17</td>\n",
              "      <td>-0</td>\n",
              "      <td>-0.048</td>\n",
              "      <td>-0</td>\n",
              "      <td>-0</td>\n",
              "      <td>0</td>\n",
              "      <td>0</td>\n",
              "      <td>9.5e-06</td>\n",
              "      <td>5.1e-07</td>\n",
              "      <td>0</td>\n",
              "      <td>0</td>\n",
              "      <td>0</td>\n",
              "      <td>-0</td>\n",
              "      <td>-0</td>\n",
              "      <td>-4.4e-11</td>\n",
              "    </tr>\n",
              "    <tr>\n",
              "      <th>alpha_0.001</th>\n",
              "      <td>1.7</td>\n",
              "      <td>1.3</td>\n",
              "      <td>-0</td>\n",
              "      <td>-0.13</td>\n",
              "      <td>-0</td>\n",
              "      <td>-0</td>\n",
              "      <td>-0</td>\n",
              "      <td>0</td>\n",
              "      <td>0</td>\n",
              "      <td>0</td>\n",
              "      <td>0</td>\n",
              "      <td>0</td>\n",
              "      <td>1.5e-08</td>\n",
              "      <td>7.5e-10</td>\n",
              "      <td>0</td>\n",
              "      <td>0</td>\n",
              "      <td>0</td>\n",
              "    </tr>\n",
              "    <tr>\n",
              "      <th>alpha_0.01</th>\n",
              "      <td>3.6</td>\n",
              "      <td>1.8</td>\n",
              "      <td>-0.55</td>\n",
              "      <td>-0.00056</td>\n",
              "      <td>-0</td>\n",
              "      <td>-0</td>\n",
              "      <td>-0</td>\n",
              "      <td>-0</td>\n",
              "      <td>-0</td>\n",
              "      <td>-0</td>\n",
              "      <td>-0</td>\n",
              "      <td>0</td>\n",
              "      <td>0</td>\n",
              "      <td>0</td>\n",
              "      <td>0</td>\n",
              "      <td>0</td>\n",
              "      <td>0</td>\n",
              "    </tr>\n",
              "    <tr>\n",
              "      <th>alpha_1</th>\n",
              "      <td>37</td>\n",
              "      <td>0.038</td>\n",
              "      <td>-0</td>\n",
              "      <td>-0</td>\n",
              "      <td>-0</td>\n",
              "      <td>-0</td>\n",
              "      <td>-0</td>\n",
              "      <td>-0</td>\n",
              "      <td>-0</td>\n",
              "      <td>-0</td>\n",
              "      <td>-0</td>\n",
              "      <td>-0</td>\n",
              "      <td>-0</td>\n",
              "      <td>-0</td>\n",
              "      <td>-0</td>\n",
              "      <td>-0</td>\n",
              "      <td>-0</td>\n",
              "    </tr>\n",
              "    <tr>\n",
              "      <th>alpha_5</th>\n",
              "      <td>37</td>\n",
              "      <td>0.038</td>\n",
              "      <td>-0</td>\n",
              "      <td>-0</td>\n",
              "      <td>-0</td>\n",
              "      <td>-0</td>\n",
              "      <td>-0</td>\n",
              "      <td>-0</td>\n",
              "      <td>-0</td>\n",
              "      <td>-0</td>\n",
              "      <td>-0</td>\n",
              "      <td>-0</td>\n",
              "      <td>-0</td>\n",
              "      <td>-0</td>\n",
              "      <td>-0</td>\n",
              "      <td>-0</td>\n",
              "      <td>-0</td>\n",
              "    </tr>\n",
              "    <tr>\n",
              "      <th>alpha_10</th>\n",
              "      <td>37</td>\n",
              "      <td>0.038</td>\n",
              "      <td>-0</td>\n",
              "      <td>-0</td>\n",
              "      <td>-0</td>\n",
              "      <td>-0</td>\n",
              "      <td>-0</td>\n",
              "      <td>-0</td>\n",
              "      <td>-0</td>\n",
              "      <td>-0</td>\n",
              "      <td>-0</td>\n",
              "      <td>-0</td>\n",
              "      <td>-0</td>\n",
              "      <td>-0</td>\n",
              "      <td>-0</td>\n",
              "      <td>-0</td>\n",
              "      <td>-0</td>\n",
              "    </tr>\n",
              "  </tbody>\n",
              "</table>\n",
              "</div>\n",
              "      <button class=\"colab-df-convert\" onclick=\"convertToInteractive('df-4bfa5bfb-381f-41cd-be99-34ab1a0a5372')\"\n",
              "              title=\"Convert this dataframe to an interactive table.\"\n",
              "              style=\"display:none;\">\n",
              "        \n",
              "  <svg xmlns=\"http://www.w3.org/2000/svg\" height=\"24px\"viewBox=\"0 0 24 24\"\n",
              "       width=\"24px\">\n",
              "    <path d=\"M0 0h24v24H0V0z\" fill=\"none\"/>\n",
              "    <path d=\"M18.56 5.44l.94 2.06.94-2.06 2.06-.94-2.06-.94-.94-2.06-.94 2.06-2.06.94zm-11 1L8.5 8.5l.94-2.06 2.06-.94-2.06-.94L8.5 2.5l-.94 2.06-2.06.94zm10 10l.94 2.06.94-2.06 2.06-.94-2.06-.94-.94-2.06-.94 2.06-2.06.94z\"/><path d=\"M17.41 7.96l-1.37-1.37c-.4-.4-.92-.59-1.43-.59-.52 0-1.04.2-1.43.59L10.3 9.45l-7.72 7.72c-.78.78-.78 2.05 0 2.83L4 21.41c.39.39.9.59 1.41.59.51 0 1.02-.2 1.41-.59l7.78-7.78 2.81-2.81c.8-.78.8-2.07 0-2.86zM5.41 20L4 18.59l7.72-7.72 1.47 1.35L5.41 20z\"/>\n",
              "  </svg>\n",
              "      </button>\n",
              "      \n",
              "  <style>\n",
              "    .colab-df-container {\n",
              "      display:flex;\n",
              "      flex-wrap:wrap;\n",
              "      gap: 12px;\n",
              "    }\n",
              "\n",
              "    .colab-df-convert {\n",
              "      background-color: #E8F0FE;\n",
              "      border: none;\n",
              "      border-radius: 50%;\n",
              "      cursor: pointer;\n",
              "      display: none;\n",
              "      fill: #1967D2;\n",
              "      height: 32px;\n",
              "      padding: 0 0 0 0;\n",
              "      width: 32px;\n",
              "    }\n",
              "\n",
              "    .colab-df-convert:hover {\n",
              "      background-color: #E2EBFA;\n",
              "      box-shadow: 0px 1px 2px rgba(60, 64, 67, 0.3), 0px 1px 3px 1px rgba(60, 64, 67, 0.15);\n",
              "      fill: #174EA6;\n",
              "    }\n",
              "\n",
              "    [theme=dark] .colab-df-convert {\n",
              "      background-color: #3B4455;\n",
              "      fill: #D2E3FC;\n",
              "    }\n",
              "\n",
              "    [theme=dark] .colab-df-convert:hover {\n",
              "      background-color: #434B5C;\n",
              "      box-shadow: 0px 1px 3px 1px rgba(0, 0, 0, 0.15);\n",
              "      filter: drop-shadow(0px 1px 2px rgba(0, 0, 0, 0.3));\n",
              "      fill: #FFFFFF;\n",
              "    }\n",
              "  </style>\n",
              "\n",
              "      <script>\n",
              "        const buttonEl =\n",
              "          document.querySelector('#df-4bfa5bfb-381f-41cd-be99-34ab1a0a5372 button.colab-df-convert');\n",
              "        buttonEl.style.display =\n",
              "          google.colab.kernel.accessAllowed ? 'block' : 'none';\n",
              "\n",
              "        async function convertToInteractive(key) {\n",
              "          const element = document.querySelector('#df-4bfa5bfb-381f-41cd-be99-34ab1a0a5372');\n",
              "          const dataTable =\n",
              "            await google.colab.kernel.invokeFunction('convertToInteractive',\n",
              "                                                     [key], {});\n",
              "          if (!dataTable) return;\n",
              "\n",
              "          const docLinkHtml = 'Like what you see? Visit the ' +\n",
              "            '<a target=\"_blank\" href=https://colab.research.google.com/notebooks/data_table.ipynb>data table notebook</a>'\n",
              "            + ' to learn more about interactive tables.';\n",
              "          element.innerHTML = '';\n",
              "          dataTable['output_type'] = 'display_data';\n",
              "          await google.colab.output.renderOutput(dataTable, element);\n",
              "          const docLink = document.createElement('div');\n",
              "          docLink.innerHTML = docLinkHtml;\n",
              "          element.appendChild(docLink);\n",
              "        }\n",
              "      </script>\n",
              "    </div>\n",
              "  </div>\n",
              "  "
            ],
            "text/plain": [
              "              rss intercept coef_x_1  ... coef_x_13 coef_x_14 coef_x_15\n",
              "alpha_1e-15  0.96      0.22      1.1  ...   1.8e-10    -2e-10  -9.2e-11\n",
              "alpha_1e-10  0.96      0.22      1.1  ...   1.8e-10    -2e-10  -9.2e-11\n",
              "alpha_1e-08  0.96      0.22      1.1  ...     2e-10  -1.9e-10  -9.3e-11\n",
              "alpha_1e-05  0.96       0.5      0.6  ...         0        -0    -7e-11\n",
              "alpha_0.0001    1       0.9     0.17  ...        -0        -0  -4.4e-11\n",
              "alpha_0.001   1.7       1.3       -0  ...         0         0         0\n",
              "alpha_0.01    3.6       1.8    -0.55  ...         0         0         0\n",
              "alpha_1        37     0.038       -0  ...        -0        -0        -0\n",
              "alpha_5        37     0.038       -0  ...        -0        -0        -0\n",
              "alpha_10       37     0.038       -0  ...        -0        -0        -0\n",
              "\n",
              "[10 rows x 17 columns]"
            ]
          },
          "execution_count": 12,
          "metadata": {},
          "output_type": "execute_result"
        }
      ],
      "source": [
        "#Set the display format to be scientific for ease of analysis\n",
        "pd.options.display.float_format = '{:,.2g}'.format\n",
        "coef_matrix_lasso"
      ]
    },
    {
      "cell_type": "markdown",
      "metadata": {
        "id": "S4XYQf0dyBhn"
      },
      "source": [
        "Apart from the expected inference of higher RSS for higher alphas, we can see the following:\n",
        "\n",
        "For the same values of alpha, the coefficients of lasso regression are much\n",
        "\n",
        "*   For the same values of alpha, the coefficients of lasso regression are much smaller as compared to that of ridge regression (compare row 1 of the 2 tables).\n",
        "*   For the same alpha, lasso has higher RSS (poorer fit) as compared to ridge regression\n",
        "\n",
        "*   Many of the coefficients are zero even for very small values of alpha\n",
        "\n",
        "\n"
      ]
    }
  ],
  "metadata": {
    "colab": {
      "provenance": [],
      "include_colab_link": true
    },
    "kernelspec": {
      "display_name": "Python 3 (ipykernel)",
      "language": "python",
      "name": "python3"
    },
    "language_info": {
      "codemirror_mode": {
        "name": "ipython",
        "version": 3
      },
      "file_extension": ".py",
      "mimetype": "text/x-python",
      "name": "python",
      "nbconvert_exporter": "python",
      "pygments_lexer": "ipython3",
      "version": "3.9.13"
    }
  },
  "nbformat": 4,
  "nbformat_minor": 0
}